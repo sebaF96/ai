{
 "cells": [
  {
   "cell_type": "markdown",
   "id": "e284e848",
   "metadata": {},
   "source": [
    "# Etiquetado POS\n",
    "\n",
    "El POS (part of speech) tagging o etiquetado morfológico es el proceso mediante el cual se clasifican las partes de un texto de acuerdo a su clasificación léxica.\n",
    "\n",
    "Cada palabra recibirá una clasificación léxica a partir de una colección de etiquetas codificadas de acuerdo a su significado en el idioma correspondiente. Para poder realizar un etiquetado POS el texto debe estar previamente tokenizado.\n",
    "\n",
    "NLKT ofrece una función llamada pos_tag. Esta función clasifica las palabras en ingés según un sistema de codificación pre-definido. Este etiquetador en particular está basado en machine learning y ha sido entrenado a partir de miles de ejemplos de oraciones pre-etiquetadas de manera manual. De esta manera puede estimar la clasificación léxica más probable de un término lo cuál no significa que esté libre de errores.\n",
    "\n",
    "Es posible obtener una lista completa de los códigos de etiquetado para NLTK"
   ]
  },
  {
   "cell_type": "code",
   "execution_count": 1,
   "id": "6d6344d1",
   "metadata": {},
   "outputs": [
    {
     "data": {
      "application/javascript": [
       "\n",
       "            setTimeout(function() {\n",
       "                var nbb_cell_id = 1;\n",
       "                var nbb_unformatted_code = \"import nltk\\n\\n%load_ext nb_black\\n# nltk.download('averaged_perceptron_tagger')\\n# nltk.download('punkt')\\n# nltk.download('wordcloud')\\n# nltk.download('stopwords')\\n# nltk.download('tagsets')\";\n",
       "                var nbb_formatted_code = \"import nltk\\n\\n%load_ext nb_black\\n# nltk.download('averaged_perceptron_tagger')\\n# nltk.download('punkt')\\n# nltk.download('wordcloud')\\n# nltk.download('stopwords')\\n# nltk.download('tagsets')\";\n",
       "                var nbb_cells = Jupyter.notebook.get_cells();\n",
       "                for (var i = 0; i < nbb_cells.length; ++i) {\n",
       "                    if (nbb_cells[i].input_prompt_number == nbb_cell_id) {\n",
       "                        if (nbb_cells[i].get_text() == nbb_unformatted_code) {\n",
       "                             nbb_cells[i].set_text(nbb_formatted_code);\n",
       "                        }\n",
       "                        break;\n",
       "                    }\n",
       "                }\n",
       "            }, 500);\n",
       "            "
      ],
      "text/plain": [
       "<IPython.core.display.Javascript object>"
      ]
     },
     "metadata": {},
     "output_type": "display_data"
    }
   ],
   "source": [
    "import nltk\n",
    "\n",
    "# nltk.download('averaged_perceptron_tagger')\n",
    "# nltk.download('punkt')\n",
    "# nltk.download('wordcloud')\n",
    "# nltk.download('stopwords')\n",
    "# nltk.download('tagsets')"
   ]
  },
  {
   "cell_type": "markdown",
   "id": "387c3cf1",
   "metadata": {},
   "source": [
    "Es posible obtener la descripción cada una categoría específica."
   ]
  },
  {
   "cell_type": "code",
   "execution_count": 2,
   "id": "374e5d85",
   "metadata": {},
   "outputs": [
    {
     "name": "stdout",
     "output_type": "stream",
     "text": [
      "NNS: noun, common, plural\n",
      "    undergraduates scotches bric-a-brac products bodyguards facets coasts\n",
      "    divestitures storehouses designs clubs fragrances averages\n",
      "    subjectivists apprehensions muses factory-jobs ...\n",
      "[('texas', 'NN')]\n"
     ]
    },
    {
     "data": {
      "application/javascript": [
       "\n",
       "            setTimeout(function() {\n",
       "                var nbb_cell_id = 2;\n",
       "                var nbb_unformatted_code = \"nltk.help.upenn_tagset(\\\"NNS\\\")\\ntokenized_text = [\\\"texas\\\"]\\ntext_pos = nltk.pos_tag(tokenized_text)\\nprint(text_pos)\";\n",
       "                var nbb_formatted_code = \"nltk.help.upenn_tagset(\\\"NNS\\\")\\ntokenized_text = [\\\"texas\\\"]\\ntext_pos = nltk.pos_tag(tokenized_text)\\nprint(text_pos)\";\n",
       "                var nbb_cells = Jupyter.notebook.get_cells();\n",
       "                for (var i = 0; i < nbb_cells.length; ++i) {\n",
       "                    if (nbb_cells[i].input_prompt_number == nbb_cell_id) {\n",
       "                        if (nbb_cells[i].get_text() == nbb_unformatted_code) {\n",
       "                             nbb_cells[i].set_text(nbb_formatted_code);\n",
       "                        }\n",
       "                        break;\n",
       "                    }\n",
       "                }\n",
       "            }, 500);\n",
       "            "
      ],
      "text/plain": [
       "<IPython.core.display.Javascript object>"
      ]
     },
     "metadata": {},
     "output_type": "display_data"
    }
   ],
   "source": [
    "nltk.help.upenn_tagset(\"NNS\")\n",
    "tokenized_text = [\"texas\"]\n",
    "text_pos = nltk.pos_tag(tokenized_text)\n",
    "print(text_pos)"
   ]
  },
  {
   "cell_type": "markdown",
   "id": "8d2bc786",
   "metadata": {},
   "source": [
    "Ya que este etiquetador puede no ser suficiente bueno en algunos casos es posible mejorar la eficiencia del etiquetado sumando etiquetadores POS creados manualmente."
   ]
  },
  {
   "cell_type": "markdown",
   "id": "3a6a3812",
   "metadata": {},
   "source": [
    "## Etiquetado"
   ]
  },
  {
   "cell_type": "code",
   "execution_count": 3,
   "id": "787a9e4c",
   "metadata": {},
   "outputs": [
    {
     "name": "stdout",
     "output_type": "stream",
     "text": [
      "['The', 'Palace', 'of', 'Westminster', 'serves', 'as', 'the', 'meeting', 'place', 'for', 'both', 'the', 'House', 'of', 'Commons', 'and', 'the', 'House', 'of', 'Lords', ',', 'the', 'two', 'houses', 'of', 'the', 'Parliament', 'of', 'the', 'United', 'Kingdom', '.', 'Informally', 'known', 'as', 'the', 'Houses', 'of', 'Parliament', 'after', 'its', 'occupants', ',', 'the', 'Palace', 'lies', 'on', 'the', 'north', 'bank', 'of', 'the', 'River', 'Thames', 'in', 'the', 'City', 'of', 'Westminster', ',', 'in', 'central', 'London', ',', 'England', '.']\n",
      "[('The', 'DT'), ('Palace', 'NNP'), ('of', 'IN'), ('Westminster', 'NNP'), ('serves', 'NNS'), ('as', 'IN'), ('the', 'DT'), ('meeting', 'NN'), ('place', 'NN'), ('for', 'IN'), ('both', 'CC'), ('the', 'DT'), ('House', 'NNP'), ('of', 'IN'), ('Commons', 'NNPS'), ('and', 'CC'), ('the', 'DT'), ('House', 'NNP'), ('of', 'IN'), ('Lords', 'NNPS'), (',', ','), ('the', 'DT'), ('two', 'CD'), ('houses', 'NNS'), ('of', 'IN'), ('the', 'DT'), ('Parliament', 'NNP'), ('of', 'IN'), ('the', 'DT'), ('United', 'NNP'), ('Kingdom', 'NNP'), ('.', '.'), ('Informally', 'RB'), ('known', 'VBN'), ('as', 'IN'), ('the', 'DT'), ('Houses', 'NNP'), ('of', 'IN'), ('Parliament', 'NNP'), ('after', 'IN'), ('its', 'PRP$'), ('occupants', 'NNS'), (',', ','), ('the', 'DT'), ('Palace', 'NNP'), ('lies', 'VBZ'), ('on', 'IN'), ('the', 'DT'), ('north', 'JJ'), ('bank', 'NN'), ('of', 'IN'), ('the', 'DT'), ('River', 'NNP'), ('Thames', 'NNP'), ('in', 'IN'), ('the', 'DT'), ('City', 'NNP'), ('of', 'IN'), ('Westminster', 'NNP'), (',', ','), ('in', 'IN'), ('central', 'JJ'), ('London', 'NNP'), (',', ','), ('England', 'NNP'), ('.', '.')]\n"
     ]
    },
    {
     "data": {
      "application/javascript": [
       "\n",
       "            setTimeout(function() {\n",
       "                var nbb_cell_id = 3;\n",
       "                var nbb_unformatted_code = \"example = \\\"The Palace of Westminster serves as the meeting place for both the House of Commons and the House of Lords, the two houses of the Parliament of the United Kingdom. Informally known as the Houses of Parliament after its occupants, the Palace lies on the north bank of the River Thames in the City of Westminster, in central London, England.\\\"\\n# Tokenizar texto\\ntokenized_text = nltk.word_tokenize(example)\\nprint(tokenized_text)\\n# Etiquetar texto con pos_tag\\ntext_pos = nltk.pos_tag(tokenized_text)\\nprint(text_pos)\";\n",
       "                var nbb_formatted_code = \"example = \\\"The Palace of Westminster serves as the meeting place for both the House of Commons and the House of Lords, the two houses of the Parliament of the United Kingdom. Informally known as the Houses of Parliament after its occupants, the Palace lies on the north bank of the River Thames in the City of Westminster, in central London, England.\\\"\\n# Tokenizar texto\\ntokenized_text = nltk.word_tokenize(example)\\nprint(tokenized_text)\\n# Etiquetar texto con pos_tag\\ntext_pos = nltk.pos_tag(tokenized_text)\\nprint(text_pos)\";\n",
       "                var nbb_cells = Jupyter.notebook.get_cells();\n",
       "                for (var i = 0; i < nbb_cells.length; ++i) {\n",
       "                    if (nbb_cells[i].input_prompt_number == nbb_cell_id) {\n",
       "                        if (nbb_cells[i].get_text() == nbb_unformatted_code) {\n",
       "                             nbb_cells[i].set_text(nbb_formatted_code);\n",
       "                        }\n",
       "                        break;\n",
       "                    }\n",
       "                }\n",
       "            }, 500);\n",
       "            "
      ],
      "text/plain": [
       "<IPython.core.display.Javascript object>"
      ]
     },
     "metadata": {},
     "output_type": "display_data"
    }
   ],
   "source": [
    "example = \"The Palace of Westminster serves as the meeting place for both the House of Commons and the House of Lords, the two houses of the Parliament of the United Kingdom. Informally known as the Houses of Parliament after its occupants, the Palace lies on the north bank of the River Thames in the City of Westminster, in central London, England.\"\n",
    "# Tokenizar texto\n",
    "tokenized_text = nltk.word_tokenize(example)\n",
    "print(tokenized_text)\n",
    "# Etiquetar texto con pos_tag\n",
    "text_pos = nltk.pos_tag(tokenized_text)\n",
    "print(text_pos)"
   ]
  },
  {
   "cell_type": "markdown",
   "id": "29454864",
   "metadata": {},
   "source": [
    "# POS en español\n",
    "\n",
    "Si queremos hacer un etiquetado morfológico en otro idioma entonces es necesario encontrar un etiquetador ya entrenado para ese idioma o entrenar uno nosotros mismos. También es necesario saber cuales son las clasificaciones de palabras existentes para dicho idioma.\n",
    "\n",
    "En el siguiente <a href=\"https://colab.research.google.com/github/vitojph/kschool-nlp-18/blob/master/notebooks/pos-tagger-es.ipynb\">enlace se muestra un ejemplo práctico de etiquetado POS en español."
   ]
  },
  {
   "cell_type": "code",
   "execution_count": 4,
   "id": "2a13a298",
   "metadata": {},
   "outputs": [
    {
     "data": {
      "application/javascript": [
       "\n",
       "            setTimeout(function() {\n",
       "                var nbb_cell_id = 4;\n",
       "                var nbb_unformatted_code = \"import requests\\nimport os\\nfrom dotenv import load_dotenv\\nimport pandas as pd\\nfrom nltk.tokenize import TweetTokenizer\\nimport nltk\\n\\nurl = \\\"https://api.twitter.com/2/tweets/search/recent\\\"\\n# Cargar valores del archivo .env en las variables de entorno\\nload_dotenv()\\n# Cargar valor del token a variable\\nbearer_token = os.environ.get(\\\"BEARER_TOKEN\\\")\";\n",
       "                var nbb_formatted_code = \"import requests\\nimport os\\nfrom dotenv import load_dotenv\\nimport pandas as pd\\nfrom nltk.tokenize import TweetTokenizer\\nimport nltk\\n\\nurl = \\\"https://api.twitter.com/2/tweets/search/recent\\\"\\n# Cargar valores del archivo .env en las variables de entorno\\nload_dotenv()\\n# Cargar valor del token a variable\\nbearer_token = os.environ.get(\\\"BEARER_TOKEN\\\")\";\n",
       "                var nbb_cells = Jupyter.notebook.get_cells();\n",
       "                for (var i = 0; i < nbb_cells.length; ++i) {\n",
       "                    if (nbb_cells[i].input_prompt_number == nbb_cell_id) {\n",
       "                        if (nbb_cells[i].get_text() == nbb_unformatted_code) {\n",
       "                             nbb_cells[i].set_text(nbb_formatted_code);\n",
       "                        }\n",
       "                        break;\n",
       "                    }\n",
       "                }\n",
       "            }, 500);\n",
       "            "
      ],
      "text/plain": [
       "<IPython.core.display.Javascript object>"
      ]
     },
     "metadata": {},
     "output_type": "display_data"
    }
   ],
   "source": [
    "import requests\n",
    "import os\n",
    "from dotenv import load_dotenv\n",
    "import pandas as pd\n",
    "from nltk.tokenize import TweetTokenizer\n",
    "import nltk\n",
    "\n",
    "url = \"https://api.twitter.com/2/tweets/search/recent\"\n",
    "# Cargar valores del archivo .env en las variables de entorno\n",
    "load_dotenv()\n",
    "# Cargar valor del token a variable\n",
    "bearer_token = os.environ.get(\"BEARER_TOKEN\")"
   ]
  },
  {
   "cell_type": "markdown",
   "id": "f54b8413",
   "metadata": {},
   "source": [
    "# Ejercicio\n",
    "\n",
    "- Obtener de la API una lista de Tweets que no sean retweet y que contengan el hashtag #GRAMMYs en inglés.\n",
    "- Realizar la tokenización\n",
    "- Realizar un etiquetado POS con la función pos_tag de NLTK\n",
    "- Obtener la lista y frecuencia de los sustantivos en singular y plural"
   ]
  },
  {
   "cell_type": "markdown",
   "id": "888f6e1a",
   "metadata": {},
   "source": [
    "# Ejercicio N°1"
   ]
  },
  {
   "cell_type": "code",
   "execution_count": 5,
   "id": "3514e166",
   "metadata": {},
   "outputs": [
    {
     "name": "stdout",
     "output_type": "stream",
     "text": [
      "<Response [200]>\n",
      "{'data': [{'created_at': '2021-10-23T14:32:32.000Z', 'id': '1451919474106552321', 'text': 'For your consideration:)\\n@RecordingAcad 1st round voting is open!\\n#contemporaryblues #bluesmusic #GRAMMYs https://t.co/NuOaPvT3ta'}, {'created_at': '2021-10-23T14:30:20.000Z', 'id': '1451918921456574469', 'text': 'Big up our President and CEO @harveymasonjr \\n\\nCongrats! #grammys #recordingacademy @recordingacademy @ Monom Recording Studio https://t.co/Dll5dB1GGI'}, {'created_at': '2021-10-23T14:29:42.000Z', 'id': '1451918761058054149', 'text': \"#7 Grammy in the building nobody works harder than our founder @malikyusef100 . Oh you think you know someone else...I'll wait. #badkids #grammys #ye #donda https://t.co/wuRFbX62I2 https://t.co/HxOk7CF4Mq\"}, {'created_at': '2021-10-23T14:29:14.000Z', 'id': '1451918641348284422', 'text': 'A moment in history. #Grammys #ARIAsMileyCyrus https://t.co/R4iyIsE100'}, {'created_at': '2021-10-23T14:25:03.000Z', 'id': '1451917592197742593', 'text': \"#7 Grammy in the building nobody works harder than our founder @malikyusef100 . Oh you think you know someone else...I'll wait. #badkids #grammys #ye #donda https://t.co/wuRFbX62I2 https://t.co/cSiT2Jmgte\"}, {'created_at': '2021-10-23T14:22:50.000Z', 'id': '1451917030886555649', 'text': '#rp @_JERMAINEHOLMES god bless you and thank you bro for keeping it 1000 with me. 🙏🏾💯 Voting starts NOW.\\n\\nFor your @RecordingAcad consideration. #Petestrumentals3 \\nfor Best Contemporary Instrumental Album. BIG SHOUTOUT TO MY BIG BROTHER  #PeteRock 🥇\\n#GRAMMYs https://t.co/5ZlQbGqzOP'}, {'created_at': '2021-10-23T14:20:17.000Z', 'id': '1451916389200060426', 'text': 'BLACKPINK GOT A GRAMMY NOMINATION YALL #SG #ARIAsArianaGrande #RIHANNA #BLONKSEATING #BLINK #BlackPink #GRAMMYS https://t.co/mvx0XQlVV8'}, {'created_at': '2021-10-23T14:09:34.000Z', 'id': '1451913694464684036', 'text': 'Thought I’d make a thread for all the viable options for #GRAMMYs 2022 Rock Album of the Year: https://t.co/x1ANNOIsMD'}, {'created_at': '2021-10-23T14:07:33.000Z', 'id': '1451913187641765896', 'text': '🙏For your GRAMMY Awards consideration🙏\\n🧡Large Jazz Ensemble Album: Imaginary Visions🧡\\n💛Best Instrumental Composition: I Said Cool, You Said…What?💛\\n😌👂🎶♥️🙏🙏🙏\\n@EditionRecords #largejazzensemble #jazz #instrumentalmusic #mihohazama #fyc #foryourconsideration #grammys https://t.co/gDJzQHH5pp'}, {'created_at': '2021-10-23T13:59:19.000Z', 'id': '1451911115164815364', 'text': 'Epic Records has submitted @BIABIA &amp; @NICKIMINAJ \"WHOLE LOTTA MONEY (Remix)\" for consideration at the 2022 #GRAMMYs. https://t.co/Br4HfXrBP1'}, {'created_at': '2021-10-23T13:58:25.000Z', 'id': '1451910886860464132', 'text': '@TWICE_Charts @JYPETWICE Hey! Republic Records submitted “Taste of Love” at the 2022 #GRAMMYs https://t.co/Kpnl0cTwcq'}, {'created_at': '2021-10-23T13:32:35.000Z', 'id': '1451904387006222336', 'text': \"Please can y'all help me out by reposting this post on any of your social media platforms and please don't forget to tag @RecordingAcad \\n#GRAMMYs #voteforme #we'llbeok #nandos #racism #NastyC #Chelsea #Russ #Tuchel #Hudson #SouthAfrica #music #award #Best #Rnb #performance https://t.co/wu7nKIkB4N\"}, {'created_at': '2021-10-23T13:13:50.000Z', 'id': '1451899669857112065', 'text': 'For your consideration #Grammy awards First round ballot , please vote for @lasandra_sa  \"We\\'ll be ok\" Best R&amp;B Performance Thanks to the @recordingacademy voters for your consideration Here\\'s the link to my music video https://t.co/Bo20PIwAdG\\n#GRAMMYs #RecordingAcademy #vote4me https://t.co/xviq7kJpJ0'}, {'created_at': '2021-10-23T12:54:07.000Z', 'id': '1451894707710218246', 'text': '\"Plastic Hearts\" by Miley has been submitted for best rock album at the #GRAMMYs . \\nIf Miley were to win, she\\'s become the first female artist (and first solo singer overall) to win the award in 23 years!!! 🖤🖤🖤🖤🖤\\n@MileyCyrus IS SICKENING Y\\'ALL! @MileyTeamITALY @MileyOfficial https://t.co/X5SsM3RyJi'}, {'created_at': '2021-10-23T12:52:22.000Z', 'id': '1451894264716169222', 'text': 'Album Smart Link -\\xa0https://t.co/1iv27ybTBL\\n\\n#music #hmma #GRAMMYs #fyc #musicforlove #humanitarianproject https://t.co/HjAzg0Blsg'}, {'created_at': '2021-10-23T12:49:35.000Z', 'id': '1451893566284910593', 'text': \"I still hope that #GRAMMYs don't have the nerve to ignore Plastic Hearts which broke fucking records since its release. https://t.co/cVae9wCoDY\"}, {'created_at': '2021-10-23T12:33:29.000Z', 'id': '1451889513140264966', 'text': 'November 23rd???👀👀👀\\nThey better give her the best birthday present! \\n#ARIAsMileyCyrus #GRAMMYs https://t.co/jEGpIljprG'}, {'created_at': '2021-10-23T12:28:17.000Z', 'id': '1451888205222105089', 'text': 'ladies and gentlemen the winner of the best rock album is #GRAMMYs https://t.co/0k7VeE2tKr'}, {'created_at': '2021-10-23T12:26:16.000Z', 'id': '1451887698336178176', 'text': 'Only those who attempt the absurd can achieve the impossible 4X Platinum for producing on Astroworld @travisscott #music #producer #igers #life #wow #amazing #grammys #god #igdaily @ Los Angeles, California https://t.co/RFW7OPENoe'}, {'created_at': '2021-10-23T12:21:12.000Z', 'id': '1451886424186396673', 'text': 'The latest The Gospel music Daily! https://t.co/W0sXOX8IBl Thanks to @kshnews #grammys #music'}, {'created_at': '2021-10-23T12:08:47.000Z', 'id': '1451883297575870464', 'text': 'Yessss letss get it!!💪🔥🔥🔥.. We appreciate all your hard work on #Sticker\\xa0 and trusting #NCT127\\xa0 in making this art come to life! It’s a wonderfully made piece that deserves to be respected. All the best!!\\n\\n#GRAMMYs\\xa0for #Sticker\\xa0 and #NCT127\\xa0🙏🤞 https://t.co/3tFsWZEIAS'}, {'created_at': '2021-10-23T12:06:25.000Z', 'id': '1451882700319571974', 'text': 'Imagine if Bebe Rexha is nominated at the #GRAMMYS.  What would it be?'}, {'created_at': '2021-10-23T12:05:20.000Z', 'id': '1451882429455687684', 'text': 'The latest Country Music Chatter! https://t.co/WUvEyLdrj5 Thanks to @9NorthRecords #vmas #grammys'}, {'created_at': '2021-10-23T11:56:48.000Z', 'id': '1451880281456082951', 'text': 'Billboard reports that Plastic Hearts by @MileyCyrus has been submitted for Best Rock Album at the 2022 #Grammys after originally being submitted for the pop categories! \\n\\nNominations on November 23rd. https://t.co/OYX46aJeVt'}, {'created_at': '2021-10-23T11:54:33.000Z', 'id': '1451879716718264323', 'text': 'Billboard reports that Plastic Hearts by @MileyCyrus has been submitted for Best Rock Album at the 2022 #Grammys after originally being submitted for the pop categories! \\n\\nNominations are November 23rd! https://t.co/iVpVHDD0EI'}, {'created_at': '2021-10-23T11:49:12.000Z', 'id': '1451878367414923264', 'text': 'truly the best album released in 2020. she MUST win, she was in HER BAG #Grammys https://t.co/d3s6LREn0W'}, {'created_at': '2021-10-23T11:47:32.000Z', 'id': '1451877951067197453', 'text': 'MILEY CYRUS IS ABOUT TO BECOME A GRAMMY WINNING ARTIST BOOKMARK THIS. #Grammys'}, {'created_at': '2021-10-23T11:25:35.000Z', 'id': '1451872425965129731', 'text': 'Hello everyone, happy to share that our song No Plastic Swear Now is on the 64th Grammy Awards ballot in Best Arrangement Instrumental or A Cappella category.Need all your blessings\\n#RecordingAcademy   #Vote4GRAMMYs\\n#grammys\\n#wearemusic \\n#GRAMMYs \\n#NoPlasticSwearNow https://t.co/dRcnP9emwy'}, {'created_at': '2021-10-23T11:22:16.000Z', 'id': '1451871589520199684', 'text': 'Bebe Rexha for #GRAMMYs &amp; #EMAs https://t.co/r88wvXERpl'}, {'created_at': '2021-10-23T11:18:04.000Z', 'id': '1451870534535364609', 'text': 'Name a Nigeria underrated Album/EP? #Platinum #GRAMMYs #underrated #16tracks #hiptv'}, {'created_at': '2021-10-23T11:03:15.000Z', 'id': '1451866807359377409', 'text': '🚨 Segundo a Billboard, “Plastic Hearts” foi submetido a “Best Rock Album” no #GRAMMYs 2022. https://t.co/YWw2LOxram'}, {'created_at': '2021-10-23T10:21:18.000Z', 'id': '1451856248337469441', 'text': 'BIG NEWS!!!\\n\\n“This is TBL” is up for @recordingacademy considerations...\\n\\n🙏🏻🙏🏽🙏🏿 \\n\\n#adifferentleague \\n\\n @ryzemagazine\\n・・・\\nFYC- RYZE Magazine Presents “This Is TBL” (thee official TBL Theme Song and Anthem) featuring @DaLomonze x @emceenicela x @lamonttblackshire \\n#GRAMMYs https://t.co/hcybirgQtl'}, {'created_at': '2021-10-23T10:14:38.000Z', 'id': '1451854569797996547', 'text': '.@MileyCyrus’ ‘Plastic Hearts’ has been submitted for “Best Rock Album” at the 2022 #GRAMMYs\\xa0, @billboard reports. https://t.co/CyOeAJhgcD'}, {'created_at': '2021-10-23T10:13:33.000Z', 'id': '1451854300188086274', 'text': 'what if we get a nomination for Grammy 2022 next year??!! #BLACKPINK #GRAMMYs'}, {'created_at': '2021-10-23T10:02:39.000Z', 'id': '1451851556400205826', 'text': 'For Your Consideration — GRAMMY Awards First Round Ballot: Black Nile “The Further Side” Best Contemporary Instrumental Album #GRAMMYs #grammys2022🏆 https://t.co/FceX04kvEF'}, {'created_at': '2021-10-23T09:59:54.000Z', 'id': '1451850864122007555', 'text': '@Wale definitely has album of the year so far. #Folarin2 #GRAMMYs'}, {'created_at': '2021-10-23T09:50:14.000Z', 'id': '1451848430473547779', 'text': '#GRAMMYs  \\nthis is cheating. bts have to get that.  because, their impact made the others get nominated.then why cheating?'}, {'created_at': '2021-10-23T09:49:58.000Z', 'id': '1451848363196960770', 'text': 'Fans react as #GRAMMYs Award winner #Burnaboy  shaves off beard &amp; dons a  leather outfit\\n\\nGrammy award-winning singer, Damini Ogulu, popularly known as #Burnaboy has shaved off his beard. https://t.co/j2I3nCLFDD'}, {'created_at': '2021-10-23T09:38:20.000Z', 'id': '1451845437590175744', 'text': 'GRAMMYS\\nSharing some great news today!! My dear friend @Raghu_Dixit has collaborated with musician @caseydriessen for the album #Otherlands is being considered for Grammys ! !\\n\\nhttps://t.co/zHXUOBXlt1\\n\\n#Grammys #Inclusivity #language  #Violin #guitar #vocals #poetry #Otherlands'}, {'created_at': '2021-10-23T09:30:59.000Z', 'id': '1451843587243757573', 'text': 'Grammy Nominations Forecast: Could the Top Categories Be a Battle of the Teen Titans?\\n@OliviaRodrigoHQ @LilNasX  @billieeilish @taylorswift13  @Grammys @RecordingAcad  #TaylorSwift #oliviarodrigo  #BillieEilish #LilNasX #Grammys  https://t.co/3COX4pitoy via @variety'}, {'created_at': '2021-10-23T09:25:13.000Z', 'id': '1451842135943270405', 'text': 'Plastic Hearts foi submetido a categoria de Best Rock Album no #GRAMMYs https://t.co/zKqWQT0dNs'}, {'created_at': '2021-10-23T09:22:04.000Z', 'id': '1451841340950474757', 'text': 'For Ur Grammy Consideration #BTS  \\n#GRAMMYs https://t.co/OmjUZo6nBs'}, {'created_at': '2021-10-23T09:12:49.000Z', 'id': '1451839012650446853', 'text': '#MONSTAX for the #GRAMMYs https://t.co/v3l8hoqvlG'}, {'created_at': '2021-10-23T09:10:48.000Z', 'id': '1451838506364542977', 'text': '@RecordingAcad Tinashe also dropped this incredible album, Comfort &amp; Joy for the holidays .. let’s go #lifetimeaward #Grammys I’m trying to tell y’all .. vote for Tinashe .. must I say she is, Every Woman \\n\\nhttps://t.co/xozhEdaGS3\\n\\nhttps://t.co/szQo1mFoX8'}, {'created_at': '2021-10-23T09:10:39.000Z', 'id': '1451838468720508934', 'text': '▶Do you want to enhance your beauty? Yes, you come to the right place.. We provide the best beauty essential video.\\n✅ WATCH THIS VIDEO: https://t.co/YQusNfjYKJ\\n\\n#PHXvsLAL  #Arizona #jokic #ADandDwight #Zendaya #WHOAREYOU #FleetwoodMac #GRAMMYs #ONEW #PermissionToDanceOnStageLA https://t.co/A9ujhxRjf5'}, {'created_at': '2021-10-23T09:04:01.000Z', 'id': '1451836798531895302', 'text': 'For Your Grammy Consideration @RecordingAcad #BTS #GRAMMYs https://t.co/taIT3b4V96'}, {'created_at': '2021-10-23T09:02:57.000Z', 'id': '1451836531644141573', 'text': '“Plastic Hearts” by Miley Cyrus has been submitted for best rock album at the #Grammys. If Cyrus were to win, she’d become the first female artist (and first solo singer overall) to win the award in 23 years! https://t.co/j6bUk1pl0s'}, {'created_at': '2021-10-23T08:44:35.000Z', 'id': '1451831909345120256', 'text': 'Really thrilled to see my album listed here! If you have a vote for the Grammy’s it would be great if you’d take a listen and consider it? ❤️\\nThanks so much Jason Miles and my amazing band!🙏@RecordingAcad @JasonMiles @Jazzwise @JazzJournal @BBCJazzon3 #Grammys #jazz #jazzvocal https://t.co/7Bqr767DeI'}, {'created_at': '2021-10-23T08:39:49.000Z', 'id': '1451830709060968450', 'text': 'this had to be one of the biggest song snubbed at #GRAMMYs https://t.co/H9KpZaV81a'}, {'created_at': '2021-10-23T08:33:50.000Z', 'id': '1451829202928476161', 'text': 'Turns out Birdsong has also made the longlist for track of the year 🥰 #GRAMMYs \\n\\n@theluxalma @Jess_C_Leen @niamhsandwich @CariQMusic @theruthsmith @SiveMusic @PSuitestudios https://t.co/0yFWOxEX8v'}, {'created_at': '2021-10-23T08:20:43.000Z', 'id': '1451825903168753667', 'text': 'Sticker is the MASTERPIECE! You deserve it! #GRAMMYs https://t.co/a7NZr2uG5q'}, {'created_at': '2021-10-23T08:17:52.000Z', 'id': '1451825184017551363', 'text': 'For Ur Grammy Consideration #BTS  \\n#GRAMMYs  https://t.co/J2vl0WPe0u'}, {'created_at': '2021-10-23T08:03:07.000Z', 'id': '1451821471999959040', 'text': 'Via @Variety Will 2022 Be #BTS’ and K-Pop’s Year at the #Grammys?\\n https://t.co/z5OXyyuYpF'}, {'created_at': '2021-10-23T07:58:04.000Z', 'id': '1451820204061642758', 'text': \"#GRAMMYs Voting is critically important because the power, privilege, and prestige of recognizing music’s creators is in the hands of our @RecordingAcademy members. If you're a #RecordingAcademy voting member, don't forget to vote! #Vote4GRAMMYs https://t.co/T4SbELcRWB\"}, {'created_at': '2021-10-23T07:57:37.000Z', 'id': '1451820090354249733', 'text': 'Very happy that my album “Now The Silence” has been accepted for consideration by the Recording Academy and appears on the initial voting ballot in the category of New Age Album.  #FYC #NowTheSilence #NewAgeAlbum #GRAMMYs https://t.co/6UoImQNxeg'}, {'created_at': '2021-10-23T07:50:17.000Z', 'id': '1451818245871312899', 'text': \"Record of the week comes courtesy of the talented @EgoEllaMay on tomorrows programme from 10am on @JazzFM plus i'll be talking to the #GRAMMYs winning @keyonharrold  plus new music from NeONE the Wonderer @brownswood  @SNG_Manchester and more. Or c/up here https://t.co/iqlqK1g94m https://t.co/wrNeYJN7Jx\"}, {'created_at': '2021-10-23T07:47:31.000Z', 'id': '1451817546160619522', 'text': 'This is masterpiece @RecordingAcad #nct127 #Sticker #GRAMMYs https://t.co/kd6LssvpMY'}, {'created_at': '2021-10-23T07:45:37.000Z', 'id': '1451817069171728390', 'text': '#GRAMMYs Quick Predictions - Alternative + Country\\n\\nhttps://t.co/Yq1iWXuedS'}, {'created_at': '2021-10-23T07:45:02.000Z', 'id': '1451816921360318466', 'text': 'We are honored to share our dream come true with you! If you are a voting member of the recording academy, our music is on the first round Grammy ballot this year! https://t.co/UVgWfRO0Db #dreambig #GRAMMYs #sleepingwitharockstar #isthatenough https://t.co/T0VWCqZC9P'}, {'created_at': '2021-10-23T07:14:55.000Z', 'id': '1451809344069283842', 'text': 'Thaalaatu is on the 64th Grammy Awards ballot \\n\\n#RecordingAcademy   #Vote4GRAMMYs\\n#grammys\\n#wearemusic\\n#thaalaatulullaby composed and arranged by @crazydevan75. All the best da. https://t.co/KVimWfNoHZ'}, {'created_at': '2021-10-23T06:48:12.000Z', 'id': '1451802618658004997', 'text': 'The latest The Gospel music Daily! https://t.co/DHan149e1b Thanks to @fortunatefall03 #music #grammys'}, {'created_at': '2021-10-23T06:47:19.000Z', 'id': '1451802397039370241', 'text': 'Track list for TNBT the Ep out this week \\n\\n#GRAMMYs #music #TNBT #mrnasty #Ep'}, {'created_at': '2021-10-23T06:38:50.000Z', 'id': '1451800263157710851', 'text': 'Miley Cyrus’ Plastic Hearts was submitted to POP categories but #GRAMMYs recategorized them to ROCK, @billboard reports'}, {'created_at': '2021-10-23T06:18:02.000Z', 'id': '1451795027315859458', 'text': '#Blackpink (the movie )× #GRAMMYs ? https://t.co/SGtuuXjA23'}, {'created_at': '2021-10-23T06:03:23.000Z', 'id': '1451791343043452931', 'text': '.@MileyCyrus’ ‘Plastic Hearts’ has been submitted for “Best Rock Album” at the 2022 #GRAMMYs, @billboard reports. https://t.co/1GKmmqw5ue'}, {'created_at': '2021-10-23T06:01:20.000Z', 'id': '1451790824782667779', 'text': 'Time out for tea 🙏\\n\\n#xfiles #mulderandscully #dalek #scifi #retro #robot #GRAMMYs #tea #breaktime #culttv #startrek #yellowsubmarine #groovy #dig https://t.co/7z7Jzng6wQ'}, {'created_at': '2021-10-23T05:29:04.000Z', 'id': '1451782705637511169', 'text': '@demjointz YEEEES!!! Deserve! #NCT127 #STICKER #GRAMMYs 💚💃'}, {'created_at': '2021-10-23T05:26:27.000Z', 'id': '1451782045907107840', 'text': '@umksjin @AlyaNuari5 @emxrwld For Ur Grammy Consideration #NCT127 #Sticker \\n#GRAMMYs 🤞🏽 https://t.co/VDoKXZCKAW'}, {'created_at': '2021-10-23T05:15:05.000Z', 'id': '1451779185823948803', 'text': 'For your consideration to whom it may concern. 🕊 @leather_sox @dovesociety  @recordingacademy #grammys https://t.co/miLPV3AaIe'}, {'created_at': '2021-10-23T05:00:00.000Z', 'id': '1451775389915824128', 'text': 'For your 64th annual Grammy®️ voting consideration:\\nMy album \"With Love from Lake Huron\" has been submitted for the 2022 Country Album of the Year for the 64th annual Grammy®️ Awards. https://t.co/tRAvypvSzE #GRAMMYs #GrammyAwards https://t.co/QEi3IxVaEO'}, {'created_at': '2021-10-23T04:54:46.000Z', 'id': '1451774072715677696', 'text': '@demjointz I hope so.. You and NCT 127 deseve it\\n#NCT127 #GRAMMYs @RecordingAcad'}, {'created_at': '2021-10-23T04:27:37.000Z', 'id': '1451767240165105665', 'text': 'Nominate #LISA for 2021 “new artist” category #GRAMMYs \\n\\n#LisaMoneyDance #LalisaManoban #MONEY #LALISAsolo #SOLM  #SnakeOzunaLisaMegan'}, {'created_at': '2021-10-23T04:17:48.000Z', 'id': '1451764769023827973', 'text': 'Any ARMY’s wanna weigh in on what they think about BTS’s chance at winning big at this year’s Grammys? 😳💜 #GRAMMYs #BTS #ARMY https://t.co/OPrCPllIx6 https://t.co/aDWI27uAmE'}, {'created_at': '2021-10-23T04:13:35.000Z', 'id': '1451763710339522565', 'text': \"RCA Records, Doja Cat's label, submitted 'Planet Her' in the category 'Best Pop Vocal Album' on 2022 #GRAMMYs. https://t.co/tG4QCLvCuE\"}, {'created_at': '2021-10-23T04:12:21.000Z', 'id': '1451763398136508421', 'text': 'For your #Grammys Consideration: Dexter Allen -&gt;\\n\\n“Keep Moving On”\\n\\nBest American Roots Song\\n\\nBest American Roots Performance \\n\\nBest Traditional Blues Album https://t.co/RbSOg3EprW'}, {'created_at': '2021-10-23T04:12:03.000Z', 'id': '1451763322878111748', 'text': 'Listening to #BlueBanisters for the 1st time in my room with headphones &amp; mushroom tea  was the best decision of my life. It’s a spiritual awakening. #LanaDelRey  those horns on If you lie down with me? This is the album that will snag the #Grammys https://t.co/0fj6z9kKzX'}, {'created_at': '2021-10-23T04:07:36.000Z', 'id': '1451762203854446597', 'text': '.@DojaCat’s ‘Planet Her’ has been submitted under ‘Best Pop Vocal Album” for the 2022 #GRAMMYs https://t.co/HIBh8tQr2m'}, {'created_at': '2021-10-23T04:06:00.000Z', 'id': '1451761800878469120', 'text': '@JoeYue16 @demjointz Lmao I love your pfp btw stream sticker #Grammys 😂'}, {'created_at': '2021-10-23T04:00:02.000Z', 'id': '1451760301049851911', 'text': 'For your #Grammys\\xa0 Consideration:\\n\\n\"My American Heart”\\n\\nBest American Roots Song\\n&amp;\\nBest American Roots Performance ❤️💙 https://t.co/51sWcYBLUp'}, {'created_at': '2021-10-23T03:46:49.000Z', 'id': '1451756975520301057', 'text': 'So is BE, Butter and Permission To Dance eligible for #GRAMMYs under SOTY, AOTY and ROTY? #BTS'}, {'created_at': '2021-10-23T03:43:28.000Z', 'id': '1451756132570173441', 'text': 'For your #Grammys Consideration:\\n\\n\"28 Days\"\\nSong of the Year\\n\\n- Roland Guerin, songwriter https://t.co/8evxoKhnim'}, {'created_at': '2021-10-23T03:37:41.000Z', 'id': '1451754677050265600', 'text': 'Loading....🔥\\n\\n@zionfelixdotcom @magraheb \\n\\n#rap #nopressure #streetstyle #grammys\\xa0 #hiphop #hiphopculture #drill #freestyle #4sytetv #africanprint #mavinrecords #billboard #bet https://t.co/BchTZxG9Lg'}, {'created_at': '2021-10-23T03:34:31.000Z', 'id': '1451753879700316167', 'text': 'In a recent article, Billboard confirms that @AvaMax is eligible to compete for the “Best New Artist” nomination at the 2022 #Grammys.\\n\\nThe nominations will be announced November 23rd.\\n🔗 https://t.co/q5juJxJpnw https://t.co/CJ0cSdhTV5'}, {'created_at': '2021-10-23T03:32:57.000Z', 'id': '1451753483573547010', 'text': '@saftykai I #VoteAnittaGrammys for #GRAMMYs Best New Artist'}, {'created_at': '2021-10-23T03:31:47.000Z', 'id': '1451753191008202753', 'text': 'This song deserves to be in #GRAMMYs 🔥🔥\\n@arrahman https://t.co/xr3G0sCcaa'}, {'created_at': '2021-10-23T03:31:02.000Z', 'id': '1451753002935717889', 'text': 'I #VoteAnittaGrammys for #GRAMMYs Best New Artist'}, {'created_at': '2021-10-23T03:26:57.000Z', 'id': '1451751974563635204', 'text': 'Congrats Record of the Year winner - \"positions\" @ArianaGrande #GRAMMYs\\xa0\\n\\n https://t.co/omqPQn14Q2'}, {'created_at': '2021-10-23T03:19:11.000Z', 'id': '1451750021171343364', 'text': 'The 2021 Latin GRAMMYs telecast will air live on Thursday, Nov. 18, on Univision at 8 p.m. ET/PT (7 p.m. CT). @thelatingrammys #GRAMMYs https://t.co/CKjwuyPfeF'}, {'created_at': '2021-10-23T03:18:30.000Z', 'id': '1451749847065784321', 'text': 'please🥺, this song and album is so amazingg  #NCT127\\xa0 #Sticker\\xa0 #GRAMMYs https://t.co/Vw1BTGtz5G'}, {'created_at': '2021-10-23T03:16:54.000Z', 'id': '1451749446874664962', 'text': 'The 22nd Latin #GRAMMY Awards, will air live on Univision beginning at 8 p.m. ET/PT (7 p.m. CT). \\n#GRAMMYs  #latingrammys https://t.co/icud3odN7P'}, {'created_at': '2021-10-23T03:15:14.000Z', 'id': '1451749027465216004', 'text': \"IT'S BIG BIIIIIIIIIIIIIIIIIIIG FOR #TXT #GRAMMYs \\n\\n*i was sad thinking it was undermining their 2 years hard work but i was explained the category doesn't work like that. I am a puddle of 😍 now.\"}, {'created_at': '2021-10-23T03:07:00.000Z', 'id': '1451746954363478020', 'text': 'For Your Consideration in Best Contemporary Instrumental: \\n\\n“Reflections of Tomorrow” by pianist Joseph Fuller. Produced by Grammy Award winner Brad Sayles. \\n\\nThis 10 track album of original compositions takes you on a personal journey of joy, love, and loss.\\n#FYC #GRAMMYs'}, {'created_at': '2021-10-23T03:06:47.000Z', 'id': '1451746899954786309', 'text': 'why tf these bhishes trending again?? u nominated in grammys or something??  #RedVelvet #GRAMMYs'}, {'created_at': '2021-10-23T03:02:21.000Z', 'id': '1451745782441336837', 'text': 'Let’s be clear NCT doesn’t need a grammy and BTS doesn’t need a grammy they are way too good for that shhhh #GRAMMYs https://t.co/r5j6cqulGR'}, {'created_at': '2021-10-23T02:57:42.000Z', 'id': '1451744613098659841', 'text': 'Dear GRAMMY®️voting members:\\n\\nI humbly submit to you my album, TONADA, for Grammy®️ consideration. Best Global Music Album &amp; Best Instrumental Arrangement.\\n#foryourconsideration #foryourgrammyconsideration #RecordingAcademy #FYC #grammys #tonada #venezuela #asianamerican'}, {'created_at': '2021-10-23T02:56:45.000Z', 'id': '1451744374245638146', 'text': 'For Ur Grammy Consideration #NCT127 #Sticker \\n#GRAMMYs 🤞🏽 https://t.co/c4qxYb0cg1'}, {'created_at': '2021-10-23T02:52:16.000Z', 'id': '1451743246359662593', 'text': 'As seen in @Billboard Magazine\\'s GRAMMY® Edition:\\n\\nFOR YOUR GRAMMY® CONSIDERATION\\n\\nRip - \"Delivered\" 8k (Best Music Video)\\n\\nNicky Gracious- \"This I Pray\" &amp; \"Stand Up\" (Best Contemporary Christian Performance &amp; Song)\\n\\n#FYC #ForYourConsideration #ForYourGRAMMYConsideration #GRAMMYs https://t.co/ZLkRBO97zH'}, {'created_at': '2021-10-23T02:50:24.000Z', 'id': '1451742776220078081', 'text': \"OMG!!! YOU'RE TELLING ME THAT THE BOYS CAN VE NOMINATED FOR BEST NEW ARTIST!!!!! #TXTGRAMMY #GRAMMYs\\n#TXT #투모로우바이투게더\\n#TOMORROW_X_TOGETHER \\n@TXT_members @TXT_bighit\\n\\nhttps://t.co/pJaTTnvLw8 https://t.co/k09gy0XhPV\"}, {'created_at': '2021-10-23T02:40:14.000Z', 'id': '1451740216436277251', 'text': \"#TOMORROW_X_TOGETHER is now eligible for 2022 #GRAMMYs 'Best New Artist'!\\n\\n🔗 https://t.co/SHmqeKw0mP\\n\\n📝 The company can submit an application. It's chosen by the GRAMMYs themself to be accepted. Only 8 can be nominated. \\n\\n#TXT #Beomie☁ https://t.co/Y982I0PbZk\"}, {'created_at': '2021-10-23T02:38:03.000Z', 'id': '1451739669092253697', 'text': 'This November 18 will be the 22nd edition of the Latin Grammy and the controversy continues, the clash between Residente, Yotuel and J Balvin returned the focus to the need to reexamine institutions such as the Latin Grammy.\\n#GRAMMYs #TimsTwitterListeningParty https://t.co/BbMmpcGKp9'}], 'meta': {'newest_id': '1451919474106552321', 'oldest_id': '1451739669092253697', 'result_count': 100, 'next_token': 'b26v89c19zqg8o3fpdv67ugabmoh9melehzrerh3owupp'}}\n"
     ]
    },
    {
     "data": {
      "application/javascript": [
       "\n",
       "            setTimeout(function() {\n",
       "                var nbb_cell_id = 5;\n",
       "                var nbb_unformatted_code = \"params = {\\n    \\\"query\\\": \\\"#GRAMMYs  lang:en -is:retweet\\\",\\n    \\\"tweet.fields\\\": \\\"created_at\\\",\\n    \\\"max_results\\\": 100,\\n}\\nheaders = {\\n    \\\"Authorization\\\": f\\\"Bearer {bearer_token}\\\",\\n    \\\"User-Agent\\\": \\\"v2FullArchiveSearchPython\\\",\\n}\\nresponse = requests.get(url, headers=headers, params=params)\\nprint(response)\\n# Generar excepci\\u00f3n si la respuesta no es exitosa\\nif response.status_code != 200:\\n    raise Exception(response.status_code, response.text)\\nprint(response.json())\";\n",
       "                var nbb_formatted_code = \"params = {\\n    \\\"query\\\": \\\"#GRAMMYs  lang:en -is:retweet\\\",\\n    \\\"tweet.fields\\\": \\\"created_at\\\",\\n    \\\"max_results\\\": 100,\\n}\\nheaders = {\\n    \\\"Authorization\\\": f\\\"Bearer {bearer_token}\\\",\\n    \\\"User-Agent\\\": \\\"v2FullArchiveSearchPython\\\",\\n}\\nresponse = requests.get(url, headers=headers, params=params)\\nprint(response)\\n# Generar excepci\\u00f3n si la respuesta no es exitosa\\nif response.status_code != 200:\\n    raise Exception(response.status_code, response.text)\\nprint(response.json())\";\n",
       "                var nbb_cells = Jupyter.notebook.get_cells();\n",
       "                for (var i = 0; i < nbb_cells.length; ++i) {\n",
       "                    if (nbb_cells[i].input_prompt_number == nbb_cell_id) {\n",
       "                        if (nbb_cells[i].get_text() == nbb_unformatted_code) {\n",
       "                             nbb_cells[i].set_text(nbb_formatted_code);\n",
       "                        }\n",
       "                        break;\n",
       "                    }\n",
       "                }\n",
       "            }, 500);\n",
       "            "
      ],
      "text/plain": [
       "<IPython.core.display.Javascript object>"
      ]
     },
     "metadata": {},
     "output_type": "display_data"
    }
   ],
   "source": [
    "params = {\n",
    "    \"query\": \"#GRAMMYs  lang:en -is:retweet\",\n",
    "    \"tweet.fields\": \"created_at\",\n",
    "    \"max_results\": 100,\n",
    "}\n",
    "headers = {\n",
    "    \"Authorization\": f\"Bearer {bearer_token}\",\n",
    "    \"User-Agent\": \"v2FullArchiveSearchPython\",\n",
    "}\n",
    "response = requests.get(url, headers=headers, params=params)\n",
    "print(response)\n",
    "# Generar excepción si la respuesta no es exitosa\n",
    "if response.status_code != 200:\n",
    "    raise Exception(response.status_code, response.text)\n",
    "print(response.json())"
   ]
  },
  {
   "cell_type": "code",
   "execution_count": 6,
   "id": "8de11946",
   "metadata": {},
   "outputs": [
    {
     "data": {
      "text/html": [
       "<div>\n",
       "<style scoped>\n",
       "    .dataframe tbody tr th:only-of-type {\n",
       "        vertical-align: middle;\n",
       "    }\n",
       "\n",
       "    .dataframe tbody tr th {\n",
       "        vertical-align: top;\n",
       "    }\n",
       "\n",
       "    .dataframe thead th {\n",
       "        text-align: right;\n",
       "    }\n",
       "</style>\n",
       "<table border=\"1\" class=\"dataframe\">\n",
       "  <thead>\n",
       "    <tr style=\"text-align: right;\">\n",
       "      <th></th>\n",
       "      <th>created_at</th>\n",
       "      <th>id</th>\n",
       "      <th>text</th>\n",
       "    </tr>\n",
       "  </thead>\n",
       "  <tbody>\n",
       "    <tr>\n",
       "      <th>0</th>\n",
       "      <td>2021-10-23T14:32:32.000Z</td>\n",
       "      <td>1451919474106552321</td>\n",
       "      <td>For your consideration:)\\n@RecordingAcad 1st r...</td>\n",
       "    </tr>\n",
       "    <tr>\n",
       "      <th>1</th>\n",
       "      <td>2021-10-23T14:30:20.000Z</td>\n",
       "      <td>1451918921456574469</td>\n",
       "      <td>Big up our President and CEO @harveymasonjr \\n...</td>\n",
       "    </tr>\n",
       "    <tr>\n",
       "      <th>2</th>\n",
       "      <td>2021-10-23T14:29:42.000Z</td>\n",
       "      <td>1451918761058054149</td>\n",
       "      <td>#7 Grammy in the building nobody works harder ...</td>\n",
       "    </tr>\n",
       "    <tr>\n",
       "      <th>3</th>\n",
       "      <td>2021-10-23T14:29:14.000Z</td>\n",
       "      <td>1451918641348284422</td>\n",
       "      <td>A moment in history. #Grammys #ARIAsMileyCyrus...</td>\n",
       "    </tr>\n",
       "    <tr>\n",
       "      <th>4</th>\n",
       "      <td>2021-10-23T14:25:03.000Z</td>\n",
       "      <td>1451917592197742593</td>\n",
       "      <td>#7 Grammy in the building nobody works harder ...</td>\n",
       "    </tr>\n",
       "    <tr>\n",
       "      <th>...</th>\n",
       "      <td>...</td>\n",
       "      <td>...</td>\n",
       "      <td>...</td>\n",
       "    </tr>\n",
       "    <tr>\n",
       "      <th>95</th>\n",
       "      <td>2021-10-23T02:56:45.000Z</td>\n",
       "      <td>1451744374245638146</td>\n",
       "      <td>For Ur Grammy Consideration #NCT127 #Sticker \\...</td>\n",
       "    </tr>\n",
       "    <tr>\n",
       "      <th>96</th>\n",
       "      <td>2021-10-23T02:52:16.000Z</td>\n",
       "      <td>1451743246359662593</td>\n",
       "      <td>As seen in @Billboard Magazine's GRAMMY® Editi...</td>\n",
       "    </tr>\n",
       "    <tr>\n",
       "      <th>97</th>\n",
       "      <td>2021-10-23T02:50:24.000Z</td>\n",
       "      <td>1451742776220078081</td>\n",
       "      <td>OMG!!! YOU'RE TELLING ME THAT THE BOYS CAN VE ...</td>\n",
       "    </tr>\n",
       "    <tr>\n",
       "      <th>98</th>\n",
       "      <td>2021-10-23T02:40:14.000Z</td>\n",
       "      <td>1451740216436277251</td>\n",
       "      <td>#TOMORROW_X_TOGETHER is now eligible for 2022 ...</td>\n",
       "    </tr>\n",
       "    <tr>\n",
       "      <th>99</th>\n",
       "      <td>2021-10-23T02:38:03.000Z</td>\n",
       "      <td>1451739669092253697</td>\n",
       "      <td>This November 18 will be the 22nd edition of t...</td>\n",
       "    </tr>\n",
       "  </tbody>\n",
       "</table>\n",
       "<p>100 rows × 3 columns</p>\n",
       "</div>"
      ],
      "text/plain": [
       "                  created_at                   id  \\\n",
       "0   2021-10-23T14:32:32.000Z  1451919474106552321   \n",
       "1   2021-10-23T14:30:20.000Z  1451918921456574469   \n",
       "2   2021-10-23T14:29:42.000Z  1451918761058054149   \n",
       "3   2021-10-23T14:29:14.000Z  1451918641348284422   \n",
       "4   2021-10-23T14:25:03.000Z  1451917592197742593   \n",
       "..                       ...                  ...   \n",
       "95  2021-10-23T02:56:45.000Z  1451744374245638146   \n",
       "96  2021-10-23T02:52:16.000Z  1451743246359662593   \n",
       "97  2021-10-23T02:50:24.000Z  1451742776220078081   \n",
       "98  2021-10-23T02:40:14.000Z  1451740216436277251   \n",
       "99  2021-10-23T02:38:03.000Z  1451739669092253697   \n",
       "\n",
       "                                                 text  \n",
       "0   For your consideration:)\\n@RecordingAcad 1st r...  \n",
       "1   Big up our President and CEO @harveymasonjr \\n...  \n",
       "2   #7 Grammy in the building nobody works harder ...  \n",
       "3   A moment in history. #Grammys #ARIAsMileyCyrus...  \n",
       "4   #7 Grammy in the building nobody works harder ...  \n",
       "..                                                ...  \n",
       "95  For Ur Grammy Consideration #NCT127 #Sticker \\...  \n",
       "96  As seen in @Billboard Magazine's GRAMMY® Editi...  \n",
       "97  OMG!!! YOU'RE TELLING ME THAT THE BOYS CAN VE ...  \n",
       "98  #TOMORROW_X_TOGETHER is now eligible for 2022 ...  \n",
       "99  This November 18 will be the 22nd edition of t...  \n",
       "\n",
       "[100 rows x 3 columns]"
      ]
     },
     "execution_count": 6,
     "metadata": {},
     "output_type": "execute_result"
    },
    {
     "data": {
      "application/javascript": [
       "\n",
       "            setTimeout(function() {\n",
       "                var nbb_cell_id = 6;\n",
       "                var nbb_unformatted_code = \"df = pd.json_normalize(response.json()[\\\"data\\\"])\\ndf\";\n",
       "                var nbb_formatted_code = \"df = pd.json_normalize(response.json()[\\\"data\\\"])\\ndf\";\n",
       "                var nbb_cells = Jupyter.notebook.get_cells();\n",
       "                for (var i = 0; i < nbb_cells.length; ++i) {\n",
       "                    if (nbb_cells[i].input_prompt_number == nbb_cell_id) {\n",
       "                        if (nbb_cells[i].get_text() == nbb_unformatted_code) {\n",
       "                             nbb_cells[i].set_text(nbb_formatted_code);\n",
       "                        }\n",
       "                        break;\n",
       "                    }\n",
       "                }\n",
       "            }, 500);\n",
       "            "
      ],
      "text/plain": [
       "<IPython.core.display.Javascript object>"
      ]
     },
     "metadata": {},
     "output_type": "display_data"
    }
   ],
   "source": [
    "df = pd.json_normalize(response.json()[\"data\"])\n",
    "df"
   ]
  },
  {
   "cell_type": "code",
   "execution_count": 7,
   "id": "f047ea0b",
   "metadata": {},
   "outputs": [
    {
     "data": {
      "text/html": [
       "<div>\n",
       "<style scoped>\n",
       "    .dataframe tbody tr th:only-of-type {\n",
       "        vertical-align: middle;\n",
       "    }\n",
       "\n",
       "    .dataframe tbody tr th {\n",
       "        vertical-align: top;\n",
       "    }\n",
       "\n",
       "    .dataframe thead th {\n",
       "        text-align: right;\n",
       "    }\n",
       "</style>\n",
       "<table border=\"1\" class=\"dataframe\">\n",
       "  <thead>\n",
       "    <tr style=\"text-align: right;\">\n",
       "      <th></th>\n",
       "      <th>created_at</th>\n",
       "      <th>id</th>\n",
       "      <th>text</th>\n",
       "      <th>tokenized_text</th>\n",
       "    </tr>\n",
       "  </thead>\n",
       "  <tbody>\n",
       "    <tr>\n",
       "      <th>0</th>\n",
       "      <td>2021-10-23T14:32:32.000Z</td>\n",
       "      <td>1451919474106552321</td>\n",
       "      <td>For your consideration:)\\n@RecordingAcad 1st r...</td>\n",
       "      <td>[For, your, consideration, :), @RecordingAcad,...</td>\n",
       "    </tr>\n",
       "    <tr>\n",
       "      <th>1</th>\n",
       "      <td>2021-10-23T14:30:20.000Z</td>\n",
       "      <td>1451918921456574469</td>\n",
       "      <td>Big up our President and CEO @harveymasonjr \\n...</td>\n",
       "      <td>[Big, up, our, President, and, CEO, @harveymas...</td>\n",
       "    </tr>\n",
       "    <tr>\n",
       "      <th>2</th>\n",
       "      <td>2021-10-23T14:29:42.000Z</td>\n",
       "      <td>1451918761058054149</td>\n",
       "      <td>#7 Grammy in the building nobody works harder ...</td>\n",
       "      <td>[#, 7, Grammy, in, the, building, nobody, work...</td>\n",
       "    </tr>\n",
       "    <tr>\n",
       "      <th>3</th>\n",
       "      <td>2021-10-23T14:29:14.000Z</td>\n",
       "      <td>1451918641348284422</td>\n",
       "      <td>A moment in history. #Grammys #ARIAsMileyCyrus...</td>\n",
       "      <td>[A, moment, in, history, ., #Grammys, #ARIAsMi...</td>\n",
       "    </tr>\n",
       "    <tr>\n",
       "      <th>4</th>\n",
       "      <td>2021-10-23T14:25:03.000Z</td>\n",
       "      <td>1451917592197742593</td>\n",
       "      <td>#7 Grammy in the building nobody works harder ...</td>\n",
       "      <td>[#, 7, Grammy, in, the, building, nobody, work...</td>\n",
       "    </tr>\n",
       "    <tr>\n",
       "      <th>...</th>\n",
       "      <td>...</td>\n",
       "      <td>...</td>\n",
       "      <td>...</td>\n",
       "      <td>...</td>\n",
       "    </tr>\n",
       "    <tr>\n",
       "      <th>95</th>\n",
       "      <td>2021-10-23T02:56:45.000Z</td>\n",
       "      <td>1451744374245638146</td>\n",
       "      <td>For Ur Grammy Consideration #NCT127 #Sticker \\...</td>\n",
       "      <td>[For, Ur, Grammy, Consideration, #NCT127, #Sti...</td>\n",
       "    </tr>\n",
       "    <tr>\n",
       "      <th>96</th>\n",
       "      <td>2021-10-23T02:52:16.000Z</td>\n",
       "      <td>1451743246359662593</td>\n",
       "      <td>As seen in @Billboard Magazine's GRAMMY® Editi...</td>\n",
       "      <td>[As, seen, in, @Billboard, Magazine's, GRAMMY,...</td>\n",
       "    </tr>\n",
       "    <tr>\n",
       "      <th>97</th>\n",
       "      <td>2021-10-23T02:50:24.000Z</td>\n",
       "      <td>1451742776220078081</td>\n",
       "      <td>OMG!!! YOU'RE TELLING ME THAT THE BOYS CAN VE ...</td>\n",
       "      <td>[OMG, !, !, !, YOU'RE, TELLING, ME, THAT, THE,...</td>\n",
       "    </tr>\n",
       "    <tr>\n",
       "      <th>98</th>\n",
       "      <td>2021-10-23T02:40:14.000Z</td>\n",
       "      <td>1451740216436277251</td>\n",
       "      <td>#TOMORROW_X_TOGETHER is now eligible for 2022 ...</td>\n",
       "      <td>[#TOMORROW_X_TOGETHER, is, now, eligible, for,...</td>\n",
       "    </tr>\n",
       "    <tr>\n",
       "      <th>99</th>\n",
       "      <td>2021-10-23T02:38:03.000Z</td>\n",
       "      <td>1451739669092253697</td>\n",
       "      <td>This November 18 will be the 22nd edition of t...</td>\n",
       "      <td>[This, November, 18, will, be, the, 22nd, edit...</td>\n",
       "    </tr>\n",
       "  </tbody>\n",
       "</table>\n",
       "<p>100 rows × 4 columns</p>\n",
       "</div>"
      ],
      "text/plain": [
       "                  created_at                   id  \\\n",
       "0   2021-10-23T14:32:32.000Z  1451919474106552321   \n",
       "1   2021-10-23T14:30:20.000Z  1451918921456574469   \n",
       "2   2021-10-23T14:29:42.000Z  1451918761058054149   \n",
       "3   2021-10-23T14:29:14.000Z  1451918641348284422   \n",
       "4   2021-10-23T14:25:03.000Z  1451917592197742593   \n",
       "..                       ...                  ...   \n",
       "95  2021-10-23T02:56:45.000Z  1451744374245638146   \n",
       "96  2021-10-23T02:52:16.000Z  1451743246359662593   \n",
       "97  2021-10-23T02:50:24.000Z  1451742776220078081   \n",
       "98  2021-10-23T02:40:14.000Z  1451740216436277251   \n",
       "99  2021-10-23T02:38:03.000Z  1451739669092253697   \n",
       "\n",
       "                                                 text  \\\n",
       "0   For your consideration:)\\n@RecordingAcad 1st r...   \n",
       "1   Big up our President and CEO @harveymasonjr \\n...   \n",
       "2   #7 Grammy in the building nobody works harder ...   \n",
       "3   A moment in history. #Grammys #ARIAsMileyCyrus...   \n",
       "4   #7 Grammy in the building nobody works harder ...   \n",
       "..                                                ...   \n",
       "95  For Ur Grammy Consideration #NCT127 #Sticker \\...   \n",
       "96  As seen in @Billboard Magazine's GRAMMY® Editi...   \n",
       "97  OMG!!! YOU'RE TELLING ME THAT THE BOYS CAN VE ...   \n",
       "98  #TOMORROW_X_TOGETHER is now eligible for 2022 ...   \n",
       "99  This November 18 will be the 22nd edition of t...   \n",
       "\n",
       "                                       tokenized_text  \n",
       "0   [For, your, consideration, :), @RecordingAcad,...  \n",
       "1   [Big, up, our, President, and, CEO, @harveymas...  \n",
       "2   [#, 7, Grammy, in, the, building, nobody, work...  \n",
       "3   [A, moment, in, history, ., #Grammys, #ARIAsMi...  \n",
       "4   [#, 7, Grammy, in, the, building, nobody, work...  \n",
       "..                                                ...  \n",
       "95  [For, Ur, Grammy, Consideration, #NCT127, #Sti...  \n",
       "96  [As, seen, in, @Billboard, Magazine's, GRAMMY,...  \n",
       "97  [OMG, !, !, !, YOU'RE, TELLING, ME, THAT, THE,...  \n",
       "98  [#TOMORROW_X_TOGETHER, is, now, eligible, for,...  \n",
       "99  [This, November, 18, will, be, the, 22nd, edit...  \n",
       "\n",
       "[100 rows x 4 columns]"
      ]
     },
     "execution_count": 7,
     "metadata": {},
     "output_type": "execute_result"
    },
    {
     "data": {
      "application/javascript": [
       "\n",
       "            setTimeout(function() {\n",
       "                var nbb_cell_id = 7;\n",
       "                var nbb_unformatted_code = \"# Tokenizar\\n\\ntt = TweetTokenizer()\\n\\ntokenized_text = df[\\\"text\\\"].apply(tt.tokenize)\\ndf[\\\"tokenized_text\\\"] = tokenized_text\\ndf\";\n",
       "                var nbb_formatted_code = \"# Tokenizar\\n\\ntt = TweetTokenizer()\\n\\ntokenized_text = df[\\\"text\\\"].apply(tt.tokenize)\\ndf[\\\"tokenized_text\\\"] = tokenized_text\\ndf\";\n",
       "                var nbb_cells = Jupyter.notebook.get_cells();\n",
       "                for (var i = 0; i < nbb_cells.length; ++i) {\n",
       "                    if (nbb_cells[i].input_prompt_number == nbb_cell_id) {\n",
       "                        if (nbb_cells[i].get_text() == nbb_unformatted_code) {\n",
       "                             nbb_cells[i].set_text(nbb_formatted_code);\n",
       "                        }\n",
       "                        break;\n",
       "                    }\n",
       "                }\n",
       "            }, 500);\n",
       "            "
      ],
      "text/plain": [
       "<IPython.core.display.Javascript object>"
      ]
     },
     "metadata": {},
     "output_type": "display_data"
    }
   ],
   "source": [
    "# Tokenizar\n",
    "\n",
    "tt = TweetTokenizer()\n",
    "\n",
    "tokenized_text = df[\"text\"].apply(tt.tokenize)\n",
    "df[\"tokenized_text\"] = tokenized_text\n",
    "df"
   ]
  },
  {
   "cell_type": "code",
   "execution_count": 8,
   "id": "de8e0246",
   "metadata": {},
   "outputs": [
    {
     "name": "stdout",
     "output_type": "stream",
     "text": [
      "[('For', 'IN'), ('your', 'PRP$'), ('consideration', 'NN'), (':)', 'VBD'), ('@RecordingAcad', '$'), ('1st', 'CD'), ('round', 'NN'), ('voting', 'NN'), ('is', 'VBZ'), ('open', 'JJ'), ('!', '.'), ('#contemporaryblues', 'NNS'), ('#bluesmusic', 'JJ'), ('#GRAMMYs', 'NNP'), ('https://t.co/NuOaPvT3ta', 'NN'), ('Big', 'NNP'), ('up', 'IN'), ('our', 'PRP$'), ('President', 'NNP'), ('and', 'CC'), ('CEO', 'NNP'), ('@harveymasonjr', 'NNP'), ('Congrats', 'NNP'), ('!', '.'), ('#grammys', 'NN'), ('#recordingacademy', 'NNP'), ('@recordingacademy', 'NNP'), ('@', 'NNP'), ('Monom', 'NNP'), ('Recording', 'NNP'), ('Studio', 'NNP'), ('https://t.co/Dll5dB1GGI', 'NN'), ('#', '#'), ('7', 'CD'), ('Grammy', 'NNP'), ('in', 'IN'), ('the', 'DT'), ('building', 'NN'), ('nobody', 'NN'), ('works', 'VBZ'), ('harder', 'JJR'), ('than', 'IN'), ('our', 'PRP$'), ('founder', 'NN'), ('@malikyusef100', 'NN'), ('.', '.'), ('Oh', 'UH'), ('you', 'PRP'), ('think', 'VBP'), ('you', 'PRP'), ('know', 'VBP'), ('someone', 'NN'), ('else', 'RB'), ('...', ':'), (\"I'll\", 'NNP'), ('wait', 'NN'), ('.', '.'), ('#badkids', 'NNS'), ('#grammys', 'VBD'), ('#ye', 'JJ'), ('#donda', 'NNP'), ('https://t.co/wuRFbX62I2', 'NN'), ('https://t.co/HxOk7CF4Mq', 'VBD'), ('A', 'DT'), ('moment', 'NN'), ('in', 'IN'), ('history', 'NN'), ('.', '.'), ('#Grammys', 'CC'), ('#ARIAsMileyCyrus', 'JJ'), ('https://t.co/R4iyIsE100', 'NN'), ('#', '#'), ('7', 'CD'), ('Grammy', 'NNP'), ('in', 'IN'), ('the', 'DT'), ('building', 'NN'), ('nobody', 'NN'), ('works', 'VBZ'), ('harder', 'JJR'), ('than', 'IN'), ('our', 'PRP$'), ('founder', 'NN'), ('@malikyusef100', 'NN'), ('.', '.'), ('Oh', 'UH'), ('you', 'PRP'), ('think', 'VBP'), ('you', 'PRP'), ('know', 'VBP'), ('someone', 'NN'), ('else', 'RB'), ('...', ':'), (\"I'll\", 'NNP'), ('wait', 'NN'), ('.', '.'), ('#badkids', 'NNS'), ('#grammys', 'VBD'), ('#ye', 'JJ'), ('#donda', 'NNP'), ('https://t.co/wuRFbX62I2', 'NN'), ('https://t.co/cSiT2Jmgte', 'NN'), ('#rp', 'NNP'), ('@_JERMAINEHOLMES', 'NNP'), ('god', 'VB'), ('bless', 'NN'), ('you', 'PRP'), ('and', 'CC'), ('thank', 'VB'), ('you', 'PRP'), ('bro', 'VBP'), ('for', 'IN'), ('keeping', 'VBG'), ('it', 'PRP'), ('1000', 'CD'), ('with', 'IN'), ('me', 'PRP'), ('.', '.'), ('🙏', 'VB'), ('🏾', 'JJ'), ('💯', 'NNP'), ('Voting', 'NNP'), ('starts', 'VBZ'), ('NOW', 'NNP'), ('.', '.'), ('For', 'IN'), ('your', 'PRP$'), ('@RecordingAcad', 'JJ'), ('consideration', 'NN'), ('.', '.'), ('#Petestrumentals3', 'NN'), ('for', 'IN'), ('Best', 'NNP'), ('Contemporary', 'NNP'), ('Instrumental', 'NNP'), ('Album', 'NNP'), ('.', '.'), ('BIG', 'NNP'), ('SHOUTOUT', 'NNP'), ('TO', 'NNP'), ('MY', 'NNP'), ('BIG', 'NNP'), ('BROTHER', 'NNP'), ('#PeteRock', 'NNP'), ('🥇', 'NNP'), ('#GRAMMYs', 'NNP'), ('https://t.co/5ZlQbGqzOP', 'NN'), ('BLACKPINK', 'NNP'), ('GOT', 'NNP'), ('A', 'NNP'), ('GRAMMY', 'NNP'), ('NOMINATION', 'NNP'), ('YALL', 'NNP'), ('#SG', 'NNP'), ('#ARIAsArianaGrande', 'NNP'), ('#RIHANNA', 'NNP'), ('#BLONKSEATING', 'NN'), ('#BLINK', 'NN'), ('#BlackPink', 'VBP'), ('#GRAMMYS', 'NNP'), ('https://t.co/mvx0XQlVV8', 'NN'), ('Thought', 'NNP'), ('I', 'PRP'), ('’', 'VBP'), ('d', 'JJ'), ('make', 'VBP'), ('a', 'DT'), ('thread', 'NN'), ('for', 'IN'), ('all', 'PDT'), ('the', 'DT'), ('viable', 'JJ'), ('options', 'NNS'), ('for', 'IN'), ('#GRAMMYs', 'JJ'), ('2022', 'CD'), ('Rock', 'NNP'), ('Album', 'NNP'), ('of', 'IN'), ('the', 'DT'), ('Year', 'NN'), (':', ':'), ('https://t.co/x1ANNOIsMD', 'NN'), ('🙏', 'NN'), ('For', 'IN'), ('your', 'PRP$'), ('GRAMMY', 'NNP'), ('Awards', 'NNPS'), ('consideration', 'NN'), ('🙏', 'NNP'), ('🧡', 'NNP'), ('Large', 'NNP'), ('Jazz', 'NNP'), ('Ensemble', 'NNP'), ('Album', 'NNP'), (':', ':'), ('Imaginary', 'JJ'), ('Visions', 'NNS'), ('🧡', 'VBP'), ('💛', 'JJ'), ('Best', 'NNP'), ('Instrumental', 'NNP'), ('Composition', 'NNP'), (':', ':'), ('I', 'PRP'), ('Said', 'VBD'), ('Cool', 'NNP'), (',', ','), ('You', 'PRP'), ('Said', 'VBP'), ('…', 'VB'), ('What', 'WP'), ('?', '.'), ('💛', 'JJ'), ('😌', 'NN'), ('👂', 'NNP'), ('🎶', 'NNP'), ('♥', 'NNP'), ('️', 'NNP'), ('🙏', 'NNP'), ('🙏', 'NNP'), ('🙏', 'NNP'), ('@EditionRecords', 'NNP'), ('#largejazzensemble', 'JJ'), ('#jazz', 'NN'), ('#instrumentalmusic', 'JJ'), ('#mihohazama', 'NNP'), ('#fyc', 'NNP'), ('#foryourconsideration', 'NNP'), ('#grammys', 'NNP'), ('https://t.co/gDJzQHH5pp', 'NN'), ('Epic', 'NNP'), ('Records', 'NNP'), ('has', 'VBZ'), ('submitted', 'VBN'), ('@BIABIA', 'NNP'), ('&', 'CC'), ('@NICKIMINAJ', 'NNP'), ('\"', 'NNP'), ('WHOLE', 'NNP'), ('LOTTA', 'NNP'), ('MONEY', 'NNP'), ('(', '('), ('Remix', 'NNP'), (')', ')'), ('\"', 'NN'), ('for', 'IN'), ('consideration', 'NN'), ('at', 'IN'), ('the', 'DT'), ('2022', 'CD'), ('#GRAMMYs', 'NN'), ('.', '.'), ('https://t.co/Br4HfXrBP1', 'NN'), ('@TWICE_Charts', 'VBZ'), ('@JYPETWICE', 'IN'), ('Hey', 'NNP'), ('!', '.'), ('Republic', 'NNP'), ('Records', 'NNPS'), ('submitted', 'VBD'), ('“', 'NNP'), ('Taste', 'NNP'), ('of', 'IN'), ('Love', 'NNP'), ('”', 'NNP'), ('at', 'IN'), ('the', 'DT'), ('2022', 'CD'), ('#GRAMMYs', 'NNP'), ('https://t.co/Kpnl0cTwcq', 'JJ'), ('Please', 'NNP'), ('can', 'MD'), (\"y'all\", 'VB'), ('help', 'VB'), ('me', 'PRP'), ('out', 'RP'), ('by', 'IN'), ('reposting', 'VBG'), ('this', 'DT'), ('post', 'NN'), ('on', 'IN'), ('any', 'DT'), ('of', 'IN'), ('your', 'PRP$'), ('social', 'JJ'), ('media', 'NNS'), ('platforms', 'NNS'), ('and', 'CC'), ('please', 'VB'), (\"don't\", 'JJ'), ('forget', 'VB'), ('to', 'TO'), ('tag', 'VB'), ('@RecordingAcad', 'NNP'), ('#GRAMMYs', 'NNP'), ('#voteforme', 'NNP'), (\"#we'llbeok\", 'NNP'), ('#nandos', 'NNP'), ('#racism', 'NNP'), ('#NastyC', 'NNP'), ('#Chelsea', 'NNP'), ('#Russ', 'NNP'), ('#Tuchel', 'NNP'), ('#Hudson', 'NNP'), ('#SouthAfrica', 'NNP'), ('#music', 'NNP'), ('#award', 'NNP'), ('#Best', 'NNP'), ('#Rnb', 'NNP'), ('#performance', 'NNP'), ('https://t.co/wu7nKIkB4N', 'NN'), ('For', 'IN'), ('your', 'PRP$'), ('consideration', 'NN'), ('#Grammy', 'NN'), ('awards', 'NNS'), ('First', 'NNP'), ('round', 'NN'), ('ballot', 'NN'), (',', ','), ('please', 'VB'), ('vote', 'NN'), ('for', 'IN'), ('@lasandra_sa', 'NNP'), ('\"', 'NNP'), (\"We'll\", 'NNP'), ('be', 'VB'), ('ok', 'JJ'), ('\"', 'NNP'), ('Best', 'NNP'), ('R', 'NNP'), ('&', 'CC'), ('B', 'NNP'), ('Performance', 'NNP'), ('Thanks', 'NNP'), ('to', 'TO'), ('the', 'DT'), ('@recordingacademy', 'NN'), ('voters', 'NNS'), ('for', 'IN'), ('your', 'PRP$'), ('consideration', 'NN'), (\"Here's\", 'NNP'), ('the', 'DT'), ('link', 'NN'), ('to', 'TO'), ('my', 'PRP$'), ('music', 'NN'), ('video', 'NN'), ('https://t.co/Bo20PIwAdG', 'NN'), ('#GRAMMYs', 'NNP'), ('#RecordingAcademy', 'NNP'), ('#vote4me', 'NNP'), ('https://t.co/xviq7kJpJ0', 'NN'), ('\"', 'NNP'), ('Plastic', 'NNP'), ('Hearts', 'NNP'), ('\"', 'NN'), ('by', 'IN'), ('Miley', 'NNP'), ('has', 'VBZ'), ('been', 'VBN'), ('submitted', 'VBN'), ('for', 'IN'), ('best', 'JJS'), ('rock', 'NN'), ('album', 'NN'), ('at', 'IN'), ('the', 'DT'), ('#GRAMMYs', 'NN'), ('.', '.'), ('If', 'IN'), ('Miley', 'NNP'), ('were', 'VBD'), ('to', 'TO'), ('win', 'VB'), (',', ','), (\"she's\", 'VB'), ('become', 'VB'), ('the', 'DT'), ('first', 'JJ'), ('female', 'JJ'), ('artist', 'NN'), ('(', '('), ('and', 'CC'), ('first', 'RB'), ('solo', 'JJ'), ('singer', 'NN'), ('overall', 'JJ'), (')', ')'), ('to', 'TO'), ('win', 'VB'), ('the', 'DT'), ('award', 'NN'), ('in', 'IN'), ('23', 'CD'), ('years', 'NNS'), ('!', '.'), ('!', '.'), ('!', '.'), ('🖤', 'JJ'), ('🖤', 'JJ'), ('🖤', 'NN'), ('@MileyCyrus', 'NN'), ('IS', 'NNP'), ('SICKENING', 'NNP'), (\"Y'ALL\", 'NNP'), ('!', '.'), ('@MileyTeamITALY', 'NNP'), ('@MileyOfficial', 'JJ'), ('https://t.co/X5SsM3RyJi', 'NN'), ('Album', 'NNP'), ('Smart', 'NNP'), ('Link', 'NNP'), ('-', ':'), ('https://t.co/1iv27ybTBL', 'NN'), ('#music', 'JJ'), ('#hmma', 'NNP'), ('#GRAMMYs', 'NNP'), ('#fyc', 'NNP'), ('#musicforlove', 'NNP'), ('#humanitarianproject', 'NNP'), ('https://t.co/HjAzg0Blsg', 'NN'), ('I', 'PRP'), ('still', 'RB'), ('hope', 'VBP'), ('that', 'IN'), ('#GRAMMYs', 'VBP'), (\"don't\", 'NNS'), ('have', 'VBP'), ('the', 'DT'), ('nerve', 'NN'), ('to', 'TO'), ('ignore', 'VB'), ('Plastic', 'NNP'), ('Hearts', 'NNP'), ('which', 'WDT'), ('broke', 'VBD'), ('fucking', 'NN'), ('records', 'NNS'), ('since', 'IN'), ('its', 'PRP$'), ('release', 'NN'), ('.', '.'), ('https://t.co/cVae9wCoDY', 'JJ'), ('November', 'NNP'), ('23rd', 'CD'), ('?', '.'), ('?', '.'), ('?', '.'), ('👀', 'JJ'), ('👀', 'NN'), ('👀', 'NN'), ('They', 'PRP'), ('better', 'RBR'), ('give', 'VB'), ('her', 'PRP$'), ('the', 'DT'), ('best', 'JJS'), ('birthday', 'JJ'), ('present', 'NN'), ('!', '.'), ('#ARIAsMileyCyrus', 'NN'), ('#GRAMMYs', 'JJ'), ('https://t.co/jEGpIljprG', 'NN'), ('ladies', 'NNS'), ('and', 'CC'), ('gentlemen', 'NNS'), ('the', 'DT'), ('winner', 'NN'), ('of', 'IN'), ('the', 'DT'), ('best', 'JJS'), ('rock', 'NN'), ('album', 'NN'), ('is', 'VBZ'), ('#GRAMMYs', 'JJ'), ('https://t.co/0k7VeE2tKr', 'NN'), ('Only', 'RB'), ('those', 'DT'), ('who', 'WP'), ('attempt', 'VBP'), ('the', 'DT'), ('absurd', 'NN'), ('can', 'MD'), ('achieve', 'VB'), ('the', 'DT'), ('impossible', 'JJ'), ('4X', 'CD'), ('Platinum', 'NNP'), ('for', 'IN'), ('producing', 'VBG'), ('on', 'IN'), ('Astroworld', 'NNP'), ('@travisscott', 'NNP'), ('#music', 'JJ'), ('#producer', 'NN'), ('#igers', 'NNS'), ('#life', 'VBP'), ('#wow', 'JJ'), ('#amazing', 'VBG'), ('#grammys', 'JJ'), ('#god', 'NNP'), ('#igdaily', 'NNP'), ('@', 'NNP'), ('Los', 'NNP'), ('Angeles', 'NNP'), (',', ','), ('California', 'NNP'), ('https://t.co/RFW7OPENoe', 'VBD'), ('The', 'DT'), ('latest', 'JJS'), ('The', 'DT'), ('Gospel', 'NNP'), ('music', 'NN'), ('Daily', 'NNP'), ('!', '.'), ('https://t.co/W0sXOX8IBl', 'NN'), ('Thanks', 'NNS'), ('to', 'TO'), ('@kshnews', 'VB'), ('#grammys', 'NNP'), ('#music', 'NNP'), ('Yessss', 'NNP'), ('letss', 'VBZ'), ('get', 'VB'), ('it', 'PRP'), ('!', '.'), ('!', '.'), ('💪', 'JJ'), ('🔥', 'JJ'), ('🔥', 'NN'), ('🔥', 'NNP'), ('..', 'NNP'), ('We', 'PRP'), ('appreciate', 'VBP'), ('all', 'DT'), ('your', 'PRP$'), ('hard', 'JJ'), ('work', 'NN'), ('on', 'IN'), ('#Sticker', 'NN'), ('and', 'CC'), ('trusting', 'VBG'), ('#NCT127', 'NN'), ('in', 'IN'), ('making', 'VBG'), ('this', 'DT'), ('art', 'NN'), ('come', 'VB'), ('to', 'TO'), ('life', 'NN'), ('!', '.'), ('It', 'PRP'), ('’', 'VBZ'), ('s', 'VBZ'), ('a', 'DT'), ('wonderfully', 'RB'), ('made', 'VBN'), ('piece', 'NN'), ('that', 'WDT'), ('deserves', 'VBZ'), ('to', 'TO'), ('be', 'VB'), ('respected', 'VBN'), ('.', '.'), ('All', 'PDT'), ('the', 'DT'), ('best', 'JJS'), ('!', '.'), ('!', '.'), ('#GRAMMYs', 'NN'), ('for', 'IN'), ('#Sticker', 'NN'), ('and', 'CC'), ('#NCT127', 'NNP'), ('🙏', 'NNP'), ('🤞', 'NNP'), ('https://t.co/3tFsWZEIAS', 'NN'), ('Imagine', 'NNP'), ('if', 'IN'), ('Bebe', 'NNP'), ('Rexha', 'NNP'), ('is', 'VBZ'), ('nominated', 'VBN'), ('at', 'IN'), ('the', 'DT'), ('#GRAMMYS', 'NN'), ('.', '.'), ('What', 'WP'), ('would', 'MD'), ('it', 'PRP'), ('be', 'VB'), ('?', '.'), ('The', 'DT'), ('latest', 'JJS'), ('Country', 'NN'), ('Music', 'NNP'), ('Chatter', 'NNP'), ('!', '.'), ('https://t.co/WUvEyLdrj5', 'NN'), ('Thanks', 'NNS'), ('to', 'TO'), ('@9NorthRecords', 'NNS'), ('#vmas', 'NNP'), ('#grammys', 'NNP'), ('Billboard', 'NNP'), ('reports', 'VBZ'), ('that', 'IN'), ('Plastic', 'NNP'), ('Hearts', 'NNP'), ('by', 'IN'), ('@MileyCyrus', 'NNP'), ('has', 'VBZ'), ('been', 'VBN'), ('submitted', 'VBN'), ('for', 'IN'), ('Best', 'NNP'), ('Rock', 'NNP'), ('Album', 'NNP'), ('at', 'IN'), ('the', 'DT'), ('2022', 'CD'), ('#Grammys', 'NN'), ('after', 'IN'), ('originally', 'RB'), ('being', 'VBG'), ('submitted', 'VBN'), ('for', 'IN'), ('the', 'DT'), ('pop', 'NN'), ('categories', 'NNS'), ('!', '.'), ('Nominations', 'NNS'), ('on', 'IN'), ('November', 'NNP'), ('23rd', 'CD'), ('.', '.'), ('https://t.co/OYX46aJeVt', 'VB'), ('Billboard', 'NNP'), ('reports', 'NNS'), ('that', 'IN'), ('Plastic', 'NNP'), ('Hearts', 'NNP'), ('by', 'IN'), ('@MileyCyrus', 'NNP'), ('has', 'VBZ'), ('been', 'VBN'), ('submitted', 'VBN'), ('for', 'IN'), ('Best', 'NNP'), ('Rock', 'NNP'), ('Album', 'NNP'), ('at', 'IN'), ('the', 'DT'), ('2022', 'CD'), ('#Grammys', 'NN'), ('after', 'IN'), ('originally', 'RB'), ('being', 'VBG'), ('submitted', 'VBN'), ('for', 'IN'), ('the', 'DT'), ('pop', 'NN'), ('categories', 'NNS'), ('!', '.'), ('Nominations', 'NNS'), ('are', 'VBP'), ('November', 'NNP'), ('23rd', 'CD'), ('!', '.'), ('https://t.co/iVpVHDD0EI', 'NN'), ('truly', 'RB'), ('the', 'DT'), ('best', 'JJS'), ('album', 'NN'), ('released', 'VBN'), ('in', 'IN'), ('2020', 'CD'), ('.', '.'), ('she', 'PRP'), ('MUST', 'NNP'), ('win', 'NN'), (',', ','), ('she', 'PRP'), ('was', 'VBD'), ('in', 'IN'), ('HER', 'NNP'), ('BAG', 'NNP'), ('#Grammys', 'NNP'), ('https://t.co/d3s6LREn0W', 'NN'), ('MILEY', 'NNP'), ('CYRUS', 'NNP'), ('IS', 'VBZ'), ('ABOUT', 'NNP'), ('TO', 'NNP'), ('BECOME', 'NNP'), ('A', 'NNP'), ('GRAMMY', 'NNP'), ('WINNING', 'NNP'), ('ARTIST', 'NNP'), ('BOOKMARK', 'NNP'), ('THIS', 'NNP'), ('.', '.'), ('#Grammys', 'VB'), ('Hello', 'NNP'), ('everyone', 'NN'), (',', ','), ('happy', 'JJ'), ('to', 'TO'), ('share', 'NN'), ('that', 'IN'), ('our', 'PRP$'), ('song', 'NN'), ('No', 'NNP'), ('Plastic', 'NNP'), ('Swear', 'NNP'), ('Now', 'RB'), ('is', 'VBZ'), ('on', 'IN'), ('the', 'DT'), ('64th', 'CD'), ('Grammy', 'NNP'), ('Awards', 'NNP'), ('ballot', 'NN'), ('in', 'IN'), ('Best', 'NNP'), ('Arrangement', 'NNP'), ('Instrumental', 'NNP'), ('or', 'CC'), ('A', 'NNP'), ('Cappella', 'NNP'), ('category.Need', 'VB'), ('all', 'DT'), ('your', 'PRP$'), ('blessings', 'NNS'), ('#RecordingAcademy', 'VBP'), ('#Vote4GRAMMYs', 'JJ'), ('#grammys', 'NNP'), ('#wearemusic', 'NNP'), ('#GRAMMYs', 'NNP'), ('#NoPlasticSwearNow', 'NNP'), ('https://t.co/dRcnP9emwy', 'VBZ'), ('Bebe', 'NNP'), ('Rexha', 'NNP'), ('for', 'IN'), ('#GRAMMYs', 'NNP'), ('&', 'CC'), ('#EMAs', 'NNP'), ('https://t.co/r88wvXERpl', 'NN'), ('Name', 'NN'), ('a', 'DT'), ('Nigeria', 'NNP'), ('underrated', 'JJ'), ('Album', 'NNP'), ('/', 'NNP'), ('EP', 'NNP'), ('?', '.'), ('#Platinum', 'NN'), ('#GRAMMYs', 'NN'), ('#underrated', 'VBD'), ('#16tracks', 'NNS'), ('#hiptv', 'NNP'), ('🚨', 'NNP'), ('Segundo', 'NNP'), ('a', 'DT'), ('Billboard', 'NNP'), (',', ','), ('“', 'NNP'), ('Plastic', 'NNP'), ('Hearts', 'NNP'), ('”', 'NNP'), ('foi', 'NN'), ('submetido', 'VBD'), ('a', 'DT'), ('“', 'JJ'), ('Best', 'NNP'), ('Rock', 'NNP'), ('Album', 'NNP'), ('”', 'NNP'), ('no', 'DT'), ('#GRAMMYs', 'NN'), ('2022', 'CD'), ('.', '.'), ('https://t.co/YWw2LOxram', 'NN'), ('BIG', 'NNP'), ('NEWS', 'NNP'), ('!', '.'), ('!', '.'), ('!', '.'), ('“', 'NN'), ('This', 'DT'), ('is', 'VBZ'), ('TBL', 'NNP'), ('”', 'NN'), ('is', 'VBZ'), ('up', 'RP'), ('for', 'IN'), ('@recordingacademy', 'JJ'), ('considerations', 'NNS'), ('...', ':'), ('🙏', 'NNP'), ('🏻', 'NNP'), ('🙏', 'NNP'), ('🏽', 'NNP'), ('🙏', 'NNP'), ('🏿', 'NNP'), ('#adifferentleague', 'NNP'), ('@ryzemagazine', 'NNP'), ('・', 'NNP'), ('・', 'NNP'), ('・', 'NNP'), ('FYC', 'NNP'), ('-', ':'), ('RYZE', 'NNP'), ('Magazine', 'NNP'), ('Presents', 'NNP'), ('“', 'VB'), ('This', 'DT'), ('Is', 'VBZ'), ('TBL', 'NNP'), ('”', 'NNP'), ('(', '('), ('thee', 'JJ'), ('official', 'NN'), ('TBL', 'NNP'), ('Theme', 'NNP'), ('Song', 'NNP'), ('and', 'CC'), ('Anthem', 'NNP'), (')', ')'), ('featuring', 'VBG'), ('@DaLomonze', 'JJ'), ('x', 'NNP'), ('@emceenicela', 'NNP'), ('x', 'NNP'), ('@lamonttblackshire', 'NNP'), ('#GRAMMYs', 'NNP'), ('https://t.co/hcybirgQtl', 'NN'), ('.', '.'), ('@MileyCyrus', 'CC'), ('’', 'JJ'), ('‘', 'NNP'), ('Plastic', 'NNP'), ('Hearts', 'NNP'), ('’', 'NNP'), ('has', 'VBZ'), ('been', 'VBN'), ('submitted', 'VBN'), ('for', 'IN'), ('“', 'NN'), ('Best', 'NNP'), ('Rock', 'NNP'), ('Album', 'NNP'), ('”', 'NNP'), ('at', 'IN'), ('the', 'DT'), ('2022', 'CD'), ('#GRAMMYs', 'NN'), (',', ','), ('@billboard', 'JJ'), ('reports', 'NNS'), ('.', '.'), ('https://t.co/CyOeAJhgcD', 'VB'), ('what', 'WP'), ('if', 'IN'), ('we', 'PRP'), ('get', 'VBP'), ('a', 'DT'), ('nomination', 'NN'), ('for', 'IN'), ('Grammy', 'NNP'), ('2022', 'CD'), ('next', 'JJ'), ('year', 'NN'), ('?', '.'), ('?', '.'), ('!', '.'), ('!', '.'), ('#BLACKPINK', 'JJ'), ('#GRAMMYs', 'NN'), ('For', 'IN'), ('Your', 'PRP$'), ('Consideration', 'NNP'), ('—', 'NNP'), ('GRAMMY', 'NNP'), ('Awards', 'NNP'), ('First', 'NNP'), ('Round', 'NNP'), ('Ballot', 'NNP'), (':', ':'), ('Black', 'NNP'), ('Nile', 'NNP'), ('“', 'VBZ'), ('The', 'DT'), ('Further', 'NNP'), ('Side', 'NNP'), ('”', 'NNP'), ('Best', 'NNP'), ('Contemporary', 'NNP'), ('Instrumental', 'NNP'), ('Album', 'NNP'), ('#GRAMMYs', 'NNP'), ('#grammys2022', 'NNP'), ('🏆', 'NNP'), ('https://t.co/FceX04kvEF', 'VBD'), ('@Wale', 'NNP'), ('definitely', 'RB'), ('has', 'VBZ'), ('album', 'NN'), ('of', 'IN'), ('the', 'DT'), ('year', 'NN'), ('so', 'RB'), ('far', 'RB'), ('.', '.'), ('#Folarin2', 'JJ'), ('#GRAMMYs', 'JJ'), ('#GRAMMYs', 'NN'), ('this', 'DT'), ('is', 'VBZ'), ('cheating', 'VBG'), ('.', '.'), ('bts', 'NNS'), ('have', 'VBP'), ('to', 'TO'), ('get', 'VB'), ('that', 'DT'), ('.', '.'), ('because', 'IN'), (',', ','), ('their', 'PRP$'), ('impact', 'NN'), ('made', 'VBD'), ('the', 'DT'), ('others', 'NNS'), ('get', 'VBP'), ('nominated.then', 'JJ'), ('why', 'WRB'), ('cheating', 'VBG'), ('?', '.'), ('Fans', 'NNS'), ('react', 'VBP'), ('as', 'IN'), ('#GRAMMYs', 'NNP'), ('Award', 'NNP'), ('winner', 'NN'), ('#Burnaboy', 'NNP'), ('shaves', 'VBZ'), ('off', 'RP'), ('beard', 'NN'), ('&', 'CC'), ('dons', 'NNS'), ('a', 'DT'), ('leather', 'NN'), ('outfit', 'NN'), ('Grammy', 'NNP'), ('award-winning', 'JJ'), ('singer', 'NN'), (',', ','), ('Damini', 'NNP'), ('Ogulu', 'NNP'), (',', ','), ('popularly', 'RB'), ('known', 'VBN'), ('as', 'IN'), ('#Burnaboy', 'NN'), ('has', 'VBZ'), ('shaved', 'VBN'), ('off', 'RP'), ('his', 'PRP$'), ('beard', 'NN'), ('.', '.'), ('https://t.co/j2I3nCLFDD', 'NN'), ('GRAMMYS', 'NNP'), ('Sharing', 'NNP'), ('some', 'DT'), ('great', 'JJ'), ('news', 'NN'), ('today', 'NN'), ('!', '.'), ('!', '.'), ('My', 'PRP$'), ('dear', 'JJ'), ('friend', 'NN'), ('@Raghu_Dixit', 'NN'), ('has', 'VBZ'), ('collaborated', 'VBN'), ('with', 'IN'), ('musician', 'JJ'), ('@caseydriessen', 'NN'), ('for', 'IN'), ('the', 'DT'), ('album', 'NN'), ('#Otherlands', 'VBZ'), ('is', 'VBZ'), ('being', 'VBG'), ('considered', 'VBN'), ('for', 'IN'), ('Grammys', 'NNP'), ('!', '.'), ('!', '.'), ('https://t.co/zHXUOBXlt1', 'NN'), ('#Grammys', 'JJ'), ('#Inclusivity', 'NN'), ('#language', 'NN'), ('#Violin', 'NNP'), ('#guitar', 'NNP'), ('#vocals', 'NNS'), ('#poetry', 'VBP'), ('#Otherlands', 'VBZ'), ('Grammy', 'NNP'), ('Nominations', 'NNP'), ('Forecast', 'NNP'), (':', ':'), ('Could', 'MD'), ('the', 'DT'), ('Top', 'NNP'), ('Categories', 'NNPS'), ('Be', 'NNP'), ('a', 'DT'), ('Battle', 'NNP'), ('of', 'IN'), ('the', 'DT'), ('Teen', 'NNP'), ('Titans', 'NNPS'), ('?', '.'), ('@OliviaRodrigoHQ', 'VB'), ('@LilNasX', 'JJ'), ('@billieeilish', 'JJ'), ('@taylorswift13', 'NN'), ('@Grammys', 'NNP'), ('@RecordingAcad', 'NNP'), ('#TaylorSwift', 'NNP'), ('#oliviarodrigo', 'NNP'), ('#BillieEilish', 'JJ'), ('#LilNasX', 'NNP'), ('#Grammys', 'NNP'), ('https://t.co/3COX4pitoy', 'NN'), ('via', 'IN'), ('@variety', 'NNP'), ('Plastic', 'NNP'), ('Hearts', 'NNP'), ('foi', 'NN'), ('submetido', 'VBD'), ('a', 'DT'), ('categoria', 'NN'), ('de', 'FW'), ('Best', 'NNP'), ('Rock', 'NNP'), ('Album', 'NNP'), ('no', 'DT'), ('#GRAMMYs', 'NNP'), ('https://t.co/zKqWQT0dNs', 'NN'), ('For', 'IN'), ('Ur', 'NNP'), ('Grammy', 'NNP'), ('Consideration', 'NNP'), ('#BTS', 'NNP'), ('#GRAMMYs', 'NNP'), ('https://t.co/OmjUZo6nBs', 'VBZ'), ('#MONSTAX', 'NN'), ('for', 'IN'), ('the', 'DT'), ('#GRAMMYs', 'NNP'), ('https://t.co/v3l8hoqvlG', 'NN'), ('@RecordingAcad', 'NNP'), ('Tinashe', 'NNP'), ('also', 'RB'), ('dropped', 'VBD'), ('this', 'DT'), ('incredible', 'JJ'), ('album', 'NN'), (',', ','), ('Comfort', 'NNP'), ('&', 'CC'), ('Joy', 'NNP'), ('for', 'IN'), ('the', 'DT'), ('holidays', 'NNS'), ('..', 'VBP'), ('let', 'VB'), ('’', 'NNP'), ('s', 'VB'), ('go', 'VB'), ('#lifetimeaward', 'NNP'), ('#Grammys', 'NNP'), ('I', 'PRP'), ('’', 'VBP'), ('m', 'RB'), ('trying', 'VBG'), ('to', 'TO'), ('tell', 'VB'), ('y', 'RB'), ('’', 'NNP'), ('all', 'DT'), ('..', 'NNP'), ('vote', 'NN'), ('for', 'IN'), ('Tinashe', 'NNP'), ('..', 'NNP'), ('must', 'MD'), ('I', 'PRP'), ('say', 'VB'), ('she', 'PRP'), ('is', 'VBZ'), (',', ','), ('Every', 'NNP'), ('Woman', 'NNP'), ('https://t.co/xozhEdaGS3', 'VBZ'), ('https://t.co/szQo1mFoX8', 'NN'), ('▶', 'NN'), ('Do', 'VBP'), ('you', 'PRP'), ('want', 'VB'), ('to', 'TO'), ('enhance', 'VB'), ('your', 'PRP$'), ('beauty', 'NN'), ('?', '.'), ('Yes', 'UH'), (',', ','), ('you', 'PRP'), ('come', 'VBP'), ('to', 'TO'), ('the', 'DT'), ('right', 'JJ'), ('place', 'NN'), ('..', 'NNP'), ('We', 'PRP'), ('provide', 'VBP'), ('the', 'DT'), ('best', 'JJS'), ('beauty', 'NN'), ('essential', 'JJ'), ('video', 'NN'), ('.', '.'), ('✅', 'JJ'), ('WATCH', 'NNP'), ('THIS', 'NNP'), ('VIDEO', 'NNP'), (':', ':'), ('https://t.co/YQusNfjYKJ', 'NN'), ('#PHXvsLAL', 'NNP'), ('#Arizona', 'NNP'), ('#jokic', 'NNP'), ('#ADandDwight', 'NNP'), ('#Zendaya', 'NNP'), ('#WHOAREYOU', 'NNP'), ('#FleetwoodMac', 'NNP'), ('#GRAMMYs', 'NNP'), ('#ONEW', 'NNP'), ('#PermissionToDanceOnStageLA', 'NNP'), ('https://t.co/A9ujhxRjf5', 'NN'), ('For', 'IN'), ('Your', 'PRP$'), ('Grammy', 'NNP'), ('Consideration', 'NNP'), ('@RecordingAcad', 'NNP'), ('#BTS', 'NNP'), ('#GRAMMYs', 'NNP'), ('https://t.co/taIT3b4V96', 'NN'), ('“', 'NNP'), ('Plastic', 'NNP'), ('Hearts', 'NNP'), ('”', 'NN'), ('by', 'IN'), ('Miley', 'NNP'), ('Cyrus', 'NNP'), ('has', 'VBZ'), ('been', 'VBN'), ('submitted', 'VBN'), ('for', 'IN'), ('best', 'JJS'), ('rock', 'NN'), ('album', 'NN'), ('at', 'IN'), ('the', 'DT'), ('#Grammys', 'NN'), ('.', '.'), ('If', 'IN'), ('Cyrus', 'NNP'), ('were', 'VBD'), ('to', 'TO'), ('win', 'VB'), (',', ','), ('she', 'PRP'), ('’', 'VBD'), ('d', 'JJ'), ('become', 'VB'), ('the', 'DT'), ('first', 'JJ'), ('female', 'JJ'), ('artist', 'NN'), ('(', '('), ('and', 'CC'), ('first', 'RB'), ('solo', 'JJ'), ('singer', 'NN'), ('overall', 'JJ'), (')', ')'), ('to', 'TO'), ('win', 'VB'), ('the', 'DT'), ('award', 'NN'), ('in', 'IN'), ('23', 'CD'), ('years', 'NNS'), ('!', '.'), ('https://t.co/j6bUk1pl0s', 'NN'), ('Really', 'RB'), ('thrilled', 'VBD'), ('to', 'TO'), ('see', 'VB'), ('my', 'PRP$'), ('album', 'NN'), ('listed', 'VBN'), ('here', 'RB'), ('!', '.'), ('If', 'IN'), ('you', 'PRP'), ('have', 'VBP'), ('a', 'DT'), ('vote', 'NN'), ('for', 'IN'), ('the', 'DT'), ('Grammy', 'NNP'), ('’', 'NNP'), ('s', 'VBD'), ('it', 'PRP'), ('would', 'MD'), ('be', 'VB'), ('great', 'JJ'), ('if', 'IN'), ('you', 'PRP'), ('’', 'VBP'), ('d', 'JJ'), ('take', 'VB'), ('a', 'DT'), ('listen', 'NN'), ('and', 'CC'), ('consider', 'VB'), ('it', 'PRP'), ('?', '.'), ('❤', 'JJ'), ('️', 'JJ'), ('Thanks', 'NNP'), ('so', 'RB'), ('much', 'JJ'), ('Jason', 'NNP'), ('Miles', 'NNP'), ('and', 'CC'), ('my', 'PRP$'), ('amazing', 'JJ'), ('band', 'NN'), ('!', '.'), ('🙏', 'JJ'), ('@RecordingAcad', 'JJ'), ('@JasonMiles', 'NNS'), ('@Jazzwise', 'VBP'), ('@JazzJournal', 'JJ'), ('@BBCJazzon3', 'NNP'), ('#Grammys', 'NNP'), ('#jazz', 'NNP'), ('#jazzvocal', 'JJ'), ('https://t.co/7Bqr767DeI', 'NN'), ('this', 'DT'), ('had', 'VBD'), ('to', 'TO'), ('be', 'VB'), ('one', 'CD'), ('of', 'IN'), ('the', 'DT'), ('biggest', 'JJS'), ('song', 'NN'), ('snubbed', 'VBD'), ('at', 'IN'), ('#GRAMMYs', 'NNP'), ('https://t.co/H9KpZaV81a', 'NN'), ('Turns', 'VBZ'), ('out', 'RP'), ('Birdsong', 'NNP'), ('has', 'VBZ'), ('also', 'RB'), ('made', 'VBN'), ('the', 'DT'), ('longlist', 'NN'), ('for', 'IN'), ('track', 'NN'), ('of', 'IN'), ('the', 'DT'), ('year', 'NN'), ('🥰', 'NNP'), ('#GRAMMYs', 'NNP'), ('@theluxalma', 'NNP'), ('@Jess_C_Leen', 'NNP'), ('@niamhsandwich', 'NNP'), ('@CariQMusic', 'NNP'), ('@theruthsmith', 'NNP'), ('@SiveMusic', 'NNP'), ('@PSuitestudios', 'NNP'), ('https://t.co/0yFWOxEX8v', 'NN'), ('Sticker', 'NNP'), ('is', 'VBZ'), ('the', 'DT'), ('MASTERPIECE', 'NNP'), ('!', '.'), ('You', 'PRP'), ('deserve', 'VBP'), ('it', 'PRP'), ('!', '.'), ('#GRAMMYs', 'JJ'), ('https://t.co/a7NZr2uG5q', 'NN'), ('For', 'IN'), ('Ur', 'NNP'), ('Grammy', 'NNP'), ('Consideration', 'NNP'), ('#BTS', 'NNP'), ('#GRAMMYs', 'NNP'), ('https://t.co/J2vl0WPe0u', 'NN'), ('Via', 'NNP'), ('@Variety', 'NN'), ('Will', 'NNP'), ('2022', 'CD'), ('Be', 'NNP'), ('#BTS', 'VBN'), ('’', 'NNP'), ('and', 'CC'), ('K-Pop', 'NNP'), ('’', 'NNP'), ('s', 'VBD'), ('Year', 'NNP'), ('at', 'IN'), ('the', 'DT'), ('#Grammys', 'NN'), ('?', '.'), ('https://t.co/z5OXyyuYpF', 'JJ'), ('#GRAMMYs', 'NN'), ('Voting', 'NNP'), ('is', 'VBZ'), ('critically', 'RB'), ('important', 'JJ'), ('because', 'IN'), ('the', 'DT'), ('power', 'NN'), (',', ','), ('privilege', 'NN'), (',', ','), ('and', 'CC'), ('prestige', 'NN'), ('of', 'IN'), ('recognizing', 'VBG'), ('music', 'NN'), ('’', 'NNP'), ('s', 'NN'), ('creators', 'NNS'), ('is', 'VBZ'), ('in', 'IN'), ('the', 'DT'), ('hands', 'NNS'), ('of', 'IN'), ('our', 'PRP$'), ('@RecordingAcademy', 'JJ'), ('members', 'NNS'), ('.', '.'), ('If', 'IN'), (\"you're\", 'PDT'), ('a', 'DT'), ('#RecordingAcademy', 'JJ'), ('voting', 'NN'), ('member', 'NN'), (',', ','), (\"don't\", 'NN'), ('forget', 'NN'), ('to', 'TO'), ('vote', 'VB'), ('!', '.'), ('#Vote4GRAMMYs', 'JJ'), ('https://t.co/T4SbELcRWB', 'JJ'), ('Very', 'NNP'), ('happy', 'JJ'), ('that', 'IN'), ('my', 'PRP$'), ('album', 'JJ'), ('“', 'NN'), ('Now', 'RB'), ('The', 'DT'), ('Silence', 'NNP'), ('”', 'NNP'), ('has', 'VBZ'), ('been', 'VBN'), ('accepted', 'VBN'), ('for', 'IN'), ('consideration', 'NN'), ('by', 'IN'), ('the', 'DT'), ('Recording', 'NNP'), ('Academy', 'NNP'), ('and', 'CC'), ('appears', 'VBZ'), ('on', 'IN'), ('the', 'DT'), ('initial', 'JJ'), ('voting', 'NN'), ('ballot', 'NN'), ('in', 'IN'), ('the', 'DT'), ('category', 'NN'), ('of', 'IN'), ('New', 'NNP'), ('Age', 'NNP'), ('Album', 'NNP'), ('.', '.'), ('#FYC', 'JJ'), ('#NowTheSilence', 'NN'), ('#NewAgeAlbum', 'NNP'), ('#GRAMMYs', 'NNP'), ('https://t.co/6UoImQNxeg', 'NN'), ('Record', 'NNP'), ('of', 'IN'), ('the', 'DT'), ('week', 'NN'), ('comes', 'VBZ'), ('courtesy', 'NN'), ('of', 'IN'), ('the', 'DT'), ('talented', 'JJ'), ('@EgoEllaMay', 'NN'), ('on', 'IN'), ('tomorrows', 'NNS'), ('programme', 'VBP'), ('from', 'IN'), ('10am', 'CD'), ('on', 'IN'), ('@JazzFM', 'JJ'), ('plus', 'CC'), (\"i'll\", 'JJ'), ('be', 'VB'), ('talking', 'VBG'), ('to', 'TO'), ('the', 'DT'), ('#GRAMMYs', 'NNP'), ('winning', 'VBG'), ('@keyonharrold', 'JJ'), ('plus', 'CC'), ('new', 'JJ'), ('music', 'NN'), ('from', 'IN'), ('NeONE', 'NNP'), ('the', 'DT'), ('Wonderer', 'NNP'), ('@brownswood', 'NNP'), ('@SNG_Manchester', 'NN'), ('and', 'CC'), ('more', 'JJR'), ('.', '.'), ('Or', 'CC'), ('c', 'NN'), ('/', 'VBP'), ('up', 'RB'), ('here', 'RB'), ('https://t.co/iqlqK1g94m', 'JJ'), ('https://t.co/wrNeYJN7Jx', 'NN'), ('This', 'DT'), ('is', 'VBZ'), ('masterpiece', 'JJ'), ('@RecordingAcad', 'NNP'), ('#nct127', 'NNP'), ('#Sticker', 'NNP'), ('#GRAMMYs', 'NNP'), ('https://t.co/kd6LssvpMY', 'NN'), ('#GRAMMYs', 'NNP'), ('Quick', 'NNP'), ('Predictions', 'NNP'), ('-', ':'), ('Alternative', 'JJ'), ('+', 'JJ'), ('Country', 'NNP'), ('https://t.co/Yq1iWXuedS', 'NN'), ('We', 'PRP'), ('are', 'VBP'), ('honored', 'VBN'), ('to', 'TO'), ('share', 'NN'), ('our', 'PRP$'), ('dream', 'NN'), ('come', 'VB'), ('true', 'JJ'), ('with', 'IN'), ('you', 'PRP'), ('!', '.'), ('If', 'IN'), ('you', 'PRP'), ('are', 'VBP'), ('a', 'DT'), ('voting', 'JJ'), ('member', 'NN'), ('of', 'IN'), ('the', 'DT'), ('recording', 'NN'), ('academy', 'NN'), (',', ','), ('our', 'PRP$'), ('music', 'NN'), ('is', 'VBZ'), ('on', 'IN'), ('the', 'DT'), ('first', 'JJ'), ('round', 'NN'), ('Grammy', 'NNP'), ('ballot', 'NN'), ('this', 'DT'), ('year', 'NN'), ('!', '.'), ('https://t.co/UVgWfRO0Db', 'NN'), ('#dreambig', 'NNP'), ('#GRAMMYs', 'NNP'), ('#sleepingwitharockstar', 'NNP'), ('#isthatenough', 'NNP'), ('https://t.co/T0VWCqZC9P', 'NN'), ('Thaalaatu', 'NNP'), ('is', 'VBZ'), ('on', 'IN'), ('the', 'DT'), ('64th', 'CD'), ('Grammy', 'NNP'), ('Awards', 'NNP'), ('ballot', 'NN'), ('#RecordingAcademy', 'NNP'), ('#Vote4GRAMMYs', 'NNP'), ('#grammys', 'NNP'), ('#wearemusic', 'NNP'), ('#thaalaatulullaby', 'NNP'), ('composed', 'VBD'), ('and', 'CC'), ('arranged', 'VBN'), ('by', 'IN'), ('@crazydevan75', 'NNP'), ('.', '.'), ('All', 'PDT'), ('the', 'DT'), ('best', 'JJS'), ('da', 'NN'), ('.', '.'), ('https://t.co/KVimWfNoHZ', 'VB'), ('The', 'DT'), ('latest', 'JJS'), ('The', 'DT'), ('Gospel', 'NNP'), ('music', 'NN'), ('Daily', 'NNP'), ('!', '.'), ('https://t.co/DHan149e1b', 'NN'), ('Thanks', 'NNS'), ('to', 'TO'), ('@fortunatefall03', 'VB'), ('#music', 'JJ'), ('#grammys', 'NNP'), ('Track', 'NNP'), ('list', 'NN'), ('for', 'IN'), ('TNBT', 'NNP'), ('the', 'DT'), ('Ep', 'NNP'), ('out', 'RP'), ('this', 'DT'), ('week', 'NN'), ('#GRAMMYs', 'NNP'), ('#music', 'NNP'), ('#TNBT', 'NNP'), ('#mrnasty', 'NNP'), ('#Ep', 'NNP'), ('Miley', 'NNP'), ('Cyrus', 'NNP'), ('’', 'NNP'), ('Plastic', 'NNP'), ('Hearts', 'NNP'), ('was', 'VBD'), ('submitted', 'VBN'), ('to', 'TO'), ('POP', 'NNP'), ('categories', 'NNS'), ('but', 'CC'), ('#GRAMMYs', 'NNP'), ('recategorized', 'VBD'), ('them', 'PRP'), ('to', 'TO'), ('ROCK', 'NNP'), (',', ','), ('@billboard', 'NNP'), ('reports', 'VBZ'), ('#Blackpink', 'NN'), ('(', '('), ('the', 'DT'), ('movie', 'NN'), (')', ')'), ('×', 'NN'), ('#GRAMMYs', 'NN'), ('?', '.'), ('https://t.co/SGtuuXjA23', 'NN'), ('.', '.'), ('@MileyCyrus', 'CC'), ('’', 'JJ'), ('‘', 'NNP'), ('Plastic', 'NNP'), ('Hearts', 'NNP'), ('’', 'NNP'), ('has', 'VBZ'), ('been', 'VBN'), ('submitted', 'VBN'), ('for', 'IN'), ('“', 'NN'), ('Best', 'NNP'), ('Rock', 'NNP'), ('Album', 'NNP'), ('”', 'NNP'), ('at', 'IN'), ('the', 'DT'), ('2022', 'CD'), ('#GRAMMYs', 'NN'), (',', ','), ('@billboard', 'JJ'), ('reports', 'NNS'), ('.', '.'), ('https://t.co/1GKmmqw5ue', 'NN'), ('Time', 'NNP'), ('out', 'RP'), ('for', 'IN'), ('tea', 'NN'), ('🙏', 'JJ'), ('#xfiles', 'NNS'), ('#mulderandscully', 'RB'), ('#dalek', 'VBP'), ('#scifi', 'JJ'), ('#retro', 'NNP'), ('#robot', 'NNP'), ('#GRAMMYs', 'NNP'), ('#tea', 'NNP'), ('#breaktime', 'NNP'), ('#culttv', 'NNP'), ('#startrek', 'NNP'), ('#yellowsubmarine', 'NNP'), ('#groovy', 'NNP'), ('#dig', 'NNP'), ('https://t.co/7z7Jzng6wQ', 'NN'), ('@demjointz', 'NN'), ('YEEEES', 'NN'), ('!', '.'), ('!', '.'), ('!', '.'), ('Deserve', 'NN'), ('!', '.'), ('#NCT127', 'JJ'), ('#STICKER', 'JJ'), ('#GRAMMYs', 'NNP'), ('💚', 'NNP'), ('💃', 'NNP'), ('@umksjin', 'NNP'), ('@AlyaNuari5', 'NNP'), ('@emxrwld', 'NNP'), ('For', 'IN'), ('Ur', 'NNP'), ('Grammy', 'NNP'), ('Consideration', 'NNP'), ('#NCT127', 'NNP'), ('#Sticker', 'NNP'), ('#GRAMMYs', 'NNP'), ('🤞', 'NNP'), ('🏽', 'NNP'), ('https://t.co/VDoKXZCKAW', 'NN'), ('For', 'IN'), ('your', 'PRP$'), ('consideration', 'NN'), ('to', 'TO'), ('whom', 'WP'), ('it', 'PRP'), ('may', 'MD'), ('concern', 'NN'), ('.', '.'), ('🕊', 'CC'), ('@leather_sox', 'JJ'), ('@dovesociety', 'NN'), ('@recordingacademy', 'NNP'), ('#grammys', 'NNP'), ('https://t.co/miLPV3AaIe', 'NN'), ('For', 'IN'), ('your', 'PRP$'), ('64th', 'CD'), ('annual', 'JJ'), ('Grammy', 'NNP'), ('®', 'NNP'), ('️', 'NNP'), ('voting', 'VBG'), ('consideration', 'NN'), (':', ':'), ('My', 'PRP$'), ('album', 'NN'), ('\"', 'NN'), ('With', 'IN'), ('Love', 'NNP'), ('from', 'IN'), ('Lake', 'NNP'), ('Huron', 'NNP'), ('\"', 'NNP'), ('has', 'VBZ'), ('been', 'VBN'), ('submitted', 'VBN'), ('for', 'IN'), ('the', 'DT'), ('2022', 'CD'), ('Country', 'NNP'), ('Album', 'NNP'), ('of', 'IN'), ('the', 'DT'), ('Year', 'NN'), ('for', 'IN'), ('the', 'DT'), ('64th', 'CD'), ('annual', 'JJ'), ('Grammy', 'NNP'), ('®', 'NNP'), ('️', 'NNP'), ('Awards', 'NNP'), ('.', '.'), ('https://t.co/tRAvypvSzE', 'NN'), ('#GRAMMYs', 'NN'), ('#GrammyAwards', 'NNS'), ('https://t.co/QEi3IxVaEO', 'VBP'), ('@demjointz', 'JJ'), ('I', 'PRP'), ('hope', 'VBP'), ('so', 'RB'), ('..', 'JJ'), ('You', 'PRP'), ('and', 'CC'), ('NCT', '$'), ('127', 'CD'), ('deseve', 'NN'), ('it', 'PRP'), ('#NCT127', 'VBZ'), ('#GRAMMYs', 'JJ'), ('@RecordingAcad', 'NNP'), ('Nominate', 'NNP'), ('#LISA', 'NNP'), ('for', 'IN'), ('2021', 'CD'), ('“', 'JJ'), ('new', 'JJ'), ('artist', 'NN'), ('”', 'NNP'), ('category', 'NN'), ('#GRAMMYs', 'NNP'), ('#LisaMoneyDance', 'NNP'), ('#LalisaManoban', 'NNP'), ('#MONEY', 'NNP'), ('#LALISAsolo', 'NNP'), ('#SOLM', 'NNP'), ('#SnakeOzunaLisaMegan', 'NNP'), ('Any', 'NNP'), ('ARMY', 'NNP'), ('’', 'NNP'), ('s', 'VBD'), ('wanna', 'JJ'), ('weigh', 'NN'), ('in', 'IN'), ('on', 'IN'), ('what', 'WP'), ('they', 'PRP'), ('think', 'VBP'), ('about', 'IN'), ('BTS', 'NNP'), ('’', 'NNP'), ('s', 'VBD'), ('chance', 'NN'), ('at', 'IN'), ('winning', 'VBG'), ('big', 'JJ'), ('at', 'IN'), ('this', 'DT'), ('year', 'NN'), ('’', 'VBZ'), ('s', 'JJ'), ('Grammys', 'NNP'), ('?', '.'), ('😳', 'NNP'), ('💜', 'NNP'), ('#GRAMMYs', 'NNP'), ('#BTS', 'NNP'), ('#ARMY', 'NNP'), ('https://t.co/OPrCPllIx6', 'NN'), ('https://t.co/aDWI27uAmE', 'NN'), ('RCA', 'NNP'), ('Records', 'NNP'), (',', ','), ('Doja', 'NNP'), (\"Cat's\", 'NNP'), ('label', 'NN'), (',', ','), ('submitted', 'VBN'), (\"'\", 'POS'), ('Planet', 'NNP'), ('Her', 'NNP'), (\"'\", \"''\"), ('in', 'IN'), ('the', 'DT'), ('category', 'NN'), (\"'\", 'POS'), ('Best', 'NNP'), ('Pop', 'NNP'), ('Vocal', 'NNP'), ('Album', 'NNP'), (\"'\", 'POS'), ('on', 'IN'), ('2022', 'CD'), ('#GRAMMYs', 'NN'), ('.', '.'), ('https://t.co/tG4QCLvCuE', 'NN'), ('For', 'IN'), ('your', 'PRP$'), ('#Grammys', 'JJ'), ('Consideration', 'NN'), (':', ':'), ('Dexter', 'NNP'), ('Allen', 'NNP'), ('->', 'NNP'), ('“', 'NNP'), ('Keep', 'NNP'), ('Moving', 'NNP'), ('On', 'IN'), ('”', 'NNP'), ('Best', 'NNP'), ('American', 'JJ'), ('Roots', 'NNP'), ('Song', 'NNP'), ('Best', 'NNP'), ('American', 'JJ'), ('Roots', 'NNP'), ('Performance', 'NNP'), ('Best', 'NNP'), ('Traditional', 'NNP'), ('Blues', 'NNP'), ('Album', 'NNP'), ('https://t.co/RbSOg3EprW', 'VBD'), ('Listening', 'VBG'), ('to', 'TO'), ('#BlueBanisters', 'NNS'), ('for', 'IN'), ('the', 'DT'), ('1st', 'CD'), ('time', 'NN'), ('in', 'IN'), ('my', 'PRP$'), ('room', 'NN'), ('with', 'IN'), ('headphones', 'NNS'), ('&', 'CC'), ('mushroom', 'NN'), ('tea', 'NN'), ('was', 'VBD'), ('the', 'DT'), ('best', 'JJS'), ('decision', 'NN'), ('of', 'IN'), ('my', 'PRP$'), ('life', 'NN'), ('.', '.'), ('It', 'PRP'), ('’', 'VBZ'), ('s', 'VBZ'), ('a', 'DT'), ('spiritual', 'JJ'), ('awakening', 'NN'), ('.', '.'), ('#LanaDelRey', 'CC'), ('those', 'DT'), ('horns', 'NNS'), ('on', 'IN'), ('If', 'IN'), ('you', 'PRP'), ('lie', 'VBP'), ('down', 'RP'), ('with', 'IN'), ('me', 'PRP'), ('?', '.'), ('This', 'DT'), ('is', 'VBZ'), ('the', 'DT'), ('album', 'NN'), ('that', 'WDT'), ('will', 'MD'), ('snag', 'VB'), ('the', 'DT'), ('#Grammys', 'NNP'), ('https://t.co/0fj6z9kKzX', 'NN'), ('.', '.'), ('@DojaCat', 'CC'), ('’', 'JJ'), ('s', 'NN'), ('‘', 'JJ'), ('Planet', 'NNP'), ('Her', 'NNP'), ('’', 'NNP'), ('has', 'VBZ'), ('been', 'VBN'), ('submitted', 'VBN'), ('under', 'IN'), ('‘', 'NN'), ('Best', 'NNP'), ('Pop', 'NNP'), ('Vocal', 'NNP'), ('Album', 'NNP'), ('”', 'NNP'), ('for', 'IN'), ('the', 'DT'), ('2022', 'CD'), ('#GRAMMYs', 'NNP'), ('https://t.co/HIBh8tQr2m', 'NN'), ('@JoeYue16', 'NNP'), ('@demjointz', 'NNP'), ('Lmao', 'NNP'), ('I', 'PRP'), ('love', 'VBP'), ('your', 'PRP$'), ('pfp', 'NN'), ('btw', 'NN'), ('stream', 'NN'), ('sticker', 'NN'), ('#Grammys', 'NNP'), ('😂', 'NNP'), ('For', 'IN'), ('your', 'PRP$'), ('#Grammys', 'JJ'), ('Consideration', 'NN'), (':', ':'), ('\"', 'JJ'), ('My', 'PRP$'), ('American', 'JJ'), ('Heart', 'NNP'), ('”', 'NN'), ('Best', 'NNP'), ('American', 'NNP'), ('Roots', 'NNP'), ('Song', 'NNP'), ('&', 'CC'), ('Best', 'NNP'), ('American', 'JJ'), ('Roots', 'NNP'), ('Performance', 'NNP'), ('❤', 'NNP'), ('️', 'NNP'), ('💙', 'NNP'), ('https://t.co/51sWcYBLUp', 'NN'), ('So', 'NNP'), ('is', 'VBZ'), ('BE', 'NNP'), (',', ','), ('Butter', 'NNP'), ('and', 'CC'), ('Permission', 'NNP'), ('To', 'TO'), ('Dance', 'NNP'), ('eligible', 'NN'), ('for', 'IN'), ('#GRAMMYs', 'NNP'), ('under', 'IN'), ('SOTY', 'NNP'), (',', ','), ('AOTY', 'NNP'), ('and', 'CC'), ('ROTY', 'NNP'), ('?', '.'), ('#BTS', 'NN'), ('For', 'IN'), ('your', 'PRP$'), ('#Grammys', 'JJ'), ('Consideration', 'NN'), (':', ':'), ('\"', 'JJ'), ('28', 'CD'), ('Days', 'NNPS'), ('\"', 'NNP'), ('Song', 'NNP'), ('of', 'IN'), ('the', 'DT'), ('Year', 'NNP'), ('-', ':'), ('Roland', 'NNP'), ('Guerin', 'NNP'), (',', ','), ('songwriter', 'NN'), ('https://t.co/8evxoKhnim', 'NN'), ('Loading', 'VBG'), ('...', ':'), ('🔥', 'NN'), ('@zionfelixdotcom', 'NNP'), ('@magraheb', 'NNP'), ('#rap', 'NNP'), ('#nopressure', 'NNP'), ('#streetstyle', 'NNP'), ('#grammys', 'NNP'), ('#hiphop', 'NNP'), ('#hiphopculture', 'NN'), ('#drill', 'NNP'), ('#freestyle', 'NNP'), ('#4sytetv', 'NNP'), ('#africanprint', 'NN'), ('#mavinrecords', 'NNS'), ('#billboard', 'NNP'), ('#bet', 'NNP'), ('https://t.co/BchTZxG9Lg', 'NN'), ('In', 'IN'), ('a', 'DT'), ('recent', 'JJ'), ('article', 'NN'), (',', ','), ('Billboard', 'NNP'), ('confirms', 'VBZ'), ('that', 'IN'), ('@AvaMax', 'NN'), ('is', 'VBZ'), ('eligible', 'JJ'), ('to', 'TO'), ('compete', 'VB'), ('for', 'IN'), ('the', 'DT'), ('“', 'NNP'), ('Best', 'NNP'), ('New', 'NNP'), ('Artist', 'NNP'), ('”', 'NNP'), ('nomination', 'NN'), ('at', 'IN'), ('the', 'DT'), ('2022', 'CD'), ('#Grammys', 'NN'), ('.', '.'), ('The', 'DT'), ('nominations', 'NNS'), ('will', 'MD'), ('be', 'VB'), ('announced', 'VBN'), ('November', 'NNP'), ('23rd', 'CD'), ('.', '.'), ('🔗', 'VB'), ('https://t.co/q5juJxJpnw', 'JJ'), ('https://t.co/CJ0cSdhTV5', 'NN'), ('@saftykai', 'NN'), ('I', 'PRP'), ('#VoteAnittaGrammys', 'VBP'), ('for', 'IN'), ('#GRAMMYs', 'NNP'), ('Best', 'NNP'), ('New', 'NNP'), ('Artist', 'NNP'), ('This', 'DT'), ('song', 'NN'), ('deserves', 'VBZ'), ('to', 'TO'), ('be', 'VB'), ('in', 'IN'), ('#GRAMMYs', 'JJ'), ('🔥', 'NNP'), ('🔥', 'NNP'), ('@arrahman', 'NNP'), ('https://t.co/xr3G0sCcaa', 'NN'), ('I', 'PRP'), ('#VoteAnittaGrammys', 'VBP'), ('for', 'IN'), ('#GRAMMYs', 'NNP'), ('Best', 'NNP'), ('New', 'NNP'), ('Artist', 'NNP'), ('Congrats', 'NNP'), ('Record', 'NNP'), ('of', 'IN'), ('the', 'DT'), ('Year', 'NNP'), ('winner', 'NN'), ('-', ':'), ('\"', 'NN'), ('positions', 'NNS'), ('\"', 'VBP'), ('@ArianaGrande', 'JJ'), ('#GRAMMYs', 'NNP'), ('https://t.co/omqPQn14Q2', 'VBD'), ('The', 'DT'), ('2021', 'CD'), ('Latin', 'NNP'), ('GRAMMYs', 'NNP'), ('telecast', 'NN'), ('will', 'MD'), ('air', 'VB'), ('live', 'JJ'), ('on', 'IN'), ('Thursday', 'NNP'), (',', ','), ('Nov', 'NNP'), ('.', '.'), ('18', 'CD'), (',', ','), ('on', 'IN'), ('Univision', 'NN'), ('at', 'IN'), ('8', 'CD'), ('p', 'NN'), ('.', '.'), ('m', 'NN'), ('.', '.'), ('ET', 'NNP'), ('/', 'NNP'), ('PT', 'NNP'), ('(', '('), ('7', 'CD'), ('p', 'NN'), ('.', '.'), ('m', 'NN'), ('.', '.'), ('CT', 'NNP'), (')', ')'), ('.', '.'), ('@thelatingrammys', 'JJ'), ('#GRAMMYs', 'JJ'), ('https://t.co/CKjwuyPfeF', 'NN'), ('please', 'NN'), ('🥺', 'NNP'), (',', ','), ('this', 'DT'), ('song', 'NN'), ('and', 'CC'), ('album', 'NN'), ('is', 'VBZ'), ('so', 'RB'), ('amazingg', 'JJ'), ('#NCT127', 'NN'), ('#Sticker', 'NNP'), ('#GRAMMYs', 'NNP'), ('https://t.co/Vw1BTGtz5G', 'VBD'), ('The', 'DT'), ('22nd', 'CD'), ('Latin', 'NNP'), ('#GRAMMY', 'NN'), ('Awards', 'NNP'), (',', ','), ('will', 'MD'), ('air', 'VB'), ('live', 'JJ'), ('on', 'IN'), ('Univision', 'NN'), ('beginning', 'VBG'), ('at', 'IN'), ('8', 'CD'), ('p', 'NN'), ('.', '.'), ('m', 'NN'), ('.', '.'), ('ET', 'NNP'), ('/', 'NNP'), ('PT', 'NNP'), ('(', '('), ('7', 'CD'), ('p', 'NN'), ('.', '.'), ('m', 'NN'), ('.', '.'), ('CT', 'NNP'), (')', ')'), ('.', '.'), ('#GRAMMYs', 'JJ'), ('#latingrammys', 'JJ'), ('https://t.co/icud3odN7P', 'NN'), (\"IT'S\", 'NNP'), ('BIG', 'NNP'), ('BIIIIIIIIIIIIIIIIIIIG', 'NNP'), ('FOR', 'NNP'), ('#TXT', 'NNP'), ('#GRAMMYs', 'NNP'), ('*', 'NNP'), ('i', 'NN'), ('was', 'VBD'), ('sad', 'JJ'), ('thinking', 'VBG'), ('it', 'PRP'), ('was', 'VBD'), ('undermining', 'VBG'), ('their', 'PRP$'), ('2', 'CD'), ('years', 'NNS'), ('hard', 'JJ'), ('work', 'NN'), ('but', 'CC'), ('i', 'NN'), ('was', 'VBD'), ('explained', 'VBN'), ('the', 'DT'), ('category', 'NN'), (\"doesn't\", 'JJ'), ('work', 'NN'), ('like', 'IN'), ('that', 'DT'), ('.', '.'), ('I', 'PRP'), ('am', 'VBP'), ('a', 'DT'), ('puddle', 'NN'), ('of', 'IN'), ('😍', 'NN'), ('now', 'RB'), ('.', '.'), ('For', 'IN'), ('Your', 'PRP$'), ('Consideration', 'NN'), ('in', 'IN'), ('Best', 'NNP'), ('Contemporary', 'NNP'), ('Instrumental', 'NNP'), (':', ':'), ('“', 'JJ'), ('Reflections', 'NNS'), ('of', 'IN'), ('Tomorrow', 'NNP'), ('”', 'NNP'), ('by', 'IN'), ('pianist', 'NN'), ('Joseph', 'NNP'), ('Fuller', 'NNP'), ('.', '.'), ('Produced', 'VBN'), ('by', 'IN'), ('Grammy', 'NNP'), ('Award', 'NNP'), ('winner', 'NN'), ('Brad', 'NNP'), ('Sayles', 'NNP'), ('.', '.'), ('This', 'DT'), ('10', 'CD'), ('track', 'NN'), ('album', 'NN'), ('of', 'IN'), ('original', 'JJ'), ('compositions', 'NNS'), ('takes', 'VBZ'), ('you', 'PRP'), ('on', 'IN'), ('a', 'DT'), ('personal', 'JJ'), ('journey', 'NN'), ('of', 'IN'), ('joy', 'NN'), (',', ','), ('love', 'NN'), (',', ','), ('and', 'CC'), ('loss', 'NN'), ('.', '.'), ('#FYC', 'JJ'), ('#GRAMMYs', 'JJ'), ('why', 'WRB'), ('tf', 'NN'), ('these', 'DT'), ('bhishes', 'NNS'), ('trending', 'VBG'), ('again', 'RB'), ('?', '.'), ('?', '.'), ('u', 'JJ'), ('nominated', 'VBN'), ('in', 'IN'), ('grammys', 'NN'), ('or', 'CC'), ('something', 'NN'), ('?', '.'), ('?', '.'), ('#RedVelvet', 'JJ'), ('#GRAMMYs', 'JJ'), ('Let', 'NNP'), ('’', 'NNP'), ('s', 'VB'), ('be', 'VB'), ('clear', 'JJ'), ('NCT', 'NNP'), ('doesn', 'NN'), ('’', 'NNP'), ('t', 'NN'), ('need', 'VBP'), ('a', 'DT'), ('grammy', 'NN'), ('and', 'CC'), ('BTS', 'NNP'), ('doesn', 'VBP'), ('’', 'NNP'), ('t', 'VBP'), ('need', 'VBP'), ('a', 'DT'), ('grammy', 'NN'), ('they', 'PRP'), ('are', 'VBP'), ('way', 'NN'), ('too', 'RB'), ('good', 'JJ'), ('for', 'IN'), ('that', 'DT'), ('shhhh', 'NN'), ('#GRAMMYs', 'NNP'), ('https://t.co/r5j6cqulGR', 'NN'), ('Dear', 'NNP'), ('GRAMMY', 'NNP'), ('®', 'NNP'), ('️voting', 'VBG'), ('members', 'NNS'), (':', ':'), ('I', 'PRP'), ('humbly', 'RB'), ('submit', 'VBP'), ('to', 'TO'), ('you', 'PRP'), ('my', 'PRP$'), ('album', 'NN'), (',', ','), ('TONADA', 'NNP'), (',', ','), ('for', 'IN'), ('Grammy', 'NNP'), ('®', 'NNP'), ('️', 'NNP'), ('consideration', 'NN'), ('.', '.'), ('Best', 'JJS'), ('Global', 'JJ'), ('Music', 'NNP'), ('Album', 'NNP'), ('&', 'CC'), ('Best', 'NNP'), ('Instrumental', 'NNP'), ('Arrangement', 'NNP'), ('.', '.'), ('#foryourconsideration', 'NN'), ('#foryourgrammyconsideration', 'NN'), ('#RecordingAcademy', 'NNP'), ('#FYC', 'NNP'), ('#grammys', 'NNP'), ('#tonada', 'NNP'), ('#venezuela', 'NNP'), ('#asianamerican', 'NNP'), ('For', 'IN'), ('Ur', 'NNP'), ('Grammy', 'NNP'), ('Consideration', 'NNP'), ('#NCT127', 'NNP'), ('#Sticker', 'NNP'), ('#GRAMMYs', 'NNP'), ('🤞', 'NNP'), ('🏽', 'NNP'), ('https://t.co/c4qxYb0cg1', 'NN'), ('As', 'IN'), ('seen', 'VBN'), ('in', 'IN'), ('@Billboard', 'NNP'), (\"Magazine's\", 'NNP'), ('GRAMMY', 'NNP'), ('®', 'NNP'), ('Edition', 'NNP'), (':', ':'), ('FOR', 'IN'), ('YOUR', 'NNP'), ('GRAMMY', 'NNP'), ('®', 'NNP'), ('CONSIDERATION', 'NNP'), ('Rip', 'NNP'), ('-', ':'), ('\"', 'NN'), ('Delivered', 'NNP'), ('\"', 'VBZ'), ('8k', 'CD'), ('(', '('), ('Best', 'NNP'), ('Music', 'NNP'), ('Video', 'NNP'), (')', ')'), ('Nicky', 'NNP'), ('Gracious', 'NNP'), ('-', ':'), ('\"', 'NN'), ('This', 'DT'), ('I', 'PRP'), ('Pray', 'NNP'), ('\"', 'NNP'), ('&', 'CC'), ('\"', 'NNP'), ('Stand', 'NNP'), ('Up', 'NNP'), ('\"', 'NNP'), ('(', '('), ('Best', 'NNP'), ('Contemporary', 'NNP'), ('Christian', 'NNP'), ('Performance', 'NNP'), ('&', 'CC'), ('Song', 'NNP'), (')', ')'), ('#FYC', 'NN'), ('#ForYourConsideration', 'NN'), ('#ForYourGRAMMYConsideration', 'NN'), ('#GRAMMYs', 'NNP'), ('https://t.co/ZLkRBO97zH', 'NN'), ('OMG', 'NNP'), ('!', '.'), ('!', '.'), ('!', '.'), (\"YOU'RE\", 'NN'), ('TELLING', 'IN'), ('ME', 'NNP'), ('THAT', 'IN'), ('THE', 'NNP'), ('BOYS', 'NNP'), ('CAN', 'NNP'), ('VE', 'NNP'), ('NOMINATED', 'NNP'), ('FOR', 'NNP'), ('BEST', 'NNP'), ('NEW', 'NNP'), ('ARTIST', 'NNP'), ('!', '.'), ('!', '.'), ('!', '.'), ('#TXTGRAMMY', 'JJ'), ('#GRAMMYs', 'JJ'), ('#TXT', 'NN'), ('#투모로우바이투게더', 'NNP'), ('#TOMORROW_X_TOGETHER', 'NNP'), ('@TXT_members', 'NNS'), ('@TXT_bighit', 'VBP'), ('https://t.co/pJaTTnvLw8', 'JJ'), ('https://t.co/k09gy0XhPV', 'NN'), ('#TOMORROW_X_TOGETHER', 'NN'), ('is', 'VBZ'), ('now', 'RB'), ('eligible', 'JJ'), ('for', 'IN'), ('2022', 'CD'), ('#GRAMMYs', 'NNP'), (\"'\", 'POS'), ('Best', 'NNP'), ('New', 'NNP'), ('Artist', 'NNP'), (\"'\", 'POS'), ('!', '.'), ('🔗', 'NN'), ('https://t.co/SHmqeKw0mP', 'NN'), ('📝', 'VBD'), ('The', 'DT'), ('company', 'NN'), ('can', 'MD'), ('submit', 'VB'), ('an', 'DT'), ('application', 'NN'), ('.', '.'), (\"It's\", 'NNP'), ('chosen', 'VBN'), ('by', 'IN'), ('the', 'DT'), ('GRAMMYs', 'NNP'), ('themself', 'NN'), ('to', 'TO'), ('be', 'VB'), ('accepted', 'VBN'), ('.', '.'), ('Only', 'RB'), ('8', 'CD'), ('can', 'MD'), ('be', 'VB'), ('nominated', 'VBN'), ('.', '.'), ('#TXT', 'JJ'), ('#Beomie', 'JJ'), ('☁', 'NN'), ('https://t.co/Y982I0PbZk', 'NN'), ('This', 'DT'), ('November', 'NNP'), ('18', 'CD'), ('will', 'MD'), ('be', 'VB'), ('the', 'DT'), ('22nd', 'CD'), ('edition', 'NN'), ('of', 'IN'), ('the', 'DT'), ('Latin', 'NNP'), ('Grammy', 'NNP'), ('and', 'CC'), ('the', 'DT'), ('controversy', 'NN'), ('continues', 'VBZ'), (',', ','), ('the', 'DT'), ('clash', 'NN'), ('between', 'IN'), ('Residente', 'NNP'), (',', ','), ('Yotuel', 'NNP'), ('and', 'CC'), ('J', 'NNP'), ('Balvin', 'NNP'), ('returned', 'VBD'), ('the', 'DT'), ('focus', 'NN'), ('to', 'TO'), ('the', 'DT'), ('need', 'NN'), ('to', 'TO'), ('reexamine', 'VB'), ('institutions', 'NNS'), ('such', 'JJ'), ('as', 'IN'), ('the', 'DT'), ('Latin', 'NNP'), ('Grammy', 'NNP'), ('.', '.'), ('#GRAMMYs', 'NNP'), ('#TimsTwitterListeningParty', 'NNP'), ('https://t.co/BbMmpcGKp9', 'NN')]\n",
      "['consideration', 'round', 'voting', '#contemporaryblues', 'https://t.co/NuOaPvT3ta', '#grammys', 'https://t.co/Dll5dB1GGI', 'building', 'nobody', 'founder', '@malikyusef100', 'someone', 'wait', '#badkids', 'https://t.co/wuRFbX62I2', 'moment', 'history', 'https://t.co/R4iyIsE100', 'building', 'nobody', 'founder', '@malikyusef100', 'someone', 'wait', '#badkids', 'https://t.co/wuRFbX62I2', 'https://t.co/cSiT2Jmgte', 'bless', 'consideration', '#Petestrumentals3', 'https://t.co/5ZlQbGqzOP', '#BLONKSEATING', '#BLINK', 'https://t.co/mvx0XQlVV8', 'thread', 'options', 'Year', 'https://t.co/x1ANNOIsMD', '🙏', 'consideration', 'Visions', '😌', '#jazz', 'https://t.co/gDJzQHH5pp', '\"', 'consideration', '#GRAMMYs', 'https://t.co/Br4HfXrBP1', 'post', 'media', 'platforms', 'https://t.co/wu7nKIkB4N', 'consideration', '#Grammy', 'awards', 'round', 'ballot', 'vote', '@recordingacademy', 'voters', 'consideration', 'link', 'music', 'video', 'https://t.co/Bo20PIwAdG', 'https://t.co/xviq7kJpJ0', '\"', 'rock', 'album', '#GRAMMYs', 'artist', 'singer', 'award', 'years', '🖤', '@MileyCyrus', 'https://t.co/X5SsM3RyJi', 'https://t.co/1iv27ybTBL', 'https://t.co/HjAzg0Blsg', \"don't\", 'nerve', 'fucking', 'records', 'release', '👀', '👀', 'present', '#ARIAsMileyCyrus', 'https://t.co/jEGpIljprG', 'ladies', 'gentlemen', 'winner', 'rock', 'album', 'https://t.co/0k7VeE2tKr', 'absurd', '#producer', '#igers', 'music', 'https://t.co/W0sXOX8IBl', 'Thanks', '🔥', 'work', '#Sticker', '#NCT127', 'art', 'life', 'piece', '#GRAMMYs', '#Sticker', 'https://t.co/3tFsWZEIAS', '#GRAMMYS', 'Country', 'https://t.co/WUvEyLdrj5', 'Thanks', '@9NorthRecords', '#Grammys', 'pop', 'categories', 'Nominations', 'reports', '#Grammys', 'pop', 'categories', 'Nominations', 'https://t.co/iVpVHDD0EI', 'album', 'win', 'https://t.co/d3s6LREn0W', 'everyone', 'share', 'song', 'ballot', 'blessings', 'https://t.co/r88wvXERpl', 'Name', '#Platinum', '#GRAMMYs', '#16tracks', 'foi', '#GRAMMYs', 'https://t.co/YWw2LOxram', '“', '”', 'considerations', 'official', 'https://t.co/hcybirgQtl', '“', '#GRAMMYs', 'reports', 'nomination', 'year', '#GRAMMYs', 'album', 'year', '#GRAMMYs', 'bts', 'impact', 'others', 'Fans', 'winner', 'beard', 'dons', 'leather', 'outfit', 'singer', '#Burnaboy', 'beard', 'https://t.co/j2I3nCLFDD', 'news', 'today', 'friend', '@Raghu_Dixit', '@caseydriessen', 'album', 'https://t.co/zHXUOBXlt1', '#Inclusivity', '#language', '#vocals', '@taylorswift13', 'https://t.co/3COX4pitoy', 'foi', 'categoria', 'https://t.co/zKqWQT0dNs', '#MONSTAX', 'https://t.co/v3l8hoqvlG', 'album', 'holidays', 'vote', 'https://t.co/szQo1mFoX8', '▶', 'beauty', 'place', 'beauty', 'video', 'https://t.co/YQusNfjYKJ', 'https://t.co/A9ujhxRjf5', 'https://t.co/taIT3b4V96', '”', 'rock', 'album', '#Grammys', 'artist', 'singer', 'award', 'years', 'https://t.co/j6bUk1pl0s', 'album', 'vote', 'listen', 'band', '@JasonMiles', 'https://t.co/7Bqr767DeI', 'song', 'https://t.co/H9KpZaV81a', 'longlist', 'track', 'year', 'https://t.co/0yFWOxEX8v', 'https://t.co/a7NZr2uG5q', 'https://t.co/J2vl0WPe0u', '@Variety', '#Grammys', '#GRAMMYs', 'power', 'privilege', 'prestige', 'music', 's', 'creators', 'hands', 'members', 'voting', 'member', \"don't\", 'forget', '“', 'consideration', 'voting', 'ballot', 'category', '#NowTheSilence', 'https://t.co/6UoImQNxeg', 'week', 'courtesy', '@EgoEllaMay', 'tomorrows', 'music', '@SNG_Manchester', 'c', 'https://t.co/wrNeYJN7Jx', 'https://t.co/kd6LssvpMY', 'https://t.co/Yq1iWXuedS', 'share', 'dream', 'member', 'recording', 'academy', 'music', 'round', 'ballot', 'year', 'https://t.co/UVgWfRO0Db', 'https://t.co/T0VWCqZC9P', 'ballot', 'da', 'music', 'https://t.co/DHan149e1b', 'Thanks', 'list', 'week', 'categories', '#Blackpink', 'movie', '×', '#GRAMMYs', 'https://t.co/SGtuuXjA23', '“', '#GRAMMYs', 'reports', 'https://t.co/1GKmmqw5ue', 'tea', '#xfiles', 'https://t.co/7z7Jzng6wQ', '@demjointz', 'YEEEES', 'Deserve', 'https://t.co/VDoKXZCKAW', 'consideration', 'concern', '@dovesociety', 'https://t.co/miLPV3AaIe', 'consideration', 'album', '\"', 'Year', 'https://t.co/tRAvypvSzE', '#GRAMMYs', '#GrammyAwards', 'deseve', 'artist', 'category', 'weigh', 'chance', 'year', 'https://t.co/OPrCPllIx6', 'https://t.co/aDWI27uAmE', 'label', 'category', '#GRAMMYs', 'https://t.co/tG4QCLvCuE', 'Consideration', '#BlueBanisters', 'time', 'room', 'headphones', 'mushroom', 'tea', 'decision', 'life', 'awakening', 'horns', 'album', 'https://t.co/0fj6z9kKzX', 's', '‘', 'https://t.co/HIBh8tQr2m', 'pfp', 'btw', 'stream', 'sticker', 'Consideration', '”', 'https://t.co/51sWcYBLUp', 'eligible', '#BTS', 'Consideration', 'songwriter', 'https://t.co/8evxoKhnim', '🔥', '#hiphopculture', '#africanprint', '#mavinrecords', 'https://t.co/BchTZxG9Lg', 'article', '@AvaMax', 'nomination', '#Grammys', 'nominations', 'https://t.co/CJ0cSdhTV5', '@saftykai', 'song', 'https://t.co/xr3G0sCcaa', 'winner', '\"', 'positions', 'telecast', 'Univision', 'p', 'm', 'p', 'm', 'https://t.co/CKjwuyPfeF', 'please', 'song', 'album', '#NCT127', '#GRAMMY', 'Univision', 'p', 'm', 'p', 'm', 'https://t.co/icud3odN7P', 'i', 'years', 'work', 'i', 'category', 'work', 'puddle', '😍', 'Consideration', 'Reflections', 'pianist', 'winner', 'track', 'album', 'compositions', 'journey', 'joy', 'love', 'loss', 'tf', 'bhishes', 'grammys', 'something', 'doesn', 't', 'grammy', 'grammy', 'way', 'shhhh', 'https://t.co/r5j6cqulGR', 'members', 'album', 'consideration', '#foryourconsideration', '#foryourgrammyconsideration', 'https://t.co/c4qxYb0cg1', '\"', '\"', '#FYC', '#ForYourConsideration', '#ForYourGRAMMYConsideration', 'https://t.co/ZLkRBO97zH', \"YOU'RE\", '#TXT', '@TXT_members', 'https://t.co/k09gy0XhPV', '#TOMORROW_X_TOGETHER', '🔗', 'https://t.co/SHmqeKw0mP', 'company', 'application', 'themself', '☁', 'https://t.co/Y982I0PbZk', 'edition', 'controversy', 'clash', 'focus', 'need', 'institutions', 'https://t.co/BbMmpcGKp9']\n"
     ]
    },
    {
     "data": {
      "application/javascript": [
       "\n",
       "            setTimeout(function() {\n",
       "                var nbb_cell_id = 8;\n",
       "                var nbb_unformatted_code = \"# Aplicamos POS\\n\\ndata = []\\n# Crear lista de palabras\\nfor x in tokenized_text:\\n    for word in x:\\n        data.append(word)\\n\\n# Etiquetar texto con pos_tag\\ndata_pos = nltk.pos_tag(data)\\nprint(data_pos)\\ndata_noun = []\\nfor k, v in data_pos:\\n    if v in [\\\"NN\\\", \\\"NNS\\\"]:\\n        data_noun.append(k)\\nprint(data_noun)\";\n",
       "                var nbb_formatted_code = \"# Aplicamos POS\\n\\ndata = []\\n# Crear lista de palabras\\nfor x in tokenized_text:\\n    for word in x:\\n        data.append(word)\\n\\n# Etiquetar texto con pos_tag\\ndata_pos = nltk.pos_tag(data)\\nprint(data_pos)\\ndata_noun = []\\nfor k, v in data_pos:\\n    if v in [\\\"NN\\\", \\\"NNS\\\"]:\\n        data_noun.append(k)\\nprint(data_noun)\";\n",
       "                var nbb_cells = Jupyter.notebook.get_cells();\n",
       "                for (var i = 0; i < nbb_cells.length; ++i) {\n",
       "                    if (nbb_cells[i].input_prompt_number == nbb_cell_id) {\n",
       "                        if (nbb_cells[i].get_text() == nbb_unformatted_code) {\n",
       "                             nbb_cells[i].set_text(nbb_formatted_code);\n",
       "                        }\n",
       "                        break;\n",
       "                    }\n",
       "                }\n",
       "            }, 500);\n",
       "            "
      ],
      "text/plain": [
       "<IPython.core.display.Javascript object>"
      ]
     },
     "metadata": {},
     "output_type": "display_data"
    }
   ],
   "source": [
    "# Aplicamos POS\n",
    "\n",
    "data = []\n",
    "# Crear lista de palabras\n",
    "for x in tokenized_text:\n",
    "    for word in x:\n",
    "        data.append(word)\n",
    "\n",
    "# Etiquetar texto con pos_tag\n",
    "data_pos = nltk.pos_tag(data)\n",
    "print(data_pos)\n",
    "data_noun = []\n",
    "for k, v in data_pos:\n",
    "    if v in [\"NN\", \"NNS\"]:\n",
    "        data_noun.append(k)\n",
    "print(data_noun)"
   ]
  },
  {
   "cell_type": "code",
   "execution_count": 9,
   "id": "072d8c0a",
   "metadata": {},
   "outputs": [
    {
     "data": {
      "text/html": [
       "<div>\n",
       "<style scoped>\n",
       "    .dataframe tbody tr th:only-of-type {\n",
       "        vertical-align: middle;\n",
       "    }\n",
       "\n",
       "    .dataframe tbody tr th {\n",
       "        vertical-align: top;\n",
       "    }\n",
       "\n",
       "    .dataframe thead th {\n",
       "        text-align: right;\n",
       "    }\n",
       "</style>\n",
       "<table border=\"1\" class=\"dataframe\">\n",
       "  <thead>\n",
       "    <tr style=\"text-align: right;\">\n",
       "      <th></th>\n",
       "      <th>Frequency</th>\n",
       "    </tr>\n",
       "    <tr>\n",
       "      <th>Term</th>\n",
       "      <th></th>\n",
       "    </tr>\n",
       "  </thead>\n",
       "  <tbody>\n",
       "    <tr>\n",
       "      <th>#GRAMMYs</th>\n",
       "      <td>13</td>\n",
       "    </tr>\n",
       "    <tr>\n",
       "      <th>album</th>\n",
       "      <td>13</td>\n",
       "    </tr>\n",
       "    <tr>\n",
       "      <th>consideration</th>\n",
       "      <td>10</td>\n",
       "    </tr>\n",
       "    <tr>\n",
       "      <th>\"</th>\n",
       "      <td>6</td>\n",
       "    </tr>\n",
       "    <tr>\n",
       "      <th>music</th>\n",
       "      <td>6</td>\n",
       "    </tr>\n",
       "    <tr>\n",
       "      <th>...</th>\n",
       "      <td>...</td>\n",
       "    </tr>\n",
       "    <tr>\n",
       "      <th>@caseydriessen</th>\n",
       "      <td>1</td>\n",
       "    </tr>\n",
       "    <tr>\n",
       "      <th>https://t.co/zHXUOBXlt1</th>\n",
       "      <td>1</td>\n",
       "    </tr>\n",
       "    <tr>\n",
       "      <th>#Inclusivity</th>\n",
       "      <td>1</td>\n",
       "    </tr>\n",
       "    <tr>\n",
       "      <th>#language</th>\n",
       "      <td>1</td>\n",
       "    </tr>\n",
       "    <tr>\n",
       "      <th>https://t.co/BbMmpcGKp9</th>\n",
       "      <td>1</td>\n",
       "    </tr>\n",
       "  </tbody>\n",
       "</table>\n",
       "<p>302 rows × 1 columns</p>\n",
       "</div>"
      ],
      "text/plain": [
       "                         Frequency\n",
       "Term                              \n",
       "#GRAMMYs                        13\n",
       "album                           13\n",
       "consideration                   10\n",
       "\"                                6\n",
       "music                            6\n",
       "...                            ...\n",
       "@caseydriessen                   1\n",
       "https://t.co/zHXUOBXlt1          1\n",
       "#Inclusivity                     1\n",
       "#language                        1\n",
       "https://t.co/BbMmpcGKp9          1\n",
       "\n",
       "[302 rows x 1 columns]"
      ]
     },
     "execution_count": 9,
     "metadata": {},
     "output_type": "execute_result"
    },
    {
     "data": {
      "application/javascript": [
       "\n",
       "            setTimeout(function() {\n",
       "                var nbb_cell_id = 9;\n",
       "                var nbb_unformatted_code = \"# Obtener solo: NN - NNS\\n\\nfrom nltk.probability import FreqDist\\n\\n# Obtener frecuencia de cada t\\u00e9rmino\\nfdist = FreqDist(data_noun)\\n# Convertir a dataframe\\ndf_fdist = pd.DataFrame.from_dict(fdist, orient='index')\\ndf_fdist.columns = ['Frequency']\\ndf_fdist.index.name = 'Term'\\ndf_fdist.sort_values(by=['Frequency'], inplace=True, ascending=False)\\n# pd.set_option('display.max_rows', None)\\n\\ndf_fdist\";\n",
       "                var nbb_formatted_code = \"# Obtener solo: NN - NNS\\n\\nfrom nltk.probability import FreqDist\\n\\n# Obtener frecuencia de cada t\\u00e9rmino\\nfdist = FreqDist(data_noun)\\n# Convertir a dataframe\\ndf_fdist = pd.DataFrame.from_dict(fdist, orient=\\\"index\\\")\\ndf_fdist.columns = [\\\"Frequency\\\"]\\ndf_fdist.index.name = \\\"Term\\\"\\ndf_fdist.sort_values(by=[\\\"Frequency\\\"], inplace=True, ascending=False)\\n# pd.set_option('display.max_rows', None)\\n\\ndf_fdist\";\n",
       "                var nbb_cells = Jupyter.notebook.get_cells();\n",
       "                for (var i = 0; i < nbb_cells.length; ++i) {\n",
       "                    if (nbb_cells[i].input_prompt_number == nbb_cell_id) {\n",
       "                        if (nbb_cells[i].get_text() == nbb_unformatted_code) {\n",
       "                             nbb_cells[i].set_text(nbb_formatted_code);\n",
       "                        }\n",
       "                        break;\n",
       "                    }\n",
       "                }\n",
       "            }, 500);\n",
       "            "
      ],
      "text/plain": [
       "<IPython.core.display.Javascript object>"
      ]
     },
     "metadata": {},
     "output_type": "display_data"
    }
   ],
   "source": [
    "# Obtener solo: NN - NNS\n",
    "\n",
    "from nltk.probability import FreqDist\n",
    "\n",
    "# Obtener frecuencia de cada término\n",
    "fdist = FreqDist(data_noun)\n",
    "# Convertir a dataframe\n",
    "df_fdist = pd.DataFrame.from_dict(fdist, orient='index')\n",
    "df_fdist.columns = ['Frequency']\n",
    "df_fdist.index.name = 'Term'\n",
    "df_fdist.sort_values(by=['Frequency'], inplace=True, ascending=False)\n",
    "# pd.set_option('display.max_rows', None)\n",
    "\n",
    "df_fdist\n"
   ]
  },
  {
   "cell_type": "markdown",
   "id": "1b9b1b76",
   "metadata": {},
   "source": [
    "- Obtener la lista y frecuencia de los nombres propios en singular y plural\n"
   ]
  },
  {
   "cell_type": "markdown",
   "id": "3f71dcd8",
   "metadata": {},
   "source": [
    "# Ejercicio N°2"
   ]
  },
  {
   "cell_type": "code",
   "execution_count": 10,
   "id": "9989d9c7",
   "metadata": {},
   "outputs": [
    {
     "name": "stdout",
     "output_type": "stream",
     "text": [
      "[('For', 'IN'), ('your', 'PRP$'), ('consideration', 'NN'), (':)', 'VBD'), ('@RecordingAcad', '$'), ('1st', 'CD'), ('round', 'NN'), ('voting', 'NN'), ('is', 'VBZ'), ('open', 'JJ'), ('!', '.'), ('#contemporaryblues', 'NNS'), ('#bluesmusic', 'JJ'), ('#GRAMMYs', 'NNP'), ('https://t.co/NuOaPvT3ta', 'NN'), ('Big', 'NNP'), ('up', 'IN'), ('our', 'PRP$'), ('President', 'NNP'), ('and', 'CC'), ('CEO', 'NNP'), ('@harveymasonjr', 'NNP'), ('Congrats', 'NNP'), ('!', '.'), ('#grammys', 'NN'), ('#recordingacademy', 'NNP'), ('@recordingacademy', 'NNP'), ('@', 'NNP'), ('Monom', 'NNP'), ('Recording', 'NNP'), ('Studio', 'NNP'), ('https://t.co/Dll5dB1GGI', 'NN'), ('#', '#'), ('7', 'CD'), ('Grammy', 'NNP'), ('in', 'IN'), ('the', 'DT'), ('building', 'NN'), ('nobody', 'NN'), ('works', 'VBZ'), ('harder', 'JJR'), ('than', 'IN'), ('our', 'PRP$'), ('founder', 'NN'), ('@malikyusef100', 'NN'), ('.', '.'), ('Oh', 'UH'), ('you', 'PRP'), ('think', 'VBP'), ('you', 'PRP'), ('know', 'VBP'), ('someone', 'NN'), ('else', 'RB'), ('...', ':'), (\"I'll\", 'NNP'), ('wait', 'NN'), ('.', '.'), ('#badkids', 'NNS'), ('#grammys', 'VBD'), ('#ye', 'JJ'), ('#donda', 'NNP'), ('https://t.co/wuRFbX62I2', 'NN'), ('https://t.co/HxOk7CF4Mq', 'VBD'), ('A', 'DT'), ('moment', 'NN'), ('in', 'IN'), ('history', 'NN'), ('.', '.'), ('#Grammys', 'CC'), ('#ARIAsMileyCyrus', 'JJ'), ('https://t.co/R4iyIsE100', 'NN'), ('#', '#'), ('7', 'CD'), ('Grammy', 'NNP'), ('in', 'IN'), ('the', 'DT'), ('building', 'NN'), ('nobody', 'NN'), ('works', 'VBZ'), ('harder', 'JJR'), ('than', 'IN'), ('our', 'PRP$'), ('founder', 'NN'), ('@malikyusef100', 'NN'), ('.', '.'), ('Oh', 'UH'), ('you', 'PRP'), ('think', 'VBP'), ('you', 'PRP'), ('know', 'VBP'), ('someone', 'NN'), ('else', 'RB'), ('...', ':'), (\"I'll\", 'NNP'), ('wait', 'NN'), ('.', '.'), ('#badkids', 'NNS'), ('#grammys', 'VBD'), ('#ye', 'JJ'), ('#donda', 'NNP'), ('https://t.co/wuRFbX62I2', 'NN'), ('https://t.co/cSiT2Jmgte', 'NN'), ('#rp', 'NNP'), ('@_JERMAINEHOLMES', 'NNP'), ('god', 'VB'), ('bless', 'NN'), ('you', 'PRP'), ('and', 'CC'), ('thank', 'VB'), ('you', 'PRP'), ('bro', 'VBP'), ('for', 'IN'), ('keeping', 'VBG'), ('it', 'PRP'), ('1000', 'CD'), ('with', 'IN'), ('me', 'PRP'), ('.', '.'), ('🙏', 'VB'), ('🏾', 'JJ'), ('💯', 'NNP'), ('Voting', 'NNP'), ('starts', 'VBZ'), ('NOW', 'NNP'), ('.', '.'), ('For', 'IN'), ('your', 'PRP$'), ('@RecordingAcad', 'JJ'), ('consideration', 'NN'), ('.', '.'), ('#Petestrumentals3', 'NN'), ('for', 'IN'), ('Best', 'NNP'), ('Contemporary', 'NNP'), ('Instrumental', 'NNP'), ('Album', 'NNP'), ('.', '.'), ('BIG', 'NNP'), ('SHOUTOUT', 'NNP'), ('TO', 'NNP'), ('MY', 'NNP'), ('BIG', 'NNP'), ('BROTHER', 'NNP'), ('#PeteRock', 'NNP'), ('🥇', 'NNP'), ('#GRAMMYs', 'NNP'), ('https://t.co/5ZlQbGqzOP', 'NN'), ('BLACKPINK', 'NNP'), ('GOT', 'NNP'), ('A', 'NNP'), ('GRAMMY', 'NNP'), ('NOMINATION', 'NNP'), ('YALL', 'NNP'), ('#SG', 'NNP'), ('#ARIAsArianaGrande', 'NNP'), ('#RIHANNA', 'NNP'), ('#BLONKSEATING', 'NN'), ('#BLINK', 'NN'), ('#BlackPink', 'VBP'), ('#GRAMMYS', 'NNP'), ('https://t.co/mvx0XQlVV8', 'NN'), ('Thought', 'NNP'), ('I', 'PRP'), ('’', 'VBP'), ('d', 'JJ'), ('make', 'VBP'), ('a', 'DT'), ('thread', 'NN'), ('for', 'IN'), ('all', 'PDT'), ('the', 'DT'), ('viable', 'JJ'), ('options', 'NNS'), ('for', 'IN'), ('#GRAMMYs', 'JJ'), ('2022', 'CD'), ('Rock', 'NNP'), ('Album', 'NNP'), ('of', 'IN'), ('the', 'DT'), ('Year', 'NN'), (':', ':'), ('https://t.co/x1ANNOIsMD', 'NN'), ('🙏', 'NN'), ('For', 'IN'), ('your', 'PRP$'), ('GRAMMY', 'NNP'), ('Awards', 'NNPS'), ('consideration', 'NN'), ('🙏', 'NNP'), ('🧡', 'NNP'), ('Large', 'NNP'), ('Jazz', 'NNP'), ('Ensemble', 'NNP'), ('Album', 'NNP'), (':', ':'), ('Imaginary', 'JJ'), ('Visions', 'NNS'), ('🧡', 'VBP'), ('💛', 'JJ'), ('Best', 'NNP'), ('Instrumental', 'NNP'), ('Composition', 'NNP'), (':', ':'), ('I', 'PRP'), ('Said', 'VBD'), ('Cool', 'NNP'), (',', ','), ('You', 'PRP'), ('Said', 'VBP'), ('…', 'VB'), ('What', 'WP'), ('?', '.'), ('💛', 'JJ'), ('😌', 'NN'), ('👂', 'NNP'), ('🎶', 'NNP'), ('♥', 'NNP'), ('️', 'NNP'), ('🙏', 'NNP'), ('🙏', 'NNP'), ('🙏', 'NNP'), ('@EditionRecords', 'NNP'), ('#largejazzensemble', 'JJ'), ('#jazz', 'NN'), ('#instrumentalmusic', 'JJ'), ('#mihohazama', 'NNP'), ('#fyc', 'NNP'), ('#foryourconsideration', 'NNP'), ('#grammys', 'NNP'), ('https://t.co/gDJzQHH5pp', 'NN'), ('Epic', 'NNP'), ('Records', 'NNP'), ('has', 'VBZ'), ('submitted', 'VBN'), ('@BIABIA', 'NNP'), ('&', 'CC'), ('@NICKIMINAJ', 'NNP'), ('\"', 'NNP'), ('WHOLE', 'NNP'), ('LOTTA', 'NNP'), ('MONEY', 'NNP'), ('(', '('), ('Remix', 'NNP'), (')', ')'), ('\"', 'NN'), ('for', 'IN'), ('consideration', 'NN'), ('at', 'IN'), ('the', 'DT'), ('2022', 'CD'), ('#GRAMMYs', 'NN'), ('.', '.'), ('https://t.co/Br4HfXrBP1', 'NN'), ('@TWICE_Charts', 'VBZ'), ('@JYPETWICE', 'IN'), ('Hey', 'NNP'), ('!', '.'), ('Republic', 'NNP'), ('Records', 'NNPS'), ('submitted', 'VBD'), ('“', 'NNP'), ('Taste', 'NNP'), ('of', 'IN'), ('Love', 'NNP'), ('”', 'NNP'), ('at', 'IN'), ('the', 'DT'), ('2022', 'CD'), ('#GRAMMYs', 'NNP'), ('https://t.co/Kpnl0cTwcq', 'JJ'), ('Please', 'NNP'), ('can', 'MD'), (\"y'all\", 'VB'), ('help', 'VB'), ('me', 'PRP'), ('out', 'RP'), ('by', 'IN'), ('reposting', 'VBG'), ('this', 'DT'), ('post', 'NN'), ('on', 'IN'), ('any', 'DT'), ('of', 'IN'), ('your', 'PRP$'), ('social', 'JJ'), ('media', 'NNS'), ('platforms', 'NNS'), ('and', 'CC'), ('please', 'VB'), (\"don't\", 'JJ'), ('forget', 'VB'), ('to', 'TO'), ('tag', 'VB'), ('@RecordingAcad', 'NNP'), ('#GRAMMYs', 'NNP'), ('#voteforme', 'NNP'), (\"#we'llbeok\", 'NNP'), ('#nandos', 'NNP'), ('#racism', 'NNP'), ('#NastyC', 'NNP'), ('#Chelsea', 'NNP'), ('#Russ', 'NNP'), ('#Tuchel', 'NNP'), ('#Hudson', 'NNP'), ('#SouthAfrica', 'NNP'), ('#music', 'NNP'), ('#award', 'NNP'), ('#Best', 'NNP'), ('#Rnb', 'NNP'), ('#performance', 'NNP'), ('https://t.co/wu7nKIkB4N', 'NN'), ('For', 'IN'), ('your', 'PRP$'), ('consideration', 'NN'), ('#Grammy', 'NN'), ('awards', 'NNS'), ('First', 'NNP'), ('round', 'NN'), ('ballot', 'NN'), (',', ','), ('please', 'VB'), ('vote', 'NN'), ('for', 'IN'), ('@lasandra_sa', 'NNP'), ('\"', 'NNP'), (\"We'll\", 'NNP'), ('be', 'VB'), ('ok', 'JJ'), ('\"', 'NNP'), ('Best', 'NNP'), ('R', 'NNP'), ('&', 'CC'), ('B', 'NNP'), ('Performance', 'NNP'), ('Thanks', 'NNP'), ('to', 'TO'), ('the', 'DT'), ('@recordingacademy', 'NN'), ('voters', 'NNS'), ('for', 'IN'), ('your', 'PRP$'), ('consideration', 'NN'), (\"Here's\", 'NNP'), ('the', 'DT'), ('link', 'NN'), ('to', 'TO'), ('my', 'PRP$'), ('music', 'NN'), ('video', 'NN'), ('https://t.co/Bo20PIwAdG', 'NN'), ('#GRAMMYs', 'NNP'), ('#RecordingAcademy', 'NNP'), ('#vote4me', 'NNP'), ('https://t.co/xviq7kJpJ0', 'NN'), ('\"', 'NNP'), ('Plastic', 'NNP'), ('Hearts', 'NNP'), ('\"', 'NN'), ('by', 'IN'), ('Miley', 'NNP'), ('has', 'VBZ'), ('been', 'VBN'), ('submitted', 'VBN'), ('for', 'IN'), ('best', 'JJS'), ('rock', 'NN'), ('album', 'NN'), ('at', 'IN'), ('the', 'DT'), ('#GRAMMYs', 'NN'), ('.', '.'), ('If', 'IN'), ('Miley', 'NNP'), ('were', 'VBD'), ('to', 'TO'), ('win', 'VB'), (',', ','), (\"she's\", 'VB'), ('become', 'VB'), ('the', 'DT'), ('first', 'JJ'), ('female', 'JJ'), ('artist', 'NN'), ('(', '('), ('and', 'CC'), ('first', 'RB'), ('solo', 'JJ'), ('singer', 'NN'), ('overall', 'JJ'), (')', ')'), ('to', 'TO'), ('win', 'VB'), ('the', 'DT'), ('award', 'NN'), ('in', 'IN'), ('23', 'CD'), ('years', 'NNS'), ('!', '.'), ('!', '.'), ('!', '.'), ('🖤', 'JJ'), ('🖤', 'JJ'), ('🖤', 'NN'), ('@MileyCyrus', 'NN'), ('IS', 'NNP'), ('SICKENING', 'NNP'), (\"Y'ALL\", 'NNP'), ('!', '.'), ('@MileyTeamITALY', 'NNP'), ('@MileyOfficial', 'JJ'), ('https://t.co/X5SsM3RyJi', 'NN'), ('Album', 'NNP'), ('Smart', 'NNP'), ('Link', 'NNP'), ('-', ':'), ('https://t.co/1iv27ybTBL', 'NN'), ('#music', 'JJ'), ('#hmma', 'NNP'), ('#GRAMMYs', 'NNP'), ('#fyc', 'NNP'), ('#musicforlove', 'NNP'), ('#humanitarianproject', 'NNP'), ('https://t.co/HjAzg0Blsg', 'NN'), ('I', 'PRP'), ('still', 'RB'), ('hope', 'VBP'), ('that', 'IN'), ('#GRAMMYs', 'VBP'), (\"don't\", 'NNS'), ('have', 'VBP'), ('the', 'DT'), ('nerve', 'NN'), ('to', 'TO'), ('ignore', 'VB'), ('Plastic', 'NNP'), ('Hearts', 'NNP'), ('which', 'WDT'), ('broke', 'VBD'), ('fucking', 'NN'), ('records', 'NNS'), ('since', 'IN'), ('its', 'PRP$'), ('release', 'NN'), ('.', '.'), ('https://t.co/cVae9wCoDY', 'JJ'), ('November', 'NNP'), ('23rd', 'CD'), ('?', '.'), ('?', '.'), ('?', '.'), ('👀', 'JJ'), ('👀', 'NN'), ('👀', 'NN'), ('They', 'PRP'), ('better', 'RBR'), ('give', 'VB'), ('her', 'PRP$'), ('the', 'DT'), ('best', 'JJS'), ('birthday', 'JJ'), ('present', 'NN'), ('!', '.'), ('#ARIAsMileyCyrus', 'NN'), ('#GRAMMYs', 'JJ'), ('https://t.co/jEGpIljprG', 'NN'), ('ladies', 'NNS'), ('and', 'CC'), ('gentlemen', 'NNS'), ('the', 'DT'), ('winner', 'NN'), ('of', 'IN'), ('the', 'DT'), ('best', 'JJS'), ('rock', 'NN'), ('album', 'NN'), ('is', 'VBZ'), ('#GRAMMYs', 'JJ'), ('https://t.co/0k7VeE2tKr', 'NN'), ('Only', 'RB'), ('those', 'DT'), ('who', 'WP'), ('attempt', 'VBP'), ('the', 'DT'), ('absurd', 'NN'), ('can', 'MD'), ('achieve', 'VB'), ('the', 'DT'), ('impossible', 'JJ'), ('4X', 'CD'), ('Platinum', 'NNP'), ('for', 'IN'), ('producing', 'VBG'), ('on', 'IN'), ('Astroworld', 'NNP'), ('@travisscott', 'NNP'), ('#music', 'JJ'), ('#producer', 'NN'), ('#igers', 'NNS'), ('#life', 'VBP'), ('#wow', 'JJ'), ('#amazing', 'VBG'), ('#grammys', 'JJ'), ('#god', 'NNP'), ('#igdaily', 'NNP'), ('@', 'NNP'), ('Los', 'NNP'), ('Angeles', 'NNP'), (',', ','), ('California', 'NNP'), ('https://t.co/RFW7OPENoe', 'VBD'), ('The', 'DT'), ('latest', 'JJS'), ('The', 'DT'), ('Gospel', 'NNP'), ('music', 'NN'), ('Daily', 'NNP'), ('!', '.'), ('https://t.co/W0sXOX8IBl', 'NN'), ('Thanks', 'NNS'), ('to', 'TO'), ('@kshnews', 'VB'), ('#grammys', 'NNP'), ('#music', 'NNP'), ('Yessss', 'NNP'), ('letss', 'VBZ'), ('get', 'VB'), ('it', 'PRP'), ('!', '.'), ('!', '.'), ('💪', 'JJ'), ('🔥', 'JJ'), ('🔥', 'NN'), ('🔥', 'NNP'), ('..', 'NNP'), ('We', 'PRP'), ('appreciate', 'VBP'), ('all', 'DT'), ('your', 'PRP$'), ('hard', 'JJ'), ('work', 'NN'), ('on', 'IN'), ('#Sticker', 'NN'), ('and', 'CC'), ('trusting', 'VBG'), ('#NCT127', 'NN'), ('in', 'IN'), ('making', 'VBG'), ('this', 'DT'), ('art', 'NN'), ('come', 'VB'), ('to', 'TO'), ('life', 'NN'), ('!', '.'), ('It', 'PRP'), ('’', 'VBZ'), ('s', 'VBZ'), ('a', 'DT'), ('wonderfully', 'RB'), ('made', 'VBN'), ('piece', 'NN'), ('that', 'WDT'), ('deserves', 'VBZ'), ('to', 'TO'), ('be', 'VB'), ('respected', 'VBN'), ('.', '.'), ('All', 'PDT'), ('the', 'DT'), ('best', 'JJS'), ('!', '.'), ('!', '.'), ('#GRAMMYs', 'NN'), ('for', 'IN'), ('#Sticker', 'NN'), ('and', 'CC'), ('#NCT127', 'NNP'), ('🙏', 'NNP'), ('🤞', 'NNP'), ('https://t.co/3tFsWZEIAS', 'NN'), ('Imagine', 'NNP'), ('if', 'IN'), ('Bebe', 'NNP'), ('Rexha', 'NNP'), ('is', 'VBZ'), ('nominated', 'VBN'), ('at', 'IN'), ('the', 'DT'), ('#GRAMMYS', 'NN'), ('.', '.'), ('What', 'WP'), ('would', 'MD'), ('it', 'PRP'), ('be', 'VB'), ('?', '.'), ('The', 'DT'), ('latest', 'JJS'), ('Country', 'NN'), ('Music', 'NNP'), ('Chatter', 'NNP'), ('!', '.'), ('https://t.co/WUvEyLdrj5', 'NN'), ('Thanks', 'NNS'), ('to', 'TO'), ('@9NorthRecords', 'NNS'), ('#vmas', 'NNP'), ('#grammys', 'NNP'), ('Billboard', 'NNP'), ('reports', 'VBZ'), ('that', 'IN'), ('Plastic', 'NNP'), ('Hearts', 'NNP'), ('by', 'IN'), ('@MileyCyrus', 'NNP'), ('has', 'VBZ'), ('been', 'VBN'), ('submitted', 'VBN'), ('for', 'IN'), ('Best', 'NNP'), ('Rock', 'NNP'), ('Album', 'NNP'), ('at', 'IN'), ('the', 'DT'), ('2022', 'CD'), ('#Grammys', 'NN'), ('after', 'IN'), ('originally', 'RB'), ('being', 'VBG'), ('submitted', 'VBN'), ('for', 'IN'), ('the', 'DT'), ('pop', 'NN'), ('categories', 'NNS'), ('!', '.'), ('Nominations', 'NNS'), ('on', 'IN'), ('November', 'NNP'), ('23rd', 'CD'), ('.', '.'), ('https://t.co/OYX46aJeVt', 'VB'), ('Billboard', 'NNP'), ('reports', 'NNS'), ('that', 'IN'), ('Plastic', 'NNP'), ('Hearts', 'NNP'), ('by', 'IN'), ('@MileyCyrus', 'NNP'), ('has', 'VBZ'), ('been', 'VBN'), ('submitted', 'VBN'), ('for', 'IN'), ('Best', 'NNP'), ('Rock', 'NNP'), ('Album', 'NNP'), ('at', 'IN'), ('the', 'DT'), ('2022', 'CD'), ('#Grammys', 'NN'), ('after', 'IN'), ('originally', 'RB'), ('being', 'VBG'), ('submitted', 'VBN'), ('for', 'IN'), ('the', 'DT'), ('pop', 'NN'), ('categories', 'NNS'), ('!', '.'), ('Nominations', 'NNS'), ('are', 'VBP'), ('November', 'NNP'), ('23rd', 'CD'), ('!', '.'), ('https://t.co/iVpVHDD0EI', 'NN'), ('truly', 'RB'), ('the', 'DT'), ('best', 'JJS'), ('album', 'NN'), ('released', 'VBN'), ('in', 'IN'), ('2020', 'CD'), ('.', '.'), ('she', 'PRP'), ('MUST', 'NNP'), ('win', 'NN'), (',', ','), ('she', 'PRP'), ('was', 'VBD'), ('in', 'IN'), ('HER', 'NNP'), ('BAG', 'NNP'), ('#Grammys', 'NNP'), ('https://t.co/d3s6LREn0W', 'NN'), ('MILEY', 'NNP'), ('CYRUS', 'NNP'), ('IS', 'VBZ'), ('ABOUT', 'NNP'), ('TO', 'NNP'), ('BECOME', 'NNP'), ('A', 'NNP'), ('GRAMMY', 'NNP'), ('WINNING', 'NNP'), ('ARTIST', 'NNP'), ('BOOKMARK', 'NNP'), ('THIS', 'NNP'), ('.', '.'), ('#Grammys', 'VB'), ('Hello', 'NNP'), ('everyone', 'NN'), (',', ','), ('happy', 'JJ'), ('to', 'TO'), ('share', 'NN'), ('that', 'IN'), ('our', 'PRP$'), ('song', 'NN'), ('No', 'NNP'), ('Plastic', 'NNP'), ('Swear', 'NNP'), ('Now', 'RB'), ('is', 'VBZ'), ('on', 'IN'), ('the', 'DT'), ('64th', 'CD'), ('Grammy', 'NNP'), ('Awards', 'NNP'), ('ballot', 'NN'), ('in', 'IN'), ('Best', 'NNP'), ('Arrangement', 'NNP'), ('Instrumental', 'NNP'), ('or', 'CC'), ('A', 'NNP'), ('Cappella', 'NNP'), ('category.Need', 'VB'), ('all', 'DT'), ('your', 'PRP$'), ('blessings', 'NNS'), ('#RecordingAcademy', 'VBP'), ('#Vote4GRAMMYs', 'JJ'), ('#grammys', 'NNP'), ('#wearemusic', 'NNP'), ('#GRAMMYs', 'NNP'), ('#NoPlasticSwearNow', 'NNP'), ('https://t.co/dRcnP9emwy', 'VBZ'), ('Bebe', 'NNP'), ('Rexha', 'NNP'), ('for', 'IN'), ('#GRAMMYs', 'NNP'), ('&', 'CC'), ('#EMAs', 'NNP'), ('https://t.co/r88wvXERpl', 'NN'), ('Name', 'NN'), ('a', 'DT'), ('Nigeria', 'NNP'), ('underrated', 'JJ'), ('Album', 'NNP'), ('/', 'NNP'), ('EP', 'NNP'), ('?', '.'), ('#Platinum', 'NN'), ('#GRAMMYs', 'NN'), ('#underrated', 'VBD'), ('#16tracks', 'NNS'), ('#hiptv', 'NNP'), ('🚨', 'NNP'), ('Segundo', 'NNP'), ('a', 'DT'), ('Billboard', 'NNP'), (',', ','), ('“', 'NNP'), ('Plastic', 'NNP'), ('Hearts', 'NNP'), ('”', 'NNP'), ('foi', 'NN'), ('submetido', 'VBD'), ('a', 'DT'), ('“', 'JJ'), ('Best', 'NNP'), ('Rock', 'NNP'), ('Album', 'NNP'), ('”', 'NNP'), ('no', 'DT'), ('#GRAMMYs', 'NN'), ('2022', 'CD'), ('.', '.'), ('https://t.co/YWw2LOxram', 'NN'), ('BIG', 'NNP'), ('NEWS', 'NNP'), ('!', '.'), ('!', '.'), ('!', '.'), ('“', 'NN'), ('This', 'DT'), ('is', 'VBZ'), ('TBL', 'NNP'), ('”', 'NN'), ('is', 'VBZ'), ('up', 'RP'), ('for', 'IN'), ('@recordingacademy', 'JJ'), ('considerations', 'NNS'), ('...', ':'), ('🙏', 'NNP'), ('🏻', 'NNP'), ('🙏', 'NNP'), ('🏽', 'NNP'), ('🙏', 'NNP'), ('🏿', 'NNP'), ('#adifferentleague', 'NNP'), ('@ryzemagazine', 'NNP'), ('・', 'NNP'), ('・', 'NNP'), ('・', 'NNP'), ('FYC', 'NNP'), ('-', ':'), ('RYZE', 'NNP'), ('Magazine', 'NNP'), ('Presents', 'NNP'), ('“', 'VB'), ('This', 'DT'), ('Is', 'VBZ'), ('TBL', 'NNP'), ('”', 'NNP'), ('(', '('), ('thee', 'JJ'), ('official', 'NN'), ('TBL', 'NNP'), ('Theme', 'NNP'), ('Song', 'NNP'), ('and', 'CC'), ('Anthem', 'NNP'), (')', ')'), ('featuring', 'VBG'), ('@DaLomonze', 'JJ'), ('x', 'NNP'), ('@emceenicela', 'NNP'), ('x', 'NNP'), ('@lamonttblackshire', 'NNP'), ('#GRAMMYs', 'NNP'), ('https://t.co/hcybirgQtl', 'NN'), ('.', '.'), ('@MileyCyrus', 'CC'), ('’', 'JJ'), ('‘', 'NNP'), ('Plastic', 'NNP'), ('Hearts', 'NNP'), ('’', 'NNP'), ('has', 'VBZ'), ('been', 'VBN'), ('submitted', 'VBN'), ('for', 'IN'), ('“', 'NN'), ('Best', 'NNP'), ('Rock', 'NNP'), ('Album', 'NNP'), ('”', 'NNP'), ('at', 'IN'), ('the', 'DT'), ('2022', 'CD'), ('#GRAMMYs', 'NN'), (',', ','), ('@billboard', 'JJ'), ('reports', 'NNS'), ('.', '.'), ('https://t.co/CyOeAJhgcD', 'VB'), ('what', 'WP'), ('if', 'IN'), ('we', 'PRP'), ('get', 'VBP'), ('a', 'DT'), ('nomination', 'NN'), ('for', 'IN'), ('Grammy', 'NNP'), ('2022', 'CD'), ('next', 'JJ'), ('year', 'NN'), ('?', '.'), ('?', '.'), ('!', '.'), ('!', '.'), ('#BLACKPINK', 'JJ'), ('#GRAMMYs', 'NN'), ('For', 'IN'), ('Your', 'PRP$'), ('Consideration', 'NNP'), ('—', 'NNP'), ('GRAMMY', 'NNP'), ('Awards', 'NNP'), ('First', 'NNP'), ('Round', 'NNP'), ('Ballot', 'NNP'), (':', ':'), ('Black', 'NNP'), ('Nile', 'NNP'), ('“', 'VBZ'), ('The', 'DT'), ('Further', 'NNP'), ('Side', 'NNP'), ('”', 'NNP'), ('Best', 'NNP'), ('Contemporary', 'NNP'), ('Instrumental', 'NNP'), ('Album', 'NNP'), ('#GRAMMYs', 'NNP'), ('#grammys2022', 'NNP'), ('🏆', 'NNP'), ('https://t.co/FceX04kvEF', 'VBD'), ('@Wale', 'NNP'), ('definitely', 'RB'), ('has', 'VBZ'), ('album', 'NN'), ('of', 'IN'), ('the', 'DT'), ('year', 'NN'), ('so', 'RB'), ('far', 'RB'), ('.', '.'), ('#Folarin2', 'JJ'), ('#GRAMMYs', 'JJ'), ('#GRAMMYs', 'NN'), ('this', 'DT'), ('is', 'VBZ'), ('cheating', 'VBG'), ('.', '.'), ('bts', 'NNS'), ('have', 'VBP'), ('to', 'TO'), ('get', 'VB'), ('that', 'DT'), ('.', '.'), ('because', 'IN'), (',', ','), ('their', 'PRP$'), ('impact', 'NN'), ('made', 'VBD'), ('the', 'DT'), ('others', 'NNS'), ('get', 'VBP'), ('nominated.then', 'JJ'), ('why', 'WRB'), ('cheating', 'VBG'), ('?', '.'), ('Fans', 'NNS'), ('react', 'VBP'), ('as', 'IN'), ('#GRAMMYs', 'NNP'), ('Award', 'NNP'), ('winner', 'NN'), ('#Burnaboy', 'NNP'), ('shaves', 'VBZ'), ('off', 'RP'), ('beard', 'NN'), ('&', 'CC'), ('dons', 'NNS'), ('a', 'DT'), ('leather', 'NN'), ('outfit', 'NN'), ('Grammy', 'NNP'), ('award-winning', 'JJ'), ('singer', 'NN'), (',', ','), ('Damini', 'NNP'), ('Ogulu', 'NNP'), (',', ','), ('popularly', 'RB'), ('known', 'VBN'), ('as', 'IN'), ('#Burnaboy', 'NN'), ('has', 'VBZ'), ('shaved', 'VBN'), ('off', 'RP'), ('his', 'PRP$'), ('beard', 'NN'), ('.', '.'), ('https://t.co/j2I3nCLFDD', 'NN'), ('GRAMMYS', 'NNP'), ('Sharing', 'NNP'), ('some', 'DT'), ('great', 'JJ'), ('news', 'NN'), ('today', 'NN'), ('!', '.'), ('!', '.'), ('My', 'PRP$'), ('dear', 'JJ'), ('friend', 'NN'), ('@Raghu_Dixit', 'NN'), ('has', 'VBZ'), ('collaborated', 'VBN'), ('with', 'IN'), ('musician', 'JJ'), ('@caseydriessen', 'NN'), ('for', 'IN'), ('the', 'DT'), ('album', 'NN'), ('#Otherlands', 'VBZ'), ('is', 'VBZ'), ('being', 'VBG'), ('considered', 'VBN'), ('for', 'IN'), ('Grammys', 'NNP'), ('!', '.'), ('!', '.'), ('https://t.co/zHXUOBXlt1', 'NN'), ('#Grammys', 'JJ'), ('#Inclusivity', 'NN'), ('#language', 'NN'), ('#Violin', 'NNP'), ('#guitar', 'NNP'), ('#vocals', 'NNS'), ('#poetry', 'VBP'), ('#Otherlands', 'VBZ'), ('Grammy', 'NNP'), ('Nominations', 'NNP'), ('Forecast', 'NNP'), (':', ':'), ('Could', 'MD'), ('the', 'DT'), ('Top', 'NNP'), ('Categories', 'NNPS'), ('Be', 'NNP'), ('a', 'DT'), ('Battle', 'NNP'), ('of', 'IN'), ('the', 'DT'), ('Teen', 'NNP'), ('Titans', 'NNPS'), ('?', '.'), ('@OliviaRodrigoHQ', 'VB'), ('@LilNasX', 'JJ'), ('@billieeilish', 'JJ'), ('@taylorswift13', 'NN'), ('@Grammys', 'NNP'), ('@RecordingAcad', 'NNP'), ('#TaylorSwift', 'NNP'), ('#oliviarodrigo', 'NNP'), ('#BillieEilish', 'JJ'), ('#LilNasX', 'NNP'), ('#Grammys', 'NNP'), ('https://t.co/3COX4pitoy', 'NN'), ('via', 'IN'), ('@variety', 'NNP'), ('Plastic', 'NNP'), ('Hearts', 'NNP'), ('foi', 'NN'), ('submetido', 'VBD'), ('a', 'DT'), ('categoria', 'NN'), ('de', 'FW'), ('Best', 'NNP'), ('Rock', 'NNP'), ('Album', 'NNP'), ('no', 'DT'), ('#GRAMMYs', 'NNP'), ('https://t.co/zKqWQT0dNs', 'NN'), ('For', 'IN'), ('Ur', 'NNP'), ('Grammy', 'NNP'), ('Consideration', 'NNP'), ('#BTS', 'NNP'), ('#GRAMMYs', 'NNP'), ('https://t.co/OmjUZo6nBs', 'VBZ'), ('#MONSTAX', 'NN'), ('for', 'IN'), ('the', 'DT'), ('#GRAMMYs', 'NNP'), ('https://t.co/v3l8hoqvlG', 'NN'), ('@RecordingAcad', 'NNP'), ('Tinashe', 'NNP'), ('also', 'RB'), ('dropped', 'VBD'), ('this', 'DT'), ('incredible', 'JJ'), ('album', 'NN'), (',', ','), ('Comfort', 'NNP'), ('&', 'CC'), ('Joy', 'NNP'), ('for', 'IN'), ('the', 'DT'), ('holidays', 'NNS'), ('..', 'VBP'), ('let', 'VB'), ('’', 'NNP'), ('s', 'VB'), ('go', 'VB'), ('#lifetimeaward', 'NNP'), ('#Grammys', 'NNP'), ('I', 'PRP'), ('’', 'VBP'), ('m', 'RB'), ('trying', 'VBG'), ('to', 'TO'), ('tell', 'VB'), ('y', 'RB'), ('’', 'NNP'), ('all', 'DT'), ('..', 'NNP'), ('vote', 'NN'), ('for', 'IN'), ('Tinashe', 'NNP'), ('..', 'NNP'), ('must', 'MD'), ('I', 'PRP'), ('say', 'VB'), ('she', 'PRP'), ('is', 'VBZ'), (',', ','), ('Every', 'NNP'), ('Woman', 'NNP'), ('https://t.co/xozhEdaGS3', 'VBZ'), ('https://t.co/szQo1mFoX8', 'NN'), ('▶', 'NN'), ('Do', 'VBP'), ('you', 'PRP'), ('want', 'VB'), ('to', 'TO'), ('enhance', 'VB'), ('your', 'PRP$'), ('beauty', 'NN'), ('?', '.'), ('Yes', 'UH'), (',', ','), ('you', 'PRP'), ('come', 'VBP'), ('to', 'TO'), ('the', 'DT'), ('right', 'JJ'), ('place', 'NN'), ('..', 'NNP'), ('We', 'PRP'), ('provide', 'VBP'), ('the', 'DT'), ('best', 'JJS'), ('beauty', 'NN'), ('essential', 'JJ'), ('video', 'NN'), ('.', '.'), ('✅', 'JJ'), ('WATCH', 'NNP'), ('THIS', 'NNP'), ('VIDEO', 'NNP'), (':', ':'), ('https://t.co/YQusNfjYKJ', 'NN'), ('#PHXvsLAL', 'NNP'), ('#Arizona', 'NNP'), ('#jokic', 'NNP'), ('#ADandDwight', 'NNP'), ('#Zendaya', 'NNP'), ('#WHOAREYOU', 'NNP'), ('#FleetwoodMac', 'NNP'), ('#GRAMMYs', 'NNP'), ('#ONEW', 'NNP'), ('#PermissionToDanceOnStageLA', 'NNP'), ('https://t.co/A9ujhxRjf5', 'NN'), ('For', 'IN'), ('Your', 'PRP$'), ('Grammy', 'NNP'), ('Consideration', 'NNP'), ('@RecordingAcad', 'NNP'), ('#BTS', 'NNP'), ('#GRAMMYs', 'NNP'), ('https://t.co/taIT3b4V96', 'NN'), ('“', 'NNP'), ('Plastic', 'NNP'), ('Hearts', 'NNP'), ('”', 'NN'), ('by', 'IN'), ('Miley', 'NNP'), ('Cyrus', 'NNP'), ('has', 'VBZ'), ('been', 'VBN'), ('submitted', 'VBN'), ('for', 'IN'), ('best', 'JJS'), ('rock', 'NN'), ('album', 'NN'), ('at', 'IN'), ('the', 'DT'), ('#Grammys', 'NN'), ('.', '.'), ('If', 'IN'), ('Cyrus', 'NNP'), ('were', 'VBD'), ('to', 'TO'), ('win', 'VB'), (',', ','), ('she', 'PRP'), ('’', 'VBD'), ('d', 'JJ'), ('become', 'VB'), ('the', 'DT'), ('first', 'JJ'), ('female', 'JJ'), ('artist', 'NN'), ('(', '('), ('and', 'CC'), ('first', 'RB'), ('solo', 'JJ'), ('singer', 'NN'), ('overall', 'JJ'), (')', ')'), ('to', 'TO'), ('win', 'VB'), ('the', 'DT'), ('award', 'NN'), ('in', 'IN'), ('23', 'CD'), ('years', 'NNS'), ('!', '.'), ('https://t.co/j6bUk1pl0s', 'NN'), ('Really', 'RB'), ('thrilled', 'VBD'), ('to', 'TO'), ('see', 'VB'), ('my', 'PRP$'), ('album', 'NN'), ('listed', 'VBN'), ('here', 'RB'), ('!', '.'), ('If', 'IN'), ('you', 'PRP'), ('have', 'VBP'), ('a', 'DT'), ('vote', 'NN'), ('for', 'IN'), ('the', 'DT'), ('Grammy', 'NNP'), ('’', 'NNP'), ('s', 'VBD'), ('it', 'PRP'), ('would', 'MD'), ('be', 'VB'), ('great', 'JJ'), ('if', 'IN'), ('you', 'PRP'), ('’', 'VBP'), ('d', 'JJ'), ('take', 'VB'), ('a', 'DT'), ('listen', 'NN'), ('and', 'CC'), ('consider', 'VB'), ('it', 'PRP'), ('?', '.'), ('❤', 'JJ'), ('️', 'JJ'), ('Thanks', 'NNP'), ('so', 'RB'), ('much', 'JJ'), ('Jason', 'NNP'), ('Miles', 'NNP'), ('and', 'CC'), ('my', 'PRP$'), ('amazing', 'JJ'), ('band', 'NN'), ('!', '.'), ('🙏', 'JJ'), ('@RecordingAcad', 'JJ'), ('@JasonMiles', 'NNS'), ('@Jazzwise', 'VBP'), ('@JazzJournal', 'JJ'), ('@BBCJazzon3', 'NNP'), ('#Grammys', 'NNP'), ('#jazz', 'NNP'), ('#jazzvocal', 'JJ'), ('https://t.co/7Bqr767DeI', 'NN'), ('this', 'DT'), ('had', 'VBD'), ('to', 'TO'), ('be', 'VB'), ('one', 'CD'), ('of', 'IN'), ('the', 'DT'), ('biggest', 'JJS'), ('song', 'NN'), ('snubbed', 'VBD'), ('at', 'IN'), ('#GRAMMYs', 'NNP'), ('https://t.co/H9KpZaV81a', 'NN'), ('Turns', 'VBZ'), ('out', 'RP'), ('Birdsong', 'NNP'), ('has', 'VBZ'), ('also', 'RB'), ('made', 'VBN'), ('the', 'DT'), ('longlist', 'NN'), ('for', 'IN'), ('track', 'NN'), ('of', 'IN'), ('the', 'DT'), ('year', 'NN'), ('🥰', 'NNP'), ('#GRAMMYs', 'NNP'), ('@theluxalma', 'NNP'), ('@Jess_C_Leen', 'NNP'), ('@niamhsandwich', 'NNP'), ('@CariQMusic', 'NNP'), ('@theruthsmith', 'NNP'), ('@SiveMusic', 'NNP'), ('@PSuitestudios', 'NNP'), ('https://t.co/0yFWOxEX8v', 'NN'), ('Sticker', 'NNP'), ('is', 'VBZ'), ('the', 'DT'), ('MASTERPIECE', 'NNP'), ('!', '.'), ('You', 'PRP'), ('deserve', 'VBP'), ('it', 'PRP'), ('!', '.'), ('#GRAMMYs', 'JJ'), ('https://t.co/a7NZr2uG5q', 'NN'), ('For', 'IN'), ('Ur', 'NNP'), ('Grammy', 'NNP'), ('Consideration', 'NNP'), ('#BTS', 'NNP'), ('#GRAMMYs', 'NNP'), ('https://t.co/J2vl0WPe0u', 'NN'), ('Via', 'NNP'), ('@Variety', 'NN'), ('Will', 'NNP'), ('2022', 'CD'), ('Be', 'NNP'), ('#BTS', 'VBN'), ('’', 'NNP'), ('and', 'CC'), ('K-Pop', 'NNP'), ('’', 'NNP'), ('s', 'VBD'), ('Year', 'NNP'), ('at', 'IN'), ('the', 'DT'), ('#Grammys', 'NN'), ('?', '.'), ('https://t.co/z5OXyyuYpF', 'JJ'), ('#GRAMMYs', 'NN'), ('Voting', 'NNP'), ('is', 'VBZ'), ('critically', 'RB'), ('important', 'JJ'), ('because', 'IN'), ('the', 'DT'), ('power', 'NN'), (',', ','), ('privilege', 'NN'), (',', ','), ('and', 'CC'), ('prestige', 'NN'), ('of', 'IN'), ('recognizing', 'VBG'), ('music', 'NN'), ('’', 'NNP'), ('s', 'NN'), ('creators', 'NNS'), ('is', 'VBZ'), ('in', 'IN'), ('the', 'DT'), ('hands', 'NNS'), ('of', 'IN'), ('our', 'PRP$'), ('@RecordingAcademy', 'JJ'), ('members', 'NNS'), ('.', '.'), ('If', 'IN'), (\"you're\", 'PDT'), ('a', 'DT'), ('#RecordingAcademy', 'JJ'), ('voting', 'NN'), ('member', 'NN'), (',', ','), (\"don't\", 'NN'), ('forget', 'NN'), ('to', 'TO'), ('vote', 'VB'), ('!', '.'), ('#Vote4GRAMMYs', 'JJ'), ('https://t.co/T4SbELcRWB', 'JJ'), ('Very', 'NNP'), ('happy', 'JJ'), ('that', 'IN'), ('my', 'PRP$'), ('album', 'JJ'), ('“', 'NN'), ('Now', 'RB'), ('The', 'DT'), ('Silence', 'NNP'), ('”', 'NNP'), ('has', 'VBZ'), ('been', 'VBN'), ('accepted', 'VBN'), ('for', 'IN'), ('consideration', 'NN'), ('by', 'IN'), ('the', 'DT'), ('Recording', 'NNP'), ('Academy', 'NNP'), ('and', 'CC'), ('appears', 'VBZ'), ('on', 'IN'), ('the', 'DT'), ('initial', 'JJ'), ('voting', 'NN'), ('ballot', 'NN'), ('in', 'IN'), ('the', 'DT'), ('category', 'NN'), ('of', 'IN'), ('New', 'NNP'), ('Age', 'NNP'), ('Album', 'NNP'), ('.', '.'), ('#FYC', 'JJ'), ('#NowTheSilence', 'NN'), ('#NewAgeAlbum', 'NNP'), ('#GRAMMYs', 'NNP'), ('https://t.co/6UoImQNxeg', 'NN'), ('Record', 'NNP'), ('of', 'IN'), ('the', 'DT'), ('week', 'NN'), ('comes', 'VBZ'), ('courtesy', 'NN'), ('of', 'IN'), ('the', 'DT'), ('talented', 'JJ'), ('@EgoEllaMay', 'NN'), ('on', 'IN'), ('tomorrows', 'NNS'), ('programme', 'VBP'), ('from', 'IN'), ('10am', 'CD'), ('on', 'IN'), ('@JazzFM', 'JJ'), ('plus', 'CC'), (\"i'll\", 'JJ'), ('be', 'VB'), ('talking', 'VBG'), ('to', 'TO'), ('the', 'DT'), ('#GRAMMYs', 'NNP'), ('winning', 'VBG'), ('@keyonharrold', 'JJ'), ('plus', 'CC'), ('new', 'JJ'), ('music', 'NN'), ('from', 'IN'), ('NeONE', 'NNP'), ('the', 'DT'), ('Wonderer', 'NNP'), ('@brownswood', 'NNP'), ('@SNG_Manchester', 'NN'), ('and', 'CC'), ('more', 'JJR'), ('.', '.'), ('Or', 'CC'), ('c', 'NN'), ('/', 'VBP'), ('up', 'RB'), ('here', 'RB'), ('https://t.co/iqlqK1g94m', 'JJ'), ('https://t.co/wrNeYJN7Jx', 'NN'), ('This', 'DT'), ('is', 'VBZ'), ('masterpiece', 'JJ'), ('@RecordingAcad', 'NNP'), ('#nct127', 'NNP'), ('#Sticker', 'NNP'), ('#GRAMMYs', 'NNP'), ('https://t.co/kd6LssvpMY', 'NN'), ('#GRAMMYs', 'NNP'), ('Quick', 'NNP'), ('Predictions', 'NNP'), ('-', ':'), ('Alternative', 'JJ'), ('+', 'JJ'), ('Country', 'NNP'), ('https://t.co/Yq1iWXuedS', 'NN'), ('We', 'PRP'), ('are', 'VBP'), ('honored', 'VBN'), ('to', 'TO'), ('share', 'NN'), ('our', 'PRP$'), ('dream', 'NN'), ('come', 'VB'), ('true', 'JJ'), ('with', 'IN'), ('you', 'PRP'), ('!', '.'), ('If', 'IN'), ('you', 'PRP'), ('are', 'VBP'), ('a', 'DT'), ('voting', 'JJ'), ('member', 'NN'), ('of', 'IN'), ('the', 'DT'), ('recording', 'NN'), ('academy', 'NN'), (',', ','), ('our', 'PRP$'), ('music', 'NN'), ('is', 'VBZ'), ('on', 'IN'), ('the', 'DT'), ('first', 'JJ'), ('round', 'NN'), ('Grammy', 'NNP'), ('ballot', 'NN'), ('this', 'DT'), ('year', 'NN'), ('!', '.'), ('https://t.co/UVgWfRO0Db', 'NN'), ('#dreambig', 'NNP'), ('#GRAMMYs', 'NNP'), ('#sleepingwitharockstar', 'NNP'), ('#isthatenough', 'NNP'), ('https://t.co/T0VWCqZC9P', 'NN'), ('Thaalaatu', 'NNP'), ('is', 'VBZ'), ('on', 'IN'), ('the', 'DT'), ('64th', 'CD'), ('Grammy', 'NNP'), ('Awards', 'NNP'), ('ballot', 'NN'), ('#RecordingAcademy', 'NNP'), ('#Vote4GRAMMYs', 'NNP'), ('#grammys', 'NNP'), ('#wearemusic', 'NNP'), ('#thaalaatulullaby', 'NNP'), ('composed', 'VBD'), ('and', 'CC'), ('arranged', 'VBN'), ('by', 'IN'), ('@crazydevan75', 'NNP'), ('.', '.'), ('All', 'PDT'), ('the', 'DT'), ('best', 'JJS'), ('da', 'NN'), ('.', '.'), ('https://t.co/KVimWfNoHZ', 'VB'), ('The', 'DT'), ('latest', 'JJS'), ('The', 'DT'), ('Gospel', 'NNP'), ('music', 'NN'), ('Daily', 'NNP'), ('!', '.'), ('https://t.co/DHan149e1b', 'NN'), ('Thanks', 'NNS'), ('to', 'TO'), ('@fortunatefall03', 'VB'), ('#music', 'JJ'), ('#grammys', 'NNP'), ('Track', 'NNP'), ('list', 'NN'), ('for', 'IN'), ('TNBT', 'NNP'), ('the', 'DT'), ('Ep', 'NNP'), ('out', 'RP'), ('this', 'DT'), ('week', 'NN'), ('#GRAMMYs', 'NNP'), ('#music', 'NNP'), ('#TNBT', 'NNP'), ('#mrnasty', 'NNP'), ('#Ep', 'NNP'), ('Miley', 'NNP'), ('Cyrus', 'NNP'), ('’', 'NNP'), ('Plastic', 'NNP'), ('Hearts', 'NNP'), ('was', 'VBD'), ('submitted', 'VBN'), ('to', 'TO'), ('POP', 'NNP'), ('categories', 'NNS'), ('but', 'CC'), ('#GRAMMYs', 'NNP'), ('recategorized', 'VBD'), ('them', 'PRP'), ('to', 'TO'), ('ROCK', 'NNP'), (',', ','), ('@billboard', 'NNP'), ('reports', 'VBZ'), ('#Blackpink', 'NN'), ('(', '('), ('the', 'DT'), ('movie', 'NN'), (')', ')'), ('×', 'NN'), ('#GRAMMYs', 'NN'), ('?', '.'), ('https://t.co/SGtuuXjA23', 'NN'), ('.', '.'), ('@MileyCyrus', 'CC'), ('’', 'JJ'), ('‘', 'NNP'), ('Plastic', 'NNP'), ('Hearts', 'NNP'), ('’', 'NNP'), ('has', 'VBZ'), ('been', 'VBN'), ('submitted', 'VBN'), ('for', 'IN'), ('“', 'NN'), ('Best', 'NNP'), ('Rock', 'NNP'), ('Album', 'NNP'), ('”', 'NNP'), ('at', 'IN'), ('the', 'DT'), ('2022', 'CD'), ('#GRAMMYs', 'NN'), (',', ','), ('@billboard', 'JJ'), ('reports', 'NNS'), ('.', '.'), ('https://t.co/1GKmmqw5ue', 'NN'), ('Time', 'NNP'), ('out', 'RP'), ('for', 'IN'), ('tea', 'NN'), ('🙏', 'JJ'), ('#xfiles', 'NNS'), ('#mulderandscully', 'RB'), ('#dalek', 'VBP'), ('#scifi', 'JJ'), ('#retro', 'NNP'), ('#robot', 'NNP'), ('#GRAMMYs', 'NNP'), ('#tea', 'NNP'), ('#breaktime', 'NNP'), ('#culttv', 'NNP'), ('#startrek', 'NNP'), ('#yellowsubmarine', 'NNP'), ('#groovy', 'NNP'), ('#dig', 'NNP'), ('https://t.co/7z7Jzng6wQ', 'NN'), ('@demjointz', 'NN'), ('YEEEES', 'NN'), ('!', '.'), ('!', '.'), ('!', '.'), ('Deserve', 'NN'), ('!', '.'), ('#NCT127', 'JJ'), ('#STICKER', 'JJ'), ('#GRAMMYs', 'NNP'), ('💚', 'NNP'), ('💃', 'NNP'), ('@umksjin', 'NNP'), ('@AlyaNuari5', 'NNP'), ('@emxrwld', 'NNP'), ('For', 'IN'), ('Ur', 'NNP'), ('Grammy', 'NNP'), ('Consideration', 'NNP'), ('#NCT127', 'NNP'), ('#Sticker', 'NNP'), ('#GRAMMYs', 'NNP'), ('🤞', 'NNP'), ('🏽', 'NNP'), ('https://t.co/VDoKXZCKAW', 'NN'), ('For', 'IN'), ('your', 'PRP$'), ('consideration', 'NN'), ('to', 'TO'), ('whom', 'WP'), ('it', 'PRP'), ('may', 'MD'), ('concern', 'NN'), ('.', '.'), ('🕊', 'CC'), ('@leather_sox', 'JJ'), ('@dovesociety', 'NN'), ('@recordingacademy', 'NNP'), ('#grammys', 'NNP'), ('https://t.co/miLPV3AaIe', 'NN'), ('For', 'IN'), ('your', 'PRP$'), ('64th', 'CD'), ('annual', 'JJ'), ('Grammy', 'NNP'), ('®', 'NNP'), ('️', 'NNP'), ('voting', 'VBG'), ('consideration', 'NN'), (':', ':'), ('My', 'PRP$'), ('album', 'NN'), ('\"', 'NN'), ('With', 'IN'), ('Love', 'NNP'), ('from', 'IN'), ('Lake', 'NNP'), ('Huron', 'NNP'), ('\"', 'NNP'), ('has', 'VBZ'), ('been', 'VBN'), ('submitted', 'VBN'), ('for', 'IN'), ('the', 'DT'), ('2022', 'CD'), ('Country', 'NNP'), ('Album', 'NNP'), ('of', 'IN'), ('the', 'DT'), ('Year', 'NN'), ('for', 'IN'), ('the', 'DT'), ('64th', 'CD'), ('annual', 'JJ'), ('Grammy', 'NNP'), ('®', 'NNP'), ('️', 'NNP'), ('Awards', 'NNP'), ('.', '.'), ('https://t.co/tRAvypvSzE', 'NN'), ('#GRAMMYs', 'NN'), ('#GrammyAwards', 'NNS'), ('https://t.co/QEi3IxVaEO', 'VBP'), ('@demjointz', 'JJ'), ('I', 'PRP'), ('hope', 'VBP'), ('so', 'RB'), ('..', 'JJ'), ('You', 'PRP'), ('and', 'CC'), ('NCT', '$'), ('127', 'CD'), ('deseve', 'NN'), ('it', 'PRP'), ('#NCT127', 'VBZ'), ('#GRAMMYs', 'JJ'), ('@RecordingAcad', 'NNP'), ('Nominate', 'NNP'), ('#LISA', 'NNP'), ('for', 'IN'), ('2021', 'CD'), ('“', 'JJ'), ('new', 'JJ'), ('artist', 'NN'), ('”', 'NNP'), ('category', 'NN'), ('#GRAMMYs', 'NNP'), ('#LisaMoneyDance', 'NNP'), ('#LalisaManoban', 'NNP'), ('#MONEY', 'NNP'), ('#LALISAsolo', 'NNP'), ('#SOLM', 'NNP'), ('#SnakeOzunaLisaMegan', 'NNP'), ('Any', 'NNP'), ('ARMY', 'NNP'), ('’', 'NNP'), ('s', 'VBD'), ('wanna', 'JJ'), ('weigh', 'NN'), ('in', 'IN'), ('on', 'IN'), ('what', 'WP'), ('they', 'PRP'), ('think', 'VBP'), ('about', 'IN'), ('BTS', 'NNP'), ('’', 'NNP'), ('s', 'VBD'), ('chance', 'NN'), ('at', 'IN'), ('winning', 'VBG'), ('big', 'JJ'), ('at', 'IN'), ('this', 'DT'), ('year', 'NN'), ('’', 'VBZ'), ('s', 'JJ'), ('Grammys', 'NNP'), ('?', '.'), ('😳', 'NNP'), ('💜', 'NNP'), ('#GRAMMYs', 'NNP'), ('#BTS', 'NNP'), ('#ARMY', 'NNP'), ('https://t.co/OPrCPllIx6', 'NN'), ('https://t.co/aDWI27uAmE', 'NN'), ('RCA', 'NNP'), ('Records', 'NNP'), (',', ','), ('Doja', 'NNP'), (\"Cat's\", 'NNP'), ('label', 'NN'), (',', ','), ('submitted', 'VBN'), (\"'\", 'POS'), ('Planet', 'NNP'), ('Her', 'NNP'), (\"'\", \"''\"), ('in', 'IN'), ('the', 'DT'), ('category', 'NN'), (\"'\", 'POS'), ('Best', 'NNP'), ('Pop', 'NNP'), ('Vocal', 'NNP'), ('Album', 'NNP'), (\"'\", 'POS'), ('on', 'IN'), ('2022', 'CD'), ('#GRAMMYs', 'NN'), ('.', '.'), ('https://t.co/tG4QCLvCuE', 'NN'), ('For', 'IN'), ('your', 'PRP$'), ('#Grammys', 'JJ'), ('Consideration', 'NN'), (':', ':'), ('Dexter', 'NNP'), ('Allen', 'NNP'), ('->', 'NNP'), ('“', 'NNP'), ('Keep', 'NNP'), ('Moving', 'NNP'), ('On', 'IN'), ('”', 'NNP'), ('Best', 'NNP'), ('American', 'JJ'), ('Roots', 'NNP'), ('Song', 'NNP'), ('Best', 'NNP'), ('American', 'JJ'), ('Roots', 'NNP'), ('Performance', 'NNP'), ('Best', 'NNP'), ('Traditional', 'NNP'), ('Blues', 'NNP'), ('Album', 'NNP'), ('https://t.co/RbSOg3EprW', 'VBD'), ('Listening', 'VBG'), ('to', 'TO'), ('#BlueBanisters', 'NNS'), ('for', 'IN'), ('the', 'DT'), ('1st', 'CD'), ('time', 'NN'), ('in', 'IN'), ('my', 'PRP$'), ('room', 'NN'), ('with', 'IN'), ('headphones', 'NNS'), ('&', 'CC'), ('mushroom', 'NN'), ('tea', 'NN'), ('was', 'VBD'), ('the', 'DT'), ('best', 'JJS'), ('decision', 'NN'), ('of', 'IN'), ('my', 'PRP$'), ('life', 'NN'), ('.', '.'), ('It', 'PRP'), ('’', 'VBZ'), ('s', 'VBZ'), ('a', 'DT'), ('spiritual', 'JJ'), ('awakening', 'NN'), ('.', '.'), ('#LanaDelRey', 'CC'), ('those', 'DT'), ('horns', 'NNS'), ('on', 'IN'), ('If', 'IN'), ('you', 'PRP'), ('lie', 'VBP'), ('down', 'RP'), ('with', 'IN'), ('me', 'PRP'), ('?', '.'), ('This', 'DT'), ('is', 'VBZ'), ('the', 'DT'), ('album', 'NN'), ('that', 'WDT'), ('will', 'MD'), ('snag', 'VB'), ('the', 'DT'), ('#Grammys', 'NNP'), ('https://t.co/0fj6z9kKzX', 'NN'), ('.', '.'), ('@DojaCat', 'CC'), ('’', 'JJ'), ('s', 'NN'), ('‘', 'JJ'), ('Planet', 'NNP'), ('Her', 'NNP'), ('’', 'NNP'), ('has', 'VBZ'), ('been', 'VBN'), ('submitted', 'VBN'), ('under', 'IN'), ('‘', 'NN'), ('Best', 'NNP'), ('Pop', 'NNP'), ('Vocal', 'NNP'), ('Album', 'NNP'), ('”', 'NNP'), ('for', 'IN'), ('the', 'DT'), ('2022', 'CD'), ('#GRAMMYs', 'NNP'), ('https://t.co/HIBh8tQr2m', 'NN'), ('@JoeYue16', 'NNP'), ('@demjointz', 'NNP'), ('Lmao', 'NNP'), ('I', 'PRP'), ('love', 'VBP'), ('your', 'PRP$'), ('pfp', 'NN'), ('btw', 'NN'), ('stream', 'NN'), ('sticker', 'NN'), ('#Grammys', 'NNP'), ('😂', 'NNP'), ('For', 'IN'), ('your', 'PRP$'), ('#Grammys', 'JJ'), ('Consideration', 'NN'), (':', ':'), ('\"', 'JJ'), ('My', 'PRP$'), ('American', 'JJ'), ('Heart', 'NNP'), ('”', 'NN'), ('Best', 'NNP'), ('American', 'NNP'), ('Roots', 'NNP'), ('Song', 'NNP'), ('&', 'CC'), ('Best', 'NNP'), ('American', 'JJ'), ('Roots', 'NNP'), ('Performance', 'NNP'), ('❤', 'NNP'), ('️', 'NNP'), ('💙', 'NNP'), ('https://t.co/51sWcYBLUp', 'NN'), ('So', 'NNP'), ('is', 'VBZ'), ('BE', 'NNP'), (',', ','), ('Butter', 'NNP'), ('and', 'CC'), ('Permission', 'NNP'), ('To', 'TO'), ('Dance', 'NNP'), ('eligible', 'NN'), ('for', 'IN'), ('#GRAMMYs', 'NNP'), ('under', 'IN'), ('SOTY', 'NNP'), (',', ','), ('AOTY', 'NNP'), ('and', 'CC'), ('ROTY', 'NNP'), ('?', '.'), ('#BTS', 'NN'), ('For', 'IN'), ('your', 'PRP$'), ('#Grammys', 'JJ'), ('Consideration', 'NN'), (':', ':'), ('\"', 'JJ'), ('28', 'CD'), ('Days', 'NNPS'), ('\"', 'NNP'), ('Song', 'NNP'), ('of', 'IN'), ('the', 'DT'), ('Year', 'NNP'), ('-', ':'), ('Roland', 'NNP'), ('Guerin', 'NNP'), (',', ','), ('songwriter', 'NN'), ('https://t.co/8evxoKhnim', 'NN'), ('Loading', 'VBG'), ('...', ':'), ('🔥', 'NN'), ('@zionfelixdotcom', 'NNP'), ('@magraheb', 'NNP'), ('#rap', 'NNP'), ('#nopressure', 'NNP'), ('#streetstyle', 'NNP'), ('#grammys', 'NNP'), ('#hiphop', 'NNP'), ('#hiphopculture', 'NN'), ('#drill', 'NNP'), ('#freestyle', 'NNP'), ('#4sytetv', 'NNP'), ('#africanprint', 'NN'), ('#mavinrecords', 'NNS'), ('#billboard', 'NNP'), ('#bet', 'NNP'), ('https://t.co/BchTZxG9Lg', 'NN'), ('In', 'IN'), ('a', 'DT'), ('recent', 'JJ'), ('article', 'NN'), (',', ','), ('Billboard', 'NNP'), ('confirms', 'VBZ'), ('that', 'IN'), ('@AvaMax', 'NN'), ('is', 'VBZ'), ('eligible', 'JJ'), ('to', 'TO'), ('compete', 'VB'), ('for', 'IN'), ('the', 'DT'), ('“', 'NNP'), ('Best', 'NNP'), ('New', 'NNP'), ('Artist', 'NNP'), ('”', 'NNP'), ('nomination', 'NN'), ('at', 'IN'), ('the', 'DT'), ('2022', 'CD'), ('#Grammys', 'NN'), ('.', '.'), ('The', 'DT'), ('nominations', 'NNS'), ('will', 'MD'), ('be', 'VB'), ('announced', 'VBN'), ('November', 'NNP'), ('23rd', 'CD'), ('.', '.'), ('🔗', 'VB'), ('https://t.co/q5juJxJpnw', 'JJ'), ('https://t.co/CJ0cSdhTV5', 'NN'), ('@saftykai', 'NN'), ('I', 'PRP'), ('#VoteAnittaGrammys', 'VBP'), ('for', 'IN'), ('#GRAMMYs', 'NNP'), ('Best', 'NNP'), ('New', 'NNP'), ('Artist', 'NNP'), ('This', 'DT'), ('song', 'NN'), ('deserves', 'VBZ'), ('to', 'TO'), ('be', 'VB'), ('in', 'IN'), ('#GRAMMYs', 'JJ'), ('🔥', 'NNP'), ('🔥', 'NNP'), ('@arrahman', 'NNP'), ('https://t.co/xr3G0sCcaa', 'NN'), ('I', 'PRP'), ('#VoteAnittaGrammys', 'VBP'), ('for', 'IN'), ('#GRAMMYs', 'NNP'), ('Best', 'NNP'), ('New', 'NNP'), ('Artist', 'NNP'), ('Congrats', 'NNP'), ('Record', 'NNP'), ('of', 'IN'), ('the', 'DT'), ('Year', 'NNP'), ('winner', 'NN'), ('-', ':'), ('\"', 'NN'), ('positions', 'NNS'), ('\"', 'VBP'), ('@ArianaGrande', 'JJ'), ('#GRAMMYs', 'NNP'), ('https://t.co/omqPQn14Q2', 'VBD'), ('The', 'DT'), ('2021', 'CD'), ('Latin', 'NNP'), ('GRAMMYs', 'NNP'), ('telecast', 'NN'), ('will', 'MD'), ('air', 'VB'), ('live', 'JJ'), ('on', 'IN'), ('Thursday', 'NNP'), (',', ','), ('Nov', 'NNP'), ('.', '.'), ('18', 'CD'), (',', ','), ('on', 'IN'), ('Univision', 'NN'), ('at', 'IN'), ('8', 'CD'), ('p', 'NN'), ('.', '.'), ('m', 'NN'), ('.', '.'), ('ET', 'NNP'), ('/', 'NNP'), ('PT', 'NNP'), ('(', '('), ('7', 'CD'), ('p', 'NN'), ('.', '.'), ('m', 'NN'), ('.', '.'), ('CT', 'NNP'), (')', ')'), ('.', '.'), ('@thelatingrammys', 'JJ'), ('#GRAMMYs', 'JJ'), ('https://t.co/CKjwuyPfeF', 'NN'), ('please', 'NN'), ('🥺', 'NNP'), (',', ','), ('this', 'DT'), ('song', 'NN'), ('and', 'CC'), ('album', 'NN'), ('is', 'VBZ'), ('so', 'RB'), ('amazingg', 'JJ'), ('#NCT127', 'NN'), ('#Sticker', 'NNP'), ('#GRAMMYs', 'NNP'), ('https://t.co/Vw1BTGtz5G', 'VBD'), ('The', 'DT'), ('22nd', 'CD'), ('Latin', 'NNP'), ('#GRAMMY', 'NN'), ('Awards', 'NNP'), (',', ','), ('will', 'MD'), ('air', 'VB'), ('live', 'JJ'), ('on', 'IN'), ('Univision', 'NN'), ('beginning', 'VBG'), ('at', 'IN'), ('8', 'CD'), ('p', 'NN'), ('.', '.'), ('m', 'NN'), ('.', '.'), ('ET', 'NNP'), ('/', 'NNP'), ('PT', 'NNP'), ('(', '('), ('7', 'CD'), ('p', 'NN'), ('.', '.'), ('m', 'NN'), ('.', '.'), ('CT', 'NNP'), (')', ')'), ('.', '.'), ('#GRAMMYs', 'JJ'), ('#latingrammys', 'JJ'), ('https://t.co/icud3odN7P', 'NN'), (\"IT'S\", 'NNP'), ('BIG', 'NNP'), ('BIIIIIIIIIIIIIIIIIIIG', 'NNP'), ('FOR', 'NNP'), ('#TXT', 'NNP'), ('#GRAMMYs', 'NNP'), ('*', 'NNP'), ('i', 'NN'), ('was', 'VBD'), ('sad', 'JJ'), ('thinking', 'VBG'), ('it', 'PRP'), ('was', 'VBD'), ('undermining', 'VBG'), ('their', 'PRP$'), ('2', 'CD'), ('years', 'NNS'), ('hard', 'JJ'), ('work', 'NN'), ('but', 'CC'), ('i', 'NN'), ('was', 'VBD'), ('explained', 'VBN'), ('the', 'DT'), ('category', 'NN'), (\"doesn't\", 'JJ'), ('work', 'NN'), ('like', 'IN'), ('that', 'DT'), ('.', '.'), ('I', 'PRP'), ('am', 'VBP'), ('a', 'DT'), ('puddle', 'NN'), ('of', 'IN'), ('😍', 'NN'), ('now', 'RB'), ('.', '.'), ('For', 'IN'), ('Your', 'PRP$'), ('Consideration', 'NN'), ('in', 'IN'), ('Best', 'NNP'), ('Contemporary', 'NNP'), ('Instrumental', 'NNP'), (':', ':'), ('“', 'JJ'), ('Reflections', 'NNS'), ('of', 'IN'), ('Tomorrow', 'NNP'), ('”', 'NNP'), ('by', 'IN'), ('pianist', 'NN'), ('Joseph', 'NNP'), ('Fuller', 'NNP'), ('.', '.'), ('Produced', 'VBN'), ('by', 'IN'), ('Grammy', 'NNP'), ('Award', 'NNP'), ('winner', 'NN'), ('Brad', 'NNP'), ('Sayles', 'NNP'), ('.', '.'), ('This', 'DT'), ('10', 'CD'), ('track', 'NN'), ('album', 'NN'), ('of', 'IN'), ('original', 'JJ'), ('compositions', 'NNS'), ('takes', 'VBZ'), ('you', 'PRP'), ('on', 'IN'), ('a', 'DT'), ('personal', 'JJ'), ('journey', 'NN'), ('of', 'IN'), ('joy', 'NN'), (',', ','), ('love', 'NN'), (',', ','), ('and', 'CC'), ('loss', 'NN'), ('.', '.'), ('#FYC', 'JJ'), ('#GRAMMYs', 'JJ'), ('why', 'WRB'), ('tf', 'NN'), ('these', 'DT'), ('bhishes', 'NNS'), ('trending', 'VBG'), ('again', 'RB'), ('?', '.'), ('?', '.'), ('u', 'JJ'), ('nominated', 'VBN'), ('in', 'IN'), ('grammys', 'NN'), ('or', 'CC'), ('something', 'NN'), ('?', '.'), ('?', '.'), ('#RedVelvet', 'JJ'), ('#GRAMMYs', 'JJ'), ('Let', 'NNP'), ('’', 'NNP'), ('s', 'VB'), ('be', 'VB'), ('clear', 'JJ'), ('NCT', 'NNP'), ('doesn', 'NN'), ('’', 'NNP'), ('t', 'NN'), ('need', 'VBP'), ('a', 'DT'), ('grammy', 'NN'), ('and', 'CC'), ('BTS', 'NNP'), ('doesn', 'VBP'), ('’', 'NNP'), ('t', 'VBP'), ('need', 'VBP'), ('a', 'DT'), ('grammy', 'NN'), ('they', 'PRP'), ('are', 'VBP'), ('way', 'NN'), ('too', 'RB'), ('good', 'JJ'), ('for', 'IN'), ('that', 'DT'), ('shhhh', 'NN'), ('#GRAMMYs', 'NNP'), ('https://t.co/r5j6cqulGR', 'NN'), ('Dear', 'NNP'), ('GRAMMY', 'NNP'), ('®', 'NNP'), ('️voting', 'VBG'), ('members', 'NNS'), (':', ':'), ('I', 'PRP'), ('humbly', 'RB'), ('submit', 'VBP'), ('to', 'TO'), ('you', 'PRP'), ('my', 'PRP$'), ('album', 'NN'), (',', ','), ('TONADA', 'NNP'), (',', ','), ('for', 'IN'), ('Grammy', 'NNP'), ('®', 'NNP'), ('️', 'NNP'), ('consideration', 'NN'), ('.', '.'), ('Best', 'JJS'), ('Global', 'JJ'), ('Music', 'NNP'), ('Album', 'NNP'), ('&', 'CC'), ('Best', 'NNP'), ('Instrumental', 'NNP'), ('Arrangement', 'NNP'), ('.', '.'), ('#foryourconsideration', 'NN'), ('#foryourgrammyconsideration', 'NN'), ('#RecordingAcademy', 'NNP'), ('#FYC', 'NNP'), ('#grammys', 'NNP'), ('#tonada', 'NNP'), ('#venezuela', 'NNP'), ('#asianamerican', 'NNP'), ('For', 'IN'), ('Ur', 'NNP'), ('Grammy', 'NNP'), ('Consideration', 'NNP'), ('#NCT127', 'NNP'), ('#Sticker', 'NNP'), ('#GRAMMYs', 'NNP'), ('🤞', 'NNP'), ('🏽', 'NNP'), ('https://t.co/c4qxYb0cg1', 'NN'), ('As', 'IN'), ('seen', 'VBN'), ('in', 'IN'), ('@Billboard', 'NNP'), (\"Magazine's\", 'NNP'), ('GRAMMY', 'NNP'), ('®', 'NNP'), ('Edition', 'NNP'), (':', ':'), ('FOR', 'IN'), ('YOUR', 'NNP'), ('GRAMMY', 'NNP'), ('®', 'NNP'), ('CONSIDERATION', 'NNP'), ('Rip', 'NNP'), ('-', ':'), ('\"', 'NN'), ('Delivered', 'NNP'), ('\"', 'VBZ'), ('8k', 'CD'), ('(', '('), ('Best', 'NNP'), ('Music', 'NNP'), ('Video', 'NNP'), (')', ')'), ('Nicky', 'NNP'), ('Gracious', 'NNP'), ('-', ':'), ('\"', 'NN'), ('This', 'DT'), ('I', 'PRP'), ('Pray', 'NNP'), ('\"', 'NNP'), ('&', 'CC'), ('\"', 'NNP'), ('Stand', 'NNP'), ('Up', 'NNP'), ('\"', 'NNP'), ('(', '('), ('Best', 'NNP'), ('Contemporary', 'NNP'), ('Christian', 'NNP'), ('Performance', 'NNP'), ('&', 'CC'), ('Song', 'NNP'), (')', ')'), ('#FYC', 'NN'), ('#ForYourConsideration', 'NN'), ('#ForYourGRAMMYConsideration', 'NN'), ('#GRAMMYs', 'NNP'), ('https://t.co/ZLkRBO97zH', 'NN'), ('OMG', 'NNP'), ('!', '.'), ('!', '.'), ('!', '.'), (\"YOU'RE\", 'NN'), ('TELLING', 'IN'), ('ME', 'NNP'), ('THAT', 'IN'), ('THE', 'NNP'), ('BOYS', 'NNP'), ('CAN', 'NNP'), ('VE', 'NNP'), ('NOMINATED', 'NNP'), ('FOR', 'NNP'), ('BEST', 'NNP'), ('NEW', 'NNP'), ('ARTIST', 'NNP'), ('!', '.'), ('!', '.'), ('!', '.'), ('#TXTGRAMMY', 'JJ'), ('#GRAMMYs', 'JJ'), ('#TXT', 'NN'), ('#투모로우바이투게더', 'NNP'), ('#TOMORROW_X_TOGETHER', 'NNP'), ('@TXT_members', 'NNS'), ('@TXT_bighit', 'VBP'), ('https://t.co/pJaTTnvLw8', 'JJ'), ('https://t.co/k09gy0XhPV', 'NN'), ('#TOMORROW_X_TOGETHER', 'NN'), ('is', 'VBZ'), ('now', 'RB'), ('eligible', 'JJ'), ('for', 'IN'), ('2022', 'CD'), ('#GRAMMYs', 'NNP'), (\"'\", 'POS'), ('Best', 'NNP'), ('New', 'NNP'), ('Artist', 'NNP'), (\"'\", 'POS'), ('!', '.'), ('🔗', 'NN'), ('https://t.co/SHmqeKw0mP', 'NN'), ('📝', 'VBD'), ('The', 'DT'), ('company', 'NN'), ('can', 'MD'), ('submit', 'VB'), ('an', 'DT'), ('application', 'NN'), ('.', '.'), (\"It's\", 'NNP'), ('chosen', 'VBN'), ('by', 'IN'), ('the', 'DT'), ('GRAMMYs', 'NNP'), ('themself', 'NN'), ('to', 'TO'), ('be', 'VB'), ('accepted', 'VBN'), ('.', '.'), ('Only', 'RB'), ('8', 'CD'), ('can', 'MD'), ('be', 'VB'), ('nominated', 'VBN'), ('.', '.'), ('#TXT', 'JJ'), ('#Beomie', 'JJ'), ('☁', 'NN'), ('https://t.co/Y982I0PbZk', 'NN'), ('This', 'DT'), ('November', 'NNP'), ('18', 'CD'), ('will', 'MD'), ('be', 'VB'), ('the', 'DT'), ('22nd', 'CD'), ('edition', 'NN'), ('of', 'IN'), ('the', 'DT'), ('Latin', 'NNP'), ('Grammy', 'NNP'), ('and', 'CC'), ('the', 'DT'), ('controversy', 'NN'), ('continues', 'VBZ'), (',', ','), ('the', 'DT'), ('clash', 'NN'), ('between', 'IN'), ('Residente', 'NNP'), (',', ','), ('Yotuel', 'NNP'), ('and', 'CC'), ('J', 'NNP'), ('Balvin', 'NNP'), ('returned', 'VBD'), ('the', 'DT'), ('focus', 'NN'), ('to', 'TO'), ('the', 'DT'), ('need', 'NN'), ('to', 'TO'), ('reexamine', 'VB'), ('institutions', 'NNS'), ('such', 'JJ'), ('as', 'IN'), ('the', 'DT'), ('Latin', 'NNP'), ('Grammy', 'NNP'), ('.', '.'), ('#GRAMMYs', 'NNP'), ('#TimsTwitterListeningParty', 'NNP'), ('https://t.co/BbMmpcGKp9', 'NN')]\n",
      "['#GRAMMYs', 'Big', 'President', 'CEO', '@harveymasonjr', 'Congrats', '#recordingacademy', '@recordingacademy', '@', 'Monom', 'Recording', 'Studio', 'Grammy', \"I'll\", '#donda', 'Grammy', \"I'll\", '#donda', '#rp', '@_JERMAINEHOLMES', '💯', 'Voting', 'NOW', 'Best', 'Contemporary', 'Instrumental', 'Album', 'BIG', 'SHOUTOUT', 'TO', 'MY', 'BIG', 'BROTHER', '#PeteRock', '🥇', '#GRAMMYs', 'BLACKPINK', 'GOT', 'A', 'GRAMMY', 'NOMINATION', 'YALL', '#SG', '#ARIAsArianaGrande', '#RIHANNA', '#GRAMMYS', 'Thought', 'Rock', 'Album', 'GRAMMY', 'Awards', '🙏', '🧡', 'Large', 'Jazz', 'Ensemble', 'Album', 'Best', 'Instrumental', 'Composition', 'Cool', '👂', '🎶', '♥', '️', '🙏', '🙏', '🙏', '@EditionRecords', '#mihohazama', '#fyc', '#foryourconsideration', '#grammys', 'Epic', 'Records', '@BIABIA', '@NICKIMINAJ', '\"', 'WHOLE', 'LOTTA', 'MONEY', 'Remix', 'Hey', 'Republic', 'Records', '“', 'Taste', 'Love', '”', '#GRAMMYs', 'Please', '@RecordingAcad', '#GRAMMYs', '#voteforme', \"#we'llbeok\", '#nandos', '#racism', '#NastyC', '#Chelsea', '#Russ', '#Tuchel', '#Hudson', '#SouthAfrica', '#music', '#award', '#Best', '#Rnb', '#performance', 'First', '@lasandra_sa', '\"', \"We'll\", '\"', 'Best', 'R', 'B', 'Performance', 'Thanks', \"Here's\", '#GRAMMYs', '#RecordingAcademy', '#vote4me', '\"', 'Plastic', 'Hearts', 'Miley', 'Miley', 'IS', 'SICKENING', \"Y'ALL\", '@MileyTeamITALY', 'Album', 'Smart', 'Link', '#hmma', '#GRAMMYs', '#fyc', '#musicforlove', '#humanitarianproject', 'Plastic', 'Hearts', 'November', 'Platinum', 'Astroworld', '@travisscott', '#god', '#igdaily', '@', 'Los', 'Angeles', 'California', 'Gospel', 'Daily', '#grammys', '#music', 'Yessss', '🔥', '..', '#NCT127', '🙏', '🤞', 'Imagine', 'Bebe', 'Rexha', 'Music', 'Chatter', '#vmas', '#grammys', 'Billboard', 'Plastic', 'Hearts', '@MileyCyrus', 'Best', 'Rock', 'Album', 'November', 'Billboard', 'Plastic', 'Hearts', '@MileyCyrus', 'Best', 'Rock', 'Album', 'November', 'MUST', 'HER', 'BAG', '#Grammys', 'MILEY', 'CYRUS', 'ABOUT', 'TO', 'BECOME', 'A', 'GRAMMY', 'WINNING', 'ARTIST', 'BOOKMARK', 'THIS', 'Hello', 'No', 'Plastic', 'Swear', 'Grammy', 'Awards', 'Best', 'Arrangement', 'Instrumental', 'A', 'Cappella', '#grammys', '#wearemusic', '#GRAMMYs', '#NoPlasticSwearNow', 'Bebe', 'Rexha', '#GRAMMYs', '#EMAs', 'Nigeria', 'Album', '/', 'EP', '#hiptv', '🚨', 'Segundo', 'Billboard', '“', 'Plastic', 'Hearts', '”', 'Best', 'Rock', 'Album', '”', 'BIG', 'NEWS', 'TBL', '🙏', '🏻', '🙏', '🏽', '🙏', '🏿', '#adifferentleague', '@ryzemagazine', '・', '・', '・', 'FYC', 'RYZE', 'Magazine', 'Presents', 'TBL', '”', 'TBL', 'Theme', 'Song', 'Anthem', 'x', '@emceenicela', 'x', '@lamonttblackshire', '#GRAMMYs', '‘', 'Plastic', 'Hearts', '’', 'Best', 'Rock', 'Album', '”', 'Grammy', 'Consideration', '—', 'GRAMMY', 'Awards', 'First', 'Round', 'Ballot', 'Black', 'Nile', 'Further', 'Side', '”', 'Best', 'Contemporary', 'Instrumental', 'Album', '#GRAMMYs', '#grammys2022', '🏆', '@Wale', '#GRAMMYs', 'Award', '#Burnaboy', 'Grammy', 'Damini', 'Ogulu', 'GRAMMYS', 'Sharing', 'Grammys', '#Violin', '#guitar', 'Grammy', 'Nominations', 'Forecast', 'Top', 'Categories', 'Be', 'Battle', 'Teen', 'Titans', '@Grammys', '@RecordingAcad', '#TaylorSwift', '#oliviarodrigo', '#LilNasX', '#Grammys', '@variety', 'Plastic', 'Hearts', 'Best', 'Rock', 'Album', '#GRAMMYs', 'Ur', 'Grammy', 'Consideration', '#BTS', '#GRAMMYs', '#GRAMMYs', '@RecordingAcad', 'Tinashe', 'Comfort', 'Joy', '’', '#lifetimeaward', '#Grammys', '’', '..', 'Tinashe', '..', 'Every', 'Woman', '..', 'WATCH', 'THIS', 'VIDEO', '#PHXvsLAL', '#Arizona', '#jokic', '#ADandDwight', '#Zendaya', '#WHOAREYOU', '#FleetwoodMac', '#GRAMMYs', '#ONEW', '#PermissionToDanceOnStageLA', 'Grammy', 'Consideration', '@RecordingAcad', '#BTS', '#GRAMMYs', '“', 'Plastic', 'Hearts', 'Miley', 'Cyrus', 'Cyrus', 'Grammy', '’', 'Thanks', 'Jason', 'Miles', '@BBCJazzon3', '#Grammys', '#jazz', '#GRAMMYs', 'Birdsong', '🥰', '#GRAMMYs', '@theluxalma', '@Jess_C_Leen', '@niamhsandwich', '@CariQMusic', '@theruthsmith', '@SiveMusic', '@PSuitestudios', 'Sticker', 'MASTERPIECE', 'Ur', 'Grammy', 'Consideration', '#BTS', '#GRAMMYs', 'Via', 'Will', 'Be', '’', 'K-Pop', '’', 'Year', 'Voting', '’', 'Very', 'Silence', '”', 'Recording', 'Academy', 'New', 'Age', 'Album', '#NewAgeAlbum', '#GRAMMYs', 'Record', '#GRAMMYs', 'NeONE', 'Wonderer', '@brownswood', '@RecordingAcad', '#nct127', '#Sticker', '#GRAMMYs', '#GRAMMYs', 'Quick', 'Predictions', 'Country', 'Grammy', '#dreambig', '#GRAMMYs', '#sleepingwitharockstar', '#isthatenough', 'Thaalaatu', 'Grammy', 'Awards', '#RecordingAcademy', '#Vote4GRAMMYs', '#grammys', '#wearemusic', '#thaalaatulullaby', '@crazydevan75', 'Gospel', 'Daily', '#grammys', 'Track', 'TNBT', 'Ep', '#GRAMMYs', '#music', '#TNBT', '#mrnasty', '#Ep', 'Miley', 'Cyrus', '’', 'Plastic', 'Hearts', 'POP', '#GRAMMYs', 'ROCK', '@billboard', '‘', 'Plastic', 'Hearts', '’', 'Best', 'Rock', 'Album', '”', 'Time', '#retro', '#robot', '#GRAMMYs', '#tea', '#breaktime', '#culttv', '#startrek', '#yellowsubmarine', '#groovy', '#dig', '#GRAMMYs', '💚', '💃', '@umksjin', '@AlyaNuari5', '@emxrwld', 'Ur', 'Grammy', 'Consideration', '#NCT127', '#Sticker', '#GRAMMYs', '🤞', '🏽', '@recordingacademy', '#grammys', 'Grammy', '®', '️', 'Love', 'Lake', 'Huron', '\"', 'Country', 'Album', 'Grammy', '®', '️', 'Awards', '@RecordingAcad', 'Nominate', '#LISA', '”', '#GRAMMYs', '#LisaMoneyDance', '#LalisaManoban', '#MONEY', '#LALISAsolo', '#SOLM', '#SnakeOzunaLisaMegan', 'Any', 'ARMY', '’', 'BTS', '’', 'Grammys', '😳', '💜', '#GRAMMYs', '#BTS', '#ARMY', 'RCA', 'Records', 'Doja', \"Cat's\", 'Planet', 'Her', 'Best', 'Pop', 'Vocal', 'Album', 'Dexter', 'Allen', '->', '“', 'Keep', 'Moving', '”', 'Best', 'Roots', 'Song', 'Best', 'Roots', 'Performance', 'Best', 'Traditional', 'Blues', 'Album', '#Grammys', 'Planet', 'Her', '’', 'Best', 'Pop', 'Vocal', 'Album', '”', '#GRAMMYs', '@JoeYue16', '@demjointz', 'Lmao', '#Grammys', '😂', 'Heart', 'Best', 'American', 'Roots', 'Song', 'Best', 'Roots', 'Performance', '❤', '️', '💙', 'So', 'BE', 'Butter', 'Permission', 'Dance', '#GRAMMYs', 'SOTY', 'AOTY', 'ROTY', 'Days', '\"', 'Song', 'Year', 'Roland', 'Guerin', '@zionfelixdotcom', '@magraheb', '#rap', '#nopressure', '#streetstyle', '#grammys', '#hiphop', '#drill', '#freestyle', '#4sytetv', '#billboard', '#bet', 'Billboard', '“', 'Best', 'New', 'Artist', '”', 'November', '#GRAMMYs', 'Best', 'New', 'Artist', '🔥', '🔥', '@arrahman', '#GRAMMYs', 'Best', 'New', 'Artist', 'Congrats', 'Record', 'Year', '#GRAMMYs', 'Latin', 'GRAMMYs', 'Thursday', 'Nov', 'ET', '/', 'PT', 'CT', '🥺', '#Sticker', '#GRAMMYs', 'Latin', 'Awards', 'ET', '/', 'PT', 'CT', \"IT'S\", 'BIG', 'BIIIIIIIIIIIIIIIIIIIG', 'FOR', '#TXT', '#GRAMMYs', '*', 'Best', 'Contemporary', 'Instrumental', 'Tomorrow', '”', 'Joseph', 'Fuller', 'Grammy', 'Award', 'Brad', 'Sayles', 'Let', '’', 'NCT', '’', 'BTS', '’', '#GRAMMYs', 'Dear', 'GRAMMY', '®', 'TONADA', 'Grammy', '®', '️', 'Music', 'Album', 'Best', 'Instrumental', 'Arrangement', '#RecordingAcademy', '#FYC', '#grammys', '#tonada', '#venezuela', '#asianamerican', 'Ur', 'Grammy', 'Consideration', '#NCT127', '#Sticker', '#GRAMMYs', '🤞', '🏽', '@Billboard', \"Magazine's\", 'GRAMMY', '®', 'Edition', 'YOUR', 'GRAMMY', '®', 'CONSIDERATION', 'Rip', 'Delivered', 'Best', 'Music', 'Video', 'Nicky', 'Gracious', 'Pray', '\"', '\"', 'Stand', 'Up', '\"', 'Best', 'Contemporary', 'Christian', 'Performance', 'Song', '#GRAMMYs', 'OMG', 'ME', 'THE', 'BOYS', 'CAN', 'VE', 'NOMINATED', 'FOR', 'BEST', 'NEW', 'ARTIST', '#투모로우바이투게더', '#TOMORROW_X_TOGETHER', '#GRAMMYs', 'Best', 'New', 'Artist', \"It's\", 'GRAMMYs', 'November', 'Latin', 'Grammy', 'Residente', 'Yotuel', 'J', 'Balvin', 'Latin', 'Grammy', '#GRAMMYs', '#TimsTwitterListeningParty']\n"
     ]
    },
    {
     "data": {
      "application/javascript": [
       "\n",
       "            setTimeout(function() {\n",
       "                var nbb_cell_id = 10;\n",
       "                var nbb_unformatted_code = \"# Aplicamos POS\\n\\ndata = []\\n# Crear lista de palabras\\nfor x in tokenized_text:\\n    for word in x:\\n        data.append(word)\\n\\n# Etiquetar texto con pos_tag\\ndata_pos = nltk.pos_tag(data)\\nprint(data_pos)\\ndata_names = []\\nfor k, v in data_pos:\\n    if v in [\\\"NNP\\\", \\\"NNPS\\\"]:\\n        data_names.append(k)\\nprint(data_names)\";\n",
       "                var nbb_formatted_code = \"# Aplicamos POS\\n\\ndata = []\\n# Crear lista de palabras\\nfor x in tokenized_text:\\n    for word in x:\\n        data.append(word)\\n\\n# Etiquetar texto con pos_tag\\ndata_pos = nltk.pos_tag(data)\\nprint(data_pos)\\ndata_names = []\\nfor k, v in data_pos:\\n    if v in [\\\"NNP\\\", \\\"NNPS\\\"]:\\n        data_names.append(k)\\nprint(data_names)\";\n",
       "                var nbb_cells = Jupyter.notebook.get_cells();\n",
       "                for (var i = 0; i < nbb_cells.length; ++i) {\n",
       "                    if (nbb_cells[i].input_prompt_number == nbb_cell_id) {\n",
       "                        if (nbb_cells[i].get_text() == nbb_unformatted_code) {\n",
       "                             nbb_cells[i].set_text(nbb_formatted_code);\n",
       "                        }\n",
       "                        break;\n",
       "                    }\n",
       "                }\n",
       "            }, 500);\n",
       "            "
      ],
      "text/plain": [
       "<IPython.core.display.Javascript object>"
      ]
     },
     "metadata": {},
     "output_type": "display_data"
    }
   ],
   "source": [
    "# Aplicamos POS\n",
    "\n",
    "data = []\n",
    "# Crear lista de palabras\n",
    "for x in tokenized_text:\n",
    "    for word in x:\n",
    "        data.append(word)\n",
    "\n",
    "# Etiquetar texto con pos_tag\n",
    "data_pos = nltk.pos_tag(data)\n",
    "print(data_pos)\n",
    "data_names = []\n",
    "for k, v in data_pos:\n",
    "    if v in [\"NNP\", \"NNPS\"]:\n",
    "        data_names.append(k)\n",
    "print(data_names)"
   ]
  },
  {
   "cell_type": "code",
   "execution_count": 11,
   "id": "67edefd0",
   "metadata": {},
   "outputs": [
    {
     "data": {
      "text/html": [
       "<div>\n",
       "<style scoped>\n",
       "    .dataframe tbody tr th:only-of-type {\n",
       "        vertical-align: middle;\n",
       "    }\n",
       "\n",
       "    .dataframe tbody tr th {\n",
       "        vertical-align: top;\n",
       "    }\n",
       "\n",
       "    .dataframe thead th {\n",
       "        text-align: right;\n",
       "    }\n",
       "</style>\n",
       "<table border=\"1\" class=\"dataframe\">\n",
       "  <thead>\n",
       "    <tr style=\"text-align: right;\">\n",
       "      <th></th>\n",
       "      <th>Frequency</th>\n",
       "    </tr>\n",
       "    <tr>\n",
       "      <th>Term</th>\n",
       "      <th></th>\n",
       "    </tr>\n",
       "  </thead>\n",
       "  <tbody>\n",
       "    <tr>\n",
       "      <th>#GRAMMYs</th>\n",
       "      <td>43</td>\n",
       "    </tr>\n",
       "    <tr>\n",
       "      <th>Best</th>\n",
       "      <td>26</td>\n",
       "    </tr>\n",
       "    <tr>\n",
       "      <th>Grammy</th>\n",
       "      <td>20</td>\n",
       "    </tr>\n",
       "    <tr>\n",
       "      <th>Album</th>\n",
       "      <td>18</td>\n",
       "    </tr>\n",
       "    <tr>\n",
       "      <th>’</th>\n",
       "      <td>15</td>\n",
       "    </tr>\n",
       "    <tr>\n",
       "      <th>...</th>\n",
       "      <td>...</td>\n",
       "    </tr>\n",
       "    <tr>\n",
       "      <th>RYZE</th>\n",
       "      <td>1</td>\n",
       "    </tr>\n",
       "    <tr>\n",
       "      <th>FYC</th>\n",
       "      <td>1</td>\n",
       "    </tr>\n",
       "    <tr>\n",
       "      <th>@ryzemagazine</th>\n",
       "      <td>1</td>\n",
       "    </tr>\n",
       "    <tr>\n",
       "      <th>#adifferentleague</th>\n",
       "      <td>1</td>\n",
       "    </tr>\n",
       "    <tr>\n",
       "      <th>#TimsTwitterListeningParty</th>\n",
       "      <td>1</td>\n",
       "    </tr>\n",
       "  </tbody>\n",
       "</table>\n",
       "<p>423 rows × 1 columns</p>\n",
       "</div>"
      ],
      "text/plain": [
       "                            Frequency\n",
       "Term                                 \n",
       "#GRAMMYs                           43\n",
       "Best                               26\n",
       "Grammy                             20\n",
       "Album                              18\n",
       "’                                  15\n",
       "...                               ...\n",
       "RYZE                                1\n",
       "FYC                                 1\n",
       "@ryzemagazine                       1\n",
       "#adifferentleague                   1\n",
       "#TimsTwitterListeningParty          1\n",
       "\n",
       "[423 rows x 1 columns]"
      ]
     },
     "execution_count": 11,
     "metadata": {},
     "output_type": "execute_result"
    },
    {
     "data": {
      "application/javascript": [
       "\n",
       "            setTimeout(function() {\n",
       "                var nbb_cell_id = 11;\n",
       "                var nbb_unformatted_code = \"# Obtener solo: NN - NNS\\n\\nfrom nltk.probability import FreqDist\\n\\n# Obtener frecuencia de cada t\\u00e9rmino\\nfdist = FreqDist(data_names)\\n# Convertir a dataframe\\ndf_fdist = pd.DataFrame.from_dict(fdist, orient=\\\"index\\\")\\ndf_fdist.columns = [\\\"Frequency\\\"]\\ndf_fdist.index.name = \\\"Term\\\"\\ndf_fdist.sort_values(by=[\\\"Frequency\\\"], inplace=True, ascending=False)\\n# pd.set_option('display.max_rows', None)\\n\\ndf_fdist\";\n",
       "                var nbb_formatted_code = \"# Obtener solo: NN - NNS\\n\\nfrom nltk.probability import FreqDist\\n\\n# Obtener frecuencia de cada t\\u00e9rmino\\nfdist = FreqDist(data_names)\\n# Convertir a dataframe\\ndf_fdist = pd.DataFrame.from_dict(fdist, orient=\\\"index\\\")\\ndf_fdist.columns = [\\\"Frequency\\\"]\\ndf_fdist.index.name = \\\"Term\\\"\\ndf_fdist.sort_values(by=[\\\"Frequency\\\"], inplace=True, ascending=False)\\n# pd.set_option('display.max_rows', None)\\n\\ndf_fdist\";\n",
       "                var nbb_cells = Jupyter.notebook.get_cells();\n",
       "                for (var i = 0; i < nbb_cells.length; ++i) {\n",
       "                    if (nbb_cells[i].input_prompt_number == nbb_cell_id) {\n",
       "                        if (nbb_cells[i].get_text() == nbb_unformatted_code) {\n",
       "                             nbb_cells[i].set_text(nbb_formatted_code);\n",
       "                        }\n",
       "                        break;\n",
       "                    }\n",
       "                }\n",
       "            }, 500);\n",
       "            "
      ],
      "text/plain": [
       "<IPython.core.display.Javascript object>"
      ]
     },
     "metadata": {},
     "output_type": "display_data"
    }
   ],
   "source": [
    "# Obtener solo: NN - NNS\n",
    "\n",
    "from nltk.probability import FreqDist\n",
    "\n",
    "# Obtener frecuencia de cada término\n",
    "fdist = FreqDist(data_names)\n",
    "# Convertir a dataframe\n",
    "df_fdist = pd.DataFrame.from_dict(fdist, orient=\"index\")\n",
    "df_fdist.columns = [\"Frequency\"]\n",
    "df_fdist.index.name = \"Term\"\n",
    "df_fdist.sort_values(by=[\"Frequency\"], inplace=True, ascending=False)\n",
    "# pd.set_option('display.max_rows', None)\n",
    "\n",
    "df_fdist"
   ]
  },
  {
   "cell_type": "code",
   "execution_count": null,
   "id": "6fb056b2",
   "metadata": {},
   "outputs": [],
   "source": []
  },
  {
   "cell_type": "markdown",
   "id": "191f4397",
   "metadata": {},
   "source": [
    "- Obtener la lista y frecuencia de los verbos en todos los tiempos verbales"
   ]
  },
  {
   "cell_type": "markdown",
   "id": "bc1f3d8d",
   "metadata": {},
   "source": [
    "# Ejercicio N°3"
   ]
  },
  {
   "cell_type": "code",
   "execution_count": 12,
   "id": "a1983c54",
   "metadata": {},
   "outputs": [
    {
     "name": "stdout",
     "output_type": "stream",
     "text": [
      "[('For', 'IN'), ('your', 'PRP$'), ('consideration', 'NN'), (':)', 'VBD'), ('@RecordingAcad', '$'), ('1st', 'CD'), ('round', 'NN'), ('voting', 'NN'), ('is', 'VBZ'), ('open', 'JJ'), ('!', '.'), ('#contemporaryblues', 'NNS'), ('#bluesmusic', 'JJ'), ('#GRAMMYs', 'NNP'), ('https://t.co/NuOaPvT3ta', 'NN'), ('Big', 'NNP'), ('up', 'IN'), ('our', 'PRP$'), ('President', 'NNP'), ('and', 'CC'), ('CEO', 'NNP'), ('@harveymasonjr', 'NNP'), ('Congrats', 'NNP'), ('!', '.'), ('#grammys', 'NN'), ('#recordingacademy', 'NNP'), ('@recordingacademy', 'NNP'), ('@', 'NNP'), ('Monom', 'NNP'), ('Recording', 'NNP'), ('Studio', 'NNP'), ('https://t.co/Dll5dB1GGI', 'NN'), ('#', '#'), ('7', 'CD'), ('Grammy', 'NNP'), ('in', 'IN'), ('the', 'DT'), ('building', 'NN'), ('nobody', 'NN'), ('works', 'VBZ'), ('harder', 'JJR'), ('than', 'IN'), ('our', 'PRP$'), ('founder', 'NN'), ('@malikyusef100', 'NN'), ('.', '.'), ('Oh', 'UH'), ('you', 'PRP'), ('think', 'VBP'), ('you', 'PRP'), ('know', 'VBP'), ('someone', 'NN'), ('else', 'RB'), ('...', ':'), (\"I'll\", 'NNP'), ('wait', 'NN'), ('.', '.'), ('#badkids', 'NNS'), ('#grammys', 'VBD'), ('#ye', 'JJ'), ('#donda', 'NNP'), ('https://t.co/wuRFbX62I2', 'NN'), ('https://t.co/HxOk7CF4Mq', 'VBD'), ('A', 'DT'), ('moment', 'NN'), ('in', 'IN'), ('history', 'NN'), ('.', '.'), ('#Grammys', 'CC'), ('#ARIAsMileyCyrus', 'JJ'), ('https://t.co/R4iyIsE100', 'NN'), ('#', '#'), ('7', 'CD'), ('Grammy', 'NNP'), ('in', 'IN'), ('the', 'DT'), ('building', 'NN'), ('nobody', 'NN'), ('works', 'VBZ'), ('harder', 'JJR'), ('than', 'IN'), ('our', 'PRP$'), ('founder', 'NN'), ('@malikyusef100', 'NN'), ('.', '.'), ('Oh', 'UH'), ('you', 'PRP'), ('think', 'VBP'), ('you', 'PRP'), ('know', 'VBP'), ('someone', 'NN'), ('else', 'RB'), ('...', ':'), (\"I'll\", 'NNP'), ('wait', 'NN'), ('.', '.'), ('#badkids', 'NNS'), ('#grammys', 'VBD'), ('#ye', 'JJ'), ('#donda', 'NNP'), ('https://t.co/wuRFbX62I2', 'NN'), ('https://t.co/cSiT2Jmgte', 'NN'), ('#rp', 'NNP'), ('@_JERMAINEHOLMES', 'NNP'), ('god', 'VB'), ('bless', 'NN'), ('you', 'PRP'), ('and', 'CC'), ('thank', 'VB'), ('you', 'PRP'), ('bro', 'VBP'), ('for', 'IN'), ('keeping', 'VBG'), ('it', 'PRP'), ('1000', 'CD'), ('with', 'IN'), ('me', 'PRP'), ('.', '.'), ('🙏', 'VB'), ('🏾', 'JJ'), ('💯', 'NNP'), ('Voting', 'NNP'), ('starts', 'VBZ'), ('NOW', 'NNP'), ('.', '.'), ('For', 'IN'), ('your', 'PRP$'), ('@RecordingAcad', 'JJ'), ('consideration', 'NN'), ('.', '.'), ('#Petestrumentals3', 'NN'), ('for', 'IN'), ('Best', 'NNP'), ('Contemporary', 'NNP'), ('Instrumental', 'NNP'), ('Album', 'NNP'), ('.', '.'), ('BIG', 'NNP'), ('SHOUTOUT', 'NNP'), ('TO', 'NNP'), ('MY', 'NNP'), ('BIG', 'NNP'), ('BROTHER', 'NNP'), ('#PeteRock', 'NNP'), ('🥇', 'NNP'), ('#GRAMMYs', 'NNP'), ('https://t.co/5ZlQbGqzOP', 'NN'), ('BLACKPINK', 'NNP'), ('GOT', 'NNP'), ('A', 'NNP'), ('GRAMMY', 'NNP'), ('NOMINATION', 'NNP'), ('YALL', 'NNP'), ('#SG', 'NNP'), ('#ARIAsArianaGrande', 'NNP'), ('#RIHANNA', 'NNP'), ('#BLONKSEATING', 'NN'), ('#BLINK', 'NN'), ('#BlackPink', 'VBP'), ('#GRAMMYS', 'NNP'), ('https://t.co/mvx0XQlVV8', 'NN'), ('Thought', 'NNP'), ('I', 'PRP'), ('’', 'VBP'), ('d', 'JJ'), ('make', 'VBP'), ('a', 'DT'), ('thread', 'NN'), ('for', 'IN'), ('all', 'PDT'), ('the', 'DT'), ('viable', 'JJ'), ('options', 'NNS'), ('for', 'IN'), ('#GRAMMYs', 'JJ'), ('2022', 'CD'), ('Rock', 'NNP'), ('Album', 'NNP'), ('of', 'IN'), ('the', 'DT'), ('Year', 'NN'), (':', ':'), ('https://t.co/x1ANNOIsMD', 'NN'), ('🙏', 'NN'), ('For', 'IN'), ('your', 'PRP$'), ('GRAMMY', 'NNP'), ('Awards', 'NNPS'), ('consideration', 'NN'), ('🙏', 'NNP'), ('🧡', 'NNP'), ('Large', 'NNP'), ('Jazz', 'NNP'), ('Ensemble', 'NNP'), ('Album', 'NNP'), (':', ':'), ('Imaginary', 'JJ'), ('Visions', 'NNS'), ('🧡', 'VBP'), ('💛', 'JJ'), ('Best', 'NNP'), ('Instrumental', 'NNP'), ('Composition', 'NNP'), (':', ':'), ('I', 'PRP'), ('Said', 'VBD'), ('Cool', 'NNP'), (',', ','), ('You', 'PRP'), ('Said', 'VBP'), ('…', 'VB'), ('What', 'WP'), ('?', '.'), ('💛', 'JJ'), ('😌', 'NN'), ('👂', 'NNP'), ('🎶', 'NNP'), ('♥', 'NNP'), ('️', 'NNP'), ('🙏', 'NNP'), ('🙏', 'NNP'), ('🙏', 'NNP'), ('@EditionRecords', 'NNP'), ('#largejazzensemble', 'JJ'), ('#jazz', 'NN'), ('#instrumentalmusic', 'JJ'), ('#mihohazama', 'NNP'), ('#fyc', 'NNP'), ('#foryourconsideration', 'NNP'), ('#grammys', 'NNP'), ('https://t.co/gDJzQHH5pp', 'NN'), ('Epic', 'NNP'), ('Records', 'NNP'), ('has', 'VBZ'), ('submitted', 'VBN'), ('@BIABIA', 'NNP'), ('&', 'CC'), ('@NICKIMINAJ', 'NNP'), ('\"', 'NNP'), ('WHOLE', 'NNP'), ('LOTTA', 'NNP'), ('MONEY', 'NNP'), ('(', '('), ('Remix', 'NNP'), (')', ')'), ('\"', 'NN'), ('for', 'IN'), ('consideration', 'NN'), ('at', 'IN'), ('the', 'DT'), ('2022', 'CD'), ('#GRAMMYs', 'NN'), ('.', '.'), ('https://t.co/Br4HfXrBP1', 'NN'), ('@TWICE_Charts', 'VBZ'), ('@JYPETWICE', 'IN'), ('Hey', 'NNP'), ('!', '.'), ('Republic', 'NNP'), ('Records', 'NNPS'), ('submitted', 'VBD'), ('“', 'NNP'), ('Taste', 'NNP'), ('of', 'IN'), ('Love', 'NNP'), ('”', 'NNP'), ('at', 'IN'), ('the', 'DT'), ('2022', 'CD'), ('#GRAMMYs', 'NNP'), ('https://t.co/Kpnl0cTwcq', 'JJ'), ('Please', 'NNP'), ('can', 'MD'), (\"y'all\", 'VB'), ('help', 'VB'), ('me', 'PRP'), ('out', 'RP'), ('by', 'IN'), ('reposting', 'VBG'), ('this', 'DT'), ('post', 'NN'), ('on', 'IN'), ('any', 'DT'), ('of', 'IN'), ('your', 'PRP$'), ('social', 'JJ'), ('media', 'NNS'), ('platforms', 'NNS'), ('and', 'CC'), ('please', 'VB'), (\"don't\", 'JJ'), ('forget', 'VB'), ('to', 'TO'), ('tag', 'VB'), ('@RecordingAcad', 'NNP'), ('#GRAMMYs', 'NNP'), ('#voteforme', 'NNP'), (\"#we'llbeok\", 'NNP'), ('#nandos', 'NNP'), ('#racism', 'NNP'), ('#NastyC', 'NNP'), ('#Chelsea', 'NNP'), ('#Russ', 'NNP'), ('#Tuchel', 'NNP'), ('#Hudson', 'NNP'), ('#SouthAfrica', 'NNP'), ('#music', 'NNP'), ('#award', 'NNP'), ('#Best', 'NNP'), ('#Rnb', 'NNP'), ('#performance', 'NNP'), ('https://t.co/wu7nKIkB4N', 'NN'), ('For', 'IN'), ('your', 'PRP$'), ('consideration', 'NN'), ('#Grammy', 'NN'), ('awards', 'NNS'), ('First', 'NNP'), ('round', 'NN'), ('ballot', 'NN'), (',', ','), ('please', 'VB'), ('vote', 'NN'), ('for', 'IN'), ('@lasandra_sa', 'NNP'), ('\"', 'NNP'), (\"We'll\", 'NNP'), ('be', 'VB'), ('ok', 'JJ'), ('\"', 'NNP'), ('Best', 'NNP'), ('R', 'NNP'), ('&', 'CC'), ('B', 'NNP'), ('Performance', 'NNP'), ('Thanks', 'NNP'), ('to', 'TO'), ('the', 'DT'), ('@recordingacademy', 'NN'), ('voters', 'NNS'), ('for', 'IN'), ('your', 'PRP$'), ('consideration', 'NN'), (\"Here's\", 'NNP'), ('the', 'DT'), ('link', 'NN'), ('to', 'TO'), ('my', 'PRP$'), ('music', 'NN'), ('video', 'NN'), ('https://t.co/Bo20PIwAdG', 'NN'), ('#GRAMMYs', 'NNP'), ('#RecordingAcademy', 'NNP'), ('#vote4me', 'NNP'), ('https://t.co/xviq7kJpJ0', 'NN'), ('\"', 'NNP'), ('Plastic', 'NNP'), ('Hearts', 'NNP'), ('\"', 'NN'), ('by', 'IN'), ('Miley', 'NNP'), ('has', 'VBZ'), ('been', 'VBN'), ('submitted', 'VBN'), ('for', 'IN'), ('best', 'JJS'), ('rock', 'NN'), ('album', 'NN'), ('at', 'IN'), ('the', 'DT'), ('#GRAMMYs', 'NN'), ('.', '.'), ('If', 'IN'), ('Miley', 'NNP'), ('were', 'VBD'), ('to', 'TO'), ('win', 'VB'), (',', ','), (\"she's\", 'VB'), ('become', 'VB'), ('the', 'DT'), ('first', 'JJ'), ('female', 'JJ'), ('artist', 'NN'), ('(', '('), ('and', 'CC'), ('first', 'RB'), ('solo', 'JJ'), ('singer', 'NN'), ('overall', 'JJ'), (')', ')'), ('to', 'TO'), ('win', 'VB'), ('the', 'DT'), ('award', 'NN'), ('in', 'IN'), ('23', 'CD'), ('years', 'NNS'), ('!', '.'), ('!', '.'), ('!', '.'), ('🖤', 'JJ'), ('🖤', 'JJ'), ('🖤', 'NN'), ('@MileyCyrus', 'NN'), ('IS', 'NNP'), ('SICKENING', 'NNP'), (\"Y'ALL\", 'NNP'), ('!', '.'), ('@MileyTeamITALY', 'NNP'), ('@MileyOfficial', 'JJ'), ('https://t.co/X5SsM3RyJi', 'NN'), ('Album', 'NNP'), ('Smart', 'NNP'), ('Link', 'NNP'), ('-', ':'), ('https://t.co/1iv27ybTBL', 'NN'), ('#music', 'JJ'), ('#hmma', 'NNP'), ('#GRAMMYs', 'NNP'), ('#fyc', 'NNP'), ('#musicforlove', 'NNP'), ('#humanitarianproject', 'NNP'), ('https://t.co/HjAzg0Blsg', 'NN'), ('I', 'PRP'), ('still', 'RB'), ('hope', 'VBP'), ('that', 'IN'), ('#GRAMMYs', 'VBP'), (\"don't\", 'NNS'), ('have', 'VBP'), ('the', 'DT'), ('nerve', 'NN'), ('to', 'TO'), ('ignore', 'VB'), ('Plastic', 'NNP'), ('Hearts', 'NNP'), ('which', 'WDT'), ('broke', 'VBD'), ('fucking', 'NN'), ('records', 'NNS'), ('since', 'IN'), ('its', 'PRP$'), ('release', 'NN'), ('.', '.'), ('https://t.co/cVae9wCoDY', 'JJ'), ('November', 'NNP'), ('23rd', 'CD'), ('?', '.'), ('?', '.'), ('?', '.'), ('👀', 'JJ'), ('👀', 'NN'), ('👀', 'NN'), ('They', 'PRP'), ('better', 'RBR'), ('give', 'VB'), ('her', 'PRP$'), ('the', 'DT'), ('best', 'JJS'), ('birthday', 'JJ'), ('present', 'NN'), ('!', '.'), ('#ARIAsMileyCyrus', 'NN'), ('#GRAMMYs', 'JJ'), ('https://t.co/jEGpIljprG', 'NN'), ('ladies', 'NNS'), ('and', 'CC'), ('gentlemen', 'NNS'), ('the', 'DT'), ('winner', 'NN'), ('of', 'IN'), ('the', 'DT'), ('best', 'JJS'), ('rock', 'NN'), ('album', 'NN'), ('is', 'VBZ'), ('#GRAMMYs', 'JJ'), ('https://t.co/0k7VeE2tKr', 'NN'), ('Only', 'RB'), ('those', 'DT'), ('who', 'WP'), ('attempt', 'VBP'), ('the', 'DT'), ('absurd', 'NN'), ('can', 'MD'), ('achieve', 'VB'), ('the', 'DT'), ('impossible', 'JJ'), ('4X', 'CD'), ('Platinum', 'NNP'), ('for', 'IN'), ('producing', 'VBG'), ('on', 'IN'), ('Astroworld', 'NNP'), ('@travisscott', 'NNP'), ('#music', 'JJ'), ('#producer', 'NN'), ('#igers', 'NNS'), ('#life', 'VBP'), ('#wow', 'JJ'), ('#amazing', 'VBG'), ('#grammys', 'JJ'), ('#god', 'NNP'), ('#igdaily', 'NNP'), ('@', 'NNP'), ('Los', 'NNP'), ('Angeles', 'NNP'), (',', ','), ('California', 'NNP'), ('https://t.co/RFW7OPENoe', 'VBD'), ('The', 'DT'), ('latest', 'JJS'), ('The', 'DT'), ('Gospel', 'NNP'), ('music', 'NN'), ('Daily', 'NNP'), ('!', '.'), ('https://t.co/W0sXOX8IBl', 'NN'), ('Thanks', 'NNS'), ('to', 'TO'), ('@kshnews', 'VB'), ('#grammys', 'NNP'), ('#music', 'NNP'), ('Yessss', 'NNP'), ('letss', 'VBZ'), ('get', 'VB'), ('it', 'PRP'), ('!', '.'), ('!', '.'), ('💪', 'JJ'), ('🔥', 'JJ'), ('🔥', 'NN'), ('🔥', 'NNP'), ('..', 'NNP'), ('We', 'PRP'), ('appreciate', 'VBP'), ('all', 'DT'), ('your', 'PRP$'), ('hard', 'JJ'), ('work', 'NN'), ('on', 'IN'), ('#Sticker', 'NN'), ('and', 'CC'), ('trusting', 'VBG'), ('#NCT127', 'NN'), ('in', 'IN'), ('making', 'VBG'), ('this', 'DT'), ('art', 'NN'), ('come', 'VB'), ('to', 'TO'), ('life', 'NN'), ('!', '.'), ('It', 'PRP'), ('’', 'VBZ'), ('s', 'VBZ'), ('a', 'DT'), ('wonderfully', 'RB'), ('made', 'VBN'), ('piece', 'NN'), ('that', 'WDT'), ('deserves', 'VBZ'), ('to', 'TO'), ('be', 'VB'), ('respected', 'VBN'), ('.', '.'), ('All', 'PDT'), ('the', 'DT'), ('best', 'JJS'), ('!', '.'), ('!', '.'), ('#GRAMMYs', 'NN'), ('for', 'IN'), ('#Sticker', 'NN'), ('and', 'CC'), ('#NCT127', 'NNP'), ('🙏', 'NNP'), ('🤞', 'NNP'), ('https://t.co/3tFsWZEIAS', 'NN'), ('Imagine', 'NNP'), ('if', 'IN'), ('Bebe', 'NNP'), ('Rexha', 'NNP'), ('is', 'VBZ'), ('nominated', 'VBN'), ('at', 'IN'), ('the', 'DT'), ('#GRAMMYS', 'NN'), ('.', '.'), ('What', 'WP'), ('would', 'MD'), ('it', 'PRP'), ('be', 'VB'), ('?', '.'), ('The', 'DT'), ('latest', 'JJS'), ('Country', 'NN'), ('Music', 'NNP'), ('Chatter', 'NNP'), ('!', '.'), ('https://t.co/WUvEyLdrj5', 'NN'), ('Thanks', 'NNS'), ('to', 'TO'), ('@9NorthRecords', 'NNS'), ('#vmas', 'NNP'), ('#grammys', 'NNP'), ('Billboard', 'NNP'), ('reports', 'VBZ'), ('that', 'IN'), ('Plastic', 'NNP'), ('Hearts', 'NNP'), ('by', 'IN'), ('@MileyCyrus', 'NNP'), ('has', 'VBZ'), ('been', 'VBN'), ('submitted', 'VBN'), ('for', 'IN'), ('Best', 'NNP'), ('Rock', 'NNP'), ('Album', 'NNP'), ('at', 'IN'), ('the', 'DT'), ('2022', 'CD'), ('#Grammys', 'NN'), ('after', 'IN'), ('originally', 'RB'), ('being', 'VBG'), ('submitted', 'VBN'), ('for', 'IN'), ('the', 'DT'), ('pop', 'NN'), ('categories', 'NNS'), ('!', '.'), ('Nominations', 'NNS'), ('on', 'IN'), ('November', 'NNP'), ('23rd', 'CD'), ('.', '.'), ('https://t.co/OYX46aJeVt', 'VB'), ('Billboard', 'NNP'), ('reports', 'NNS'), ('that', 'IN'), ('Plastic', 'NNP'), ('Hearts', 'NNP'), ('by', 'IN'), ('@MileyCyrus', 'NNP'), ('has', 'VBZ'), ('been', 'VBN'), ('submitted', 'VBN'), ('for', 'IN'), ('Best', 'NNP'), ('Rock', 'NNP'), ('Album', 'NNP'), ('at', 'IN'), ('the', 'DT'), ('2022', 'CD'), ('#Grammys', 'NN'), ('after', 'IN'), ('originally', 'RB'), ('being', 'VBG'), ('submitted', 'VBN'), ('for', 'IN'), ('the', 'DT'), ('pop', 'NN'), ('categories', 'NNS'), ('!', '.'), ('Nominations', 'NNS'), ('are', 'VBP'), ('November', 'NNP'), ('23rd', 'CD'), ('!', '.'), ('https://t.co/iVpVHDD0EI', 'NN'), ('truly', 'RB'), ('the', 'DT'), ('best', 'JJS'), ('album', 'NN'), ('released', 'VBN'), ('in', 'IN'), ('2020', 'CD'), ('.', '.'), ('she', 'PRP'), ('MUST', 'NNP'), ('win', 'NN'), (',', ','), ('she', 'PRP'), ('was', 'VBD'), ('in', 'IN'), ('HER', 'NNP'), ('BAG', 'NNP'), ('#Grammys', 'NNP'), ('https://t.co/d3s6LREn0W', 'NN'), ('MILEY', 'NNP'), ('CYRUS', 'NNP'), ('IS', 'VBZ'), ('ABOUT', 'NNP'), ('TO', 'NNP'), ('BECOME', 'NNP'), ('A', 'NNP'), ('GRAMMY', 'NNP'), ('WINNING', 'NNP'), ('ARTIST', 'NNP'), ('BOOKMARK', 'NNP'), ('THIS', 'NNP'), ('.', '.'), ('#Grammys', 'VB'), ('Hello', 'NNP'), ('everyone', 'NN'), (',', ','), ('happy', 'JJ'), ('to', 'TO'), ('share', 'NN'), ('that', 'IN'), ('our', 'PRP$'), ('song', 'NN'), ('No', 'NNP'), ('Plastic', 'NNP'), ('Swear', 'NNP'), ('Now', 'RB'), ('is', 'VBZ'), ('on', 'IN'), ('the', 'DT'), ('64th', 'CD'), ('Grammy', 'NNP'), ('Awards', 'NNP'), ('ballot', 'NN'), ('in', 'IN'), ('Best', 'NNP'), ('Arrangement', 'NNP'), ('Instrumental', 'NNP'), ('or', 'CC'), ('A', 'NNP'), ('Cappella', 'NNP'), ('category.Need', 'VB'), ('all', 'DT'), ('your', 'PRP$'), ('blessings', 'NNS'), ('#RecordingAcademy', 'VBP'), ('#Vote4GRAMMYs', 'JJ'), ('#grammys', 'NNP'), ('#wearemusic', 'NNP'), ('#GRAMMYs', 'NNP'), ('#NoPlasticSwearNow', 'NNP'), ('https://t.co/dRcnP9emwy', 'VBZ'), ('Bebe', 'NNP'), ('Rexha', 'NNP'), ('for', 'IN'), ('#GRAMMYs', 'NNP'), ('&', 'CC'), ('#EMAs', 'NNP'), ('https://t.co/r88wvXERpl', 'NN'), ('Name', 'NN'), ('a', 'DT'), ('Nigeria', 'NNP'), ('underrated', 'JJ'), ('Album', 'NNP'), ('/', 'NNP'), ('EP', 'NNP'), ('?', '.'), ('#Platinum', 'NN'), ('#GRAMMYs', 'NN'), ('#underrated', 'VBD'), ('#16tracks', 'NNS'), ('#hiptv', 'NNP'), ('🚨', 'NNP'), ('Segundo', 'NNP'), ('a', 'DT'), ('Billboard', 'NNP'), (',', ','), ('“', 'NNP'), ('Plastic', 'NNP'), ('Hearts', 'NNP'), ('”', 'NNP'), ('foi', 'NN'), ('submetido', 'VBD'), ('a', 'DT'), ('“', 'JJ'), ('Best', 'NNP'), ('Rock', 'NNP'), ('Album', 'NNP'), ('”', 'NNP'), ('no', 'DT'), ('#GRAMMYs', 'NN'), ('2022', 'CD'), ('.', '.'), ('https://t.co/YWw2LOxram', 'NN'), ('BIG', 'NNP'), ('NEWS', 'NNP'), ('!', '.'), ('!', '.'), ('!', '.'), ('“', 'NN'), ('This', 'DT'), ('is', 'VBZ'), ('TBL', 'NNP'), ('”', 'NN'), ('is', 'VBZ'), ('up', 'RP'), ('for', 'IN'), ('@recordingacademy', 'JJ'), ('considerations', 'NNS'), ('...', ':'), ('🙏', 'NNP'), ('🏻', 'NNP'), ('🙏', 'NNP'), ('🏽', 'NNP'), ('🙏', 'NNP'), ('🏿', 'NNP'), ('#adifferentleague', 'NNP'), ('@ryzemagazine', 'NNP'), ('・', 'NNP'), ('・', 'NNP'), ('・', 'NNP'), ('FYC', 'NNP'), ('-', ':'), ('RYZE', 'NNP'), ('Magazine', 'NNP'), ('Presents', 'NNP'), ('“', 'VB'), ('This', 'DT'), ('Is', 'VBZ'), ('TBL', 'NNP'), ('”', 'NNP'), ('(', '('), ('thee', 'JJ'), ('official', 'NN'), ('TBL', 'NNP'), ('Theme', 'NNP'), ('Song', 'NNP'), ('and', 'CC'), ('Anthem', 'NNP'), (')', ')'), ('featuring', 'VBG'), ('@DaLomonze', 'JJ'), ('x', 'NNP'), ('@emceenicela', 'NNP'), ('x', 'NNP'), ('@lamonttblackshire', 'NNP'), ('#GRAMMYs', 'NNP'), ('https://t.co/hcybirgQtl', 'NN'), ('.', '.'), ('@MileyCyrus', 'CC'), ('’', 'JJ'), ('‘', 'NNP'), ('Plastic', 'NNP'), ('Hearts', 'NNP'), ('’', 'NNP'), ('has', 'VBZ'), ('been', 'VBN'), ('submitted', 'VBN'), ('for', 'IN'), ('“', 'NN'), ('Best', 'NNP'), ('Rock', 'NNP'), ('Album', 'NNP'), ('”', 'NNP'), ('at', 'IN'), ('the', 'DT'), ('2022', 'CD'), ('#GRAMMYs', 'NN'), (',', ','), ('@billboard', 'JJ'), ('reports', 'NNS'), ('.', '.'), ('https://t.co/CyOeAJhgcD', 'VB'), ('what', 'WP'), ('if', 'IN'), ('we', 'PRP'), ('get', 'VBP'), ('a', 'DT'), ('nomination', 'NN'), ('for', 'IN'), ('Grammy', 'NNP'), ('2022', 'CD'), ('next', 'JJ'), ('year', 'NN'), ('?', '.'), ('?', '.'), ('!', '.'), ('!', '.'), ('#BLACKPINK', 'JJ'), ('#GRAMMYs', 'NN'), ('For', 'IN'), ('Your', 'PRP$'), ('Consideration', 'NNP'), ('—', 'NNP'), ('GRAMMY', 'NNP'), ('Awards', 'NNP'), ('First', 'NNP'), ('Round', 'NNP'), ('Ballot', 'NNP'), (':', ':'), ('Black', 'NNP'), ('Nile', 'NNP'), ('“', 'VBZ'), ('The', 'DT'), ('Further', 'NNP'), ('Side', 'NNP'), ('”', 'NNP'), ('Best', 'NNP'), ('Contemporary', 'NNP'), ('Instrumental', 'NNP'), ('Album', 'NNP'), ('#GRAMMYs', 'NNP'), ('#grammys2022', 'NNP'), ('🏆', 'NNP'), ('https://t.co/FceX04kvEF', 'VBD'), ('@Wale', 'NNP'), ('definitely', 'RB'), ('has', 'VBZ'), ('album', 'NN'), ('of', 'IN'), ('the', 'DT'), ('year', 'NN'), ('so', 'RB'), ('far', 'RB'), ('.', '.'), ('#Folarin2', 'JJ'), ('#GRAMMYs', 'JJ'), ('#GRAMMYs', 'NN'), ('this', 'DT'), ('is', 'VBZ'), ('cheating', 'VBG'), ('.', '.'), ('bts', 'NNS'), ('have', 'VBP'), ('to', 'TO'), ('get', 'VB'), ('that', 'DT'), ('.', '.'), ('because', 'IN'), (',', ','), ('their', 'PRP$'), ('impact', 'NN'), ('made', 'VBD'), ('the', 'DT'), ('others', 'NNS'), ('get', 'VBP'), ('nominated.then', 'JJ'), ('why', 'WRB'), ('cheating', 'VBG'), ('?', '.'), ('Fans', 'NNS'), ('react', 'VBP'), ('as', 'IN'), ('#GRAMMYs', 'NNP'), ('Award', 'NNP'), ('winner', 'NN'), ('#Burnaboy', 'NNP'), ('shaves', 'VBZ'), ('off', 'RP'), ('beard', 'NN'), ('&', 'CC'), ('dons', 'NNS'), ('a', 'DT'), ('leather', 'NN'), ('outfit', 'NN'), ('Grammy', 'NNP'), ('award-winning', 'JJ'), ('singer', 'NN'), (',', ','), ('Damini', 'NNP'), ('Ogulu', 'NNP'), (',', ','), ('popularly', 'RB'), ('known', 'VBN'), ('as', 'IN'), ('#Burnaboy', 'NN'), ('has', 'VBZ'), ('shaved', 'VBN'), ('off', 'RP'), ('his', 'PRP$'), ('beard', 'NN'), ('.', '.'), ('https://t.co/j2I3nCLFDD', 'NN'), ('GRAMMYS', 'NNP'), ('Sharing', 'NNP'), ('some', 'DT'), ('great', 'JJ'), ('news', 'NN'), ('today', 'NN'), ('!', '.'), ('!', '.'), ('My', 'PRP$'), ('dear', 'JJ'), ('friend', 'NN'), ('@Raghu_Dixit', 'NN'), ('has', 'VBZ'), ('collaborated', 'VBN'), ('with', 'IN'), ('musician', 'JJ'), ('@caseydriessen', 'NN'), ('for', 'IN'), ('the', 'DT'), ('album', 'NN'), ('#Otherlands', 'VBZ'), ('is', 'VBZ'), ('being', 'VBG'), ('considered', 'VBN'), ('for', 'IN'), ('Grammys', 'NNP'), ('!', '.'), ('!', '.'), ('https://t.co/zHXUOBXlt1', 'NN'), ('#Grammys', 'JJ'), ('#Inclusivity', 'NN'), ('#language', 'NN'), ('#Violin', 'NNP'), ('#guitar', 'NNP'), ('#vocals', 'NNS'), ('#poetry', 'VBP'), ('#Otherlands', 'VBZ'), ('Grammy', 'NNP'), ('Nominations', 'NNP'), ('Forecast', 'NNP'), (':', ':'), ('Could', 'MD'), ('the', 'DT'), ('Top', 'NNP'), ('Categories', 'NNPS'), ('Be', 'NNP'), ('a', 'DT'), ('Battle', 'NNP'), ('of', 'IN'), ('the', 'DT'), ('Teen', 'NNP'), ('Titans', 'NNPS'), ('?', '.'), ('@OliviaRodrigoHQ', 'VB'), ('@LilNasX', 'JJ'), ('@billieeilish', 'JJ'), ('@taylorswift13', 'NN'), ('@Grammys', 'NNP'), ('@RecordingAcad', 'NNP'), ('#TaylorSwift', 'NNP'), ('#oliviarodrigo', 'NNP'), ('#BillieEilish', 'JJ'), ('#LilNasX', 'NNP'), ('#Grammys', 'NNP'), ('https://t.co/3COX4pitoy', 'NN'), ('via', 'IN'), ('@variety', 'NNP'), ('Plastic', 'NNP'), ('Hearts', 'NNP'), ('foi', 'NN'), ('submetido', 'VBD'), ('a', 'DT'), ('categoria', 'NN'), ('de', 'FW'), ('Best', 'NNP'), ('Rock', 'NNP'), ('Album', 'NNP'), ('no', 'DT'), ('#GRAMMYs', 'NNP'), ('https://t.co/zKqWQT0dNs', 'NN'), ('For', 'IN'), ('Ur', 'NNP'), ('Grammy', 'NNP'), ('Consideration', 'NNP'), ('#BTS', 'NNP'), ('#GRAMMYs', 'NNP'), ('https://t.co/OmjUZo6nBs', 'VBZ'), ('#MONSTAX', 'NN'), ('for', 'IN'), ('the', 'DT'), ('#GRAMMYs', 'NNP'), ('https://t.co/v3l8hoqvlG', 'NN'), ('@RecordingAcad', 'NNP'), ('Tinashe', 'NNP'), ('also', 'RB'), ('dropped', 'VBD'), ('this', 'DT'), ('incredible', 'JJ'), ('album', 'NN'), (',', ','), ('Comfort', 'NNP'), ('&', 'CC'), ('Joy', 'NNP'), ('for', 'IN'), ('the', 'DT'), ('holidays', 'NNS'), ('..', 'VBP'), ('let', 'VB'), ('’', 'NNP'), ('s', 'VB'), ('go', 'VB'), ('#lifetimeaward', 'NNP'), ('#Grammys', 'NNP'), ('I', 'PRP'), ('’', 'VBP'), ('m', 'RB'), ('trying', 'VBG'), ('to', 'TO'), ('tell', 'VB'), ('y', 'RB'), ('’', 'NNP'), ('all', 'DT'), ('..', 'NNP'), ('vote', 'NN'), ('for', 'IN'), ('Tinashe', 'NNP'), ('..', 'NNP'), ('must', 'MD'), ('I', 'PRP'), ('say', 'VB'), ('she', 'PRP'), ('is', 'VBZ'), (',', ','), ('Every', 'NNP'), ('Woman', 'NNP'), ('https://t.co/xozhEdaGS3', 'VBZ'), ('https://t.co/szQo1mFoX8', 'NN'), ('▶', 'NN'), ('Do', 'VBP'), ('you', 'PRP'), ('want', 'VB'), ('to', 'TO'), ('enhance', 'VB'), ('your', 'PRP$'), ('beauty', 'NN'), ('?', '.'), ('Yes', 'UH'), (',', ','), ('you', 'PRP'), ('come', 'VBP'), ('to', 'TO'), ('the', 'DT'), ('right', 'JJ'), ('place', 'NN'), ('..', 'NNP'), ('We', 'PRP'), ('provide', 'VBP'), ('the', 'DT'), ('best', 'JJS'), ('beauty', 'NN'), ('essential', 'JJ'), ('video', 'NN'), ('.', '.'), ('✅', 'JJ'), ('WATCH', 'NNP'), ('THIS', 'NNP'), ('VIDEO', 'NNP'), (':', ':'), ('https://t.co/YQusNfjYKJ', 'NN'), ('#PHXvsLAL', 'NNP'), ('#Arizona', 'NNP'), ('#jokic', 'NNP'), ('#ADandDwight', 'NNP'), ('#Zendaya', 'NNP'), ('#WHOAREYOU', 'NNP'), ('#FleetwoodMac', 'NNP'), ('#GRAMMYs', 'NNP'), ('#ONEW', 'NNP'), ('#PermissionToDanceOnStageLA', 'NNP'), ('https://t.co/A9ujhxRjf5', 'NN'), ('For', 'IN'), ('Your', 'PRP$'), ('Grammy', 'NNP'), ('Consideration', 'NNP'), ('@RecordingAcad', 'NNP'), ('#BTS', 'NNP'), ('#GRAMMYs', 'NNP'), ('https://t.co/taIT3b4V96', 'NN'), ('“', 'NNP'), ('Plastic', 'NNP'), ('Hearts', 'NNP'), ('”', 'NN'), ('by', 'IN'), ('Miley', 'NNP'), ('Cyrus', 'NNP'), ('has', 'VBZ'), ('been', 'VBN'), ('submitted', 'VBN'), ('for', 'IN'), ('best', 'JJS'), ('rock', 'NN'), ('album', 'NN'), ('at', 'IN'), ('the', 'DT'), ('#Grammys', 'NN'), ('.', '.'), ('If', 'IN'), ('Cyrus', 'NNP'), ('were', 'VBD'), ('to', 'TO'), ('win', 'VB'), (',', ','), ('she', 'PRP'), ('’', 'VBD'), ('d', 'JJ'), ('become', 'VB'), ('the', 'DT'), ('first', 'JJ'), ('female', 'JJ'), ('artist', 'NN'), ('(', '('), ('and', 'CC'), ('first', 'RB'), ('solo', 'JJ'), ('singer', 'NN'), ('overall', 'JJ'), (')', ')'), ('to', 'TO'), ('win', 'VB'), ('the', 'DT'), ('award', 'NN'), ('in', 'IN'), ('23', 'CD'), ('years', 'NNS'), ('!', '.'), ('https://t.co/j6bUk1pl0s', 'NN'), ('Really', 'RB'), ('thrilled', 'VBD'), ('to', 'TO'), ('see', 'VB'), ('my', 'PRP$'), ('album', 'NN'), ('listed', 'VBN'), ('here', 'RB'), ('!', '.'), ('If', 'IN'), ('you', 'PRP'), ('have', 'VBP'), ('a', 'DT'), ('vote', 'NN'), ('for', 'IN'), ('the', 'DT'), ('Grammy', 'NNP'), ('’', 'NNP'), ('s', 'VBD'), ('it', 'PRP'), ('would', 'MD'), ('be', 'VB'), ('great', 'JJ'), ('if', 'IN'), ('you', 'PRP'), ('’', 'VBP'), ('d', 'JJ'), ('take', 'VB'), ('a', 'DT'), ('listen', 'NN'), ('and', 'CC'), ('consider', 'VB'), ('it', 'PRP'), ('?', '.'), ('❤', 'JJ'), ('️', 'JJ'), ('Thanks', 'NNP'), ('so', 'RB'), ('much', 'JJ'), ('Jason', 'NNP'), ('Miles', 'NNP'), ('and', 'CC'), ('my', 'PRP$'), ('amazing', 'JJ'), ('band', 'NN'), ('!', '.'), ('🙏', 'JJ'), ('@RecordingAcad', 'JJ'), ('@JasonMiles', 'NNS'), ('@Jazzwise', 'VBP'), ('@JazzJournal', 'JJ'), ('@BBCJazzon3', 'NNP'), ('#Grammys', 'NNP'), ('#jazz', 'NNP'), ('#jazzvocal', 'JJ'), ('https://t.co/7Bqr767DeI', 'NN'), ('this', 'DT'), ('had', 'VBD'), ('to', 'TO'), ('be', 'VB'), ('one', 'CD'), ('of', 'IN'), ('the', 'DT'), ('biggest', 'JJS'), ('song', 'NN'), ('snubbed', 'VBD'), ('at', 'IN'), ('#GRAMMYs', 'NNP'), ('https://t.co/H9KpZaV81a', 'NN'), ('Turns', 'VBZ'), ('out', 'RP'), ('Birdsong', 'NNP'), ('has', 'VBZ'), ('also', 'RB'), ('made', 'VBN'), ('the', 'DT'), ('longlist', 'NN'), ('for', 'IN'), ('track', 'NN'), ('of', 'IN'), ('the', 'DT'), ('year', 'NN'), ('🥰', 'NNP'), ('#GRAMMYs', 'NNP'), ('@theluxalma', 'NNP'), ('@Jess_C_Leen', 'NNP'), ('@niamhsandwich', 'NNP'), ('@CariQMusic', 'NNP'), ('@theruthsmith', 'NNP'), ('@SiveMusic', 'NNP'), ('@PSuitestudios', 'NNP'), ('https://t.co/0yFWOxEX8v', 'NN'), ('Sticker', 'NNP'), ('is', 'VBZ'), ('the', 'DT'), ('MASTERPIECE', 'NNP'), ('!', '.'), ('You', 'PRP'), ('deserve', 'VBP'), ('it', 'PRP'), ('!', '.'), ('#GRAMMYs', 'JJ'), ('https://t.co/a7NZr2uG5q', 'NN'), ('For', 'IN'), ('Ur', 'NNP'), ('Grammy', 'NNP'), ('Consideration', 'NNP'), ('#BTS', 'NNP'), ('#GRAMMYs', 'NNP'), ('https://t.co/J2vl0WPe0u', 'NN'), ('Via', 'NNP'), ('@Variety', 'NN'), ('Will', 'NNP'), ('2022', 'CD'), ('Be', 'NNP'), ('#BTS', 'VBN'), ('’', 'NNP'), ('and', 'CC'), ('K-Pop', 'NNP'), ('’', 'NNP'), ('s', 'VBD'), ('Year', 'NNP'), ('at', 'IN'), ('the', 'DT'), ('#Grammys', 'NN'), ('?', '.'), ('https://t.co/z5OXyyuYpF', 'JJ'), ('#GRAMMYs', 'NN'), ('Voting', 'NNP'), ('is', 'VBZ'), ('critically', 'RB'), ('important', 'JJ'), ('because', 'IN'), ('the', 'DT'), ('power', 'NN'), (',', ','), ('privilege', 'NN'), (',', ','), ('and', 'CC'), ('prestige', 'NN'), ('of', 'IN'), ('recognizing', 'VBG'), ('music', 'NN'), ('’', 'NNP'), ('s', 'NN'), ('creators', 'NNS'), ('is', 'VBZ'), ('in', 'IN'), ('the', 'DT'), ('hands', 'NNS'), ('of', 'IN'), ('our', 'PRP$'), ('@RecordingAcademy', 'JJ'), ('members', 'NNS'), ('.', '.'), ('If', 'IN'), (\"you're\", 'PDT'), ('a', 'DT'), ('#RecordingAcademy', 'JJ'), ('voting', 'NN'), ('member', 'NN'), (',', ','), (\"don't\", 'NN'), ('forget', 'NN'), ('to', 'TO'), ('vote', 'VB'), ('!', '.'), ('#Vote4GRAMMYs', 'JJ'), ('https://t.co/T4SbELcRWB', 'JJ'), ('Very', 'NNP'), ('happy', 'JJ'), ('that', 'IN'), ('my', 'PRP$'), ('album', 'JJ'), ('“', 'NN'), ('Now', 'RB'), ('The', 'DT'), ('Silence', 'NNP'), ('”', 'NNP'), ('has', 'VBZ'), ('been', 'VBN'), ('accepted', 'VBN'), ('for', 'IN'), ('consideration', 'NN'), ('by', 'IN'), ('the', 'DT'), ('Recording', 'NNP'), ('Academy', 'NNP'), ('and', 'CC'), ('appears', 'VBZ'), ('on', 'IN'), ('the', 'DT'), ('initial', 'JJ'), ('voting', 'NN'), ('ballot', 'NN'), ('in', 'IN'), ('the', 'DT'), ('category', 'NN'), ('of', 'IN'), ('New', 'NNP'), ('Age', 'NNP'), ('Album', 'NNP'), ('.', '.'), ('#FYC', 'JJ'), ('#NowTheSilence', 'NN'), ('#NewAgeAlbum', 'NNP'), ('#GRAMMYs', 'NNP'), ('https://t.co/6UoImQNxeg', 'NN'), ('Record', 'NNP'), ('of', 'IN'), ('the', 'DT'), ('week', 'NN'), ('comes', 'VBZ'), ('courtesy', 'NN'), ('of', 'IN'), ('the', 'DT'), ('talented', 'JJ'), ('@EgoEllaMay', 'NN'), ('on', 'IN'), ('tomorrows', 'NNS'), ('programme', 'VBP'), ('from', 'IN'), ('10am', 'CD'), ('on', 'IN'), ('@JazzFM', 'JJ'), ('plus', 'CC'), (\"i'll\", 'JJ'), ('be', 'VB'), ('talking', 'VBG'), ('to', 'TO'), ('the', 'DT'), ('#GRAMMYs', 'NNP'), ('winning', 'VBG'), ('@keyonharrold', 'JJ'), ('plus', 'CC'), ('new', 'JJ'), ('music', 'NN'), ('from', 'IN'), ('NeONE', 'NNP'), ('the', 'DT'), ('Wonderer', 'NNP'), ('@brownswood', 'NNP'), ('@SNG_Manchester', 'NN'), ('and', 'CC'), ('more', 'JJR'), ('.', '.'), ('Or', 'CC'), ('c', 'NN'), ('/', 'VBP'), ('up', 'RB'), ('here', 'RB'), ('https://t.co/iqlqK1g94m', 'JJ'), ('https://t.co/wrNeYJN7Jx', 'NN'), ('This', 'DT'), ('is', 'VBZ'), ('masterpiece', 'JJ'), ('@RecordingAcad', 'NNP'), ('#nct127', 'NNP'), ('#Sticker', 'NNP'), ('#GRAMMYs', 'NNP'), ('https://t.co/kd6LssvpMY', 'NN'), ('#GRAMMYs', 'NNP'), ('Quick', 'NNP'), ('Predictions', 'NNP'), ('-', ':'), ('Alternative', 'JJ'), ('+', 'JJ'), ('Country', 'NNP'), ('https://t.co/Yq1iWXuedS', 'NN'), ('We', 'PRP'), ('are', 'VBP'), ('honored', 'VBN'), ('to', 'TO'), ('share', 'NN'), ('our', 'PRP$'), ('dream', 'NN'), ('come', 'VB'), ('true', 'JJ'), ('with', 'IN'), ('you', 'PRP'), ('!', '.'), ('If', 'IN'), ('you', 'PRP'), ('are', 'VBP'), ('a', 'DT'), ('voting', 'JJ'), ('member', 'NN'), ('of', 'IN'), ('the', 'DT'), ('recording', 'NN'), ('academy', 'NN'), (',', ','), ('our', 'PRP$'), ('music', 'NN'), ('is', 'VBZ'), ('on', 'IN'), ('the', 'DT'), ('first', 'JJ'), ('round', 'NN'), ('Grammy', 'NNP'), ('ballot', 'NN'), ('this', 'DT'), ('year', 'NN'), ('!', '.'), ('https://t.co/UVgWfRO0Db', 'NN'), ('#dreambig', 'NNP'), ('#GRAMMYs', 'NNP'), ('#sleepingwitharockstar', 'NNP'), ('#isthatenough', 'NNP'), ('https://t.co/T0VWCqZC9P', 'NN'), ('Thaalaatu', 'NNP'), ('is', 'VBZ'), ('on', 'IN'), ('the', 'DT'), ('64th', 'CD'), ('Grammy', 'NNP'), ('Awards', 'NNP'), ('ballot', 'NN'), ('#RecordingAcademy', 'NNP'), ('#Vote4GRAMMYs', 'NNP'), ('#grammys', 'NNP'), ('#wearemusic', 'NNP'), ('#thaalaatulullaby', 'NNP'), ('composed', 'VBD'), ('and', 'CC'), ('arranged', 'VBN'), ('by', 'IN'), ('@crazydevan75', 'NNP'), ('.', '.'), ('All', 'PDT'), ('the', 'DT'), ('best', 'JJS'), ('da', 'NN'), ('.', '.'), ('https://t.co/KVimWfNoHZ', 'VB'), ('The', 'DT'), ('latest', 'JJS'), ('The', 'DT'), ('Gospel', 'NNP'), ('music', 'NN'), ('Daily', 'NNP'), ('!', '.'), ('https://t.co/DHan149e1b', 'NN'), ('Thanks', 'NNS'), ('to', 'TO'), ('@fortunatefall03', 'VB'), ('#music', 'JJ'), ('#grammys', 'NNP'), ('Track', 'NNP'), ('list', 'NN'), ('for', 'IN'), ('TNBT', 'NNP'), ('the', 'DT'), ('Ep', 'NNP'), ('out', 'RP'), ('this', 'DT'), ('week', 'NN'), ('#GRAMMYs', 'NNP'), ('#music', 'NNP'), ('#TNBT', 'NNP'), ('#mrnasty', 'NNP'), ('#Ep', 'NNP'), ('Miley', 'NNP'), ('Cyrus', 'NNP'), ('’', 'NNP'), ('Plastic', 'NNP'), ('Hearts', 'NNP'), ('was', 'VBD'), ('submitted', 'VBN'), ('to', 'TO'), ('POP', 'NNP'), ('categories', 'NNS'), ('but', 'CC'), ('#GRAMMYs', 'NNP'), ('recategorized', 'VBD'), ('them', 'PRP'), ('to', 'TO'), ('ROCK', 'NNP'), (',', ','), ('@billboard', 'NNP'), ('reports', 'VBZ'), ('#Blackpink', 'NN'), ('(', '('), ('the', 'DT'), ('movie', 'NN'), (')', ')'), ('×', 'NN'), ('#GRAMMYs', 'NN'), ('?', '.'), ('https://t.co/SGtuuXjA23', 'NN'), ('.', '.'), ('@MileyCyrus', 'CC'), ('’', 'JJ'), ('‘', 'NNP'), ('Plastic', 'NNP'), ('Hearts', 'NNP'), ('’', 'NNP'), ('has', 'VBZ'), ('been', 'VBN'), ('submitted', 'VBN'), ('for', 'IN'), ('“', 'NN'), ('Best', 'NNP'), ('Rock', 'NNP'), ('Album', 'NNP'), ('”', 'NNP'), ('at', 'IN'), ('the', 'DT'), ('2022', 'CD'), ('#GRAMMYs', 'NN'), (',', ','), ('@billboard', 'JJ'), ('reports', 'NNS'), ('.', '.'), ('https://t.co/1GKmmqw5ue', 'NN'), ('Time', 'NNP'), ('out', 'RP'), ('for', 'IN'), ('tea', 'NN'), ('🙏', 'JJ'), ('#xfiles', 'NNS'), ('#mulderandscully', 'RB'), ('#dalek', 'VBP'), ('#scifi', 'JJ'), ('#retro', 'NNP'), ('#robot', 'NNP'), ('#GRAMMYs', 'NNP'), ('#tea', 'NNP'), ('#breaktime', 'NNP'), ('#culttv', 'NNP'), ('#startrek', 'NNP'), ('#yellowsubmarine', 'NNP'), ('#groovy', 'NNP'), ('#dig', 'NNP'), ('https://t.co/7z7Jzng6wQ', 'NN'), ('@demjointz', 'NN'), ('YEEEES', 'NN'), ('!', '.'), ('!', '.'), ('!', '.'), ('Deserve', 'NN'), ('!', '.'), ('#NCT127', 'JJ'), ('#STICKER', 'JJ'), ('#GRAMMYs', 'NNP'), ('💚', 'NNP'), ('💃', 'NNP'), ('@umksjin', 'NNP'), ('@AlyaNuari5', 'NNP'), ('@emxrwld', 'NNP'), ('For', 'IN'), ('Ur', 'NNP'), ('Grammy', 'NNP'), ('Consideration', 'NNP'), ('#NCT127', 'NNP'), ('#Sticker', 'NNP'), ('#GRAMMYs', 'NNP'), ('🤞', 'NNP'), ('🏽', 'NNP'), ('https://t.co/VDoKXZCKAW', 'NN'), ('For', 'IN'), ('your', 'PRP$'), ('consideration', 'NN'), ('to', 'TO'), ('whom', 'WP'), ('it', 'PRP'), ('may', 'MD'), ('concern', 'NN'), ('.', '.'), ('🕊', 'CC'), ('@leather_sox', 'JJ'), ('@dovesociety', 'NN'), ('@recordingacademy', 'NNP'), ('#grammys', 'NNP'), ('https://t.co/miLPV3AaIe', 'NN'), ('For', 'IN'), ('your', 'PRP$'), ('64th', 'CD'), ('annual', 'JJ'), ('Grammy', 'NNP'), ('®', 'NNP'), ('️', 'NNP'), ('voting', 'VBG'), ('consideration', 'NN'), (':', ':'), ('My', 'PRP$'), ('album', 'NN'), ('\"', 'NN'), ('With', 'IN'), ('Love', 'NNP'), ('from', 'IN'), ('Lake', 'NNP'), ('Huron', 'NNP'), ('\"', 'NNP'), ('has', 'VBZ'), ('been', 'VBN'), ('submitted', 'VBN'), ('for', 'IN'), ('the', 'DT'), ('2022', 'CD'), ('Country', 'NNP'), ('Album', 'NNP'), ('of', 'IN'), ('the', 'DT'), ('Year', 'NN'), ('for', 'IN'), ('the', 'DT'), ('64th', 'CD'), ('annual', 'JJ'), ('Grammy', 'NNP'), ('®', 'NNP'), ('️', 'NNP'), ('Awards', 'NNP'), ('.', '.'), ('https://t.co/tRAvypvSzE', 'NN'), ('#GRAMMYs', 'NN'), ('#GrammyAwards', 'NNS'), ('https://t.co/QEi3IxVaEO', 'VBP'), ('@demjointz', 'JJ'), ('I', 'PRP'), ('hope', 'VBP'), ('so', 'RB'), ('..', 'JJ'), ('You', 'PRP'), ('and', 'CC'), ('NCT', '$'), ('127', 'CD'), ('deseve', 'NN'), ('it', 'PRP'), ('#NCT127', 'VBZ'), ('#GRAMMYs', 'JJ'), ('@RecordingAcad', 'NNP'), ('Nominate', 'NNP'), ('#LISA', 'NNP'), ('for', 'IN'), ('2021', 'CD'), ('“', 'JJ'), ('new', 'JJ'), ('artist', 'NN'), ('”', 'NNP'), ('category', 'NN'), ('#GRAMMYs', 'NNP'), ('#LisaMoneyDance', 'NNP'), ('#LalisaManoban', 'NNP'), ('#MONEY', 'NNP'), ('#LALISAsolo', 'NNP'), ('#SOLM', 'NNP'), ('#SnakeOzunaLisaMegan', 'NNP'), ('Any', 'NNP'), ('ARMY', 'NNP'), ('’', 'NNP'), ('s', 'VBD'), ('wanna', 'JJ'), ('weigh', 'NN'), ('in', 'IN'), ('on', 'IN'), ('what', 'WP'), ('they', 'PRP'), ('think', 'VBP'), ('about', 'IN'), ('BTS', 'NNP'), ('’', 'NNP'), ('s', 'VBD'), ('chance', 'NN'), ('at', 'IN'), ('winning', 'VBG'), ('big', 'JJ'), ('at', 'IN'), ('this', 'DT'), ('year', 'NN'), ('’', 'VBZ'), ('s', 'JJ'), ('Grammys', 'NNP'), ('?', '.'), ('😳', 'NNP'), ('💜', 'NNP'), ('#GRAMMYs', 'NNP'), ('#BTS', 'NNP'), ('#ARMY', 'NNP'), ('https://t.co/OPrCPllIx6', 'NN'), ('https://t.co/aDWI27uAmE', 'NN'), ('RCA', 'NNP'), ('Records', 'NNP'), (',', ','), ('Doja', 'NNP'), (\"Cat's\", 'NNP'), ('label', 'NN'), (',', ','), ('submitted', 'VBN'), (\"'\", 'POS'), ('Planet', 'NNP'), ('Her', 'NNP'), (\"'\", \"''\"), ('in', 'IN'), ('the', 'DT'), ('category', 'NN'), (\"'\", 'POS'), ('Best', 'NNP'), ('Pop', 'NNP'), ('Vocal', 'NNP'), ('Album', 'NNP'), (\"'\", 'POS'), ('on', 'IN'), ('2022', 'CD'), ('#GRAMMYs', 'NN'), ('.', '.'), ('https://t.co/tG4QCLvCuE', 'NN'), ('For', 'IN'), ('your', 'PRP$'), ('#Grammys', 'JJ'), ('Consideration', 'NN'), (':', ':'), ('Dexter', 'NNP'), ('Allen', 'NNP'), ('->', 'NNP'), ('“', 'NNP'), ('Keep', 'NNP'), ('Moving', 'NNP'), ('On', 'IN'), ('”', 'NNP'), ('Best', 'NNP'), ('American', 'JJ'), ('Roots', 'NNP'), ('Song', 'NNP'), ('Best', 'NNP'), ('American', 'JJ'), ('Roots', 'NNP'), ('Performance', 'NNP'), ('Best', 'NNP'), ('Traditional', 'NNP'), ('Blues', 'NNP'), ('Album', 'NNP'), ('https://t.co/RbSOg3EprW', 'VBD'), ('Listening', 'VBG'), ('to', 'TO'), ('#BlueBanisters', 'NNS'), ('for', 'IN'), ('the', 'DT'), ('1st', 'CD'), ('time', 'NN'), ('in', 'IN'), ('my', 'PRP$'), ('room', 'NN'), ('with', 'IN'), ('headphones', 'NNS'), ('&', 'CC'), ('mushroom', 'NN'), ('tea', 'NN'), ('was', 'VBD'), ('the', 'DT'), ('best', 'JJS'), ('decision', 'NN'), ('of', 'IN'), ('my', 'PRP$'), ('life', 'NN'), ('.', '.'), ('It', 'PRP'), ('’', 'VBZ'), ('s', 'VBZ'), ('a', 'DT'), ('spiritual', 'JJ'), ('awakening', 'NN'), ('.', '.'), ('#LanaDelRey', 'CC'), ('those', 'DT'), ('horns', 'NNS'), ('on', 'IN'), ('If', 'IN'), ('you', 'PRP'), ('lie', 'VBP'), ('down', 'RP'), ('with', 'IN'), ('me', 'PRP'), ('?', '.'), ('This', 'DT'), ('is', 'VBZ'), ('the', 'DT'), ('album', 'NN'), ('that', 'WDT'), ('will', 'MD'), ('snag', 'VB'), ('the', 'DT'), ('#Grammys', 'NNP'), ('https://t.co/0fj6z9kKzX', 'NN'), ('.', '.'), ('@DojaCat', 'CC'), ('’', 'JJ'), ('s', 'NN'), ('‘', 'JJ'), ('Planet', 'NNP'), ('Her', 'NNP'), ('’', 'NNP'), ('has', 'VBZ'), ('been', 'VBN'), ('submitted', 'VBN'), ('under', 'IN'), ('‘', 'NN'), ('Best', 'NNP'), ('Pop', 'NNP'), ('Vocal', 'NNP'), ('Album', 'NNP'), ('”', 'NNP'), ('for', 'IN'), ('the', 'DT'), ('2022', 'CD'), ('#GRAMMYs', 'NNP'), ('https://t.co/HIBh8tQr2m', 'NN'), ('@JoeYue16', 'NNP'), ('@demjointz', 'NNP'), ('Lmao', 'NNP'), ('I', 'PRP'), ('love', 'VBP'), ('your', 'PRP$'), ('pfp', 'NN'), ('btw', 'NN'), ('stream', 'NN'), ('sticker', 'NN'), ('#Grammys', 'NNP'), ('😂', 'NNP'), ('For', 'IN'), ('your', 'PRP$'), ('#Grammys', 'JJ'), ('Consideration', 'NN'), (':', ':'), ('\"', 'JJ'), ('My', 'PRP$'), ('American', 'JJ'), ('Heart', 'NNP'), ('”', 'NN'), ('Best', 'NNP'), ('American', 'NNP'), ('Roots', 'NNP'), ('Song', 'NNP'), ('&', 'CC'), ('Best', 'NNP'), ('American', 'JJ'), ('Roots', 'NNP'), ('Performance', 'NNP'), ('❤', 'NNP'), ('️', 'NNP'), ('💙', 'NNP'), ('https://t.co/51sWcYBLUp', 'NN'), ('So', 'NNP'), ('is', 'VBZ'), ('BE', 'NNP'), (',', ','), ('Butter', 'NNP'), ('and', 'CC'), ('Permission', 'NNP'), ('To', 'TO'), ('Dance', 'NNP'), ('eligible', 'NN'), ('for', 'IN'), ('#GRAMMYs', 'NNP'), ('under', 'IN'), ('SOTY', 'NNP'), (',', ','), ('AOTY', 'NNP'), ('and', 'CC'), ('ROTY', 'NNP'), ('?', '.'), ('#BTS', 'NN'), ('For', 'IN'), ('your', 'PRP$'), ('#Grammys', 'JJ'), ('Consideration', 'NN'), (':', ':'), ('\"', 'JJ'), ('28', 'CD'), ('Days', 'NNPS'), ('\"', 'NNP'), ('Song', 'NNP'), ('of', 'IN'), ('the', 'DT'), ('Year', 'NNP'), ('-', ':'), ('Roland', 'NNP'), ('Guerin', 'NNP'), (',', ','), ('songwriter', 'NN'), ('https://t.co/8evxoKhnim', 'NN'), ('Loading', 'VBG'), ('...', ':'), ('🔥', 'NN'), ('@zionfelixdotcom', 'NNP'), ('@magraheb', 'NNP'), ('#rap', 'NNP'), ('#nopressure', 'NNP'), ('#streetstyle', 'NNP'), ('#grammys', 'NNP'), ('#hiphop', 'NNP'), ('#hiphopculture', 'NN'), ('#drill', 'NNP'), ('#freestyle', 'NNP'), ('#4sytetv', 'NNP'), ('#africanprint', 'NN'), ('#mavinrecords', 'NNS'), ('#billboard', 'NNP'), ('#bet', 'NNP'), ('https://t.co/BchTZxG9Lg', 'NN'), ('In', 'IN'), ('a', 'DT'), ('recent', 'JJ'), ('article', 'NN'), (',', ','), ('Billboard', 'NNP'), ('confirms', 'VBZ'), ('that', 'IN'), ('@AvaMax', 'NN'), ('is', 'VBZ'), ('eligible', 'JJ'), ('to', 'TO'), ('compete', 'VB'), ('for', 'IN'), ('the', 'DT'), ('“', 'NNP'), ('Best', 'NNP'), ('New', 'NNP'), ('Artist', 'NNP'), ('”', 'NNP'), ('nomination', 'NN'), ('at', 'IN'), ('the', 'DT'), ('2022', 'CD'), ('#Grammys', 'NN'), ('.', '.'), ('The', 'DT'), ('nominations', 'NNS'), ('will', 'MD'), ('be', 'VB'), ('announced', 'VBN'), ('November', 'NNP'), ('23rd', 'CD'), ('.', '.'), ('🔗', 'VB'), ('https://t.co/q5juJxJpnw', 'JJ'), ('https://t.co/CJ0cSdhTV5', 'NN'), ('@saftykai', 'NN'), ('I', 'PRP'), ('#VoteAnittaGrammys', 'VBP'), ('for', 'IN'), ('#GRAMMYs', 'NNP'), ('Best', 'NNP'), ('New', 'NNP'), ('Artist', 'NNP'), ('This', 'DT'), ('song', 'NN'), ('deserves', 'VBZ'), ('to', 'TO'), ('be', 'VB'), ('in', 'IN'), ('#GRAMMYs', 'JJ'), ('🔥', 'NNP'), ('🔥', 'NNP'), ('@arrahman', 'NNP'), ('https://t.co/xr3G0sCcaa', 'NN'), ('I', 'PRP'), ('#VoteAnittaGrammys', 'VBP'), ('for', 'IN'), ('#GRAMMYs', 'NNP'), ('Best', 'NNP'), ('New', 'NNP'), ('Artist', 'NNP'), ('Congrats', 'NNP'), ('Record', 'NNP'), ('of', 'IN'), ('the', 'DT'), ('Year', 'NNP'), ('winner', 'NN'), ('-', ':'), ('\"', 'NN'), ('positions', 'NNS'), ('\"', 'VBP'), ('@ArianaGrande', 'JJ'), ('#GRAMMYs', 'NNP'), ('https://t.co/omqPQn14Q2', 'VBD'), ('The', 'DT'), ('2021', 'CD'), ('Latin', 'NNP'), ('GRAMMYs', 'NNP'), ('telecast', 'NN'), ('will', 'MD'), ('air', 'VB'), ('live', 'JJ'), ('on', 'IN'), ('Thursday', 'NNP'), (',', ','), ('Nov', 'NNP'), ('.', '.'), ('18', 'CD'), (',', ','), ('on', 'IN'), ('Univision', 'NN'), ('at', 'IN'), ('8', 'CD'), ('p', 'NN'), ('.', '.'), ('m', 'NN'), ('.', '.'), ('ET', 'NNP'), ('/', 'NNP'), ('PT', 'NNP'), ('(', '('), ('7', 'CD'), ('p', 'NN'), ('.', '.'), ('m', 'NN'), ('.', '.'), ('CT', 'NNP'), (')', ')'), ('.', '.'), ('@thelatingrammys', 'JJ'), ('#GRAMMYs', 'JJ'), ('https://t.co/CKjwuyPfeF', 'NN'), ('please', 'NN'), ('🥺', 'NNP'), (',', ','), ('this', 'DT'), ('song', 'NN'), ('and', 'CC'), ('album', 'NN'), ('is', 'VBZ'), ('so', 'RB'), ('amazingg', 'JJ'), ('#NCT127', 'NN'), ('#Sticker', 'NNP'), ('#GRAMMYs', 'NNP'), ('https://t.co/Vw1BTGtz5G', 'VBD'), ('The', 'DT'), ('22nd', 'CD'), ('Latin', 'NNP'), ('#GRAMMY', 'NN'), ('Awards', 'NNP'), (',', ','), ('will', 'MD'), ('air', 'VB'), ('live', 'JJ'), ('on', 'IN'), ('Univision', 'NN'), ('beginning', 'VBG'), ('at', 'IN'), ('8', 'CD'), ('p', 'NN'), ('.', '.'), ('m', 'NN'), ('.', '.'), ('ET', 'NNP'), ('/', 'NNP'), ('PT', 'NNP'), ('(', '('), ('7', 'CD'), ('p', 'NN'), ('.', '.'), ('m', 'NN'), ('.', '.'), ('CT', 'NNP'), (')', ')'), ('.', '.'), ('#GRAMMYs', 'JJ'), ('#latingrammys', 'JJ'), ('https://t.co/icud3odN7P', 'NN'), (\"IT'S\", 'NNP'), ('BIG', 'NNP'), ('BIIIIIIIIIIIIIIIIIIIG', 'NNP'), ('FOR', 'NNP'), ('#TXT', 'NNP'), ('#GRAMMYs', 'NNP'), ('*', 'NNP'), ('i', 'NN'), ('was', 'VBD'), ('sad', 'JJ'), ('thinking', 'VBG'), ('it', 'PRP'), ('was', 'VBD'), ('undermining', 'VBG'), ('their', 'PRP$'), ('2', 'CD'), ('years', 'NNS'), ('hard', 'JJ'), ('work', 'NN'), ('but', 'CC'), ('i', 'NN'), ('was', 'VBD'), ('explained', 'VBN'), ('the', 'DT'), ('category', 'NN'), (\"doesn't\", 'JJ'), ('work', 'NN'), ('like', 'IN'), ('that', 'DT'), ('.', '.'), ('I', 'PRP'), ('am', 'VBP'), ('a', 'DT'), ('puddle', 'NN'), ('of', 'IN'), ('😍', 'NN'), ('now', 'RB'), ('.', '.'), ('For', 'IN'), ('Your', 'PRP$'), ('Consideration', 'NN'), ('in', 'IN'), ('Best', 'NNP'), ('Contemporary', 'NNP'), ('Instrumental', 'NNP'), (':', ':'), ('“', 'JJ'), ('Reflections', 'NNS'), ('of', 'IN'), ('Tomorrow', 'NNP'), ('”', 'NNP'), ('by', 'IN'), ('pianist', 'NN'), ('Joseph', 'NNP'), ('Fuller', 'NNP'), ('.', '.'), ('Produced', 'VBN'), ('by', 'IN'), ('Grammy', 'NNP'), ('Award', 'NNP'), ('winner', 'NN'), ('Brad', 'NNP'), ('Sayles', 'NNP'), ('.', '.'), ('This', 'DT'), ('10', 'CD'), ('track', 'NN'), ('album', 'NN'), ('of', 'IN'), ('original', 'JJ'), ('compositions', 'NNS'), ('takes', 'VBZ'), ('you', 'PRP'), ('on', 'IN'), ('a', 'DT'), ('personal', 'JJ'), ('journey', 'NN'), ('of', 'IN'), ('joy', 'NN'), (',', ','), ('love', 'NN'), (',', ','), ('and', 'CC'), ('loss', 'NN'), ('.', '.'), ('#FYC', 'JJ'), ('#GRAMMYs', 'JJ'), ('why', 'WRB'), ('tf', 'NN'), ('these', 'DT'), ('bhishes', 'NNS'), ('trending', 'VBG'), ('again', 'RB'), ('?', '.'), ('?', '.'), ('u', 'JJ'), ('nominated', 'VBN'), ('in', 'IN'), ('grammys', 'NN'), ('or', 'CC'), ('something', 'NN'), ('?', '.'), ('?', '.'), ('#RedVelvet', 'JJ'), ('#GRAMMYs', 'JJ'), ('Let', 'NNP'), ('’', 'NNP'), ('s', 'VB'), ('be', 'VB'), ('clear', 'JJ'), ('NCT', 'NNP'), ('doesn', 'NN'), ('’', 'NNP'), ('t', 'NN'), ('need', 'VBP'), ('a', 'DT'), ('grammy', 'NN'), ('and', 'CC'), ('BTS', 'NNP'), ('doesn', 'VBP'), ('’', 'NNP'), ('t', 'VBP'), ('need', 'VBP'), ('a', 'DT'), ('grammy', 'NN'), ('they', 'PRP'), ('are', 'VBP'), ('way', 'NN'), ('too', 'RB'), ('good', 'JJ'), ('for', 'IN'), ('that', 'DT'), ('shhhh', 'NN'), ('#GRAMMYs', 'NNP'), ('https://t.co/r5j6cqulGR', 'NN'), ('Dear', 'NNP'), ('GRAMMY', 'NNP'), ('®', 'NNP'), ('️voting', 'VBG'), ('members', 'NNS'), (':', ':'), ('I', 'PRP'), ('humbly', 'RB'), ('submit', 'VBP'), ('to', 'TO'), ('you', 'PRP'), ('my', 'PRP$'), ('album', 'NN'), (',', ','), ('TONADA', 'NNP'), (',', ','), ('for', 'IN'), ('Grammy', 'NNP'), ('®', 'NNP'), ('️', 'NNP'), ('consideration', 'NN'), ('.', '.'), ('Best', 'JJS'), ('Global', 'JJ'), ('Music', 'NNP'), ('Album', 'NNP'), ('&', 'CC'), ('Best', 'NNP'), ('Instrumental', 'NNP'), ('Arrangement', 'NNP'), ('.', '.'), ('#foryourconsideration', 'NN'), ('#foryourgrammyconsideration', 'NN'), ('#RecordingAcademy', 'NNP'), ('#FYC', 'NNP'), ('#grammys', 'NNP'), ('#tonada', 'NNP'), ('#venezuela', 'NNP'), ('#asianamerican', 'NNP'), ('For', 'IN'), ('Ur', 'NNP'), ('Grammy', 'NNP'), ('Consideration', 'NNP'), ('#NCT127', 'NNP'), ('#Sticker', 'NNP'), ('#GRAMMYs', 'NNP'), ('🤞', 'NNP'), ('🏽', 'NNP'), ('https://t.co/c4qxYb0cg1', 'NN'), ('As', 'IN'), ('seen', 'VBN'), ('in', 'IN'), ('@Billboard', 'NNP'), (\"Magazine's\", 'NNP'), ('GRAMMY', 'NNP'), ('®', 'NNP'), ('Edition', 'NNP'), (':', ':'), ('FOR', 'IN'), ('YOUR', 'NNP'), ('GRAMMY', 'NNP'), ('®', 'NNP'), ('CONSIDERATION', 'NNP'), ('Rip', 'NNP'), ('-', ':'), ('\"', 'NN'), ('Delivered', 'NNP'), ('\"', 'VBZ'), ('8k', 'CD'), ('(', '('), ('Best', 'NNP'), ('Music', 'NNP'), ('Video', 'NNP'), (')', ')'), ('Nicky', 'NNP'), ('Gracious', 'NNP'), ('-', ':'), ('\"', 'NN'), ('This', 'DT'), ('I', 'PRP'), ('Pray', 'NNP'), ('\"', 'NNP'), ('&', 'CC'), ('\"', 'NNP'), ('Stand', 'NNP'), ('Up', 'NNP'), ('\"', 'NNP'), ('(', '('), ('Best', 'NNP'), ('Contemporary', 'NNP'), ('Christian', 'NNP'), ('Performance', 'NNP'), ('&', 'CC'), ('Song', 'NNP'), (')', ')'), ('#FYC', 'NN'), ('#ForYourConsideration', 'NN'), ('#ForYourGRAMMYConsideration', 'NN'), ('#GRAMMYs', 'NNP'), ('https://t.co/ZLkRBO97zH', 'NN'), ('OMG', 'NNP'), ('!', '.'), ('!', '.'), ('!', '.'), (\"YOU'RE\", 'NN'), ('TELLING', 'IN'), ('ME', 'NNP'), ('THAT', 'IN'), ('THE', 'NNP'), ('BOYS', 'NNP'), ('CAN', 'NNP'), ('VE', 'NNP'), ('NOMINATED', 'NNP'), ('FOR', 'NNP'), ('BEST', 'NNP'), ('NEW', 'NNP'), ('ARTIST', 'NNP'), ('!', '.'), ('!', '.'), ('!', '.'), ('#TXTGRAMMY', 'JJ'), ('#GRAMMYs', 'JJ'), ('#TXT', 'NN'), ('#투모로우바이투게더', 'NNP'), ('#TOMORROW_X_TOGETHER', 'NNP'), ('@TXT_members', 'NNS'), ('@TXT_bighit', 'VBP'), ('https://t.co/pJaTTnvLw8', 'JJ'), ('https://t.co/k09gy0XhPV', 'NN'), ('#TOMORROW_X_TOGETHER', 'NN'), ('is', 'VBZ'), ('now', 'RB'), ('eligible', 'JJ'), ('for', 'IN'), ('2022', 'CD'), ('#GRAMMYs', 'NNP'), (\"'\", 'POS'), ('Best', 'NNP'), ('New', 'NNP'), ('Artist', 'NNP'), (\"'\", 'POS'), ('!', '.'), ('🔗', 'NN'), ('https://t.co/SHmqeKw0mP', 'NN'), ('📝', 'VBD'), ('The', 'DT'), ('company', 'NN'), ('can', 'MD'), ('submit', 'VB'), ('an', 'DT'), ('application', 'NN'), ('.', '.'), (\"It's\", 'NNP'), ('chosen', 'VBN'), ('by', 'IN'), ('the', 'DT'), ('GRAMMYs', 'NNP'), ('themself', 'NN'), ('to', 'TO'), ('be', 'VB'), ('accepted', 'VBN'), ('.', '.'), ('Only', 'RB'), ('8', 'CD'), ('can', 'MD'), ('be', 'VB'), ('nominated', 'VBN'), ('.', '.'), ('#TXT', 'JJ'), ('#Beomie', 'JJ'), ('☁', 'NN'), ('https://t.co/Y982I0PbZk', 'NN'), ('This', 'DT'), ('November', 'NNP'), ('18', 'CD'), ('will', 'MD'), ('be', 'VB'), ('the', 'DT'), ('22nd', 'CD'), ('edition', 'NN'), ('of', 'IN'), ('the', 'DT'), ('Latin', 'NNP'), ('Grammy', 'NNP'), ('and', 'CC'), ('the', 'DT'), ('controversy', 'NN'), ('continues', 'VBZ'), (',', ','), ('the', 'DT'), ('clash', 'NN'), ('between', 'IN'), ('Residente', 'NNP'), (',', ','), ('Yotuel', 'NNP'), ('and', 'CC'), ('J', 'NNP'), ('Balvin', 'NNP'), ('returned', 'VBD'), ('the', 'DT'), ('focus', 'NN'), ('to', 'TO'), ('the', 'DT'), ('need', 'NN'), ('to', 'TO'), ('reexamine', 'VB'), ('institutions', 'NNS'), ('such', 'JJ'), ('as', 'IN'), ('the', 'DT'), ('Latin', 'NNP'), ('Grammy', 'NNP'), ('.', '.'), ('#GRAMMYs', 'NNP'), ('#TimsTwitterListeningParty', 'NNP'), ('https://t.co/BbMmpcGKp9', 'NN')]\n",
      "[':)', 'is', 'works', 'think', 'know', '#grammys', 'https://t.co/HxOk7CF4Mq', 'works', 'think', 'know', '#grammys', 'god', 'thank', 'bro', 'keeping', '🙏', 'starts', '#BlackPink', '’', 'make', '🧡', 'Said', 'Said', '…', 'has', 'submitted', '@TWICE_Charts', 'submitted', \"y'all\", 'help', 'reposting', 'please', 'forget', 'tag', 'please', 'be', 'has', 'been', 'submitted', 'were', 'win', \"she's\", 'become', 'win', 'hope', '#GRAMMYs', 'have', 'ignore', 'broke', 'give', 'is', 'attempt', 'achieve', 'producing', '#life', '#amazing', 'https://t.co/RFW7OPENoe', '@kshnews', 'letss', 'get', 'appreciate', 'trusting', 'making', 'come', '’', 's', 'made', 'deserves', 'be', 'respected', 'is', 'nominated', 'be', 'reports', 'has', 'been', 'submitted', 'being', 'submitted', 'https://t.co/OYX46aJeVt', 'has', 'been', 'submitted', 'being', 'submitted', 'are', 'released', 'was', 'IS', '#Grammys', 'is', 'category.Need', '#RecordingAcademy', 'https://t.co/dRcnP9emwy', '#underrated', 'submetido', 'is', 'is', '“', 'Is', 'featuring', 'has', 'been', 'submitted', 'https://t.co/CyOeAJhgcD', 'get', '“', 'https://t.co/FceX04kvEF', 'has', 'is', 'cheating', 'have', 'get', 'made', 'get', 'cheating', 'react', 'shaves', 'known', 'has', 'shaved', 'has', 'collaborated', '#Otherlands', 'is', 'being', 'considered', '#poetry', '#Otherlands', '@OliviaRodrigoHQ', 'submetido', 'https://t.co/OmjUZo6nBs', 'dropped', '..', 'let', 's', 'go', '’', 'trying', 'tell', 'say', 'is', 'https://t.co/xozhEdaGS3', 'Do', 'want', 'enhance', 'come', 'provide', 'has', 'been', 'submitted', 'were', 'win', '’', 'become', 'win', 'thrilled', 'see', 'listed', 'have', 's', 'be', '’', 'take', 'consider', '@Jazzwise', 'had', 'be', 'snubbed', 'Turns', 'has', 'made', 'is', 'deserve', '#BTS', 's', 'is', 'recognizing', 'is', 'vote', 'has', 'been', 'accepted', 'appears', 'comes', 'programme', 'be', 'talking', 'winning', '/', 'is', 'are', 'honored', 'come', 'are', 'is', 'is', 'composed', 'arranged', 'https://t.co/KVimWfNoHZ', '@fortunatefall03', 'was', 'submitted', 'recategorized', 'reports', 'has', 'been', 'submitted', '#dalek', 'voting', 'has', 'been', 'submitted', 'https://t.co/QEi3IxVaEO', 'hope', '#NCT127', 's', 'think', 's', 'winning', '’', 'submitted', 'https://t.co/RbSOg3EprW', 'Listening', 'was', '’', 's', 'lie', 'is', 'snag', 'has', 'been', 'submitted', 'love', 'is', 'Loading', 'confirms', 'is', 'compete', 'be', 'announced', '🔗', '#VoteAnittaGrammys', 'deserves', 'be', '#VoteAnittaGrammys', '\"', 'https://t.co/omqPQn14Q2', 'air', 'is', 'https://t.co/Vw1BTGtz5G', 'air', 'beginning', 'was', 'thinking', 'was', 'undermining', 'was', 'explained', 'am', 'Produced', 'takes', 'trending', 'nominated', 's', 'be', 'need', 'doesn', 't', 'need', 'are', '️voting', 'submit', 'seen', '\"', '@TXT_bighit', 'is', '📝', 'submit', 'chosen', 'be', 'accepted', 'be', 'nominated', 'be', 'continues', 'returned', 'reexamine']\n"
     ]
    },
    {
     "data": {
      "application/javascript": [
       "\n",
       "            setTimeout(function() {\n",
       "                var nbb_cell_id = 12;\n",
       "                var nbb_unformatted_code = \"# Aplicamos POS\\n\\ndata = []\\n# Crear lista de palabras\\nfor x in tokenized_text:\\n    for word in x:\\n        data.append(word)\\n\\n# Etiquetar texto con pos_tag\\ndata_pos = nltk.pos_tag(data)\\nprint(data_pos)\\ndata_verbs = []\\nfor k, v in data_pos:\\n    if v in [\\\"VBZ\\\", \\\"VBP\\\", \\\"VBN\\\", \\\"VBG\\\", \\\"VBD\\\", \\\"VB\\\"]:\\n        data_verbs.append(k)\\nprint(data_verbs)\";\n",
       "                var nbb_formatted_code = \"# Aplicamos POS\\n\\ndata = []\\n# Crear lista de palabras\\nfor x in tokenized_text:\\n    for word in x:\\n        data.append(word)\\n\\n# Etiquetar texto con pos_tag\\ndata_pos = nltk.pos_tag(data)\\nprint(data_pos)\\ndata_verbs = []\\nfor k, v in data_pos:\\n    if v in [\\\"VBZ\\\", \\\"VBP\\\", \\\"VBN\\\", \\\"VBG\\\", \\\"VBD\\\", \\\"VB\\\"]:\\n        data_verbs.append(k)\\nprint(data_verbs)\";\n",
       "                var nbb_cells = Jupyter.notebook.get_cells();\n",
       "                for (var i = 0; i < nbb_cells.length; ++i) {\n",
       "                    if (nbb_cells[i].input_prompt_number == nbb_cell_id) {\n",
       "                        if (nbb_cells[i].get_text() == nbb_unformatted_code) {\n",
       "                             nbb_cells[i].set_text(nbb_formatted_code);\n",
       "                        }\n",
       "                        break;\n",
       "                    }\n",
       "                }\n",
       "            }, 500);\n",
       "            "
      ],
      "text/plain": [
       "<IPython.core.display.Javascript object>"
      ]
     },
     "metadata": {},
     "output_type": "display_data"
    }
   ],
   "source": [
    "# Aplicamos POS\n",
    "\n",
    "data = []\n",
    "# Crear lista de palabras\n",
    "for x in tokenized_text:\n",
    "    for word in x:\n",
    "        data.append(word)\n",
    "\n",
    "# Etiquetar texto con pos_tag\n",
    "data_pos = nltk.pos_tag(data)\n",
    "print(data_pos)\n",
    "data_verbs = []\n",
    "for k, v in data_pos:\n",
    "    if v in [\"VBZ\", \"VBP\", \"VBN\", \"VBG\", \"VBD\", \"VB\"]:\n",
    "        data_verbs.append(k)\n",
    "print(data_verbs)"
   ]
  },
  {
   "cell_type": "code",
   "execution_count": 13,
   "id": "09e446b2",
   "metadata": {},
   "outputs": [
    {
     "data": {
      "text/html": [
       "<div>\n",
       "<style scoped>\n",
       "    .dataframe tbody tr th:only-of-type {\n",
       "        vertical-align: middle;\n",
       "    }\n",
       "\n",
       "    .dataframe tbody tr th {\n",
       "        vertical-align: top;\n",
       "    }\n",
       "\n",
       "    .dataframe thead th {\n",
       "        text-align: right;\n",
       "    }\n",
       "</style>\n",
       "<table border=\"1\" class=\"dataframe\">\n",
       "  <thead>\n",
       "    <tr style=\"text-align: right;\">\n",
       "      <th></th>\n",
       "      <th>Frequency</th>\n",
       "    </tr>\n",
       "    <tr>\n",
       "      <th>Term</th>\n",
       "      <th></th>\n",
       "    </tr>\n",
       "  </thead>\n",
       "  <tbody>\n",
       "    <tr>\n",
       "      <th>is</th>\n",
       "      <td>20</td>\n",
       "    </tr>\n",
       "    <tr>\n",
       "      <th>submitted</th>\n",
       "      <td>14</td>\n",
       "    </tr>\n",
       "    <tr>\n",
       "      <th>has</th>\n",
       "      <td>14</td>\n",
       "    </tr>\n",
       "    <tr>\n",
       "      <th>be</th>\n",
       "      <td>12</td>\n",
       "    </tr>\n",
       "    <tr>\n",
       "      <th>been</th>\n",
       "      <td>9</td>\n",
       "    </tr>\n",
       "    <tr>\n",
       "      <th>...</th>\n",
       "      <td>...</td>\n",
       "    </tr>\n",
       "    <tr>\n",
       "      <th>#Grammys</th>\n",
       "      <td>1</td>\n",
       "    </tr>\n",
       "    <tr>\n",
       "      <th>IS</th>\n",
       "      <td>1</td>\n",
       "    </tr>\n",
       "    <tr>\n",
       "      <th>released</th>\n",
       "      <td>1</td>\n",
       "    </tr>\n",
       "    <tr>\n",
       "      <th>https://t.co/OYX46aJeVt</th>\n",
       "      <td>1</td>\n",
       "    </tr>\n",
       "    <tr>\n",
       "      <th>reexamine</th>\n",
       "      <td>1</td>\n",
       "    </tr>\n",
       "  </tbody>\n",
       "</table>\n",
       "<p>164 rows × 1 columns</p>\n",
       "</div>"
      ],
      "text/plain": [
       "                         Frequency\n",
       "Term                              \n",
       "is                              20\n",
       "submitted                       14\n",
       "has                             14\n",
       "be                              12\n",
       "been                             9\n",
       "...                            ...\n",
       "#Grammys                         1\n",
       "IS                               1\n",
       "released                         1\n",
       "https://t.co/OYX46aJeVt          1\n",
       "reexamine                        1\n",
       "\n",
       "[164 rows x 1 columns]"
      ]
     },
     "execution_count": 13,
     "metadata": {},
     "output_type": "execute_result"
    },
    {
     "data": {
      "application/javascript": [
       "\n",
       "            setTimeout(function() {\n",
       "                var nbb_cell_id = 13;\n",
       "                var nbb_unformatted_code = \"from nltk.probability import FreqDist\\n\\n# Obtener frecuencia de cada t\\u00e9rmino\\nfdist = FreqDist(data_verbs)\\n# Convertir a dataframe\\ndf_fdist = pd.DataFrame.from_dict(fdist, orient=\\\"index\\\")\\ndf_fdist.columns = [\\\"Frequency\\\"]\\ndf_fdist.index.name = \\\"Term\\\"\\ndf_fdist.sort_values(by=[\\\"Frequency\\\"], inplace=True, ascending=False)\\n# pd.set_option('display.max_rows', None)\\n\\ndf_fdist\";\n",
       "                var nbb_formatted_code = \"from nltk.probability import FreqDist\\n\\n# Obtener frecuencia de cada t\\u00e9rmino\\nfdist = FreqDist(data_verbs)\\n# Convertir a dataframe\\ndf_fdist = pd.DataFrame.from_dict(fdist, orient=\\\"index\\\")\\ndf_fdist.columns = [\\\"Frequency\\\"]\\ndf_fdist.index.name = \\\"Term\\\"\\ndf_fdist.sort_values(by=[\\\"Frequency\\\"], inplace=True, ascending=False)\\n# pd.set_option('display.max_rows', None)\\n\\ndf_fdist\";\n",
       "                var nbb_cells = Jupyter.notebook.get_cells();\n",
       "                for (var i = 0; i < nbb_cells.length; ++i) {\n",
       "                    if (nbb_cells[i].input_prompt_number == nbb_cell_id) {\n",
       "                        if (nbb_cells[i].get_text() == nbb_unformatted_code) {\n",
       "                             nbb_cells[i].set_text(nbb_formatted_code);\n",
       "                        }\n",
       "                        break;\n",
       "                    }\n",
       "                }\n",
       "            }, 500);\n",
       "            "
      ],
      "text/plain": [
       "<IPython.core.display.Javascript object>"
      ]
     },
     "metadata": {},
     "output_type": "display_data"
    }
   ],
   "source": [
    "from nltk.probability import FreqDist\n",
    "\n",
    "# Obtener frecuencia de cada término\n",
    "fdist = FreqDist(data_verbs)\n",
    "# Convertir a dataframe\n",
    "df_fdist = pd.DataFrame.from_dict(fdist, orient=\"index\")\n",
    "df_fdist.columns = [\"Frequency\"]\n",
    "df_fdist.index.name = \"Term\"\n",
    "df_fdist.sort_values(by=[\"Frequency\"], inplace=True, ascending=False)\n",
    "# pd.set_option('display.max_rows', None)\n",
    "\n",
    "df_fdist"
   ]
  },
  {
   "cell_type": "markdown",
   "id": "747a5911",
   "metadata": {},
   "source": [
    "- Obtener la lista y frecuencia de todos los adjetivos"
   ]
  },
  {
   "cell_type": "markdown",
   "id": "bd84afd7",
   "metadata": {},
   "source": [
    "# Ejercicio N°3"
   ]
  },
  {
   "cell_type": "code",
   "execution_count": 14,
   "id": "e7bcb035",
   "metadata": {},
   "outputs": [
    {
     "name": "stdout",
     "output_type": "stream",
     "text": [
      "[('For', 'IN'), ('your', 'PRP$'), ('consideration', 'NN'), (':)', 'VBD'), ('@RecordingAcad', '$'), ('1st', 'CD'), ('round', 'NN'), ('voting', 'NN'), ('is', 'VBZ'), ('open', 'JJ'), ('!', '.'), ('#contemporaryblues', 'NNS'), ('#bluesmusic', 'JJ'), ('#GRAMMYs', 'NNP'), ('https://t.co/NuOaPvT3ta', 'NN'), ('Big', 'NNP'), ('up', 'IN'), ('our', 'PRP$'), ('President', 'NNP'), ('and', 'CC'), ('CEO', 'NNP'), ('@harveymasonjr', 'NNP'), ('Congrats', 'NNP'), ('!', '.'), ('#grammys', 'NN'), ('#recordingacademy', 'NNP'), ('@recordingacademy', 'NNP'), ('@', 'NNP'), ('Monom', 'NNP'), ('Recording', 'NNP'), ('Studio', 'NNP'), ('https://t.co/Dll5dB1GGI', 'NN'), ('#', '#'), ('7', 'CD'), ('Grammy', 'NNP'), ('in', 'IN'), ('the', 'DT'), ('building', 'NN'), ('nobody', 'NN'), ('works', 'VBZ'), ('harder', 'JJR'), ('than', 'IN'), ('our', 'PRP$'), ('founder', 'NN'), ('@malikyusef100', 'NN'), ('.', '.'), ('Oh', 'UH'), ('you', 'PRP'), ('think', 'VBP'), ('you', 'PRP'), ('know', 'VBP'), ('someone', 'NN'), ('else', 'RB'), ('...', ':'), (\"I'll\", 'NNP'), ('wait', 'NN'), ('.', '.'), ('#badkids', 'NNS'), ('#grammys', 'VBD'), ('#ye', 'JJ'), ('#donda', 'NNP'), ('https://t.co/wuRFbX62I2', 'NN'), ('https://t.co/HxOk7CF4Mq', 'VBD'), ('A', 'DT'), ('moment', 'NN'), ('in', 'IN'), ('history', 'NN'), ('.', '.'), ('#Grammys', 'CC'), ('#ARIAsMileyCyrus', 'JJ'), ('https://t.co/R4iyIsE100', 'NN'), ('#', '#'), ('7', 'CD'), ('Grammy', 'NNP'), ('in', 'IN'), ('the', 'DT'), ('building', 'NN'), ('nobody', 'NN'), ('works', 'VBZ'), ('harder', 'JJR'), ('than', 'IN'), ('our', 'PRP$'), ('founder', 'NN'), ('@malikyusef100', 'NN'), ('.', '.'), ('Oh', 'UH'), ('you', 'PRP'), ('think', 'VBP'), ('you', 'PRP'), ('know', 'VBP'), ('someone', 'NN'), ('else', 'RB'), ('...', ':'), (\"I'll\", 'NNP'), ('wait', 'NN'), ('.', '.'), ('#badkids', 'NNS'), ('#grammys', 'VBD'), ('#ye', 'JJ'), ('#donda', 'NNP'), ('https://t.co/wuRFbX62I2', 'NN'), ('https://t.co/cSiT2Jmgte', 'NN'), ('#rp', 'NNP'), ('@_JERMAINEHOLMES', 'NNP'), ('god', 'VB'), ('bless', 'NN'), ('you', 'PRP'), ('and', 'CC'), ('thank', 'VB'), ('you', 'PRP'), ('bro', 'VBP'), ('for', 'IN'), ('keeping', 'VBG'), ('it', 'PRP'), ('1000', 'CD'), ('with', 'IN'), ('me', 'PRP'), ('.', '.'), ('🙏', 'VB'), ('🏾', 'JJ'), ('💯', 'NNP'), ('Voting', 'NNP'), ('starts', 'VBZ'), ('NOW', 'NNP'), ('.', '.'), ('For', 'IN'), ('your', 'PRP$'), ('@RecordingAcad', 'JJ'), ('consideration', 'NN'), ('.', '.'), ('#Petestrumentals3', 'NN'), ('for', 'IN'), ('Best', 'NNP'), ('Contemporary', 'NNP'), ('Instrumental', 'NNP'), ('Album', 'NNP'), ('.', '.'), ('BIG', 'NNP'), ('SHOUTOUT', 'NNP'), ('TO', 'NNP'), ('MY', 'NNP'), ('BIG', 'NNP'), ('BROTHER', 'NNP'), ('#PeteRock', 'NNP'), ('🥇', 'NNP'), ('#GRAMMYs', 'NNP'), ('https://t.co/5ZlQbGqzOP', 'NN'), ('BLACKPINK', 'NNP'), ('GOT', 'NNP'), ('A', 'NNP'), ('GRAMMY', 'NNP'), ('NOMINATION', 'NNP'), ('YALL', 'NNP'), ('#SG', 'NNP'), ('#ARIAsArianaGrande', 'NNP'), ('#RIHANNA', 'NNP'), ('#BLONKSEATING', 'NN'), ('#BLINK', 'NN'), ('#BlackPink', 'VBP'), ('#GRAMMYS', 'NNP'), ('https://t.co/mvx0XQlVV8', 'NN'), ('Thought', 'NNP'), ('I', 'PRP'), ('’', 'VBP'), ('d', 'JJ'), ('make', 'VBP'), ('a', 'DT'), ('thread', 'NN'), ('for', 'IN'), ('all', 'PDT'), ('the', 'DT'), ('viable', 'JJ'), ('options', 'NNS'), ('for', 'IN'), ('#GRAMMYs', 'JJ'), ('2022', 'CD'), ('Rock', 'NNP'), ('Album', 'NNP'), ('of', 'IN'), ('the', 'DT'), ('Year', 'NN'), (':', ':'), ('https://t.co/x1ANNOIsMD', 'NN'), ('🙏', 'NN'), ('For', 'IN'), ('your', 'PRP$'), ('GRAMMY', 'NNP'), ('Awards', 'NNPS'), ('consideration', 'NN'), ('🙏', 'NNP'), ('🧡', 'NNP'), ('Large', 'NNP'), ('Jazz', 'NNP'), ('Ensemble', 'NNP'), ('Album', 'NNP'), (':', ':'), ('Imaginary', 'JJ'), ('Visions', 'NNS'), ('🧡', 'VBP'), ('💛', 'JJ'), ('Best', 'NNP'), ('Instrumental', 'NNP'), ('Composition', 'NNP'), (':', ':'), ('I', 'PRP'), ('Said', 'VBD'), ('Cool', 'NNP'), (',', ','), ('You', 'PRP'), ('Said', 'VBP'), ('…', 'VB'), ('What', 'WP'), ('?', '.'), ('💛', 'JJ'), ('😌', 'NN'), ('👂', 'NNP'), ('🎶', 'NNP'), ('♥', 'NNP'), ('️', 'NNP'), ('🙏', 'NNP'), ('🙏', 'NNP'), ('🙏', 'NNP'), ('@EditionRecords', 'NNP'), ('#largejazzensemble', 'JJ'), ('#jazz', 'NN'), ('#instrumentalmusic', 'JJ'), ('#mihohazama', 'NNP'), ('#fyc', 'NNP'), ('#foryourconsideration', 'NNP'), ('#grammys', 'NNP'), ('https://t.co/gDJzQHH5pp', 'NN'), ('Epic', 'NNP'), ('Records', 'NNP'), ('has', 'VBZ'), ('submitted', 'VBN'), ('@BIABIA', 'NNP'), ('&', 'CC'), ('@NICKIMINAJ', 'NNP'), ('\"', 'NNP'), ('WHOLE', 'NNP'), ('LOTTA', 'NNP'), ('MONEY', 'NNP'), ('(', '('), ('Remix', 'NNP'), (')', ')'), ('\"', 'NN'), ('for', 'IN'), ('consideration', 'NN'), ('at', 'IN'), ('the', 'DT'), ('2022', 'CD'), ('#GRAMMYs', 'NN'), ('.', '.'), ('https://t.co/Br4HfXrBP1', 'NN'), ('@TWICE_Charts', 'VBZ'), ('@JYPETWICE', 'IN'), ('Hey', 'NNP'), ('!', '.'), ('Republic', 'NNP'), ('Records', 'NNPS'), ('submitted', 'VBD'), ('“', 'NNP'), ('Taste', 'NNP'), ('of', 'IN'), ('Love', 'NNP'), ('”', 'NNP'), ('at', 'IN'), ('the', 'DT'), ('2022', 'CD'), ('#GRAMMYs', 'NNP'), ('https://t.co/Kpnl0cTwcq', 'JJ'), ('Please', 'NNP'), ('can', 'MD'), (\"y'all\", 'VB'), ('help', 'VB'), ('me', 'PRP'), ('out', 'RP'), ('by', 'IN'), ('reposting', 'VBG'), ('this', 'DT'), ('post', 'NN'), ('on', 'IN'), ('any', 'DT'), ('of', 'IN'), ('your', 'PRP$'), ('social', 'JJ'), ('media', 'NNS'), ('platforms', 'NNS'), ('and', 'CC'), ('please', 'VB'), (\"don't\", 'JJ'), ('forget', 'VB'), ('to', 'TO'), ('tag', 'VB'), ('@RecordingAcad', 'NNP'), ('#GRAMMYs', 'NNP'), ('#voteforme', 'NNP'), (\"#we'llbeok\", 'NNP'), ('#nandos', 'NNP'), ('#racism', 'NNP'), ('#NastyC', 'NNP'), ('#Chelsea', 'NNP'), ('#Russ', 'NNP'), ('#Tuchel', 'NNP'), ('#Hudson', 'NNP'), ('#SouthAfrica', 'NNP'), ('#music', 'NNP'), ('#award', 'NNP'), ('#Best', 'NNP'), ('#Rnb', 'NNP'), ('#performance', 'NNP'), ('https://t.co/wu7nKIkB4N', 'NN'), ('For', 'IN'), ('your', 'PRP$'), ('consideration', 'NN'), ('#Grammy', 'NN'), ('awards', 'NNS'), ('First', 'NNP'), ('round', 'NN'), ('ballot', 'NN'), (',', ','), ('please', 'VB'), ('vote', 'NN'), ('for', 'IN'), ('@lasandra_sa', 'NNP'), ('\"', 'NNP'), (\"We'll\", 'NNP'), ('be', 'VB'), ('ok', 'JJ'), ('\"', 'NNP'), ('Best', 'NNP'), ('R', 'NNP'), ('&', 'CC'), ('B', 'NNP'), ('Performance', 'NNP'), ('Thanks', 'NNP'), ('to', 'TO'), ('the', 'DT'), ('@recordingacademy', 'NN'), ('voters', 'NNS'), ('for', 'IN'), ('your', 'PRP$'), ('consideration', 'NN'), (\"Here's\", 'NNP'), ('the', 'DT'), ('link', 'NN'), ('to', 'TO'), ('my', 'PRP$'), ('music', 'NN'), ('video', 'NN'), ('https://t.co/Bo20PIwAdG', 'NN'), ('#GRAMMYs', 'NNP'), ('#RecordingAcademy', 'NNP'), ('#vote4me', 'NNP'), ('https://t.co/xviq7kJpJ0', 'NN'), ('\"', 'NNP'), ('Plastic', 'NNP'), ('Hearts', 'NNP'), ('\"', 'NN'), ('by', 'IN'), ('Miley', 'NNP'), ('has', 'VBZ'), ('been', 'VBN'), ('submitted', 'VBN'), ('for', 'IN'), ('best', 'JJS'), ('rock', 'NN'), ('album', 'NN'), ('at', 'IN'), ('the', 'DT'), ('#GRAMMYs', 'NN'), ('.', '.'), ('If', 'IN'), ('Miley', 'NNP'), ('were', 'VBD'), ('to', 'TO'), ('win', 'VB'), (',', ','), (\"she's\", 'VB'), ('become', 'VB'), ('the', 'DT'), ('first', 'JJ'), ('female', 'JJ'), ('artist', 'NN'), ('(', '('), ('and', 'CC'), ('first', 'RB'), ('solo', 'JJ'), ('singer', 'NN'), ('overall', 'JJ'), (')', ')'), ('to', 'TO'), ('win', 'VB'), ('the', 'DT'), ('award', 'NN'), ('in', 'IN'), ('23', 'CD'), ('years', 'NNS'), ('!', '.'), ('!', '.'), ('!', '.'), ('🖤', 'JJ'), ('🖤', 'JJ'), ('🖤', 'NN'), ('@MileyCyrus', 'NN'), ('IS', 'NNP'), ('SICKENING', 'NNP'), (\"Y'ALL\", 'NNP'), ('!', '.'), ('@MileyTeamITALY', 'NNP'), ('@MileyOfficial', 'JJ'), ('https://t.co/X5SsM3RyJi', 'NN'), ('Album', 'NNP'), ('Smart', 'NNP'), ('Link', 'NNP'), ('-', ':'), ('https://t.co/1iv27ybTBL', 'NN'), ('#music', 'JJ'), ('#hmma', 'NNP'), ('#GRAMMYs', 'NNP'), ('#fyc', 'NNP'), ('#musicforlove', 'NNP'), ('#humanitarianproject', 'NNP'), ('https://t.co/HjAzg0Blsg', 'NN'), ('I', 'PRP'), ('still', 'RB'), ('hope', 'VBP'), ('that', 'IN'), ('#GRAMMYs', 'VBP'), (\"don't\", 'NNS'), ('have', 'VBP'), ('the', 'DT'), ('nerve', 'NN'), ('to', 'TO'), ('ignore', 'VB'), ('Plastic', 'NNP'), ('Hearts', 'NNP'), ('which', 'WDT'), ('broke', 'VBD'), ('fucking', 'NN'), ('records', 'NNS'), ('since', 'IN'), ('its', 'PRP$'), ('release', 'NN'), ('.', '.'), ('https://t.co/cVae9wCoDY', 'JJ'), ('November', 'NNP'), ('23rd', 'CD'), ('?', '.'), ('?', '.'), ('?', '.'), ('👀', 'JJ'), ('👀', 'NN'), ('👀', 'NN'), ('They', 'PRP'), ('better', 'RBR'), ('give', 'VB'), ('her', 'PRP$'), ('the', 'DT'), ('best', 'JJS'), ('birthday', 'JJ'), ('present', 'NN'), ('!', '.'), ('#ARIAsMileyCyrus', 'NN'), ('#GRAMMYs', 'JJ'), ('https://t.co/jEGpIljprG', 'NN'), ('ladies', 'NNS'), ('and', 'CC'), ('gentlemen', 'NNS'), ('the', 'DT'), ('winner', 'NN'), ('of', 'IN'), ('the', 'DT'), ('best', 'JJS'), ('rock', 'NN'), ('album', 'NN'), ('is', 'VBZ'), ('#GRAMMYs', 'JJ'), ('https://t.co/0k7VeE2tKr', 'NN'), ('Only', 'RB'), ('those', 'DT'), ('who', 'WP'), ('attempt', 'VBP'), ('the', 'DT'), ('absurd', 'NN'), ('can', 'MD'), ('achieve', 'VB'), ('the', 'DT'), ('impossible', 'JJ'), ('4X', 'CD'), ('Platinum', 'NNP'), ('for', 'IN'), ('producing', 'VBG'), ('on', 'IN'), ('Astroworld', 'NNP'), ('@travisscott', 'NNP'), ('#music', 'JJ'), ('#producer', 'NN'), ('#igers', 'NNS'), ('#life', 'VBP'), ('#wow', 'JJ'), ('#amazing', 'VBG'), ('#grammys', 'JJ'), ('#god', 'NNP'), ('#igdaily', 'NNP'), ('@', 'NNP'), ('Los', 'NNP'), ('Angeles', 'NNP'), (',', ','), ('California', 'NNP'), ('https://t.co/RFW7OPENoe', 'VBD'), ('The', 'DT'), ('latest', 'JJS'), ('The', 'DT'), ('Gospel', 'NNP'), ('music', 'NN'), ('Daily', 'NNP'), ('!', '.'), ('https://t.co/W0sXOX8IBl', 'NN'), ('Thanks', 'NNS'), ('to', 'TO'), ('@kshnews', 'VB'), ('#grammys', 'NNP'), ('#music', 'NNP'), ('Yessss', 'NNP'), ('letss', 'VBZ'), ('get', 'VB'), ('it', 'PRP'), ('!', '.'), ('!', '.'), ('💪', 'JJ'), ('🔥', 'JJ'), ('🔥', 'NN'), ('🔥', 'NNP'), ('..', 'NNP'), ('We', 'PRP'), ('appreciate', 'VBP'), ('all', 'DT'), ('your', 'PRP$'), ('hard', 'JJ'), ('work', 'NN'), ('on', 'IN'), ('#Sticker', 'NN'), ('and', 'CC'), ('trusting', 'VBG'), ('#NCT127', 'NN'), ('in', 'IN'), ('making', 'VBG'), ('this', 'DT'), ('art', 'NN'), ('come', 'VB'), ('to', 'TO'), ('life', 'NN'), ('!', '.'), ('It', 'PRP'), ('’', 'VBZ'), ('s', 'VBZ'), ('a', 'DT'), ('wonderfully', 'RB'), ('made', 'VBN'), ('piece', 'NN'), ('that', 'WDT'), ('deserves', 'VBZ'), ('to', 'TO'), ('be', 'VB'), ('respected', 'VBN'), ('.', '.'), ('All', 'PDT'), ('the', 'DT'), ('best', 'JJS'), ('!', '.'), ('!', '.'), ('#GRAMMYs', 'NN'), ('for', 'IN'), ('#Sticker', 'NN'), ('and', 'CC'), ('#NCT127', 'NNP'), ('🙏', 'NNP'), ('🤞', 'NNP'), ('https://t.co/3tFsWZEIAS', 'NN'), ('Imagine', 'NNP'), ('if', 'IN'), ('Bebe', 'NNP'), ('Rexha', 'NNP'), ('is', 'VBZ'), ('nominated', 'VBN'), ('at', 'IN'), ('the', 'DT'), ('#GRAMMYS', 'NN'), ('.', '.'), ('What', 'WP'), ('would', 'MD'), ('it', 'PRP'), ('be', 'VB'), ('?', '.'), ('The', 'DT'), ('latest', 'JJS'), ('Country', 'NN'), ('Music', 'NNP'), ('Chatter', 'NNP'), ('!', '.'), ('https://t.co/WUvEyLdrj5', 'NN'), ('Thanks', 'NNS'), ('to', 'TO'), ('@9NorthRecords', 'NNS'), ('#vmas', 'NNP'), ('#grammys', 'NNP'), ('Billboard', 'NNP'), ('reports', 'VBZ'), ('that', 'IN'), ('Plastic', 'NNP'), ('Hearts', 'NNP'), ('by', 'IN'), ('@MileyCyrus', 'NNP'), ('has', 'VBZ'), ('been', 'VBN'), ('submitted', 'VBN'), ('for', 'IN'), ('Best', 'NNP'), ('Rock', 'NNP'), ('Album', 'NNP'), ('at', 'IN'), ('the', 'DT'), ('2022', 'CD'), ('#Grammys', 'NN'), ('after', 'IN'), ('originally', 'RB'), ('being', 'VBG'), ('submitted', 'VBN'), ('for', 'IN'), ('the', 'DT'), ('pop', 'NN'), ('categories', 'NNS'), ('!', '.'), ('Nominations', 'NNS'), ('on', 'IN'), ('November', 'NNP'), ('23rd', 'CD'), ('.', '.'), ('https://t.co/OYX46aJeVt', 'VB'), ('Billboard', 'NNP'), ('reports', 'NNS'), ('that', 'IN'), ('Plastic', 'NNP'), ('Hearts', 'NNP'), ('by', 'IN'), ('@MileyCyrus', 'NNP'), ('has', 'VBZ'), ('been', 'VBN'), ('submitted', 'VBN'), ('for', 'IN'), ('Best', 'NNP'), ('Rock', 'NNP'), ('Album', 'NNP'), ('at', 'IN'), ('the', 'DT'), ('2022', 'CD'), ('#Grammys', 'NN'), ('after', 'IN'), ('originally', 'RB'), ('being', 'VBG'), ('submitted', 'VBN'), ('for', 'IN'), ('the', 'DT'), ('pop', 'NN'), ('categories', 'NNS'), ('!', '.'), ('Nominations', 'NNS'), ('are', 'VBP'), ('November', 'NNP'), ('23rd', 'CD'), ('!', '.'), ('https://t.co/iVpVHDD0EI', 'NN'), ('truly', 'RB'), ('the', 'DT'), ('best', 'JJS'), ('album', 'NN'), ('released', 'VBN'), ('in', 'IN'), ('2020', 'CD'), ('.', '.'), ('she', 'PRP'), ('MUST', 'NNP'), ('win', 'NN'), (',', ','), ('she', 'PRP'), ('was', 'VBD'), ('in', 'IN'), ('HER', 'NNP'), ('BAG', 'NNP'), ('#Grammys', 'NNP'), ('https://t.co/d3s6LREn0W', 'NN'), ('MILEY', 'NNP'), ('CYRUS', 'NNP'), ('IS', 'VBZ'), ('ABOUT', 'NNP'), ('TO', 'NNP'), ('BECOME', 'NNP'), ('A', 'NNP'), ('GRAMMY', 'NNP'), ('WINNING', 'NNP'), ('ARTIST', 'NNP'), ('BOOKMARK', 'NNP'), ('THIS', 'NNP'), ('.', '.'), ('#Grammys', 'VB'), ('Hello', 'NNP'), ('everyone', 'NN'), (',', ','), ('happy', 'JJ'), ('to', 'TO'), ('share', 'NN'), ('that', 'IN'), ('our', 'PRP$'), ('song', 'NN'), ('No', 'NNP'), ('Plastic', 'NNP'), ('Swear', 'NNP'), ('Now', 'RB'), ('is', 'VBZ'), ('on', 'IN'), ('the', 'DT'), ('64th', 'CD'), ('Grammy', 'NNP'), ('Awards', 'NNP'), ('ballot', 'NN'), ('in', 'IN'), ('Best', 'NNP'), ('Arrangement', 'NNP'), ('Instrumental', 'NNP'), ('or', 'CC'), ('A', 'NNP'), ('Cappella', 'NNP'), ('category.Need', 'VB'), ('all', 'DT'), ('your', 'PRP$'), ('blessings', 'NNS'), ('#RecordingAcademy', 'VBP'), ('#Vote4GRAMMYs', 'JJ'), ('#grammys', 'NNP'), ('#wearemusic', 'NNP'), ('#GRAMMYs', 'NNP'), ('#NoPlasticSwearNow', 'NNP'), ('https://t.co/dRcnP9emwy', 'VBZ'), ('Bebe', 'NNP'), ('Rexha', 'NNP'), ('for', 'IN'), ('#GRAMMYs', 'NNP'), ('&', 'CC'), ('#EMAs', 'NNP'), ('https://t.co/r88wvXERpl', 'NN'), ('Name', 'NN'), ('a', 'DT'), ('Nigeria', 'NNP'), ('underrated', 'JJ'), ('Album', 'NNP'), ('/', 'NNP'), ('EP', 'NNP'), ('?', '.'), ('#Platinum', 'NN'), ('#GRAMMYs', 'NN'), ('#underrated', 'VBD'), ('#16tracks', 'NNS'), ('#hiptv', 'NNP'), ('🚨', 'NNP'), ('Segundo', 'NNP'), ('a', 'DT'), ('Billboard', 'NNP'), (',', ','), ('“', 'NNP'), ('Plastic', 'NNP'), ('Hearts', 'NNP'), ('”', 'NNP'), ('foi', 'NN'), ('submetido', 'VBD'), ('a', 'DT'), ('“', 'JJ'), ('Best', 'NNP'), ('Rock', 'NNP'), ('Album', 'NNP'), ('”', 'NNP'), ('no', 'DT'), ('#GRAMMYs', 'NN'), ('2022', 'CD'), ('.', '.'), ('https://t.co/YWw2LOxram', 'NN'), ('BIG', 'NNP'), ('NEWS', 'NNP'), ('!', '.'), ('!', '.'), ('!', '.'), ('“', 'NN'), ('This', 'DT'), ('is', 'VBZ'), ('TBL', 'NNP'), ('”', 'NN'), ('is', 'VBZ'), ('up', 'RP'), ('for', 'IN'), ('@recordingacademy', 'JJ'), ('considerations', 'NNS'), ('...', ':'), ('🙏', 'NNP'), ('🏻', 'NNP'), ('🙏', 'NNP'), ('🏽', 'NNP'), ('🙏', 'NNP'), ('🏿', 'NNP'), ('#adifferentleague', 'NNP'), ('@ryzemagazine', 'NNP'), ('・', 'NNP'), ('・', 'NNP'), ('・', 'NNP'), ('FYC', 'NNP'), ('-', ':'), ('RYZE', 'NNP'), ('Magazine', 'NNP'), ('Presents', 'NNP'), ('“', 'VB'), ('This', 'DT'), ('Is', 'VBZ'), ('TBL', 'NNP'), ('”', 'NNP'), ('(', '('), ('thee', 'JJ'), ('official', 'NN'), ('TBL', 'NNP'), ('Theme', 'NNP'), ('Song', 'NNP'), ('and', 'CC'), ('Anthem', 'NNP'), (')', ')'), ('featuring', 'VBG'), ('@DaLomonze', 'JJ'), ('x', 'NNP'), ('@emceenicela', 'NNP'), ('x', 'NNP'), ('@lamonttblackshire', 'NNP'), ('#GRAMMYs', 'NNP'), ('https://t.co/hcybirgQtl', 'NN'), ('.', '.'), ('@MileyCyrus', 'CC'), ('’', 'JJ'), ('‘', 'NNP'), ('Plastic', 'NNP'), ('Hearts', 'NNP'), ('’', 'NNP'), ('has', 'VBZ'), ('been', 'VBN'), ('submitted', 'VBN'), ('for', 'IN'), ('“', 'NN'), ('Best', 'NNP'), ('Rock', 'NNP'), ('Album', 'NNP'), ('”', 'NNP'), ('at', 'IN'), ('the', 'DT'), ('2022', 'CD'), ('#GRAMMYs', 'NN'), (',', ','), ('@billboard', 'JJ'), ('reports', 'NNS'), ('.', '.'), ('https://t.co/CyOeAJhgcD', 'VB'), ('what', 'WP'), ('if', 'IN'), ('we', 'PRP'), ('get', 'VBP'), ('a', 'DT'), ('nomination', 'NN'), ('for', 'IN'), ('Grammy', 'NNP'), ('2022', 'CD'), ('next', 'JJ'), ('year', 'NN'), ('?', '.'), ('?', '.'), ('!', '.'), ('!', '.'), ('#BLACKPINK', 'JJ'), ('#GRAMMYs', 'NN'), ('For', 'IN'), ('Your', 'PRP$'), ('Consideration', 'NNP'), ('—', 'NNP'), ('GRAMMY', 'NNP'), ('Awards', 'NNP'), ('First', 'NNP'), ('Round', 'NNP'), ('Ballot', 'NNP'), (':', ':'), ('Black', 'NNP'), ('Nile', 'NNP'), ('“', 'VBZ'), ('The', 'DT'), ('Further', 'NNP'), ('Side', 'NNP'), ('”', 'NNP'), ('Best', 'NNP'), ('Contemporary', 'NNP'), ('Instrumental', 'NNP'), ('Album', 'NNP'), ('#GRAMMYs', 'NNP'), ('#grammys2022', 'NNP'), ('🏆', 'NNP'), ('https://t.co/FceX04kvEF', 'VBD'), ('@Wale', 'NNP'), ('definitely', 'RB'), ('has', 'VBZ'), ('album', 'NN'), ('of', 'IN'), ('the', 'DT'), ('year', 'NN'), ('so', 'RB'), ('far', 'RB'), ('.', '.'), ('#Folarin2', 'JJ'), ('#GRAMMYs', 'JJ'), ('#GRAMMYs', 'NN'), ('this', 'DT'), ('is', 'VBZ'), ('cheating', 'VBG'), ('.', '.'), ('bts', 'NNS'), ('have', 'VBP'), ('to', 'TO'), ('get', 'VB'), ('that', 'DT'), ('.', '.'), ('because', 'IN'), (',', ','), ('their', 'PRP$'), ('impact', 'NN'), ('made', 'VBD'), ('the', 'DT'), ('others', 'NNS'), ('get', 'VBP'), ('nominated.then', 'JJ'), ('why', 'WRB'), ('cheating', 'VBG'), ('?', '.'), ('Fans', 'NNS'), ('react', 'VBP'), ('as', 'IN'), ('#GRAMMYs', 'NNP'), ('Award', 'NNP'), ('winner', 'NN'), ('#Burnaboy', 'NNP'), ('shaves', 'VBZ'), ('off', 'RP'), ('beard', 'NN'), ('&', 'CC'), ('dons', 'NNS'), ('a', 'DT'), ('leather', 'NN'), ('outfit', 'NN'), ('Grammy', 'NNP'), ('award-winning', 'JJ'), ('singer', 'NN'), (',', ','), ('Damini', 'NNP'), ('Ogulu', 'NNP'), (',', ','), ('popularly', 'RB'), ('known', 'VBN'), ('as', 'IN'), ('#Burnaboy', 'NN'), ('has', 'VBZ'), ('shaved', 'VBN'), ('off', 'RP'), ('his', 'PRP$'), ('beard', 'NN'), ('.', '.'), ('https://t.co/j2I3nCLFDD', 'NN'), ('GRAMMYS', 'NNP'), ('Sharing', 'NNP'), ('some', 'DT'), ('great', 'JJ'), ('news', 'NN'), ('today', 'NN'), ('!', '.'), ('!', '.'), ('My', 'PRP$'), ('dear', 'JJ'), ('friend', 'NN'), ('@Raghu_Dixit', 'NN'), ('has', 'VBZ'), ('collaborated', 'VBN'), ('with', 'IN'), ('musician', 'JJ'), ('@caseydriessen', 'NN'), ('for', 'IN'), ('the', 'DT'), ('album', 'NN'), ('#Otherlands', 'VBZ'), ('is', 'VBZ'), ('being', 'VBG'), ('considered', 'VBN'), ('for', 'IN'), ('Grammys', 'NNP'), ('!', '.'), ('!', '.'), ('https://t.co/zHXUOBXlt1', 'NN'), ('#Grammys', 'JJ'), ('#Inclusivity', 'NN'), ('#language', 'NN'), ('#Violin', 'NNP'), ('#guitar', 'NNP'), ('#vocals', 'NNS'), ('#poetry', 'VBP'), ('#Otherlands', 'VBZ'), ('Grammy', 'NNP'), ('Nominations', 'NNP'), ('Forecast', 'NNP'), (':', ':'), ('Could', 'MD'), ('the', 'DT'), ('Top', 'NNP'), ('Categories', 'NNPS'), ('Be', 'NNP'), ('a', 'DT'), ('Battle', 'NNP'), ('of', 'IN'), ('the', 'DT'), ('Teen', 'NNP'), ('Titans', 'NNPS'), ('?', '.'), ('@OliviaRodrigoHQ', 'VB'), ('@LilNasX', 'JJ'), ('@billieeilish', 'JJ'), ('@taylorswift13', 'NN'), ('@Grammys', 'NNP'), ('@RecordingAcad', 'NNP'), ('#TaylorSwift', 'NNP'), ('#oliviarodrigo', 'NNP'), ('#BillieEilish', 'JJ'), ('#LilNasX', 'NNP'), ('#Grammys', 'NNP'), ('https://t.co/3COX4pitoy', 'NN'), ('via', 'IN'), ('@variety', 'NNP'), ('Plastic', 'NNP'), ('Hearts', 'NNP'), ('foi', 'NN'), ('submetido', 'VBD'), ('a', 'DT'), ('categoria', 'NN'), ('de', 'FW'), ('Best', 'NNP'), ('Rock', 'NNP'), ('Album', 'NNP'), ('no', 'DT'), ('#GRAMMYs', 'NNP'), ('https://t.co/zKqWQT0dNs', 'NN'), ('For', 'IN'), ('Ur', 'NNP'), ('Grammy', 'NNP'), ('Consideration', 'NNP'), ('#BTS', 'NNP'), ('#GRAMMYs', 'NNP'), ('https://t.co/OmjUZo6nBs', 'VBZ'), ('#MONSTAX', 'NN'), ('for', 'IN'), ('the', 'DT'), ('#GRAMMYs', 'NNP'), ('https://t.co/v3l8hoqvlG', 'NN'), ('@RecordingAcad', 'NNP'), ('Tinashe', 'NNP'), ('also', 'RB'), ('dropped', 'VBD'), ('this', 'DT'), ('incredible', 'JJ'), ('album', 'NN'), (',', ','), ('Comfort', 'NNP'), ('&', 'CC'), ('Joy', 'NNP'), ('for', 'IN'), ('the', 'DT'), ('holidays', 'NNS'), ('..', 'VBP'), ('let', 'VB'), ('’', 'NNP'), ('s', 'VB'), ('go', 'VB'), ('#lifetimeaward', 'NNP'), ('#Grammys', 'NNP'), ('I', 'PRP'), ('’', 'VBP'), ('m', 'RB'), ('trying', 'VBG'), ('to', 'TO'), ('tell', 'VB'), ('y', 'RB'), ('’', 'NNP'), ('all', 'DT'), ('..', 'NNP'), ('vote', 'NN'), ('for', 'IN'), ('Tinashe', 'NNP'), ('..', 'NNP'), ('must', 'MD'), ('I', 'PRP'), ('say', 'VB'), ('she', 'PRP'), ('is', 'VBZ'), (',', ','), ('Every', 'NNP'), ('Woman', 'NNP'), ('https://t.co/xozhEdaGS3', 'VBZ'), ('https://t.co/szQo1mFoX8', 'NN'), ('▶', 'NN'), ('Do', 'VBP'), ('you', 'PRP'), ('want', 'VB'), ('to', 'TO'), ('enhance', 'VB'), ('your', 'PRP$'), ('beauty', 'NN'), ('?', '.'), ('Yes', 'UH'), (',', ','), ('you', 'PRP'), ('come', 'VBP'), ('to', 'TO'), ('the', 'DT'), ('right', 'JJ'), ('place', 'NN'), ('..', 'NNP'), ('We', 'PRP'), ('provide', 'VBP'), ('the', 'DT'), ('best', 'JJS'), ('beauty', 'NN'), ('essential', 'JJ'), ('video', 'NN'), ('.', '.'), ('✅', 'JJ'), ('WATCH', 'NNP'), ('THIS', 'NNP'), ('VIDEO', 'NNP'), (':', ':'), ('https://t.co/YQusNfjYKJ', 'NN'), ('#PHXvsLAL', 'NNP'), ('#Arizona', 'NNP'), ('#jokic', 'NNP'), ('#ADandDwight', 'NNP'), ('#Zendaya', 'NNP'), ('#WHOAREYOU', 'NNP'), ('#FleetwoodMac', 'NNP'), ('#GRAMMYs', 'NNP'), ('#ONEW', 'NNP'), ('#PermissionToDanceOnStageLA', 'NNP'), ('https://t.co/A9ujhxRjf5', 'NN'), ('For', 'IN'), ('Your', 'PRP$'), ('Grammy', 'NNP'), ('Consideration', 'NNP'), ('@RecordingAcad', 'NNP'), ('#BTS', 'NNP'), ('#GRAMMYs', 'NNP'), ('https://t.co/taIT3b4V96', 'NN'), ('“', 'NNP'), ('Plastic', 'NNP'), ('Hearts', 'NNP'), ('”', 'NN'), ('by', 'IN'), ('Miley', 'NNP'), ('Cyrus', 'NNP'), ('has', 'VBZ'), ('been', 'VBN'), ('submitted', 'VBN'), ('for', 'IN'), ('best', 'JJS'), ('rock', 'NN'), ('album', 'NN'), ('at', 'IN'), ('the', 'DT'), ('#Grammys', 'NN'), ('.', '.'), ('If', 'IN'), ('Cyrus', 'NNP'), ('were', 'VBD'), ('to', 'TO'), ('win', 'VB'), (',', ','), ('she', 'PRP'), ('’', 'VBD'), ('d', 'JJ'), ('become', 'VB'), ('the', 'DT'), ('first', 'JJ'), ('female', 'JJ'), ('artist', 'NN'), ('(', '('), ('and', 'CC'), ('first', 'RB'), ('solo', 'JJ'), ('singer', 'NN'), ('overall', 'JJ'), (')', ')'), ('to', 'TO'), ('win', 'VB'), ('the', 'DT'), ('award', 'NN'), ('in', 'IN'), ('23', 'CD'), ('years', 'NNS'), ('!', '.'), ('https://t.co/j6bUk1pl0s', 'NN'), ('Really', 'RB'), ('thrilled', 'VBD'), ('to', 'TO'), ('see', 'VB'), ('my', 'PRP$'), ('album', 'NN'), ('listed', 'VBN'), ('here', 'RB'), ('!', '.'), ('If', 'IN'), ('you', 'PRP'), ('have', 'VBP'), ('a', 'DT'), ('vote', 'NN'), ('for', 'IN'), ('the', 'DT'), ('Grammy', 'NNP'), ('’', 'NNP'), ('s', 'VBD'), ('it', 'PRP'), ('would', 'MD'), ('be', 'VB'), ('great', 'JJ'), ('if', 'IN'), ('you', 'PRP'), ('’', 'VBP'), ('d', 'JJ'), ('take', 'VB'), ('a', 'DT'), ('listen', 'NN'), ('and', 'CC'), ('consider', 'VB'), ('it', 'PRP'), ('?', '.'), ('❤', 'JJ'), ('️', 'JJ'), ('Thanks', 'NNP'), ('so', 'RB'), ('much', 'JJ'), ('Jason', 'NNP'), ('Miles', 'NNP'), ('and', 'CC'), ('my', 'PRP$'), ('amazing', 'JJ'), ('band', 'NN'), ('!', '.'), ('🙏', 'JJ'), ('@RecordingAcad', 'JJ'), ('@JasonMiles', 'NNS'), ('@Jazzwise', 'VBP'), ('@JazzJournal', 'JJ'), ('@BBCJazzon3', 'NNP'), ('#Grammys', 'NNP'), ('#jazz', 'NNP'), ('#jazzvocal', 'JJ'), ('https://t.co/7Bqr767DeI', 'NN'), ('this', 'DT'), ('had', 'VBD'), ('to', 'TO'), ('be', 'VB'), ('one', 'CD'), ('of', 'IN'), ('the', 'DT'), ('biggest', 'JJS'), ('song', 'NN'), ('snubbed', 'VBD'), ('at', 'IN'), ('#GRAMMYs', 'NNP'), ('https://t.co/H9KpZaV81a', 'NN'), ('Turns', 'VBZ'), ('out', 'RP'), ('Birdsong', 'NNP'), ('has', 'VBZ'), ('also', 'RB'), ('made', 'VBN'), ('the', 'DT'), ('longlist', 'NN'), ('for', 'IN'), ('track', 'NN'), ('of', 'IN'), ('the', 'DT'), ('year', 'NN'), ('🥰', 'NNP'), ('#GRAMMYs', 'NNP'), ('@theluxalma', 'NNP'), ('@Jess_C_Leen', 'NNP'), ('@niamhsandwich', 'NNP'), ('@CariQMusic', 'NNP'), ('@theruthsmith', 'NNP'), ('@SiveMusic', 'NNP'), ('@PSuitestudios', 'NNP'), ('https://t.co/0yFWOxEX8v', 'NN'), ('Sticker', 'NNP'), ('is', 'VBZ'), ('the', 'DT'), ('MASTERPIECE', 'NNP'), ('!', '.'), ('You', 'PRP'), ('deserve', 'VBP'), ('it', 'PRP'), ('!', '.'), ('#GRAMMYs', 'JJ'), ('https://t.co/a7NZr2uG5q', 'NN'), ('For', 'IN'), ('Ur', 'NNP'), ('Grammy', 'NNP'), ('Consideration', 'NNP'), ('#BTS', 'NNP'), ('#GRAMMYs', 'NNP'), ('https://t.co/J2vl0WPe0u', 'NN'), ('Via', 'NNP'), ('@Variety', 'NN'), ('Will', 'NNP'), ('2022', 'CD'), ('Be', 'NNP'), ('#BTS', 'VBN'), ('’', 'NNP'), ('and', 'CC'), ('K-Pop', 'NNP'), ('’', 'NNP'), ('s', 'VBD'), ('Year', 'NNP'), ('at', 'IN'), ('the', 'DT'), ('#Grammys', 'NN'), ('?', '.'), ('https://t.co/z5OXyyuYpF', 'JJ'), ('#GRAMMYs', 'NN'), ('Voting', 'NNP'), ('is', 'VBZ'), ('critically', 'RB'), ('important', 'JJ'), ('because', 'IN'), ('the', 'DT'), ('power', 'NN'), (',', ','), ('privilege', 'NN'), (',', ','), ('and', 'CC'), ('prestige', 'NN'), ('of', 'IN'), ('recognizing', 'VBG'), ('music', 'NN'), ('’', 'NNP'), ('s', 'NN'), ('creators', 'NNS'), ('is', 'VBZ'), ('in', 'IN'), ('the', 'DT'), ('hands', 'NNS'), ('of', 'IN'), ('our', 'PRP$'), ('@RecordingAcademy', 'JJ'), ('members', 'NNS'), ('.', '.'), ('If', 'IN'), (\"you're\", 'PDT'), ('a', 'DT'), ('#RecordingAcademy', 'JJ'), ('voting', 'NN'), ('member', 'NN'), (',', ','), (\"don't\", 'NN'), ('forget', 'NN'), ('to', 'TO'), ('vote', 'VB'), ('!', '.'), ('#Vote4GRAMMYs', 'JJ'), ('https://t.co/T4SbELcRWB', 'JJ'), ('Very', 'NNP'), ('happy', 'JJ'), ('that', 'IN'), ('my', 'PRP$'), ('album', 'JJ'), ('“', 'NN'), ('Now', 'RB'), ('The', 'DT'), ('Silence', 'NNP'), ('”', 'NNP'), ('has', 'VBZ'), ('been', 'VBN'), ('accepted', 'VBN'), ('for', 'IN'), ('consideration', 'NN'), ('by', 'IN'), ('the', 'DT'), ('Recording', 'NNP'), ('Academy', 'NNP'), ('and', 'CC'), ('appears', 'VBZ'), ('on', 'IN'), ('the', 'DT'), ('initial', 'JJ'), ('voting', 'NN'), ('ballot', 'NN'), ('in', 'IN'), ('the', 'DT'), ('category', 'NN'), ('of', 'IN'), ('New', 'NNP'), ('Age', 'NNP'), ('Album', 'NNP'), ('.', '.'), ('#FYC', 'JJ'), ('#NowTheSilence', 'NN'), ('#NewAgeAlbum', 'NNP'), ('#GRAMMYs', 'NNP'), ('https://t.co/6UoImQNxeg', 'NN'), ('Record', 'NNP'), ('of', 'IN'), ('the', 'DT'), ('week', 'NN'), ('comes', 'VBZ'), ('courtesy', 'NN'), ('of', 'IN'), ('the', 'DT'), ('talented', 'JJ'), ('@EgoEllaMay', 'NN'), ('on', 'IN'), ('tomorrows', 'NNS'), ('programme', 'VBP'), ('from', 'IN'), ('10am', 'CD'), ('on', 'IN'), ('@JazzFM', 'JJ'), ('plus', 'CC'), (\"i'll\", 'JJ'), ('be', 'VB'), ('talking', 'VBG'), ('to', 'TO'), ('the', 'DT'), ('#GRAMMYs', 'NNP'), ('winning', 'VBG'), ('@keyonharrold', 'JJ'), ('plus', 'CC'), ('new', 'JJ'), ('music', 'NN'), ('from', 'IN'), ('NeONE', 'NNP'), ('the', 'DT'), ('Wonderer', 'NNP'), ('@brownswood', 'NNP'), ('@SNG_Manchester', 'NN'), ('and', 'CC'), ('more', 'JJR'), ('.', '.'), ('Or', 'CC'), ('c', 'NN'), ('/', 'VBP'), ('up', 'RB'), ('here', 'RB'), ('https://t.co/iqlqK1g94m', 'JJ'), ('https://t.co/wrNeYJN7Jx', 'NN'), ('This', 'DT'), ('is', 'VBZ'), ('masterpiece', 'JJ'), ('@RecordingAcad', 'NNP'), ('#nct127', 'NNP'), ('#Sticker', 'NNP'), ('#GRAMMYs', 'NNP'), ('https://t.co/kd6LssvpMY', 'NN'), ('#GRAMMYs', 'NNP'), ('Quick', 'NNP'), ('Predictions', 'NNP'), ('-', ':'), ('Alternative', 'JJ'), ('+', 'JJ'), ('Country', 'NNP'), ('https://t.co/Yq1iWXuedS', 'NN'), ('We', 'PRP'), ('are', 'VBP'), ('honored', 'VBN'), ('to', 'TO'), ('share', 'NN'), ('our', 'PRP$'), ('dream', 'NN'), ('come', 'VB'), ('true', 'JJ'), ('with', 'IN'), ('you', 'PRP'), ('!', '.'), ('If', 'IN'), ('you', 'PRP'), ('are', 'VBP'), ('a', 'DT'), ('voting', 'JJ'), ('member', 'NN'), ('of', 'IN'), ('the', 'DT'), ('recording', 'NN'), ('academy', 'NN'), (',', ','), ('our', 'PRP$'), ('music', 'NN'), ('is', 'VBZ'), ('on', 'IN'), ('the', 'DT'), ('first', 'JJ'), ('round', 'NN'), ('Grammy', 'NNP'), ('ballot', 'NN'), ('this', 'DT'), ('year', 'NN'), ('!', '.'), ('https://t.co/UVgWfRO0Db', 'NN'), ('#dreambig', 'NNP'), ('#GRAMMYs', 'NNP'), ('#sleepingwitharockstar', 'NNP'), ('#isthatenough', 'NNP'), ('https://t.co/T0VWCqZC9P', 'NN'), ('Thaalaatu', 'NNP'), ('is', 'VBZ'), ('on', 'IN'), ('the', 'DT'), ('64th', 'CD'), ('Grammy', 'NNP'), ('Awards', 'NNP'), ('ballot', 'NN'), ('#RecordingAcademy', 'NNP'), ('#Vote4GRAMMYs', 'NNP'), ('#grammys', 'NNP'), ('#wearemusic', 'NNP'), ('#thaalaatulullaby', 'NNP'), ('composed', 'VBD'), ('and', 'CC'), ('arranged', 'VBN'), ('by', 'IN'), ('@crazydevan75', 'NNP'), ('.', '.'), ('All', 'PDT'), ('the', 'DT'), ('best', 'JJS'), ('da', 'NN'), ('.', '.'), ('https://t.co/KVimWfNoHZ', 'VB'), ('The', 'DT'), ('latest', 'JJS'), ('The', 'DT'), ('Gospel', 'NNP'), ('music', 'NN'), ('Daily', 'NNP'), ('!', '.'), ('https://t.co/DHan149e1b', 'NN'), ('Thanks', 'NNS'), ('to', 'TO'), ('@fortunatefall03', 'VB'), ('#music', 'JJ'), ('#grammys', 'NNP'), ('Track', 'NNP'), ('list', 'NN'), ('for', 'IN'), ('TNBT', 'NNP'), ('the', 'DT'), ('Ep', 'NNP'), ('out', 'RP'), ('this', 'DT'), ('week', 'NN'), ('#GRAMMYs', 'NNP'), ('#music', 'NNP'), ('#TNBT', 'NNP'), ('#mrnasty', 'NNP'), ('#Ep', 'NNP'), ('Miley', 'NNP'), ('Cyrus', 'NNP'), ('’', 'NNP'), ('Plastic', 'NNP'), ('Hearts', 'NNP'), ('was', 'VBD'), ('submitted', 'VBN'), ('to', 'TO'), ('POP', 'NNP'), ('categories', 'NNS'), ('but', 'CC'), ('#GRAMMYs', 'NNP'), ('recategorized', 'VBD'), ('them', 'PRP'), ('to', 'TO'), ('ROCK', 'NNP'), (',', ','), ('@billboard', 'NNP'), ('reports', 'VBZ'), ('#Blackpink', 'NN'), ('(', '('), ('the', 'DT'), ('movie', 'NN'), (')', ')'), ('×', 'NN'), ('#GRAMMYs', 'NN'), ('?', '.'), ('https://t.co/SGtuuXjA23', 'NN'), ('.', '.'), ('@MileyCyrus', 'CC'), ('’', 'JJ'), ('‘', 'NNP'), ('Plastic', 'NNP'), ('Hearts', 'NNP'), ('’', 'NNP'), ('has', 'VBZ'), ('been', 'VBN'), ('submitted', 'VBN'), ('for', 'IN'), ('“', 'NN'), ('Best', 'NNP'), ('Rock', 'NNP'), ('Album', 'NNP'), ('”', 'NNP'), ('at', 'IN'), ('the', 'DT'), ('2022', 'CD'), ('#GRAMMYs', 'NN'), (',', ','), ('@billboard', 'JJ'), ('reports', 'NNS'), ('.', '.'), ('https://t.co/1GKmmqw5ue', 'NN'), ('Time', 'NNP'), ('out', 'RP'), ('for', 'IN'), ('tea', 'NN'), ('🙏', 'JJ'), ('#xfiles', 'NNS'), ('#mulderandscully', 'RB'), ('#dalek', 'VBP'), ('#scifi', 'JJ'), ('#retro', 'NNP'), ('#robot', 'NNP'), ('#GRAMMYs', 'NNP'), ('#tea', 'NNP'), ('#breaktime', 'NNP'), ('#culttv', 'NNP'), ('#startrek', 'NNP'), ('#yellowsubmarine', 'NNP'), ('#groovy', 'NNP'), ('#dig', 'NNP'), ('https://t.co/7z7Jzng6wQ', 'NN'), ('@demjointz', 'NN'), ('YEEEES', 'NN'), ('!', '.'), ('!', '.'), ('!', '.'), ('Deserve', 'NN'), ('!', '.'), ('#NCT127', 'JJ'), ('#STICKER', 'JJ'), ('#GRAMMYs', 'NNP'), ('💚', 'NNP'), ('💃', 'NNP'), ('@umksjin', 'NNP'), ('@AlyaNuari5', 'NNP'), ('@emxrwld', 'NNP'), ('For', 'IN'), ('Ur', 'NNP'), ('Grammy', 'NNP'), ('Consideration', 'NNP'), ('#NCT127', 'NNP'), ('#Sticker', 'NNP'), ('#GRAMMYs', 'NNP'), ('🤞', 'NNP'), ('🏽', 'NNP'), ('https://t.co/VDoKXZCKAW', 'NN'), ('For', 'IN'), ('your', 'PRP$'), ('consideration', 'NN'), ('to', 'TO'), ('whom', 'WP'), ('it', 'PRP'), ('may', 'MD'), ('concern', 'NN'), ('.', '.'), ('🕊', 'CC'), ('@leather_sox', 'JJ'), ('@dovesociety', 'NN'), ('@recordingacademy', 'NNP'), ('#grammys', 'NNP'), ('https://t.co/miLPV3AaIe', 'NN'), ('For', 'IN'), ('your', 'PRP$'), ('64th', 'CD'), ('annual', 'JJ'), ('Grammy', 'NNP'), ('®', 'NNP'), ('️', 'NNP'), ('voting', 'VBG'), ('consideration', 'NN'), (':', ':'), ('My', 'PRP$'), ('album', 'NN'), ('\"', 'NN'), ('With', 'IN'), ('Love', 'NNP'), ('from', 'IN'), ('Lake', 'NNP'), ('Huron', 'NNP'), ('\"', 'NNP'), ('has', 'VBZ'), ('been', 'VBN'), ('submitted', 'VBN'), ('for', 'IN'), ('the', 'DT'), ('2022', 'CD'), ('Country', 'NNP'), ('Album', 'NNP'), ('of', 'IN'), ('the', 'DT'), ('Year', 'NN'), ('for', 'IN'), ('the', 'DT'), ('64th', 'CD'), ('annual', 'JJ'), ('Grammy', 'NNP'), ('®', 'NNP'), ('️', 'NNP'), ('Awards', 'NNP'), ('.', '.'), ('https://t.co/tRAvypvSzE', 'NN'), ('#GRAMMYs', 'NN'), ('#GrammyAwards', 'NNS'), ('https://t.co/QEi3IxVaEO', 'VBP'), ('@demjointz', 'JJ'), ('I', 'PRP'), ('hope', 'VBP'), ('so', 'RB'), ('..', 'JJ'), ('You', 'PRP'), ('and', 'CC'), ('NCT', '$'), ('127', 'CD'), ('deseve', 'NN'), ('it', 'PRP'), ('#NCT127', 'VBZ'), ('#GRAMMYs', 'JJ'), ('@RecordingAcad', 'NNP'), ('Nominate', 'NNP'), ('#LISA', 'NNP'), ('for', 'IN'), ('2021', 'CD'), ('“', 'JJ'), ('new', 'JJ'), ('artist', 'NN'), ('”', 'NNP'), ('category', 'NN'), ('#GRAMMYs', 'NNP'), ('#LisaMoneyDance', 'NNP'), ('#LalisaManoban', 'NNP'), ('#MONEY', 'NNP'), ('#LALISAsolo', 'NNP'), ('#SOLM', 'NNP'), ('#SnakeOzunaLisaMegan', 'NNP'), ('Any', 'NNP'), ('ARMY', 'NNP'), ('’', 'NNP'), ('s', 'VBD'), ('wanna', 'JJ'), ('weigh', 'NN'), ('in', 'IN'), ('on', 'IN'), ('what', 'WP'), ('they', 'PRP'), ('think', 'VBP'), ('about', 'IN'), ('BTS', 'NNP'), ('’', 'NNP'), ('s', 'VBD'), ('chance', 'NN'), ('at', 'IN'), ('winning', 'VBG'), ('big', 'JJ'), ('at', 'IN'), ('this', 'DT'), ('year', 'NN'), ('’', 'VBZ'), ('s', 'JJ'), ('Grammys', 'NNP'), ('?', '.'), ('😳', 'NNP'), ('💜', 'NNP'), ('#GRAMMYs', 'NNP'), ('#BTS', 'NNP'), ('#ARMY', 'NNP'), ('https://t.co/OPrCPllIx6', 'NN'), ('https://t.co/aDWI27uAmE', 'NN'), ('RCA', 'NNP'), ('Records', 'NNP'), (',', ','), ('Doja', 'NNP'), (\"Cat's\", 'NNP'), ('label', 'NN'), (',', ','), ('submitted', 'VBN'), (\"'\", 'POS'), ('Planet', 'NNP'), ('Her', 'NNP'), (\"'\", \"''\"), ('in', 'IN'), ('the', 'DT'), ('category', 'NN'), (\"'\", 'POS'), ('Best', 'NNP'), ('Pop', 'NNP'), ('Vocal', 'NNP'), ('Album', 'NNP'), (\"'\", 'POS'), ('on', 'IN'), ('2022', 'CD'), ('#GRAMMYs', 'NN'), ('.', '.'), ('https://t.co/tG4QCLvCuE', 'NN'), ('For', 'IN'), ('your', 'PRP$'), ('#Grammys', 'JJ'), ('Consideration', 'NN'), (':', ':'), ('Dexter', 'NNP'), ('Allen', 'NNP'), ('->', 'NNP'), ('“', 'NNP'), ('Keep', 'NNP'), ('Moving', 'NNP'), ('On', 'IN'), ('”', 'NNP'), ('Best', 'NNP'), ('American', 'JJ'), ('Roots', 'NNP'), ('Song', 'NNP'), ('Best', 'NNP'), ('American', 'JJ'), ('Roots', 'NNP'), ('Performance', 'NNP'), ('Best', 'NNP'), ('Traditional', 'NNP'), ('Blues', 'NNP'), ('Album', 'NNP'), ('https://t.co/RbSOg3EprW', 'VBD'), ('Listening', 'VBG'), ('to', 'TO'), ('#BlueBanisters', 'NNS'), ('for', 'IN'), ('the', 'DT'), ('1st', 'CD'), ('time', 'NN'), ('in', 'IN'), ('my', 'PRP$'), ('room', 'NN'), ('with', 'IN'), ('headphones', 'NNS'), ('&', 'CC'), ('mushroom', 'NN'), ('tea', 'NN'), ('was', 'VBD'), ('the', 'DT'), ('best', 'JJS'), ('decision', 'NN'), ('of', 'IN'), ('my', 'PRP$'), ('life', 'NN'), ('.', '.'), ('It', 'PRP'), ('’', 'VBZ'), ('s', 'VBZ'), ('a', 'DT'), ('spiritual', 'JJ'), ('awakening', 'NN'), ('.', '.'), ('#LanaDelRey', 'CC'), ('those', 'DT'), ('horns', 'NNS'), ('on', 'IN'), ('If', 'IN'), ('you', 'PRP'), ('lie', 'VBP'), ('down', 'RP'), ('with', 'IN'), ('me', 'PRP'), ('?', '.'), ('This', 'DT'), ('is', 'VBZ'), ('the', 'DT'), ('album', 'NN'), ('that', 'WDT'), ('will', 'MD'), ('snag', 'VB'), ('the', 'DT'), ('#Grammys', 'NNP'), ('https://t.co/0fj6z9kKzX', 'NN'), ('.', '.'), ('@DojaCat', 'CC'), ('’', 'JJ'), ('s', 'NN'), ('‘', 'JJ'), ('Planet', 'NNP'), ('Her', 'NNP'), ('’', 'NNP'), ('has', 'VBZ'), ('been', 'VBN'), ('submitted', 'VBN'), ('under', 'IN'), ('‘', 'NN'), ('Best', 'NNP'), ('Pop', 'NNP'), ('Vocal', 'NNP'), ('Album', 'NNP'), ('”', 'NNP'), ('for', 'IN'), ('the', 'DT'), ('2022', 'CD'), ('#GRAMMYs', 'NNP'), ('https://t.co/HIBh8tQr2m', 'NN'), ('@JoeYue16', 'NNP'), ('@demjointz', 'NNP'), ('Lmao', 'NNP'), ('I', 'PRP'), ('love', 'VBP'), ('your', 'PRP$'), ('pfp', 'NN'), ('btw', 'NN'), ('stream', 'NN'), ('sticker', 'NN'), ('#Grammys', 'NNP'), ('😂', 'NNP'), ('For', 'IN'), ('your', 'PRP$'), ('#Grammys', 'JJ'), ('Consideration', 'NN'), (':', ':'), ('\"', 'JJ'), ('My', 'PRP$'), ('American', 'JJ'), ('Heart', 'NNP'), ('”', 'NN'), ('Best', 'NNP'), ('American', 'NNP'), ('Roots', 'NNP'), ('Song', 'NNP'), ('&', 'CC'), ('Best', 'NNP'), ('American', 'JJ'), ('Roots', 'NNP'), ('Performance', 'NNP'), ('❤', 'NNP'), ('️', 'NNP'), ('💙', 'NNP'), ('https://t.co/51sWcYBLUp', 'NN'), ('So', 'NNP'), ('is', 'VBZ'), ('BE', 'NNP'), (',', ','), ('Butter', 'NNP'), ('and', 'CC'), ('Permission', 'NNP'), ('To', 'TO'), ('Dance', 'NNP'), ('eligible', 'NN'), ('for', 'IN'), ('#GRAMMYs', 'NNP'), ('under', 'IN'), ('SOTY', 'NNP'), (',', ','), ('AOTY', 'NNP'), ('and', 'CC'), ('ROTY', 'NNP'), ('?', '.'), ('#BTS', 'NN'), ('For', 'IN'), ('your', 'PRP$'), ('#Grammys', 'JJ'), ('Consideration', 'NN'), (':', ':'), ('\"', 'JJ'), ('28', 'CD'), ('Days', 'NNPS'), ('\"', 'NNP'), ('Song', 'NNP'), ('of', 'IN'), ('the', 'DT'), ('Year', 'NNP'), ('-', ':'), ('Roland', 'NNP'), ('Guerin', 'NNP'), (',', ','), ('songwriter', 'NN'), ('https://t.co/8evxoKhnim', 'NN'), ('Loading', 'VBG'), ('...', ':'), ('🔥', 'NN'), ('@zionfelixdotcom', 'NNP'), ('@magraheb', 'NNP'), ('#rap', 'NNP'), ('#nopressure', 'NNP'), ('#streetstyle', 'NNP'), ('#grammys', 'NNP'), ('#hiphop', 'NNP'), ('#hiphopculture', 'NN'), ('#drill', 'NNP'), ('#freestyle', 'NNP'), ('#4sytetv', 'NNP'), ('#africanprint', 'NN'), ('#mavinrecords', 'NNS'), ('#billboard', 'NNP'), ('#bet', 'NNP'), ('https://t.co/BchTZxG9Lg', 'NN'), ('In', 'IN'), ('a', 'DT'), ('recent', 'JJ'), ('article', 'NN'), (',', ','), ('Billboard', 'NNP'), ('confirms', 'VBZ'), ('that', 'IN'), ('@AvaMax', 'NN'), ('is', 'VBZ'), ('eligible', 'JJ'), ('to', 'TO'), ('compete', 'VB'), ('for', 'IN'), ('the', 'DT'), ('“', 'NNP'), ('Best', 'NNP'), ('New', 'NNP'), ('Artist', 'NNP'), ('”', 'NNP'), ('nomination', 'NN'), ('at', 'IN'), ('the', 'DT'), ('2022', 'CD'), ('#Grammys', 'NN'), ('.', '.'), ('The', 'DT'), ('nominations', 'NNS'), ('will', 'MD'), ('be', 'VB'), ('announced', 'VBN'), ('November', 'NNP'), ('23rd', 'CD'), ('.', '.'), ('🔗', 'VB'), ('https://t.co/q5juJxJpnw', 'JJ'), ('https://t.co/CJ0cSdhTV5', 'NN'), ('@saftykai', 'NN'), ('I', 'PRP'), ('#VoteAnittaGrammys', 'VBP'), ('for', 'IN'), ('#GRAMMYs', 'NNP'), ('Best', 'NNP'), ('New', 'NNP'), ('Artist', 'NNP'), ('This', 'DT'), ('song', 'NN'), ('deserves', 'VBZ'), ('to', 'TO'), ('be', 'VB'), ('in', 'IN'), ('#GRAMMYs', 'JJ'), ('🔥', 'NNP'), ('🔥', 'NNP'), ('@arrahman', 'NNP'), ('https://t.co/xr3G0sCcaa', 'NN'), ('I', 'PRP'), ('#VoteAnittaGrammys', 'VBP'), ('for', 'IN'), ('#GRAMMYs', 'NNP'), ('Best', 'NNP'), ('New', 'NNP'), ('Artist', 'NNP'), ('Congrats', 'NNP'), ('Record', 'NNP'), ('of', 'IN'), ('the', 'DT'), ('Year', 'NNP'), ('winner', 'NN'), ('-', ':'), ('\"', 'NN'), ('positions', 'NNS'), ('\"', 'VBP'), ('@ArianaGrande', 'JJ'), ('#GRAMMYs', 'NNP'), ('https://t.co/omqPQn14Q2', 'VBD'), ('The', 'DT'), ('2021', 'CD'), ('Latin', 'NNP'), ('GRAMMYs', 'NNP'), ('telecast', 'NN'), ('will', 'MD'), ('air', 'VB'), ('live', 'JJ'), ('on', 'IN'), ('Thursday', 'NNP'), (',', ','), ('Nov', 'NNP'), ('.', '.'), ('18', 'CD'), (',', ','), ('on', 'IN'), ('Univision', 'NN'), ('at', 'IN'), ('8', 'CD'), ('p', 'NN'), ('.', '.'), ('m', 'NN'), ('.', '.'), ('ET', 'NNP'), ('/', 'NNP'), ('PT', 'NNP'), ('(', '('), ('7', 'CD'), ('p', 'NN'), ('.', '.'), ('m', 'NN'), ('.', '.'), ('CT', 'NNP'), (')', ')'), ('.', '.'), ('@thelatingrammys', 'JJ'), ('#GRAMMYs', 'JJ'), ('https://t.co/CKjwuyPfeF', 'NN'), ('please', 'NN'), ('🥺', 'NNP'), (',', ','), ('this', 'DT'), ('song', 'NN'), ('and', 'CC'), ('album', 'NN'), ('is', 'VBZ'), ('so', 'RB'), ('amazingg', 'JJ'), ('#NCT127', 'NN'), ('#Sticker', 'NNP'), ('#GRAMMYs', 'NNP'), ('https://t.co/Vw1BTGtz5G', 'VBD'), ('The', 'DT'), ('22nd', 'CD'), ('Latin', 'NNP'), ('#GRAMMY', 'NN'), ('Awards', 'NNP'), (',', ','), ('will', 'MD'), ('air', 'VB'), ('live', 'JJ'), ('on', 'IN'), ('Univision', 'NN'), ('beginning', 'VBG'), ('at', 'IN'), ('8', 'CD'), ('p', 'NN'), ('.', '.'), ('m', 'NN'), ('.', '.'), ('ET', 'NNP'), ('/', 'NNP'), ('PT', 'NNP'), ('(', '('), ('7', 'CD'), ('p', 'NN'), ('.', '.'), ('m', 'NN'), ('.', '.'), ('CT', 'NNP'), (')', ')'), ('.', '.'), ('#GRAMMYs', 'JJ'), ('#latingrammys', 'JJ'), ('https://t.co/icud3odN7P', 'NN'), (\"IT'S\", 'NNP'), ('BIG', 'NNP'), ('BIIIIIIIIIIIIIIIIIIIG', 'NNP'), ('FOR', 'NNP'), ('#TXT', 'NNP'), ('#GRAMMYs', 'NNP'), ('*', 'NNP'), ('i', 'NN'), ('was', 'VBD'), ('sad', 'JJ'), ('thinking', 'VBG'), ('it', 'PRP'), ('was', 'VBD'), ('undermining', 'VBG'), ('their', 'PRP$'), ('2', 'CD'), ('years', 'NNS'), ('hard', 'JJ'), ('work', 'NN'), ('but', 'CC'), ('i', 'NN'), ('was', 'VBD'), ('explained', 'VBN'), ('the', 'DT'), ('category', 'NN'), (\"doesn't\", 'JJ'), ('work', 'NN'), ('like', 'IN'), ('that', 'DT'), ('.', '.'), ('I', 'PRP'), ('am', 'VBP'), ('a', 'DT'), ('puddle', 'NN'), ('of', 'IN'), ('😍', 'NN'), ('now', 'RB'), ('.', '.'), ('For', 'IN'), ('Your', 'PRP$'), ('Consideration', 'NN'), ('in', 'IN'), ('Best', 'NNP'), ('Contemporary', 'NNP'), ('Instrumental', 'NNP'), (':', ':'), ('“', 'JJ'), ('Reflections', 'NNS'), ('of', 'IN'), ('Tomorrow', 'NNP'), ('”', 'NNP'), ('by', 'IN'), ('pianist', 'NN'), ('Joseph', 'NNP'), ('Fuller', 'NNP'), ('.', '.'), ('Produced', 'VBN'), ('by', 'IN'), ('Grammy', 'NNP'), ('Award', 'NNP'), ('winner', 'NN'), ('Brad', 'NNP'), ('Sayles', 'NNP'), ('.', '.'), ('This', 'DT'), ('10', 'CD'), ('track', 'NN'), ('album', 'NN'), ('of', 'IN'), ('original', 'JJ'), ('compositions', 'NNS'), ('takes', 'VBZ'), ('you', 'PRP'), ('on', 'IN'), ('a', 'DT'), ('personal', 'JJ'), ('journey', 'NN'), ('of', 'IN'), ('joy', 'NN'), (',', ','), ('love', 'NN'), (',', ','), ('and', 'CC'), ('loss', 'NN'), ('.', '.'), ('#FYC', 'JJ'), ('#GRAMMYs', 'JJ'), ('why', 'WRB'), ('tf', 'NN'), ('these', 'DT'), ('bhishes', 'NNS'), ('trending', 'VBG'), ('again', 'RB'), ('?', '.'), ('?', '.'), ('u', 'JJ'), ('nominated', 'VBN'), ('in', 'IN'), ('grammys', 'NN'), ('or', 'CC'), ('something', 'NN'), ('?', '.'), ('?', '.'), ('#RedVelvet', 'JJ'), ('#GRAMMYs', 'JJ'), ('Let', 'NNP'), ('’', 'NNP'), ('s', 'VB'), ('be', 'VB'), ('clear', 'JJ'), ('NCT', 'NNP'), ('doesn', 'NN'), ('’', 'NNP'), ('t', 'NN'), ('need', 'VBP'), ('a', 'DT'), ('grammy', 'NN'), ('and', 'CC'), ('BTS', 'NNP'), ('doesn', 'VBP'), ('’', 'NNP'), ('t', 'VBP'), ('need', 'VBP'), ('a', 'DT'), ('grammy', 'NN'), ('they', 'PRP'), ('are', 'VBP'), ('way', 'NN'), ('too', 'RB'), ('good', 'JJ'), ('for', 'IN'), ('that', 'DT'), ('shhhh', 'NN'), ('#GRAMMYs', 'NNP'), ('https://t.co/r5j6cqulGR', 'NN'), ('Dear', 'NNP'), ('GRAMMY', 'NNP'), ('®', 'NNP'), ('️voting', 'VBG'), ('members', 'NNS'), (':', ':'), ('I', 'PRP'), ('humbly', 'RB'), ('submit', 'VBP'), ('to', 'TO'), ('you', 'PRP'), ('my', 'PRP$'), ('album', 'NN'), (',', ','), ('TONADA', 'NNP'), (',', ','), ('for', 'IN'), ('Grammy', 'NNP'), ('®', 'NNP'), ('️', 'NNP'), ('consideration', 'NN'), ('.', '.'), ('Best', 'JJS'), ('Global', 'JJ'), ('Music', 'NNP'), ('Album', 'NNP'), ('&', 'CC'), ('Best', 'NNP'), ('Instrumental', 'NNP'), ('Arrangement', 'NNP'), ('.', '.'), ('#foryourconsideration', 'NN'), ('#foryourgrammyconsideration', 'NN'), ('#RecordingAcademy', 'NNP'), ('#FYC', 'NNP'), ('#grammys', 'NNP'), ('#tonada', 'NNP'), ('#venezuela', 'NNP'), ('#asianamerican', 'NNP'), ('For', 'IN'), ('Ur', 'NNP'), ('Grammy', 'NNP'), ('Consideration', 'NNP'), ('#NCT127', 'NNP'), ('#Sticker', 'NNP'), ('#GRAMMYs', 'NNP'), ('🤞', 'NNP'), ('🏽', 'NNP'), ('https://t.co/c4qxYb0cg1', 'NN'), ('As', 'IN'), ('seen', 'VBN'), ('in', 'IN'), ('@Billboard', 'NNP'), (\"Magazine's\", 'NNP'), ('GRAMMY', 'NNP'), ('®', 'NNP'), ('Edition', 'NNP'), (':', ':'), ('FOR', 'IN'), ('YOUR', 'NNP'), ('GRAMMY', 'NNP'), ('®', 'NNP'), ('CONSIDERATION', 'NNP'), ('Rip', 'NNP'), ('-', ':'), ('\"', 'NN'), ('Delivered', 'NNP'), ('\"', 'VBZ'), ('8k', 'CD'), ('(', '('), ('Best', 'NNP'), ('Music', 'NNP'), ('Video', 'NNP'), (')', ')'), ('Nicky', 'NNP'), ('Gracious', 'NNP'), ('-', ':'), ('\"', 'NN'), ('This', 'DT'), ('I', 'PRP'), ('Pray', 'NNP'), ('\"', 'NNP'), ('&', 'CC'), ('\"', 'NNP'), ('Stand', 'NNP'), ('Up', 'NNP'), ('\"', 'NNP'), ('(', '('), ('Best', 'NNP'), ('Contemporary', 'NNP'), ('Christian', 'NNP'), ('Performance', 'NNP'), ('&', 'CC'), ('Song', 'NNP'), (')', ')'), ('#FYC', 'NN'), ('#ForYourConsideration', 'NN'), ('#ForYourGRAMMYConsideration', 'NN'), ('#GRAMMYs', 'NNP'), ('https://t.co/ZLkRBO97zH', 'NN'), ('OMG', 'NNP'), ('!', '.'), ('!', '.'), ('!', '.'), (\"YOU'RE\", 'NN'), ('TELLING', 'IN'), ('ME', 'NNP'), ('THAT', 'IN'), ('THE', 'NNP'), ('BOYS', 'NNP'), ('CAN', 'NNP'), ('VE', 'NNP'), ('NOMINATED', 'NNP'), ('FOR', 'NNP'), ('BEST', 'NNP'), ('NEW', 'NNP'), ('ARTIST', 'NNP'), ('!', '.'), ('!', '.'), ('!', '.'), ('#TXTGRAMMY', 'JJ'), ('#GRAMMYs', 'JJ'), ('#TXT', 'NN'), ('#투모로우바이투게더', 'NNP'), ('#TOMORROW_X_TOGETHER', 'NNP'), ('@TXT_members', 'NNS'), ('@TXT_bighit', 'VBP'), ('https://t.co/pJaTTnvLw8', 'JJ'), ('https://t.co/k09gy0XhPV', 'NN'), ('#TOMORROW_X_TOGETHER', 'NN'), ('is', 'VBZ'), ('now', 'RB'), ('eligible', 'JJ'), ('for', 'IN'), ('2022', 'CD'), ('#GRAMMYs', 'NNP'), (\"'\", 'POS'), ('Best', 'NNP'), ('New', 'NNP'), ('Artist', 'NNP'), (\"'\", 'POS'), ('!', '.'), ('🔗', 'NN'), ('https://t.co/SHmqeKw0mP', 'NN'), ('📝', 'VBD'), ('The', 'DT'), ('company', 'NN'), ('can', 'MD'), ('submit', 'VB'), ('an', 'DT'), ('application', 'NN'), ('.', '.'), (\"It's\", 'NNP'), ('chosen', 'VBN'), ('by', 'IN'), ('the', 'DT'), ('GRAMMYs', 'NNP'), ('themself', 'NN'), ('to', 'TO'), ('be', 'VB'), ('accepted', 'VBN'), ('.', '.'), ('Only', 'RB'), ('8', 'CD'), ('can', 'MD'), ('be', 'VB'), ('nominated', 'VBN'), ('.', '.'), ('#TXT', 'JJ'), ('#Beomie', 'JJ'), ('☁', 'NN'), ('https://t.co/Y982I0PbZk', 'NN'), ('This', 'DT'), ('November', 'NNP'), ('18', 'CD'), ('will', 'MD'), ('be', 'VB'), ('the', 'DT'), ('22nd', 'CD'), ('edition', 'NN'), ('of', 'IN'), ('the', 'DT'), ('Latin', 'NNP'), ('Grammy', 'NNP'), ('and', 'CC'), ('the', 'DT'), ('controversy', 'NN'), ('continues', 'VBZ'), (',', ','), ('the', 'DT'), ('clash', 'NN'), ('between', 'IN'), ('Residente', 'NNP'), (',', ','), ('Yotuel', 'NNP'), ('and', 'CC'), ('J', 'NNP'), ('Balvin', 'NNP'), ('returned', 'VBD'), ('the', 'DT'), ('focus', 'NN'), ('to', 'TO'), ('the', 'DT'), ('need', 'NN'), ('to', 'TO'), ('reexamine', 'VB'), ('institutions', 'NNS'), ('such', 'JJ'), ('as', 'IN'), ('the', 'DT'), ('Latin', 'NNP'), ('Grammy', 'NNP'), ('.', '.'), ('#GRAMMYs', 'NNP'), ('#TimsTwitterListeningParty', 'NNP'), ('https://t.co/BbMmpcGKp9', 'NN')]\n",
      "['open', '#bluesmusic', 'harder', '#ye', '#ARIAsMileyCyrus', 'harder', '#ye', '🏾', '@RecordingAcad', 'd', 'viable', '#GRAMMYs', 'Imaginary', '💛', '💛', '#largejazzensemble', '#instrumentalmusic', 'https://t.co/Kpnl0cTwcq', 'social', \"don't\", 'ok', 'best', 'first', 'female', 'solo', 'overall', '🖤', '🖤', '@MileyOfficial', '#music', 'https://t.co/cVae9wCoDY', '👀', 'best', 'birthday', '#GRAMMYs', 'best', '#GRAMMYs', 'impossible', '#music', '#wow', '#grammys', 'latest', '💪', '🔥', 'hard', 'best', 'latest', 'best', 'happy', '#Vote4GRAMMYs', 'underrated', '“', '@recordingacademy', 'thee', '@DaLomonze', '’', '@billboard', 'next', '#BLACKPINK', '#Folarin2', '#GRAMMYs', 'nominated.then', 'award-winning', 'great', 'dear', 'musician', '#Grammys', '@LilNasX', '@billieeilish', '#BillieEilish', 'incredible', 'right', 'best', 'essential', '✅', 'best', 'd', 'first', 'female', 'solo', 'overall', 'great', 'd', '❤', '️', 'much', 'amazing', '🙏', '@RecordingAcad', '@JazzJournal', '#jazzvocal', 'biggest', '#GRAMMYs', 'https://t.co/z5OXyyuYpF', 'important', '@RecordingAcademy', '#RecordingAcademy', '#Vote4GRAMMYs', 'https://t.co/T4SbELcRWB', 'happy', 'album', 'initial', '#FYC', 'talented', '@JazzFM', \"i'll\", '@keyonharrold', 'new', 'more', 'https://t.co/iqlqK1g94m', 'masterpiece', 'Alternative', '+', 'true', 'voting', 'first', 'best', 'latest', '#music', '’', '@billboard', '🙏', '#scifi', '#NCT127', '#STICKER', '@leather_sox', 'annual', 'annual', '@demjointz', '..', '#GRAMMYs', '“', 'new', 'wanna', 'big', 's', '#Grammys', 'American', 'American', 'best', 'spiritual', '’', '‘', '#Grammys', '\"', 'American', 'American', '#Grammys', '\"', 'recent', 'eligible', 'https://t.co/q5juJxJpnw', '#GRAMMYs', '@ArianaGrande', 'live', '@thelatingrammys', '#GRAMMYs', 'amazingg', 'live', '#GRAMMYs', '#latingrammys', 'sad', 'hard', \"doesn't\", '“', 'original', 'personal', '#FYC', '#GRAMMYs', 'u', '#RedVelvet', '#GRAMMYs', 'clear', 'good', 'Best', 'Global', '#TXTGRAMMY', '#GRAMMYs', 'https://t.co/pJaTTnvLw8', 'eligible', '#TXT', '#Beomie', 'such']\n"
     ]
    },
    {
     "data": {
      "application/javascript": [
       "\n",
       "            setTimeout(function() {\n",
       "                var nbb_cell_id = 14;\n",
       "                var nbb_unformatted_code = \"# Aplicamos POS\\n\\ndata = []\\n# Crear lista de palabras\\nfor x in tokenized_text:\\n    for word in x:\\n        data.append(word)\\n\\n# Etiquetar texto con pos_tag\\ndata_pos = nltk.pos_tag(data)\\nprint(data_pos)\\ndata_adjective = []\\nfor k, v in data_pos:\\n    if v in [\\\"JJ\\\", \\\"JJR\\\", \\\"JJS\\\"]:  # \\\"JJ\\\", \\\"JJR\\\", \\\"JJS\\\"\\n        data_adjective.append(k)\\nprint(data_adjective)\";\n",
       "                var nbb_formatted_code = \"# Aplicamos POS\\n\\ndata = []\\n# Crear lista de palabras\\nfor x in tokenized_text:\\n    for word in x:\\n        data.append(word)\\n\\n# Etiquetar texto con pos_tag\\ndata_pos = nltk.pos_tag(data)\\nprint(data_pos)\\ndata_adjective = []\\nfor k, v in data_pos:\\n    if v in [\\\"JJ\\\", \\\"JJR\\\", \\\"JJS\\\"]:  # \\\"JJ\\\", \\\"JJR\\\", \\\"JJS\\\"\\n        data_adjective.append(k)\\nprint(data_adjective)\";\n",
       "                var nbb_cells = Jupyter.notebook.get_cells();\n",
       "                for (var i = 0; i < nbb_cells.length; ++i) {\n",
       "                    if (nbb_cells[i].input_prompt_number == nbb_cell_id) {\n",
       "                        if (nbb_cells[i].get_text() == nbb_unformatted_code) {\n",
       "                             nbb_cells[i].set_text(nbb_formatted_code);\n",
       "                        }\n",
       "                        break;\n",
       "                    }\n",
       "                }\n",
       "            }, 500);\n",
       "            "
      ],
      "text/plain": [
       "<IPython.core.display.Javascript object>"
      ]
     },
     "metadata": {},
     "output_type": "display_data"
    }
   ],
   "source": [
    "# Aplicamos POS\n",
    "\n",
    "data = []\n",
    "# Crear lista de palabras\n",
    "for x in tokenized_text:\n",
    "    for word in x:\n",
    "        data.append(word)\n",
    "\n",
    "# Etiquetar texto con pos_tag\n",
    "data_pos = nltk.pos_tag(data)\n",
    "print(data_pos)\n",
    "data_adjective = []\n",
    "for k, v in data_pos:\n",
    "    if v in [\"JJ\", \"JJR\", \"JJS\"]:  # \"JJ\", \"JJR\", \"JJS\"\n",
    "        data_adjective.append(k)\n",
    "print(data_adjective)"
   ]
  },
  {
   "cell_type": "code",
   "execution_count": 15,
   "id": "0cc0b20a",
   "metadata": {},
   "outputs": [
    {
     "data": {
      "text/html": [
       "<div>\n",
       "<style scoped>\n",
       "    .dataframe tbody tr th:only-of-type {\n",
       "        vertical-align: middle;\n",
       "    }\n",
       "\n",
       "    .dataframe tbody tr th {\n",
       "        vertical-align: top;\n",
       "    }\n",
       "\n",
       "    .dataframe thead th {\n",
       "        text-align: right;\n",
       "    }\n",
       "</style>\n",
       "<table border=\"1\" class=\"dataframe\">\n",
       "  <thead>\n",
       "    <tr style=\"text-align: right;\">\n",
       "      <th></th>\n",
       "      <th>Frequency</th>\n",
       "    </tr>\n",
       "    <tr>\n",
       "      <th>Term</th>\n",
       "      <th></th>\n",
       "    </tr>\n",
       "  </thead>\n",
       "  <tbody>\n",
       "    <tr>\n",
       "      <th>#GRAMMYs</th>\n",
       "      <td>12</td>\n",
       "    </tr>\n",
       "    <tr>\n",
       "      <th>best</th>\n",
       "      <td>9</td>\n",
       "    </tr>\n",
       "    <tr>\n",
       "      <th>American</th>\n",
       "      <td>4</td>\n",
       "    </tr>\n",
       "    <tr>\n",
       "      <th>#Grammys</th>\n",
       "      <td>4</td>\n",
       "    </tr>\n",
       "    <tr>\n",
       "      <th>’</th>\n",
       "      <td>3</td>\n",
       "    </tr>\n",
       "    <tr>\n",
       "      <th>...</th>\n",
       "      <td>...</td>\n",
       "    </tr>\n",
       "    <tr>\n",
       "      <th>musician</th>\n",
       "      <td>1</td>\n",
       "    </tr>\n",
       "    <tr>\n",
       "      <th>dear</th>\n",
       "      <td>1</td>\n",
       "    </tr>\n",
       "    <tr>\n",
       "      <th>award-winning</th>\n",
       "      <td>1</td>\n",
       "    </tr>\n",
       "    <tr>\n",
       "      <th>nominated.then</th>\n",
       "      <td>1</td>\n",
       "    </tr>\n",
       "    <tr>\n",
       "      <th>such</th>\n",
       "      <td>1</td>\n",
       "    </tr>\n",
       "  </tbody>\n",
       "</table>\n",
       "<p>126 rows × 1 columns</p>\n",
       "</div>"
      ],
      "text/plain": [
       "                Frequency\n",
       "Term                     \n",
       "#GRAMMYs               12\n",
       "best                    9\n",
       "American                4\n",
       "#Grammys                4\n",
       "’                       3\n",
       "...                   ...\n",
       "musician                1\n",
       "dear                    1\n",
       "award-winning           1\n",
       "nominated.then          1\n",
       "such                    1\n",
       "\n",
       "[126 rows x 1 columns]"
      ]
     },
     "execution_count": 15,
     "metadata": {},
     "output_type": "execute_result"
    },
    {
     "data": {
      "application/javascript": [
       "\n",
       "            setTimeout(function() {\n",
       "                var nbb_cell_id = 15;\n",
       "                var nbb_unformatted_code = \"from nltk.probability import FreqDist\\n\\n# Obtener frecuencia de cada t\\u00e9rmino\\nfdist = FreqDist(data_adjective)\\n# Convertir a dataframe\\ndf_fdist = pd.DataFrame.from_dict(fdist, orient=\\\"index\\\")\\ndf_fdist.columns = [\\\"Frequency\\\"]\\ndf_fdist.index.name = \\\"Term\\\"\\ndf_fdist.sort_values(by=[\\\"Frequency\\\"], inplace=True, ascending=False)\\n# pd.set_option('display.max_rows', None)\\n\\ndf_fdist\";\n",
       "                var nbb_formatted_code = \"from nltk.probability import FreqDist\\n\\n# Obtener frecuencia de cada t\\u00e9rmino\\nfdist = FreqDist(data_adjective)\\n# Convertir a dataframe\\ndf_fdist = pd.DataFrame.from_dict(fdist, orient=\\\"index\\\")\\ndf_fdist.columns = [\\\"Frequency\\\"]\\ndf_fdist.index.name = \\\"Term\\\"\\ndf_fdist.sort_values(by=[\\\"Frequency\\\"], inplace=True, ascending=False)\\n# pd.set_option('display.max_rows', None)\\n\\ndf_fdist\";\n",
       "                var nbb_cells = Jupyter.notebook.get_cells();\n",
       "                for (var i = 0; i < nbb_cells.length; ++i) {\n",
       "                    if (nbb_cells[i].input_prompt_number == nbb_cell_id) {\n",
       "                        if (nbb_cells[i].get_text() == nbb_unformatted_code) {\n",
       "                             nbb_cells[i].set_text(nbb_formatted_code);\n",
       "                        }\n",
       "                        break;\n",
       "                    }\n",
       "                }\n",
       "            }, 500);\n",
       "            "
      ],
      "text/plain": [
       "<IPython.core.display.Javascript object>"
      ]
     },
     "metadata": {},
     "output_type": "display_data"
    }
   ],
   "source": [
    "from nltk.probability import FreqDist\n",
    "\n",
    "# Obtener frecuencia de cada término\n",
    "fdist = FreqDist(data_adjective)\n",
    "# Convertir a dataframe\n",
    "df_fdist = pd.DataFrame.from_dict(fdist, orient=\"index\")\n",
    "df_fdist.columns = [\"Frequency\"]\n",
    "df_fdist.index.name = \"Term\"\n",
    "df_fdist.sort_values(by=[\"Frequency\"], inplace=True, ascending=False)\n",
    "# pd.set_option('display.max_rows', None)\n",
    "\n",
    "df_fdist"
   ]
  },
  {
   "cell_type": "code",
   "execution_count": null,
   "id": "fee458a4",
   "metadata": {},
   "outputs": [],
   "source": []
  }
 ],
 "metadata": {
  "kernelspec": {
   "display_name": "Python 3",
   "language": "python",
   "name": "python3"
  },
  "language_info": {
   "codemirror_mode": {
    "name": "ipython",
    "version": 3
   },
   "file_extension": ".py",
   "mimetype": "text/x-python",
   "name": "python",
   "nbconvert_exporter": "python",
   "pygments_lexer": "ipython3",
   "version": "3.8.3"
  }
 },
 "nbformat": 4,
 "nbformat_minor": 5
}
