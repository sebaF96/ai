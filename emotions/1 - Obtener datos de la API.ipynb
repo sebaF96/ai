{
 "cells": [
  {
   "cell_type": "markdown",
   "id": "00aa51a6",
   "metadata": {},
   "source": [
    "# Obtener datos de la API"
   ]
  },
  {
   "cell_type": "markdown",
   "id": "476598d5",
   "metadata": {},
   "source": [
    "## Obtener una cuenta de Twitter Developer\n",
    "\n",
    "- Crear una cuenta en <a href=\"https://twitter.com/\">Twitter</a> o ingresar a una ya creada\n",
    "- Solicitar una <a href=\"https://developer.twitter.com/en/portal/petition/use-case\">cuenta de developer</a>  \n",
    "<br/>\n",
    "<img src=\"img/twitter_api_1.png\" style=\"width:50%;float:left;border:1px solid black\">\n",
    "<img src=\"img/twitter_api_2.png\" style=\"width:50%;float:left;border:1px solid black\">\n",
    "<img src=\"img/twitter_api_3.png\" style=\"width:50%;float:left;border:1px solid black\">\n",
    "<img src=\"img/twitter_api_4.png\" style=\"width:50%;float:left;border:1px solid black\">\n",
    "\n",
    "#### How will you use the Twitter API or Twitter Data?\n",
    "\n",
    "I will search and filter tweets with specific hashtags in order to perform data mining and sentiment analysis practices. These tasks are part of the Artificial Intelligence course. The extracted data will not be used for any other purpose.\n",
    "\n",
    "#### Are you planning to analyze Twitter data?\n",
    "\n",
    "I will perform sentiment analysis of the content of the tweets and their geographical location. The type of content of each tweet will be evaluated (links, images, videos)\n",
    "\n",
    "\n",
    "<br/><br/>\n",
    "<img src=\"img/twitter_api_5.png\" style=\"width:50%;float:left;border:1px solid black\">\n",
    "<img src=\"img/twitter_api_6.png\" style=\"width:50%;float:left;border:1px solid black\">\n",
    "\n",
    "\n",
    "### Responder mail\n",
    "\n",
    "Si Twitter envía un mail solicitando más información responder con el siguiente mensaje.\n",
    "\n",
    "<code>\n",
    "    I will search and filter tweets with specific hashtags in order to perform data mining and sentiment analysis practices. These tasks are part of the Artificial Intelligence course. The extracted data will not be used for any other purpose.\n",
    "    I will perform sentiment analysis of the content of the tweets and their geographical location. The type of content of each tweet will be evaluated (links, images, videos)\n",
    "    I will not be using the Tweeting, Retweeting, or liking content. I will only use the API to obtain tweets content.\n",
    "    The content of the tweets will not be shown. The content will only be used to carry out data analysis exercises during the course.\n",
    "</code>"
   ]
  },
  {
   "cell_type": "markdown",
   "id": "bb0c7749",
   "metadata": {},
   "source": [
    "## Crear aplicación\n",
    "\n",
    "- Crear proyecto\n",
    "- Crear aplicación dentro del proyecto\n",
    "- Obtener y guardar claves (copiar todas las claves antes de continuar ya que no pueden ser accedidas más adelante)\n",
    "\n",
    "<br/>\n",
    "<img src=\"img/twitter_api_8.png\" style=\"width:30%;float:left;border:1px solid black\">\n",
    "<img src=\"img/twitter_api_7.png\" style=\"width:70%;float:left;border:1px solid black\">\n"
   ]
  },
  {
   "cell_type": "markdown",
   "id": "14ffa3e4",
   "metadata": {},
   "source": [
    "## Cargar Token en variables de entorno\n",
    "\n",
    " - Cargar el valor del token en un archivo .env\n",
    " <code>export 'BEARER_TOKEN'='valor del bearer token' </code>\n",
    " - Agregar el archivo .env dentro del .gitignore en caso de trabajar en repositorio"
   ]
  },
  {
   "cell_type": "markdown",
   "id": "a6817282",
   "metadata": {},
   "source": [
    "## Cargar valor del Token en la aplicación"
   ]
  },
  {
   "cell_type": "code",
   "execution_count": 7,
   "id": "0213a32e",
   "metadata": {},
   "outputs": [],
   "source": [
    "import os\n",
    "from dotenv import load_dotenv\n",
    "# Cargar valores del archivo .env en las variables de entorno\n",
    "load_dotenv()\n",
    "# Cargar valor del token a variable\n",
    "bearer_token = os.environ.get(\"BEARER_TOKEN\")"
   ]
  },
  {
   "cell_type": "markdown",
   "id": "e6a81d9c",
   "metadata": {},
   "source": [
    "## Definir consulta a la API\n",
    "\n",
    "### URL de la consulta\n",
    "\n",
    "Definir la URL de acuerdo a los datos requeridos de acuerdo a la documentación de la <a href=\"https://developer.twitter.com/en/docs/twitter-api/api-reference-index\">API</a>"
   ]
  },
  {
   "cell_type": "code",
   "execution_count": 2,
   "id": "83639c4e",
   "metadata": {},
   "outputs": [],
   "source": [
    "url = \"https://api.twitter.com/2/tweets/search/recent\""
   ]
  },
  {
   "cell_type": "markdown",
   "id": "ad037fc5",
   "metadata": {},
   "source": [
    "## Definir parámetros adicionales\n",
    "\n",
    "Definr valores como el rango de fecha, hashtag, contenido y campos requeridos."
   ]
  },
  {
   "cell_type": "code",
   "execution_count": 13,
   "id": "2a1db13b",
   "metadata": {},
   "outputs": [],
   "source": [
    "params = {\n",
    "    'query': '#machinelearning -is:retweet',\n",
    "    'tweet.fields':'created_at',\n",
    "    'max_results':100\n",
    "}"
   ]
  },
  {
   "cell_type": "markdown",
   "id": "49e682b1",
   "metadata": {},
   "source": [
    "## Definir cabecera\n",
    "La cabecera debe llevar el Token de autenticación para que la consulta sea autorizada\n"
   ]
  },
  {
   "cell_type": "code",
   "execution_count": 14,
   "id": "c61ebc83",
   "metadata": {},
   "outputs": [],
   "source": [
    "headers = {\n",
    "    \"Authorization\": f\"Bearer {bearer_token}\",\n",
    "    \"User-Agent\":\"v2FullArchiveSearchPython\"\n",
    "} "
   ]
  },
  {
   "cell_type": "markdown",
   "id": "c44ae17d",
   "metadata": {},
   "source": [
    "## Realizar consulta"
   ]
  },
  {
   "cell_type": "code",
   "execution_count": 15,
   "id": "797b5954",
   "metadata": {},
   "outputs": [
    {
     "name": "stdout",
     "output_type": "stream",
     "text": [
      "<Response [200]>\n",
      "{'data': [{'created_at': '2021-09-27T02:30:05.000Z', 'id': '1442315578664968193', 'text': 'Was famed #SamsonAndDelilah really painted by #Rubens?\\n\\nNo, says #AI\\n\\nhttps://t.co/zaEFkk5wsS #fintech #insurance #ArtificialIntelligence #MachineLearning #DeepLearning #DalyaAlberge @guardian @HaroldSinnott @SabineVdL @antgrasso @ipfconline1 @jblefevre60 @KMcDTech @Thomas_Harrer https://t.co/kDruirakQq'}, {'created_at': '2021-09-27T02:30:01.000Z', 'id': '1442315561875107850', 'text': 'Research and development in computer vision, artificial intelligence, and machine learning will fetch more than 20 billion US dollars by 2023.\\n#Research #development #computer #artificialintelligence #machinelearning #US #2023 \\n #Analytixlabs https://t.co/IhGANNiRIF'}, {'created_at': '2021-09-27T02:29:58.000Z', 'id': '1442315548235161604', 'text': 'Day 51 of #100DaysOfCode but on an unrelated note I am tired of watching the \\n@Yankees\\nbeat the \\n@RedSox #vacancy  #jobs #javascript #technology #cybersecurity #ArtificialIntelligence #AI #DataScience #MachineLearning #BigData https://t.co/QneydHAGDS'}, {'created_at': '2021-09-27T02:29:23.000Z', 'id': '1442315402491543554', 'text': 'A Common-Sense Guide to Data Structures and Algorithms, Second Edition\\n\\nLink - https://t.co/YFFriarIPb\\n\\n#Algorithms #Mathematics #100DaysOfCode #CodeNewbies #WomenWhoCode #DEVCommunity #DevOps #Coding #LearnToCode #DataAnalytics #DataScience #MachineLearning #AI #programming'}, {'created_at': '2021-09-27T02:29:06.000Z', 'id': '1442315332861976576', 'text': \"Let's not overkill Deep Learning! #DeepLearning #learning #machinelearning via https://t.co/bDTgBUIWtG https://t.co/SZDbLrXRbS\"}, {'created_at': '2021-09-27T02:27:10.000Z', 'id': '1442314844942655488', 'text': 'What would it take to make AI ‘greener’?\\n\\nhttps://t.co/Su5TvmNbQM \\n@wef\\n\\n#MachineLearning #AI #Python #DataScience #BigData\\n#DeepLearning #IoT #100DaysOfCode #robots #flutterdev \\n#ArtificialIntelligence #5G #cloud #4IR #cybersecurity'}, {'created_at': '2021-09-27T02:27:09.000Z', 'id': '1442314839150383105', 'text': 'important for businesses Google Reviews\\nhttps://t.co/JniJvOSDUY\\n#FraudDetection #Financial #ArtificialIntelligence  #MachineLearning #NLP #AI #100DaysofCode #serverless #iot #womenwhocode #Python #BigData'}, {'created_at': '2021-09-27T02:26:29.000Z', 'id': '1442314672582000643', 'text': 'Will #ArtificialIntelligence Be The End Of Web Design  \\nhttps://t.co/20PMwYjdYf\\n#DigitalMarketing\\n#cybersecurity\\n #AI #DataScience #MachineLearning #BigData #100DaysOfCode #Python #DeepLearning #NLP #Robots #flutter\\n#DevOps\\n#5G'}, {'created_at': '2021-09-27T02:26:25.000Z', 'id': '1442314654613606405', 'text': 'A Guide to Different Types of Noises and Image Denoising Methods\\n\\n #ComputerVision #ImageNoises #ImageProcessing #ViratKothari #ImageDenoise #DataScience #MachineLearning #artificialintelligence https://t.co/2cb5tnoiYp'}, {'created_at': '2021-09-27T02:26:18.000Z', 'id': '1442314625501048833', 'text': 'Read my #MachineLearning Daily https://t.co/cWfIJhOxrU Stories via @J3nTyrell #machinelearning #ai'}, {'created_at': '2021-09-27T02:25:46.000Z', 'id': '1442314490243076098', 'text': 'Arity- Business Analytics Consultant Internship at Allstate - Insurance Journal https://t.co/e9o9ztZviJ\\n\\n#DataScience #MachineLearning #DeepLearning #Insurance #NLP #Robots #AI #IoT #BigData'}, {'created_at': '2021-09-27T02:25:44.000Z', 'id': '1442314485168066564', 'text': 'Digitization Of Life Insurance Industry In Surprising Ways - Forbes https://t.co/mvblhj28cT\\n\\n#DataScience #MachineLearning #DeepLearning #Insurance #NLP #Robots #AI #IoT #BigData'}, {'created_at': '2021-09-27T02:24:05.000Z', 'id': '1442314069239869443', 'text': 'The latest The Chatbot Daily! https://t.co/H5bVyPra07 Thanks to @UrvashiPrakash #ai #machinelearning'}, {'created_at': '2021-09-27T02:23:55.000Z', 'id': '1442314025719664641', 'text': '#Bug in Microsoft #Windows Could Let Programmers Effectively Introduce a Rootkit\\n\\nRead Details : https://t.co/IDHjpAQTiH\\n\\n#cybersecurity #HJPatel #DataAnalytics #MachineLearning #BigData #DataScience #PyTorch #Python #TensorFlow #JavaScript #ReactJS  #WomenWhoCode  #100DaysofCode'}, {'created_at': '2021-09-27T02:23:54.000Z', 'id': '1442314020514451458', 'text': 'Incredibly talented Artist @DehiscenceArt \\n➕\\n#AI #MachineLearning \\n➕\\nLyrics as text prompts\\n--------------------\\nNext Level Art https://t.co/SZz8LECNn9'}, {'created_at': '2021-09-27T02:23:16.000Z', 'id': '1442313864561913860', 'text': '#Bug in Microsoft #Windows Could Let Programmers Effectively Introduce a Rootkit\\n\\nRead Details : https://t.co/EWRt9CObVe\\n\\n#cybersecurity #HJPatel #DataAnalytics #MachineLearning #BigData #DataScience #PyTorch #Python #TensorFlow #JavaScript #ReactJS  #WomenWhoCode  #100DaysofCode'}, {'created_at': '2021-09-27T02:22:36.000Z', 'id': '1442313696189972492', 'text': '#hclswlobp #nocode #lowcode #javascript #github #nodejs #cybersecurity #devops #100DaysOfCode #datascience #ai #bot #codenewbie #iot #machinelearning #Python #Serverless #womenintech #marketing #unica #precisionmarketing #postcovid https://t.co/pfaw1m4Kho'}, {'created_at': '2021-09-27T02:22:05.000Z', 'id': '1442313564698546178', 'text': '@aiip_official\\nThis project has attracted my attention and has a lot of positive feedback and has an excellent team. I am sure that there will be upcoming surprises the team will show to us.\\nhttps://t.co/YarW3EW5Bt\\n#Investment #AIIPpromo #AIIP #AI #DeepLearning #MachineLearning'}, {'created_at': '2021-09-27T02:22:00.000Z', 'id': '1442313543093821443', 'text': 'A Gentle Introduction to Linear Regression\\n\\n#MLDoodles #MachineLearning #DataScience #ArtificialIntelligence #AI #Mathematics #Math #Algebra #Algorithms \\n\\nhttps://t.co/Zc5Mo29InC'}, {'created_at': '2021-09-27T02:21:16.000Z', 'id': '1442313359571841027', 'text': 'https://t.co/8WzGt6hphN\\n@BetaMoroney\\n@enilev \\n@MilenaLazzaroni \\n\\n#Digital\\n#teCh #Cloud #USA\\n#AI #DataScience #finServ #MachineLearning #BigData #100DaysOfCode #Python #DeepLearning #NLP #IoT #DevOps #5G #FRENCHteCh \\n#flutter #CX \\n#CodeNewbie  #business\\n#WomenWhoCode #SOciaLmediA'}, {'created_at': '2021-09-27T02:21:06.000Z', 'id': '1442313315934371844', 'text': 'URL: https://t.co/YarW3EW5Bt\\n#Investment #AIIPpromo #AIIP #AI #DeepLearning #MachineLearning https://t.co/fYzn1EMaUU'}, {'created_at': '2021-09-27T02:21:03.000Z', 'id': '1442313304160882695', 'text': 'The latest Theo Worldview Daily! https://t.co/kDhbsOlGNA #machinelearning #datascience'}, {'created_at': '2021-09-27T02:20:49.000Z', 'id': '1442313246937997312', 'text': 'Data Science in Real Life https://t.co/9JDuD0qTLk  #machinelearning #datascience #bigdata #ad'}, {'created_at': '2021-09-27T02:20:41.000Z', 'id': '1442313213106786306', 'text': 'What Our Customers Are Saying: Freedom Mortgages.\\n\\n#hclswlobp #cloudnative #lowcode #javascript #github #nodejs #cybersecurity #devops #100DaysOfCode #ai #bot #codenewbie #machinelearning #Python #Serverless #womenintech #flutter https://t.co/0DK0E3iCS3'}, {'created_at': '2021-09-27T02:20:30.000Z', 'id': '1442313168647118850', 'text': '45 Best #DataScience Courses\\n\\nhttps://t.co/sKuWRiysej\\n\\n#DataAnalytics #MachineLearning #BigData #PyTorch #Python #TensorFlow #JavaScript #ReactJS #Flutter #CloudComputing #DataScientist #WomenWhoCode #Programming #Coding #100DaysofCode #DEVCommunity #opensource #AI #udemyfree'}, {'created_at': '2021-09-27T02:20:08.000Z', 'id': '1442313076376621058', 'text': 'BUY GOOGLE REVIEWS: An Incredibly Easy Method That Works For All\\nhttps://t.co/tfa99MzZZ5\\n🇺🇸🇬🇧🇦🇺\\n#MachineLearning  #DataScience #5G #100DaysOfCode #Python #Cybersecurity #usaxoom #BigData #AI #IoT #DeepLearning #ArtificialIntelligence #NLP #robots \\n#Industry40 #tech #DEVCommunity https://t.co/Q6LVUe1JWV'}, {'created_at': '2021-09-27T02:20:08.000Z', 'id': '1442313075827228676', 'text': '#womenintech #django #nocode #javascript #github #nodejs #cybersecurity #devops #100DaysOfCode #datascience #ai #bot #codenewbie #iot #machinelearning #Python #Serverless #womenintech #marketing #precisionmarketing #postcovid https://t.co/XsUh7SBfpA'}, {'created_at': '2021-09-27T02:20:05.000Z', 'id': '1442313063613419522', 'text': 'Gravity Forms v2.5.10.1 WordPress Plugin Nulled #BigData #learning #machinelearning via https://t.co/u14WxBfOJg https://t.co/4KMWTZkkj9'}, {'created_at': '2021-09-27T02:18:57.000Z', 'id': '1442312774625886209', 'text': 'https://t.co/G67wkorE9P \\n@GrazyTGrazynaTT \\n@BetaMoroney\\n@enilev \\n\\n#Digital\\n#teCh #Cloud\\n#AI #DataScience #finServ #MachineLearning #BigData #100DaysOfCode #Python #DeepLearning #NLP #IoT #DevOps #5G #FRENCHteCh \\n#flutter #CX \\n#CodeNewbie  #business\\n#WomenWhoCode #SOciaLmediA'}, {'created_at': '2021-09-27T02:18:07.000Z', 'id': '1442312568878600192', 'text': 'Read more SCiFiSOCiAL news at: \\n\\nhttps://t.co/h4p3s9cBIu - Kudos to @TuzinoYositeru #ai #machinelearning'}, {'created_at': '2021-09-27T02:17:53.000Z', 'id': '1442312509403189251', 'text': 'FLUTTER DEVELOPER\\n#Flutter\\n#vacancy 🇱🇧\\n#ArtificialIntelligence \\n#DigitalMarketing\\n#cybersecurity\\n#AI #DataScience #MachineLearning #BigData #100DaysOfCode #Python #DeepLearning #NLP #Robots #IoT\\n#DevOps\\n#DigitalTransformation\\n#CodeNewbie\\n#WomenWhoCode  https://t.co/eD0Rb8MH7c'}, {'created_at': '2021-09-27T02:17:08.000Z', 'id': '1442312321066536960', 'text': 'Das grausamste Verbrechen, das von Männern erfunden wird, ist die Prostitution. UND SIE TUN NICHTS, UM ES ZU VERMEIDEN\\n# # # #ai #artificialintelligence #machinelearning #deeplearning #datascience #ml #bigdata #leadership #innovation #futureofwork https://t.co/W4wciUKBv8'}, {'created_at': '2021-09-27T02:17:05.000Z', 'id': '1442312307892178944', 'text': 'Deal With Data Imbalance In Classification Problems\\n\\n#datascience #classification #imbalancedData #ai #ml #artificialintelligence #machinelearning #viratkothari https://t.co/8AXsD49pY4'}, {'created_at': '2021-09-27T02:17:04.000Z', 'id': '1442312303257391109', 'text': 'ASPI’s decades: \\n\\n#Cyberattacks, #deepfakes and the #quantum revolution \\n\\nhttps://t.co/XbwAGwOuqA #fintech #GraemeDobell @aspi_org #AI #ArtificialIntelligence #MachineLearning #DeepLearning @m49D4ch3lly @Shirastweet @missdkingsbury @mclynd https://t.co/SZ6P2MCQto'}, {'created_at': '2021-09-27T02:16:14.000Z', 'id': '1442312092967751681', 'text': 'The latest #Blockchain #CyberSecurity Briefing! https://t.co/L6O17x44ET Thanks to @Xbond49 #cybersecurity #machinelearning'}, {'created_at': '2021-09-27T02:14:47.000Z', 'id': '1442311726964248579', 'text': 'WebAr demo with fluid effect\\n\\n#DataAnalytics #MachineLearning #BigData #DataScience #PyTorch #Python #TensorFlow #JavaScript #ReactJS #Flutter #CloudComputing #DataScientist #WomenWhoCode #Programming #Coding #100DaysofCode #DEVCommunity #opensource #AI'}, {'created_at': '2021-09-27T02:12:44.000Z', 'id': '1442311214051172354', 'text': 'Modern Natural Language Processing in Python #udemycoupon \\n\\n=&gt; https://t.co/vV3Kr2KnCO\\n\\n#DataScience #Python #DataAnalysis #ArtificialIntelligence #DeepLearning #Statistics #R #TensorFlow #MachineLearning #javascript30 #100DaysOfCode #Udemyの神講座 #udemy'}, {'created_at': '2021-09-27T02:12:32.000Z', 'id': '1442311163451039754', 'text': 'What makes a race great? Join this live Hands on Lab and discover first-hand the basics of #analytics and #machinelearning. @redbullracing @OracleAnalytics https://t.co/8NPGyGRolD https://t.co/Zg3OGGerUB'}, {'created_at': '2021-09-27T02:12:21.000Z', 'id': '1442311115145297925', 'text': 'Want to attract top #talent?\\nYour job ad needs to capture their attention. \\n\\n#HRCommunity #Innovation #hr\\n#MachineLearning #5G #DataScience #100DaysOfCode\\n#Python #ceo #AI #IoT #Industry40 #Analytics #BigData #Rstats #AI #Reactjs #flutter #javascript #software #startups'}, {'created_at': '2021-09-27T02:11:47.000Z', 'id': '1442310973029642243', 'text': 'Patrick aka @python_engineer has a great #machinelearning study plan that you can do for free.\\n\\nHe’s also got a great YouTube channel https://t.co/CmitlFkx5l follow him while you’re at it.\\n\\nCheck it out 👇 https://t.co/w45Ye8qGpT'}, {'created_at': '2021-09-27T02:11:10.000Z', 'id': '1442310817383280649', 'text': 'Google Professional Machine Learning Engineer Certification\\n#Google #GCM #Machinelearning #certification\\nhttps://t.co/OVkgzITJ6c'}, {'created_at': '2021-09-27T02:10:15.000Z', 'id': '1442310585996111872', 'text': 'The latest The Computer science Daily! https://t.co/sv995pNIcH Thanks to @jwmevans @BBrhayan #machinelearning #ai'}, {'created_at': '2021-09-27T02:09:52.000Z', 'id': '1442310491787857925', 'text': 'AI-driven Crop Intelligence Software Intelinair Raises $20 Million in Series B  \\n\\n#AI #MachineLearning #seriesB #fundraising \\n\\nhttps://t.co/pDchkEqN2g'}, {'created_at': '2021-09-27T02:09:45.000Z', 'id': '1442310460917764101', 'text': '💪\\u200b🌎\\u200b🏆\\u200b Humbled to have been ranked as one of the 𝗪𝗼𝗿𝗹𝗱\\'𝘀 𝗧𝗼𝗽 𝗞𝗲𝘆 𝗢𝗽𝗶𝗻𝗶𝗼𝗻 𝗟𝗲𝗮𝗱𝗲𝗿𝘀 in prestigious \"𝗪𝗵𝗼\\'𝘀 𝗪𝗵𝗼 𝗶𝗻 #𝗔𝗜? 𝗿𝗲𝗽𝗼𝗿𝘁\" published by @Onalytica  🏆🌎\\u200b🏆\\n#ArtificialIntelligence #Analytics #DataScience #MachineLearning #ML #BigData https://t.co/SVaPhSQZ4c'}, {'created_at': '2021-09-27T02:08:59.000Z', 'id': '1442310268676186118', 'text': '¡The Ugaotrader® Post! https://t.co/Vh86sD1HbX Thx! @Ryan_Lanham #ai #machinelearning'}, {'created_at': '2021-09-27T02:08:41.000Z', 'id': '1442310193933598722', 'text': 'The latest The Technology Disrupter! https://t.co/ZocjmVAByf #ai #machinelearning'}, {'created_at': '2021-09-27T02:07:36.000Z', 'id': '1442309920049614852', 'text': 'Cheatsheets in R. #BigData #Analytics #DataScience #AI #MachineLearning #IoT #IIoT #PyTorch #Python #RStats #TensorFlow #Java #JavaScript #ReactJS #GoLang #CloudComputing #Serverless #DataScientist #Linux #Programming #Coding #100DaysofCode \\nhttps://t.co/vpcuf4LN6y'}, {'created_at': '2021-09-27T02:07:31.000Z', 'id': '1442309897693978629', 'text': \"#CalendarioMaya, #Automatización, #MachineLearning \\nJun b'alaj ula'n skyeru' - #Awakateka -,\\nBienvenidos.\\n13 Baktun 0 Katun 8 Tun 16 Uinal 1 Kin. 19 Chen / 7 Imix.\\n26/Septiembre/2021. La fase de la luna es: Luna gibosa menguante a las 0 hrs : 7 : min https://t.co/uZ4m5BUaKb\"}, {'created_at': '2021-09-27T02:07:00.000Z', 'id': '1442309768962510851', 'text': '💥 Overview of machine learning reinforcement!\\nSource: Azure Advocates\\n\\n#MachineLearning #DataScience #Overview https://t.co/o2fcTdTCWc'}, {'created_at': '2021-09-27T02:05:00.000Z', 'id': '1442309265092382723', 'text': 'Peacock I\\nDigital Art created via Convolutional Neural Networks and Deep Learning\\nhttps://t.co/YGeR2o45Mn\\n\\n#suninshadow #nature #naturelovers #bird #peacock\\n#art #painting #digitalpainting #digitalart #digitalartwork #machinelearning #deeplearning #artificialintelligence https://t.co/dK944Y7DFB'}, {'created_at': '2021-09-27T02:04:26.000Z', 'id': '1442309125031956484', 'text': 'The latest The Productivity Daily! https://t.co/Z96dQN5TOL #ai #machinelearning'}, {'created_at': '2021-09-27T02:03:29.000Z', 'id': '1442308883305975810', 'text': 'The latest The Robotics Daily! https://t.co/cHcnEeIR3I #ai #machinelearning'}, {'created_at': '2021-09-27T02:02:28.000Z', 'id': '1442308630544453635', 'text': 'Learn how AI models helped to forecast electricity demand across Guatemala to increase grid stability, maximize power generated from renewable resources, and lower energy costs. #AI #Machinelearning #deeplearning https://t.co/0Nx4GHhWBZ'}, {'created_at': '2021-09-27T02:01:43.000Z', 'id': '1442308440236331009', 'text': 'Gap Inc. has a new Data Scientist open position\\n\\n#hiring #datasciencejobs #datayoshi #MachineLearning\\n\\n⬇️⬇️ Apply here ⬇️⬇️\\n\\nhttps://t.co/XTvMhVT5Bc'}, {'created_at': '2021-09-27T02:00:40.000Z', 'id': '1442308174141280262', 'text': 'The best view comes after the hardest climb\\n#ArtificialIntelligence #AI #MachineLearning #5G #DeepLearning #DataScience #NLP #Python #FF #Cybersecurity #tech #bot #BigData #twitme #code #robots #Industry40 #NodeJS #100DaysOfCode #IoT\\nWhatsApp: https://t.co/xdlpRkntNR'}, {'created_at': '2021-09-27T02:00:36.000Z', 'id': '1442308159276605444', 'text': 'How to Visualize and Debug #MachineLearning Models using ELI5? -\\n2021-09-26T04:31:34Z\\n\\n@GlenGilmore @ronald_vanloon \\n\\n#Transformers #LSTMs #DeepNeuralNetworks #React #SentimentAnalysis #Bitcoin #MetaLearning #LinearRegression #Theano #IoT \\n\\nhttps://t.co/1biASsw7P8'}, {'created_at': '2021-09-27T02:00:05.000Z', 'id': '1442308030238969856', 'text': 'According to  world economic forum the adoption of intelligent automation will rise to 70% around the world in the coming two years.\\n\\n#intelligentautomation #artificialintelligence #machinelearning https://t.co/bE34FYvrDT'}, {'created_at': '2021-09-27T01:59:55.000Z', 'id': '1442307987356405760', 'text': \"Google Cloud (GCP) Professional Cloud Architect (New '21) https://t.co/XFDrUT82U5  #machinelearning #datascience #bigdata #ad\"}, {'created_at': '2021-09-27T01:59:08.000Z', 'id': '1442307788705722369', 'text': 'Gravity Forms\\n@shashiwhocodes\\nhttps://t.co/5sZg4XCKee\\n#Neo4j #learning #DataAnalytics #MachineLearning #BigData #DataScience #Python #JavaScript #ReactJS #Techno #Tech #Science #DataScientist #Coding #100DaysofCode #opensource #cloud #Nodejs #WomenWhoCode #Robot #DivyankaTripathi'}, {'created_at': '2021-09-27T01:59:06.000Z', 'id': '1442307783366479878', 'text': \"AI and the cloud enable energy's transformative leap #DeepLearning #learning #machinelearning via https://t.co/bDTgBUIWtG https://t.co/muXHJ7GLd4\"}, {'created_at': '2021-09-27T01:58:54.000Z', 'id': '1442307730711007234', 'text': \"Tonight's winners: https://t.co/KvIcRpDp2K\\n#TonyAwards for best play\\n#Theinheritance\\n\\n@BetaMoroney\\n@EvaSmartAI\\n\\n#Digital\\n#teCh #Cloud #USA\\n#AI #DataScience #finServ #MachineLearning #BigData #100DaysOfCode #Python #IoT #DevOps #FRENCHteCh \\n#flutter #CX #WomenWhoCode #SOciaLmediA https://t.co/yaKrt0bew1\"}, {'created_at': '2021-09-27T01:57:32.000Z', 'id': '1442307388737040388', 'text': 'FLUTTER DEVELOPER\\n#Flutter\\n#vacancy 🇱🇧\\n#ArtificialIntelligence \\n#DigitalMarketing\\n#cybersecurity\\n#AI #DataScience #MachineLearning #BigData #100DaysOfCode #Python #DeepLearning #NLP #Robots #IoT\\n#DevOps\\n#DigitalTransformation\\n#CodeNewbie\\n#WomenWhoCode  https://t.co/UVFHCUHMXa'}, {'created_at': '2021-09-27T01:57:32.000Z', 'id': '1442307388732702723', 'text': 'FLUTTER DEVELOPER\\n#Flutter\\n#vacancy 🇱🇧\\n#ArtificialIntelligence \\n#DigitalMarketing\\n#cybersecurity\\n#AI #DataScience #MachineLearning #BigData #100DaysOfCode #Python #DeepLearning #NLP #Robots #IoT\\n#DevOps\\n#DigitalTransformation\\n#CodeNewbie\\n#WomenWhoCode  https://t.co/UVFHCUqbyA'}, {'created_at': '2021-09-27T01:57:03.000Z', 'id': '1442307265273348099', 'text': '#ai #deeplearning #writing #gpt3 #machinelearning Expert Breakdown Of The New Gpt3 Online Text Generators + Online Demo https://t.co/OatzUFa74o'}, {'created_at': '2021-09-27T01:56:04.000Z', 'id': '1442307019872948229', 'text': '#ai #deeplearning #writing #gpt3 #machinelearning Expert Breakdown Of The New Gpt3 Online Text Generators + Online Demo https://t.co/4TCrcHbqsZ'}, {'created_at': '2021-09-27T01:56:03.000Z', 'id': '1442307011907964931', 'text': '#vulkan #ailiatechnology #machinelearning #neon #ai Optimizing NN inference performance on Arm NEON and Vulkan https://t.co/iOYQZniHgp'}, {'created_at': '2021-09-27T01:54:55.000Z', 'id': '1442306729031647234', 'text': 'Data Pipelines with TensorFlow Data Services https://t.co/kiUEogU01E  #machinelearning #datascience #bigdata #ad'}, {'created_at': '2021-09-27T01:54:50.000Z', 'id': '1442306706667495427', 'text': '#Investment #AllPpromo #AIIP #AI #DeepLearning #MachineLearning and https://t.co/CN7DFck5u5\\nWonderful project. This project is top listed. This project is perfect from every angle. I recommend you to see their announcement and work.'}, {'created_at': '2021-09-27T01:54:37.000Z', 'id': '1442306654184230912', 'text': 'Interesting, But Less Spoken Facts About #ArtificialIntelligence\\n#DigitalMarketing\\n#cybersecurity\\n#AI #DataScience #MachineLearning #BigData #100DaysOfCode #Python #DeepLearning #NLP #Robots #IoT\\n#DevOps\\n#DigitalTransformation\\n#CodeNewbie\\n#WomenWhoCode'}, {'created_at': '2021-09-27T01:54:33.000Z', 'id': '1442306635037167619', 'text': 'Expert Breakdown Of The New Gpt3 Online Text Generators + Online Demo https://t.co/26WVDweyVo #AI #MachineLearning #DataScience #ArtificialIntelligence\\n\\nTrending AI/ML Article Identified &amp; Digested via Granola; a Machine-Driven RSS Bot by Ramsey Elbasheer https://t.co/HGSD8erlSj'}, {'created_at': '2021-09-27T01:53:44.000Z', 'id': '1442306431399522307', 'text': 'Next #ComputerVision challenge ! \\nEating a toast 🍞 or talking to a phone 📱?\\n\\nFollow me for more #machinelearning stuff. https://t.co/2hQ9Qq9xCu'}, {'created_at': '2021-09-27T01:53:23.000Z', 'id': '1442306344078528513', 'text': 'scikit-optimize: Sequential model-based optimization with a  `scipy.optimize` interface\\nLang: Python\\n⭐️ 2192\\n#MachineLearning\\nhttps://t.co/Bw7lz1NqzK'}, {'created_at': '2021-09-27T01:53:00.000Z', 'id': '1442306245373804552', 'text': 'https://t.co/j1d5TBSoT5 \\n#American Utopia \\n#TonyAwards \\n@BetaMoroney\\n@enilev \\n\\n#Digital\\n#teCh #Cloud\\n#AI #DataScience #finServ #MachineLearning #BigData #100DaysOfCode #Python #USA #NLP #IoT #DevOps #5G #FRENCHteCh \\n#flutter #CX \\n#CodeNewbie  #business\\n#WomenWhoCode #SOciaLmediA'}, {'created_at': '2021-09-27T01:52:36.000Z', 'id': '1442306145050267649', 'text': 'Data Scientists Without Data Engineering Skills Will Face a Harsh Truth\\n\\n#5G #100DaysOfCode #AI #Analytics #ArtificialIntelligence #BigData #Cloud #Data #DataScience #Flutter #LifeAtBooz #MachineLearning #ML #NodeJS #Python #VR #WomenWhoCode \\n\\nhttps://t.co/81TQcrhbXN'}, {'created_at': '2021-09-27T01:52:16.000Z', 'id': '1442306061680078849', 'text': 'How it Works: Meet GitHub Copilot - Your AI Pair Programmer. #BigData #Analytics #DataScience #AI #MachineLearning #IoT #IIoT #Python #RStats #TensorFlow #JavaScript #ReactJS #Serverless #DataScientist #Linux #Programming #Coding #100DaysofCode \\nhttps://t.co/YPIltF0c9N'}, {'created_at': '2021-09-27T01:52:08.000Z', 'id': '1442306029581004805', 'text': '#MachineLearning  #DataScience #5G #100DaysOfCode\\n#Python #Cybersecurity #BigData #AI #IoT https://t.co/goVqEC9cHJ'}, {'created_at': '2021-09-27T01:51:38.000Z', 'id': '1442305903626129411', 'text': 'We can help with;\\nMath\\nEnglish\\nHistory\\nChemistry\\nBiology\\nEcology\\nGenetics\\nPharmacology\\nAnatomy\\nBiostatistics\\nBiochemistry\\nPsychology\\n#MachineLearning  #DataScience #5G #100DaysOfCode\\n#Python #Cybersecurity #BigData #AI #IoT #DeepLearning\\n#ArtificialIntelligence #NLP #robots \\nDM'}, {'created_at': '2021-09-27T01:51:02.000Z', 'id': '1442305750467022850', 'text': 'EIT Toolkit for Motion Sensing Instruments by @MIT_CSAIL. #BigData #Analytics #DataScience #AI #MachineLearning #IoT #IIoT #Python #RStats #TensorFlow #JavaScript #ReactJS #Serverless #DataScientist #Linux #Programming #Coding #100DaysofCode https://t.co/j2nsNC8maR'}, {'created_at': '2021-09-27T01:51:00.000Z', 'id': '1442305744154488836', 'text': '#RemoteJobs\\n💻  workfront: Technical Training Manager\\n✔️ Tech stacks: #Security  #AmazonWebServices  #Machinelearning\\n\\nApply here -&gt; https://t.co/72dVV03cmU\\n \\n#devjobs #techjobs #engineerjob #programming'}, {'created_at': '2021-09-27T01:50:14.000Z', 'id': '1442305551828803585', 'text': 'The latest The Breaking Injury News Daily! https://t.co/bCjU0oN9I7 Thanks to @UWWMmediation @mosmedical @masstortnewsorg #covid19 #machinelearning'}, {'created_at': '2021-09-27T01:50:08.000Z', 'id': '1442305525203488768', 'text': '#womenintech #django #nocode #javascript #github #nodejs #cybersecurity #devops #100DaysOfCode #datascience #ai #bot #codenewbie #iot #machinelearning #Python #Serverless #womenintech #marketing #precisionmarketing #postcovid https://t.co/yw2maJhBO8'}, {'created_at': '2021-09-27T01:50:01.000Z', 'id': '1442305496078241792', 'text': 'The latest The books Daily! https://t.co/YN1dAEg62O #books #machinelearning'}, {'created_at': '2021-09-27T01:49:55.000Z', 'id': '1442305470987862017', 'text': 'Road to Big Data testing(Cover all Prerequisite) https://t.co/xFdEWAIWh2  #machinelearning #datascience #bigdata #ad'}, {'created_at': '2021-09-27T01:49:50.000Z', 'id': '1442305447575183361', 'text': 'https://t.co/6MmSfBjVTx #digitalMARKETiNG  \\n\\n@BetaMoroney\\n@enilev @IngridBooltink \\n\\n#Digital\\n#teCh #Cloud\\n#AI #DataScience #finServ #MachineLearning #BigData #100DaysOfCode #Python #blogger #IoT #DevOps #5G #FRENCHteCh\\n#flutter #CX\\n#CodeNewbie #business\\n#WomenWhoCode #SOciaLmediA'}, {'created_at': '2021-09-27T01:49:27.000Z', 'id': '1442305353216057351', 'text': \"Samsung hopes to 'copy and paste' the brain to 3D chip networks 🧠=🤖➡️ https://t.co/rDBxgzM7ZS | via @jonfingas @engadget #AI #tech #Robots #Robotics #MachineLearning #ArtificialIntelligence https://t.co/PqTezXH6o9\"}, {'created_at': '2021-09-27T01:48:45.000Z', 'id': '1442305177877454848', 'text': 'The latest The Machine learning Daily! https://t.co/mV4vi6r3wJ #machinelearning #ai'}, {'created_at': '2021-09-27T01:48:40.000Z', 'id': '1442305155303628808', 'text': 'Machine Learning for Time Series Data in Python. This course focuses on feature engineering and machine learning for time series data https://t.co/ez4In3lN17 #python #machinelearning #datascience'}, {'created_at': '2021-09-27T01:48:03.000Z', 'id': '1442305001322209285', 'text': 'Healthy Country AI https://t.co/E8mFIdPAiS #MachineLearning #DeepLearning https://t.co/edCudwcyvj'}, {'created_at': '2021-09-27T01:48:02.000Z', 'id': '1442304994590412803', 'text': 'We are keeping working on new tech!\\nOur AiSpokesgirl is gonna out soon. \\n#ai #MachineLearning #DeepLearning \\n@abhibisht89 @z4chburris @MarkDeRiz @ricardo_ik_ahau @godfrey_G_\\nThanks for the #RTs!'}, {'created_at': '2021-09-27T01:47:30.000Z', 'id': '1442304862348214273', 'text': \"#CalendarioMaya, #Automatización, #MachineLearning \\nChaab'il jejuli - #Akateka -,\\nBienvenidos.\\n13 Baktun 0 Katun 8 Tun 16 Uinal 1 Kin. 19 Chen / 7 Imix.\\n26/Septiembre/2021. La fase de la luna es: Luna gibosa menguante a las 19 hrs : 2 7 min https://t.co/KiWxmxKsTF\"}, {'created_at': '2021-09-27T01:47:06.000Z', 'id': '1442304762477690881', 'text': 'Master Popups v3.7.5 – Popup Plugin for WordPress &amp; Popup Editor #Learning #machinelearning via https://t.co/V7FfW08zbr https://t.co/Ft3wMLpc5k'}, {'created_at': '2021-09-27T01:46:09.000Z', 'id': '1442304523796561920', 'text': 'With the right technology and the right provider, it is already possible to achieve a high degree of integration between different collaboration platforms . \\n#HRCommunity #Innovation #hr\\n#MachineLearning #5G #DataScience #100DaysOfCode\\n#Python #ceo #AI #IoT #Industry40 #Analytics'}, {'created_at': '2021-09-27T01:45:58.000Z', 'id': '1442304476027760644', 'text': 'Machine learning uncovers &amp;#8216;genes of importance&amp;#8217; in agriculture and medicine: Approach using evolutionary principles identifies genes that enable plants to grow more with less fertilizer #BigData #Health #MachineLearning https://t.co/iHkamfEKZV'}, {'created_at': '2021-09-27T01:45:47.000Z', 'id': '1442304430255136776', 'text': 'For week 3 ( Machine Learning for Classification)\\nI worked on the New York Airbnb Data, I had to submit an incomplete assignment in order to work on another equally urgent project. I will finish it up within this week. \\n#Python #MachineLearning'}, {'created_at': '2021-09-27T01:45:29.000Z', 'id': '1442304355642732546', 'text': 'https://t.co/6rXGZDPwmD  #CyberSecurity #MachineLearning #AI #kalilinux #Linux #ML #ciso #infosec #Cyberattack #cybersec #Cybercrime #pentest #hacks #hacking #Programming #100DaysofCode #coding #parrotsec'}, {'created_at': '2021-09-27T01:45:01.000Z', 'id': '1442304235681419264', 'text': '#ArtificialIntelligence #AI #DataScience #100DaysOfCode #Python #MachineLearning #BigData #DeepLearning #NLP #Robots #IoT https://t.co/qzjOe8K60I'}, {'created_at': '2021-09-27T01:45:00.000Z', 'id': '1442304231919300614', 'text': 'Why artificial intelligence may not be suitable for all sorts of businesses https://t.co/mZy2LpOaMq #tech #business #AI #machinelearning'}, {'created_at': '2021-09-27T01:44:21.000Z', 'id': '1442304070715273219', 'text': 'Why Do Companies Struggle With Ethical Artificial Intelligence? - News @ Northeastern - News@Northeastern\\n\\nRead more here: https://t.co/ZVR8bRRaG5\\n\\n#ArtificialIntelligence #AI #DataScience #100DaysOfCode #Python #MachineLearning #BigData #DeepLearning #NLP #Robots #IoT'}, {'created_at': '2021-09-27T01:44:01.000Z', 'id': '1442303984841019398', 'text': 'For week 3 ( Machine Learning for Classification)\\n\\nI worked on the New York Airbnb Data, I had to submit an incomplete assignment in order to work on another equally urgent project. I will finish it up within this week. \\n\\n#Python #MachineLearning'}, {'created_at': '2021-09-27T01:43:39.000Z', 'id': '1442303891501039622', 'text': 'அப்படியே வாய் வைக்கலாம் .....urinji urinji yedukalam#AI #DataScience #MachineLearning #BigData #100DaysOfCode #Python #DeepLearning #Robots #IoT\\n#DevOps https://t.co/WSB0RSm2Dl'}], 'meta': {'newest_id': '1442315578664968193', 'oldest_id': '1442303891501039622', 'result_count': 100, 'next_token': 'b26v89c19zqg8o3fpds6uvh7yrkk5omzi5aobqc3847el'}}\n"
     ]
    }
   ],
   "source": [
    "import requests\n",
    "response = requests.get(url, headers=headers, params=params)\n",
    "print(response)\n",
    "# Generar excepción si la respuesta no es exitosa\n",
    "if response.status_code != 200:\n",
    "    raise Exception(response.status_code, response.text)\n",
    "print(response.json())"
   ]
  },
  {
   "cell_type": "markdown",
   "id": "bee63cde",
   "metadata": {},
   "source": [
    "## Formatear respuesta\n",
    "\n",
    "Convertir respuesta en un dataframe de Pandas"
   ]
  },
  {
   "cell_type": "code",
   "execution_count": 16,
   "id": "6377ef96",
   "metadata": {},
   "outputs": [
    {
     "data": {
      "text/html": [
       "<div>\n",
       "<style scoped>\n",
       "    .dataframe tbody tr th:only-of-type {\n",
       "        vertical-align: middle;\n",
       "    }\n",
       "\n",
       "    .dataframe tbody tr th {\n",
       "        vertical-align: top;\n",
       "    }\n",
       "\n",
       "    .dataframe thead th {\n",
       "        text-align: right;\n",
       "    }\n",
       "</style>\n",
       "<table border=\"1\" class=\"dataframe\">\n",
       "  <thead>\n",
       "    <tr style=\"text-align: right;\">\n",
       "      <th></th>\n",
       "      <th>created_at</th>\n",
       "      <th>id</th>\n",
       "      <th>text</th>\n",
       "    </tr>\n",
       "  </thead>\n",
       "  <tbody>\n",
       "    <tr>\n",
       "      <th>0</th>\n",
       "      <td>2021-09-27T02:30:05.000Z</td>\n",
       "      <td>1442315578664968193</td>\n",
       "      <td>Was famed #SamsonAndDelilah really painted by ...</td>\n",
       "    </tr>\n",
       "    <tr>\n",
       "      <th>1</th>\n",
       "      <td>2021-09-27T02:30:01.000Z</td>\n",
       "      <td>1442315561875107850</td>\n",
       "      <td>Research and development in computer vision, a...</td>\n",
       "    </tr>\n",
       "    <tr>\n",
       "      <th>2</th>\n",
       "      <td>2021-09-27T02:29:58.000Z</td>\n",
       "      <td>1442315548235161604</td>\n",
       "      <td>Day 51 of #100DaysOfCode but on an unrelated n...</td>\n",
       "    </tr>\n",
       "    <tr>\n",
       "      <th>3</th>\n",
       "      <td>2021-09-27T02:29:23.000Z</td>\n",
       "      <td>1442315402491543554</td>\n",
       "      <td>A Common-Sense Guide to Data Structures and Al...</td>\n",
       "    </tr>\n",
       "    <tr>\n",
       "      <th>4</th>\n",
       "      <td>2021-09-27T02:29:06.000Z</td>\n",
       "      <td>1442315332861976576</td>\n",
       "      <td>Let's not overkill Deep Learning! #DeepLearnin...</td>\n",
       "    </tr>\n",
       "    <tr>\n",
       "      <th>...</th>\n",
       "      <td>...</td>\n",
       "      <td>...</td>\n",
       "      <td>...</td>\n",
       "    </tr>\n",
       "    <tr>\n",
       "      <th>95</th>\n",
       "      <td>2021-09-27T01:45:01.000Z</td>\n",
       "      <td>1442304235681419264</td>\n",
       "      <td>#ArtificialIntelligence #AI #DataScience #100D...</td>\n",
       "    </tr>\n",
       "    <tr>\n",
       "      <th>96</th>\n",
       "      <td>2021-09-27T01:45:00.000Z</td>\n",
       "      <td>1442304231919300614</td>\n",
       "      <td>Why artificial intelligence may not be suitabl...</td>\n",
       "    </tr>\n",
       "    <tr>\n",
       "      <th>97</th>\n",
       "      <td>2021-09-27T01:44:21.000Z</td>\n",
       "      <td>1442304070715273219</td>\n",
       "      <td>Why Do Companies Struggle With Ethical Artific...</td>\n",
       "    </tr>\n",
       "    <tr>\n",
       "      <th>98</th>\n",
       "      <td>2021-09-27T01:44:01.000Z</td>\n",
       "      <td>1442303984841019398</td>\n",
       "      <td>For week 3 ( Machine Learning for Classificati...</td>\n",
       "    </tr>\n",
       "    <tr>\n",
       "      <th>99</th>\n",
       "      <td>2021-09-27T01:43:39.000Z</td>\n",
       "      <td>1442303891501039622</td>\n",
       "      <td>அப்படியே வாய் வைக்கலாம் .....urinji urinji yed...</td>\n",
       "    </tr>\n",
       "  </tbody>\n",
       "</table>\n",
       "<p>100 rows × 3 columns</p>\n",
       "</div>"
      ],
      "text/plain": [
       "                  created_at                   id  \\\n",
       "0   2021-09-27T02:30:05.000Z  1442315578664968193   \n",
       "1   2021-09-27T02:30:01.000Z  1442315561875107850   \n",
       "2   2021-09-27T02:29:58.000Z  1442315548235161604   \n",
       "3   2021-09-27T02:29:23.000Z  1442315402491543554   \n",
       "4   2021-09-27T02:29:06.000Z  1442315332861976576   \n",
       "..                       ...                  ...   \n",
       "95  2021-09-27T01:45:01.000Z  1442304235681419264   \n",
       "96  2021-09-27T01:45:00.000Z  1442304231919300614   \n",
       "97  2021-09-27T01:44:21.000Z  1442304070715273219   \n",
       "98  2021-09-27T01:44:01.000Z  1442303984841019398   \n",
       "99  2021-09-27T01:43:39.000Z  1442303891501039622   \n",
       "\n",
       "                                                 text  \n",
       "0   Was famed #SamsonAndDelilah really painted by ...  \n",
       "1   Research and development in computer vision, a...  \n",
       "2   Day 51 of #100DaysOfCode but on an unrelated n...  \n",
       "3   A Common-Sense Guide to Data Structures and Al...  \n",
       "4   Let's not overkill Deep Learning! #DeepLearnin...  \n",
       "..                                                ...  \n",
       "95  #ArtificialIntelligence #AI #DataScience #100D...  \n",
       "96  Why artificial intelligence may not be suitabl...  \n",
       "97  Why Do Companies Struggle With Ethical Artific...  \n",
       "98  For week 3 ( Machine Learning for Classificati...  \n",
       "99  அப்படியே வாய் வைக்கலாம் .....urinji urinji yed...  \n",
       "\n",
       "[100 rows x 3 columns]"
      ]
     },
     "execution_count": 16,
     "metadata": {},
     "output_type": "execute_result"
    }
   ],
   "source": [
    "import pandas as pd\n",
    "df = pd.json_normalize(response.json()['data'])\n",
    "df"
   ]
  },
  {
   "cell_type": "markdown",
   "id": "5e23d4c6",
   "metadata": {},
   "source": [
    "# Ejercicios\n",
    "\n",
    " A partir de la documentación del endpoint <a href=\"https://developer.twitter.com/en/docs/twitter-api/tweets/search/api-reference/get-tweets-search-recent\"> Recent </a> y las opciones de <a href=\"https://developer.twitter.com/en/docs/twitter-api/tweets/search/integrate/build-a-query\"> query </a> obtener:\n",
    " \n",
    " - Una lista de las fechas y creación de los tweets realizados por el usuario @kdnuggets que contenga el hashtag #NLP"
   ]
  },
  {
   "cell_type": "code",
   "execution_count": null,
   "id": "abbd9005",
   "metadata": {},
   "outputs": [],
   "source": []
  },
  {
   "cell_type": "markdown",
   "id": "a8fd45c2",
   "metadata": {},
   "source": [
    "- Una lista de los textos y nombres de usuario correspondientes a los tweets que contengan los hashtags #NLP y #MachineLearning que no sean retweets"
   ]
  },
  {
   "cell_type": "code",
   "execution_count": null,
   "id": "2771d7f2",
   "metadata": {},
   "outputs": [],
   "source": []
  },
  {
   "cell_type": "markdown",
   "id": "ed3deeac",
   "metadata": {},
   "source": [
    "- Una lista de los textos y enlaces de los tweets que contengan los hashtags #InteligenciaArtificial o #IA en español"
   ]
  },
  {
   "cell_type": "code",
   "execution_count": null,
   "id": "867275e8",
   "metadata": {},
   "outputs": [],
   "source": []
  },
  {
   "cell_type": "markdown",
   "id": "238118d1",
   "metadata": {},
   "source": [
    "## Descargar a CSV"
   ]
  },
  {
   "cell_type": "code",
   "execution_count": 17,
   "id": "19fe8189",
   "metadata": {},
   "outputs": [],
   "source": [
    "df.to_csv('tweets_ej')  "
   ]
  }
 ],
 "metadata": {
  "kernelspec": {
   "display_name": "Python 3",
   "language": "python",
   "name": "python3"
  },
  "language_info": {
   "codemirror_mode": {
    "name": "ipython",
    "version": 3
   },
   "file_extension": ".py",
   "mimetype": "text/x-python",
   "name": "python",
   "nbconvert_exporter": "python",
   "pygments_lexer": "ipython3",
   "version": "3.8.8"
  }
 },
 "nbformat": 4,
 "nbformat_minor": 5
}
