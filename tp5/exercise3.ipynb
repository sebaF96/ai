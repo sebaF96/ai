{
 "cells": [
  {
   "cell_type": "markdown",
   "metadata": {},
   "source": [
    "# El problema de la mochila\n",
    "\n",
    "Se tiene una mochila y un conjunto de artículos con diferente peso y valor. Se intenta determinar que artículos se pueden colocar adentro de la mochila de manera que no se sobrepase el límite de peso de la mochila maximizando el valor total. \n",
    "\n",
    "Resolver el problema para los siguientes artículos y un límite de 30kg:\n",
    "\n",
    "<table style=\"font-size:16px\">\n",
    "    <tr>\n",
    "        <th>Item</th><td>Valor</td><td>Peso</td>\n",
    "    </tr>\n",
    "    <tr>\n",
    "        <th>A</th><td>4</td><td>12</td>\n",
    "    </tr>\n",
    "    <tr>\n",
    "        <th>B</th><td>2</td><td>2</td>\n",
    "    </tr>\n",
    "    <tr>\n",
    "        <th>C</th><td>10</td><td>4</td>\n",
    "    </tr>\n",
    "    <tr>\n",
    "        <th>D</th><td>1</td><td>1</td>\n",
    "    </tr>\n",
    "    <tr>\n",
    "        <th>E</th><td>5</td><td>15</td>\n",
    "    </tr>\n",
    "    <tr>\n",
    "        <th>F</th><td>3</td><td>2</td>\n",
    "    </tr>\n",
    "    <tr>\n",
    "        <th>G</th><td>14</td><td>7</td>\n",
    "    </tr>\n",
    "    <tr>\n",
    "        <th>H</th><td>4</td><td>10</td>\n",
    "    </tr>\n",
    "</table>"
   ]
  },
  {
   "cell_type": "markdown",
   "metadata": {},
   "source": [
    "## Codificación\n",
    "\n",
    "- Definir como se codificará el problema\n",
    "\n",
    "El problema se codificara como una lista, donde cada posición indicará un elemento (0 = A, 1 = B, ...etc) y el valor de cada posición sera un numero entre 0 y 1, indicando si ese elemento se encuentra en la mochila o no"
   ]
  },
  {
   "cell_type": "markdown",
   "metadata": {},
   "source": [
    " ### Carga de datos"
   ]
  },
  {
   "cell_type": "code",
   "execution_count": 1,
   "metadata": {},
   "outputs": [],
   "source": [
    "import numpy\n",
    "import matplotlib.pyplot as plt\n",
    "import json\n",
    "import random\n",
    "\n",
    "with open(\"backpack.json\", \"r\") as fd:\n",
    "    backpack_items = json.loads(fd.read())"
   ]
  },
  {
   "cell_type": "markdown",
   "metadata": {},
   "source": [
    "### Crear combinaciones de items"
   ]
  },
  {
   "cell_type": "code",
   "execution_count": 2,
   "metadata": {},
   "outputs": [],
   "source": [
    "def calculate_weight(combination: list) -> int:\n",
    "    weight = 0\n",
    "    for index, item in enumerate(['A', 'B', 'C', 'D', 'E', 'F', 'G', 'H']):\n",
    "        if not combination[index]:\n",
    "            continue\n",
    "        weight += backpack_items[item]['weight']\n",
    "    return weight\n",
    "\n",
    "\n",
    "def calculate_value(combination: list) -> list:\n",
    "    value = 0\n",
    "    for index, item in enumerate(['A', 'B', 'C', 'D', 'E', 'F', 'G', 'H']):\n",
    "        if not combination[index]:\n",
    "            continue\n",
    "        value += backpack_items[item]['value']\n",
    "    return value\n",
    "\n",
    "\n",
    "def create_population(size: int) -> list:\n",
    "    return [list(numpy.random.randint(low=0, high=2, size=(8))) for i in range(size)]"
   ]
  },
  {
   "cell_type": "markdown",
   "metadata": {},
   "source": [
    "## Adaptación\n",
    "\n",
    "- Definir como se calculará la adaptación de un individuo\n",
    "\n",
    "La adaptación será dando el puntaje de el valor de la mochila de cada individuo, siempre y cuando el peso sea menor a 30\n",
    "\n",
    "<hr>\n",
    "\n",
    "- ¿Existen estados que deben ser penalizados?\n",
    "\n",
    "\n",
    "Si, en caso de que el peso sea mayor a 30, se asignará un valor de adaptación negativo, indicando que tanto se excede de 30\n"
   ]
  },
  {
   "cell_type": "code",
   "execution_count": 3,
   "metadata": {},
   "outputs": [],
   "source": [
    "def adaptation_function(population: list) -> list:\n",
    "    adapted_population = []\n",
    "    for bag in population:\n",
    "        weight = calculate_weight(bag)\n",
    "        value = calculate_value(bag)\n",
    "        if weight > 30:\n",
    "            adapted_population.append(30 - weight)\n",
    "        else:\n",
    "            adapted_population.append(value)\n",
    "    return adapted_population"
   ]
  },
  {
   "cell_type": "markdown",
   "metadata": {},
   "source": [
    "## Selección"
   ]
  },
  {
   "cell_type": "markdown",
   "metadata": {},
   "source": [
    "### Justificación elección de seleccion por torneo:\n",
    "\n",
    "**Respuesta:** Se ha decidido utilizar la selección por torneo para asegurarnos que nuestras generaciones vayan tendiendo a un resultado mejor, algo que no se lograría con selección aleatoria. Por otro lado, la selección por torneo es superior a la selección por ranking ya que permite conservar mejor la diversidad, lo cual puede favorecer a nuestro algoritmo."
   ]
  },
  {
   "cell_type": "code",
   "execution_count": 4,
   "metadata": {},
   "outputs": [],
   "source": [
    "def tournament_selection(adapted_pop: list, fitness: list) -> list:\n",
    "    best_4 = []\n",
    "    for index in (0, 2, 4, 6):\n",
    "        if adapted_pop[index] > adapted_pop[index + 1]:\n",
    "            best_4.append(fitness[index])\n",
    "        else:\n",
    "            best_4.append(fitness[index + 1])\n",
    "    return best_4"
   ]
  },
  {
   "cell_type": "markdown",
   "metadata": {},
   "source": [
    "## Cruza"
   ]
  },
  {
   "cell_type": "code",
   "execution_count": 5,
   "metadata": {},
   "outputs": [],
   "source": [
    "def crossover(parents: list) -> list:\n",
    "    children = []\n",
    "    for p1, p2 in ((0, 3), (1, 2)):\n",
    "        parent_1 = parents[p1]\n",
    "        parent_2 = parents[p2]\n",
    "        child_1 = [\n",
    "            parent_1[0],\n",
    "            parent_1[1],\n",
    "            parent_2[2],\n",
    "            parent_2[3],\n",
    "            parent_1[4],\n",
    "            parent_1[5],\n",
    "            parent_2[6],\n",
    "            parent_2[7]\n",
    "        ]\n",
    "        child_2 = [\n",
    "            parent_2[0],\n",
    "            parent_2[1],\n",
    "            parent_1[2],\n",
    "            parent_1[3],\n",
    "            parent_2[4],\n",
    "            parent_2[5],\n",
    "            parent_1[6],\n",
    "            parent_1[7]\n",
    "        ]\n",
    "        children.append(child_1)\n",
    "        children.append(child_2)\n",
    "    return children"
   ]
  },
  {
   "cell_type": "markdown",
   "metadata": {},
   "source": [
    "## Mutación"
   ]
  },
  {
   "cell_type": "code",
   "execution_count": 6,
   "metadata": {},
   "outputs": [],
   "source": [
    "def mutate(children: list):\n",
    "    mut_prob = 0.5\n",
    "    for child in children:\n",
    "        should_mutate = round(random.uniform(0, 1), 2) < mut_prob\n",
    "        if not should_mutate:\n",
    "            continue\n",
    "        index_to_mutate = random.choice(list(range(8)))\n",
    "        child[index_to_mutate] = abs(child[index_to_mutate] - 1)"
   ]
  },
  {
   "cell_type": "markdown",
   "metadata": {},
   "source": [
    "# Algoritmo"
   ]
  },
  {
   "cell_type": "code",
   "execution_count": 7,
   "metadata": {},
   "outputs": [],
   "source": [
    "best_values = []\n",
    "generation = []\n",
    "population = create_population(8)\n",
    "for i in range(100):\n",
    "    adapted_population = adaptation_function(population)\n",
    "    parents = tournament_selection(adapted_population, population)\n",
    "    children = crossover(parents)\n",
    "    mutate(children)\n",
    "    new_population = children\n",
    "    new_population.extend(parents)\n",
    "    best_value = max(adaptation_function(new_population))\n",
    "    best_values.append(best_value)\n",
    "    generation.append(i)\n",
    "    population = new_population"
   ]
  },
  {
   "cell_type": "code",
   "execution_count": 8,
   "metadata": {},
   "outputs": [
    {
     "data": {
      "image/png": "[encoded data removed]",
      "text/plain": [
       "<Figure size 432x288 with 1 Axes>"
      ]
     },
     "metadata": {
      "needs_background": "light"
     },
     "output_type": "display_data"
    }
   ],
   "source": [
    "fig, ax = plt.subplots()\n",
    "ax.plot(generation, best_values, 'b')\n",
    "ax.set_ylabel('Fitness')\n",
    "ax.set_xlabel('Generation')\n",
    "plt.show()"
   ]
  }
 ],
 "metadata": {
  "kernelspec": {
   "display_name": "Python 3",
   "language": "python",
   "name": "python3"
  },
  "language_info": {
   "codemirror_mode": {
    "name": "ipython",
    "version": 3
   },
   "file_extension": ".py",
   "mimetype": "text/x-python",
   "name": "python",
   "nbconvert_exporter": "python",
   "pygments_lexer": "ipython3",
   "version": "3.8.3"
  }
 },
 "nbformat": 4,
 "nbformat_minor": 4
}
