{
 "cells": [
  {
   "cell_type": "markdown",
   "metadata": {},
   "source": [
    "## Diseño aerodinámico\n",
    "\n",
    "Existen cuatro variables que representan valores de parámetros para el diseño de el ala de una aeronave. Cada uno de estos parámetros puede tomar un valor entre 0 y 63.\n",
    "\n",
    "El modelo aerodinámico dice que la elevación del ala está dada por la formula:\n",
    "\n",
    "Elevación = (A - B)² + (C - D)² - (A-30)³ - (C-40)³\n",
    "\n",
    "Encontrar los valores de parámetros que maximicen la elevación del ala."
   ]
  },
  {
   "cell_type": "markdown",
   "metadata": {},
   "source": [
    "## Codificación\n",
    "\n",
    "- Definir como se codificará el problema\n",
    "Para este problema el cromosoma estará compuesto por 4 genes cada uno de ellos representarán los valores de los parámetros del ala del aeronave\n",
    "\n",
    "[X1 X2 X3 X4]"
   ]
  },
  {
   "cell_type": "code",
   "execution_count": 1,
   "metadata": {},
   "outputs": [],
   "source": [
    "import numpy as np\n",
    "import random\n",
    "import matplotlib.pyplot as plt"
   ]
  },
  {
   "cell_type": "markdown",
   "metadata": {},
   "source": [
    "## Adaptación\n",
    "\n",
    "- Definir como se calculará la adaptación de un individuo\n",
    "- ¿Existen estados que deben ser penalizados?\n",
    "\n",
    "La función de adaptación será el resultado de la fórmula de elevación. Ya que se trata de maximizar el resultado. A mayor reultado mayor adaptación.\n"
   ]
  },
  {
   "cell_type": "code",
   "execution_count": 2,
   "metadata": {},
   "outputs": [],
   "source": [
    "def adaptation_function(population):\n",
    "    fitness = []\n",
    "    for pop in population:\n",
    "        fitness.append(\n",
    "            ((pop[0] - pop[1]) ** 2) + ((pop[2] - pop[3]) ** 2) - ((pop[0] - 30) ** 3) - ((pop[2] - 30) ** 3)\n",
    "        )\n",
    "    return fitness"
   ]
  },
  {
   "cell_type": "markdown",
   "metadata": {},
   "source": [
    "## Selección"
   ]
  },
  {
   "cell_type": "code",
   "execution_count": 3,
   "metadata": {},
   "outputs": [],
   "source": [
    "# Recibe la lista con los entrenamientos de cada hijo y los ordena con numeros enteros ej: [1,2,3,4,5,6]\n",
    "# basandose en el valor que se obtuvo en la adaptacion.\n",
    "def rank(fitness, population):\n",
    "    adaptation_function(population)\n",
    "    array = np.array(fitness)\n",
    "    temp = array.argsort()\n",
    "    return (np.arange(len(array))[temp.argsort()]).tolist()\n",
    "\n",
    "\n",
    "# Calculamos la probabilidad que tiene cada hijo, basandonos en la \"SELECCION BASADA EN RANKING\".\n",
    "def probability(population, fitness):\n",
    "    probability_list = []\n",
    "    ranking = rank(fitness, population)\n",
    "    for i in range(len(population)):\n",
    "        probability_list.append(\n",
    "            ((ranking[i]) / sum(ranking))\n",
    "        )\n",
    "    return probability_list\n",
    "\n",
    "\n",
    "# Seleccionamos el/los padres de la lista de la poblacion, basandonos en la\n",
    "# probabilidad de cada individuo.\n",
    "def select_parents(parents_num, population_len, probability_list):\n",
    "    # population, weights = probability_list, k = parents_num\n",
    "    population_aux = range(population_len)\n",
    "    parent_indexs = np.random.choice(population_aux, size=parents_num, replace=False, p=probability_list)\n",
    "    return [population[i] for i in parent_indexs]"
   ]
  },
  {
   "cell_type": "markdown",
   "metadata": {},
   "source": [
    "## Cruza"
   ]
  },
  {
   "cell_type": "code",
   "execution_count": 4,
   "metadata": {},
   "outputs": [],
   "source": [
    "def crossover(parents):\n",
    "    parents = np.array(parents)\n",
    "    childrens = np.empty((len(parents), parents.shape[1]))\n",
    "    crossover_point = np.uint8(parents.shape[0] / 2)\n",
    "    for k in range(len(parents)):\n",
    "        # Índice del primer padre para realizar la cruza\n",
    "        parent1_idx = k % parents.shape[0]\n",
    "        # Índice del segundo padre para realizar la cruza\n",
    "        parent2_idx = (k + 1) % parents.shape[0]\n",
    "        # Generar el primer hijo con la primer mitad de un padre y la segunda de otro\n",
    "        childrens[k, 0:crossover_point] = parents[parent1_idx, 0:crossover_point]\n",
    "        # Generar el segundo hijo con las partes opuestas\n",
    "        childrens[k, crossover_point:] = parents[parent2_idx, crossover_point:]\n",
    "    # Devolver lista de hijos\n",
    "    return childrens"
   ]
  },
  {
   "cell_type": "markdown",
   "metadata": {},
   "source": [
    "## Mutación\n",
    "#### aplicamos mutación por limite - menor."
   ]
  },
  {
   "cell_type": "code",
   "execution_count": 5,
   "metadata": {},
   "outputs": [],
   "source": [
    "def mutation(childrens):\n",
    "    for i, children in enumerate(childrens):\n",
    "        random_index = random.choice(range(4))\n",
    "        childrens[i][random_index] = round(random.uniform(0, 63), 2)\n",
    "    return childrens"
   ]
  },
  {
   "cell_type": "markdown",
   "metadata": {},
   "source": [
    "# Algoritmo"
   ]
  },
  {
   "cell_type": "code",
   "execution_count": 6,
   "metadata": {},
   "outputs": [],
   "source": [
    "def create_population():\n",
    "    population = []\n",
    "    amount_population = 60\n",
    "\n",
    "    for _ in range(amount_population):\n",
    "        a = round(random.uniform(0, 63), 2)\n",
    "        b = round(random.uniform(0, 63), 2)\n",
    "        c = round(random.uniform(0, 63), 2)\n",
    "        d = round(random.uniform(0, 63), 2)\n",
    "\n",
    "        population.append([round(a, 2), round(b, 2), round(c, 2), round(d, 2)])\n",
    "    return population\n",
    "\n",
    "\n",
    "population = create_population()\n",
    "population_len = len(population)\n",
    "\n",
    "best_adaptation = list()\n",
    "generation = list()\n",
    "\n",
    "for i in range(200):\n",
    "    fitness = adaptation_function(population)\n",
    "    probability_list = probability(population, fitness)\n",
    "    selected_parents = select_parents(population_len // 2, population_len, probability_list)\n",
    "    childrens = crossover(selected_parents)\n",
    "    childrens = mutation(childrens)\n",
    "    selected_parents.extend(childrens.tolist())\n",
    "    new_population = selected_parents\n",
    "    population_len = len(new_population)\n",
    "    population = new_population\n",
    "    best_adaptation.append(max(fitness))\n",
    "    generation.append(i)"
   ]
  },
  {
   "cell_type": "markdown",
   "metadata": {},
   "source": [
    "# Grafico"
   ]
  },
  {
   "cell_type": "code",
   "execution_count": 7,
   "metadata": {},
   "outputs": [
    {
     "data": {
      "image/png": "[encoded data removed]",
      "text/plain": [
       "<Figure size 432x288 with 1 Axes>"
      ]
     },
     "metadata": {
      "needs_background": "light"
     },
     "output_type": "display_data"
    }
   ],
   "source": [
    "fig, ax = plt.subplots()\n",
    "ax.plot(generation, best_adaptation, 'b')\n",
    "ax.set_ylabel('Fitness')\n",
    "ax.set_xlabel('Generation')\n",
    "plt.show()"
   ]
  }
 ],
 "metadata": {
  "kernelspec": {
   "display_name": "Python 3",
   "language": "python",
   "name": "python3"
  },
  "language_info": {
   "codemirror_mode": {
    "name": "ipython",
    "version": 3
   },
   "file_extension": ".py",
   "mimetype": "text/x-python",
   "name": "python",
   "nbconvert_exporter": "python",
   "pygments_lexer": "ipython3",
   "version": "3.8.3"
  }
 },
 "nbformat": 4,
 "nbformat_minor": 4
}
