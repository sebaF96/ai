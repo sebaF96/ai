{
 "cells": [
  {
   "cell_type": "markdown",
   "metadata": {},
   "source": [
    "## Problema del viajante\n",
    "\n",
    "Resolver el problema del viajante utilizando algoritmos genéticos. \n",
    "\n",
    "- ¿Es posible aproximarse al resultado?"
   ]
  },
  {
   "cell_type": "markdown",
   "metadata": {},
   "source": [
    "**Respuesta:** En este caso no fue posible aproximarse al resultado, ya que las cruzas, geneticas de valores muy aleatorios no tienen a acercarse a un valor óptimo sino mas bien a alejarse."
   ]
  },
  {
   "cell_type": "markdown",
   "metadata": {},
   "source": [
    "## Codificación\n",
    "\n",
    "- Definir como se codificará el problema"
   ]
  },
  {
   "cell_type": "markdown",
   "metadata": {},
   "source": [
    "**Respuesta:** La codificación consiste en una lista cuyos indices indican en el orden que se recorreran las ciudades *(genes)* y sus valores son inciales representando a cada ciudad *(gen)*"
   ]
  },
  {
   "cell_type": "markdown",
   "metadata": {},
   "source": [
    "## Adaptación\n",
    "\n",
    "- Definir como se calculará la adaptación de un individuo\n",
    "- ¿Existen estados que deben ser penalizados?\n"
   ]
  },
  {
   "cell_type": "markdown",
   "metadata": {},
   "source": [
    "**Respuesta:** La adaptación se obtiene calculando la distancia total del viaje, penalizando los casos donde el valor obtenido sea muy grande."
   ]
  },
  {
   "cell_type": "code",
   "execution_count": 1,
   "metadata": {},
   "outputs": [],
   "source": [
    "import numpy\n",
    "import matplotlib\n",
    "import matplotlib.pyplot as plt\n",
    "import itertools\n",
    "import json\n",
    "import random"
   ]
  },
  {
   "cell_type": "markdown",
   "metadata": {},
   "source": [
    "### Carga de datos Json"
   ]
  },
  {
   "cell_type": "code",
   "execution_count": 2,
   "metadata": {},
   "outputs": [
    {
     "data": {
      "text/plain": [
       "['SR', 'EN', 'ES', 'JP', 'VA', 'LM', 'SDLR', 'RC', 'MC', 'GA', 'RA']"
      ]
     },
     "execution_count": 2,
     "metadata": {},
     "output_type": "execute_result"
    }
   ],
   "source": [
    "with open('distances.json', 'r') as file:\n",
    "    distances = json.loads(file.read())\n",
    "\n",
    "all_cities = list(distances.keys())\n",
    "all_cities"
   ]
  },
  {
   "cell_type": "markdown",
   "metadata": {},
   "source": [
    "### Crear combinaciones"
   ]
  },
  {
   "cell_type": "code",
   "execution_count": 3,
   "metadata": {},
   "outputs": [
    {
     "data": {
      "text/plain": [
       "[('VA', 'LM', 'SDLR', 'SR', 'MC', 'RA', 'EN', 'GA', 'JP', 'RC', 'ES', 'VA'),\n",
       " ('SR', 'RC', 'EN', 'MC', 'VA', 'LM', 'JP', 'SDLR', 'GA', 'ES', 'RA', 'SR'),\n",
       " ('EN', 'RC', 'SR', 'RA', 'JP', 'VA', 'MC', 'LM', 'GA', 'ES', 'SDLR', 'EN'),\n",
       " ('RC', 'GA', 'VA', 'LM', 'SR', 'ES', 'JP', 'EN', 'RA', 'MC', 'SDLR', 'RC'),\n",
       " ('VA', 'LM', 'ES', 'SDLR', 'RC', 'MC', 'EN', 'GA', 'JP', 'RA', 'SR', 'VA'),\n",
       " ('EN', 'VA', 'LM', 'JP', 'RC', 'MC', 'SR', 'ES', 'RA', 'SDLR', 'GA', 'EN'),\n",
       " ('MC', 'EN', 'SDLR', 'LM', 'RC', 'RA', 'JP', 'VA', 'SR', 'GA', 'ES', 'MC'),\n",
       " ('ES', 'JP', 'EN', 'RA', 'SR', 'GA', 'VA', 'RC', 'SDLR', 'MC', 'LM', 'ES')]"
      ]
     },
     "execution_count": 3,
     "metadata": {},
     "output_type": "execute_result"
    }
   ],
   "source": [
    "total_combinations = []\n",
    "random_combinations = []\n",
    "for combination in itertools.permutations(all_cities):\n",
    "# Apendar primer ciudad al final de cada combinación para cumplir con el incio = final\n",
    "    comb_list = list(combination)\n",
    "    comb_list.append(combination[0])\n",
    "    combination = tuple(comb_list)\n",
    "    total_combinations.append(combination)\n",
    "\n",
    "# Aumentar range para mas muestras en la población\n",
    "for x in range(8):\n",
    "    choice = random.choice(total_combinations)\n",
    "    random_combinations.append(choice)\n",
    "    total_combinations.remove(choice)\n",
    "    \n",
    "    \n",
    "random_combinations"
   ]
  },
  {
   "cell_type": "markdown",
   "metadata": {},
   "source": [
    "### Calcular distancia por combinacion"
   ]
  },
  {
   "cell_type": "code",
   "execution_count": 4,
   "metadata": {},
   "outputs": [],
   "source": [
    "def calculate_distance(combination: list) -> int:\n",
    "    \"\"\"Busco la distancia de la combinacion en el json\"\"\"\n",
    "    distance = 0\n",
    "    start = combination[0]\n",
    "    combination_list = list(combination)\n",
    "    combination_list.pop(0)\n",
    "    combination = tuple(combination_list)\n",
    "    \n",
    "    for city in combination:\n",
    "        distance += distances[start][city]\n",
    "        start = city\n",
    "        \n",
    "    return distance"
   ]
  },
  {
   "cell_type": "markdown",
   "metadata": {},
   "source": [
    "## Función de Adaptación"
   ]
  },
  {
   "cell_type": "code",
   "execution_count": 5,
   "metadata": {},
   "outputs": [],
   "source": [
    "def adaptation_function(trips: list) -> list:\n",
    "    fitness = []\n",
    "    for trip in trips:\n",
    "        distance = calculate_distance(trip)\n",
    "        fitness.append(-distance)\n",
    "    return fitness"
   ]
  },
  {
   "cell_type": "markdown",
   "metadata": {},
   "source": [
    "## Selección"
   ]
  },
  {
   "cell_type": "markdown",
   "metadata": {},
   "source": [
    "### Selección por torneo"
   ]
  },
  {
   "cell_type": "code",
   "execution_count": 6,
   "metadata": {
    "scrolled": true
   },
   "outputs": [],
   "source": [
    "def tournament_selection(adapted_population: list, random_combinations: list) -> list:\n",
    "    \"\"\"Esta funcion tiene que hacer el torneo entre 2 valores\"\"\"\n",
    "    parents = []\n",
    "    for index in range(8):\n",
    "        if index in [1, 3, 5, 7]:\n",
    "            continue\n",
    "        if adapted_population[index] > adapted_population[index + 1]:\n",
    "            parents.append(random_combinations[index])\n",
    "        else:\n",
    "            parents.append(random_combinations[index + 1])\n",
    "    \n",
    "    return parents"
   ]
  },
  {
   "cell_type": "markdown",
   "metadata": {},
   "source": [
    "## Cruza"
   ]
  },
  {
   "cell_type": "code",
   "execution_count": 7,
   "metadata": {},
   "outputs": [],
   "source": [
    "def uniform_cross(parents: list) -> list:\n",
    "    \"\"\"La cruza uniforme selecciona bits(ciudades) aleatorios del padre 1 y padre 2 creando 2 hijos y no se tienen que repetir ciudades\"\"\"\n",
    "    silbings = []\n",
    "    parents_copy = parents\n",
    "    # Selecciono los 2 primeros padres y tiene que ser mayor a 1 para que puedan ser padres pares\n",
    "    while len(parents_copy) > 1:\n",
    "        \n",
    "        parent1 = random.choice(parents_copy)\n",
    "        parents_copy.remove(parent1)\n",
    "        parent2 = random.choice(parents_copy)\n",
    "        parents_copy.remove(parent2)\n",
    "    \n",
    "        child1 = list()\n",
    "        child2 = list()\n",
    "        \n",
    "        for city1, city2 in zip(parent1, parent2):\n",
    "            # Probabilidad 0,5 de cambiar\n",
    "            change = round(random.uniform(0, 1), 2)\n",
    "            if change <= 0.5 and city1 not in child1 and city2 not in child2:\n",
    "                child1.append(city1)\n",
    "                child2.append(city2)\n",
    "            else:\n",
    "                if city2 not in child1:\n",
    "                    child1.append(city2)\n",
    "                      \n",
    "                if city1 not in child2:\n",
    "                    child2.append(city1)\n",
    "                    \n",
    "        for city in parent1:\n",
    "            if city not in child1:\n",
    "                child1.insert(len(child1) - 2, city)\n",
    "            if city not in child2:\n",
    "                child2.insert(len(child2) - 2, city)\n",
    "                \n",
    "        # Correción para que el último valor \n",
    "        if child1[0] != child1[len(child1) -1]:\n",
    "            child1.append(child1[0])\n",
    "        if child2[0] != child2[len(child2) -1]:\n",
    "            child2.append(child2[0])\n",
    "            \n",
    "        silbings.append(child1)\n",
    "        silbings.append(child2)\n",
    "        \n",
    "    return silbings\n",
    "            "
   ]
  },
  {
   "cell_type": "markdown",
   "metadata": {},
   "source": [
    "## Mutación"
   ]
  },
  {
   "cell_type": "markdown",
   "metadata": {},
   "source": [
    "### Mutación por intercambio para conservar la no repetición de ciudades salvo primera y última"
   ]
  },
  {
   "cell_type": "code",
   "execution_count": 8,
   "metadata": {},
   "outputs": [],
   "source": [
    "def mutate_children(children: list) -> list:\n",
    "    mut_prob = 0.666\n",
    "    for child in children:\n",
    "    \n",
    "        should_mutate = round(random.uniform(0, 1), 3) < mut_prob\n",
    "    \n",
    "        if not should_mutate:\n",
    "            continue\n",
    "    \n",
    "        index = random.choice(list(range(1, 11)))\n",
    "        index2 = random.choice(list(range(1, 11)))\n",
    "    \n",
    "        child[index], child[index2] = child[index2], child[index]\n",
    "    "
   ]
  },
  {
   "cell_type": "markdown",
   "metadata": {},
   "source": [
    "# Algoritmo"
   ]
  },
  {
   "cell_type": "code",
   "execution_count": 9,
   "metadata": {},
   "outputs": [],
   "source": [
    "best_trips = []\n",
    "generation = []\n",
    "population = random_combinations\n",
    "for i in range(400):\n",
    "    adapted_population = adaptation_function(population)\n",
    "    parents = tournament_selection(adapted_population, population)\n",
    "    silbings = uniform_cross(parents)\n",
    "    mutate_children(silbings)\n",
    "    \n",
    "    new_population = silbings\n",
    "    new_population.extend(parents)\n",
    "    best_trip = max(adaptation_function(new_population))\n",
    "    best_trips.append(best_trip)\n",
    "    generation.append(i)\n",
    "    \n"
   ]
  },
  {
   "cell_type": "markdown",
   "metadata": {},
   "source": [
    "### Gráfico"
   ]
  },
  {
   "cell_type": "code",
   "execution_count": 10,
   "metadata": {},
   "outputs": [
    {
     "data": {
      "image/png": "[encoded data removed]",
      "text/plain": [
       "<Figure size 432x288 with 1 Axes>"
      ]
     },
     "metadata": {
      "needs_background": "light"
     },
     "output_type": "display_data"
    }
   ],
   "source": [
    "fig, ax = plt.subplots()\n",
    "ax.plot(generation, best_trips, 'b')\n",
    "ax.set_ylabel('Fitness')\n",
    "ax.set_xlabel('Generation')\n",
    "plt.show()"
   ]
  },
  {
   "cell_type": "code",
   "execution_count": null,
   "metadata": {},
   "outputs": [],
   "source": []
  }
 ],
 "metadata": {
  "kernelspec": {
   "display_name": "Python 3",
   "language": "python",
   "name": "python3"
  },
  "language_info": {
   "codemirror_mode": {
    "name": "ipython",
    "version": 3
   },
   "file_extension": ".py",
   "mimetype": "text/x-python",
   "name": "python",
   "nbconvert_exporter": "python",
   "pygments_lexer": "ipython3",
   "version": "3.8.8"
  }
 },
 "nbformat": 4,
 "nbformat_minor": 4
}
