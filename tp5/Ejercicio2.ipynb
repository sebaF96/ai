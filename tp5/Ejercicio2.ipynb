{
 "cells": [
  {
   "cell_type": "markdown",
   "metadata": {},
   "source": [
    "## Problema del viajante\n",
    "\n",
    "Resolver el problema del viajante utilizando algoritmos genéticos. \n",
    "\n",
    "- ¿Es posible aproximarse al resultado?"
   ]
  },
  {
   "cell_type": "markdown",
   "metadata": {},
   "source": [
    "## Codificación\n",
    "\n",
    "- Definir como se codificará el problema"
   ]
  },
  {
   "cell_type": "markdown",
   "metadata": {},
   "source": [
    "## Adaptación\n",
    "\n",
    "- Definir como se calculará la adaptación de un individuo\n",
    "- ¿Existen estados que deben ser penalizados?\n"
   ]
  },
  {
   "cell_type": "code",
   "execution_count": 1,
   "metadata": {},
   "outputs": [],
   "source": [
    "import numpy\n",
    "import matplotlib\n",
    "import matplotlib.pyplot as plt\n",
    "import itertools\n",
    "import json\n",
    "import random\n"
   ]
  },
  {
   "cell_type": "markdown",
   "metadata": {},
   "source": [
    "### Carga de datos Json"
   ]
  },
  {
   "cell_type": "code",
   "execution_count": 2,
   "metadata": {},
   "outputs": [
    {
     "data": {
      "text/plain": [
       "['SR', 'EN', 'ES', 'JP', 'VA', 'LM', 'SDLR', 'RC', 'MC', 'GA', 'RA']"
      ]
     },
     "execution_count": 2,
     "metadata": {},
     "output_type": "execute_result"
    }
   ],
   "source": [
    "with open('distances.json', 'r') as file:\n",
    "    distances = json.loads(file.read())\n",
    "\n",
    "all_cities = list(distances.keys())\n",
    "all_cities"
   ]
  },
  {
   "cell_type": "markdown",
   "metadata": {},
   "source": [
    "### Crear combinaciones"
   ]
  },
  {
   "cell_type": "code",
   "execution_count": 3,
   "metadata": {},
   "outputs": [
    {
     "data": {
      "text/plain": [
       "[('SDLR', 'RC', 'RA', 'LM', 'MC', 'VA', 'SR', 'JP', 'GA', 'ES', 'EN', 'SDLR'),\n",
       " ('RA', 'VA', 'SR', 'RC', 'ES', 'EN', 'GA', 'MC', 'LM', 'JP', 'SDLR', 'RA'),\n",
       " ('ES', 'GA', 'LM', 'EN', 'SDLR', 'RC', 'JP', 'SR', 'VA', 'MC', 'RA', 'ES'),\n",
       " ('RA', 'MC', 'SR', 'ES', 'RC', 'JP', 'SDLR', 'EN', 'VA', 'LM', 'GA', 'RA'),\n",
       " ('SR', 'ES', 'GA', 'RA', 'LM', 'VA', 'MC', 'JP', 'EN', 'SDLR', 'RC', 'SR'),\n",
       " ('SR', 'RC', 'JP', 'GA', 'EN', 'SDLR', 'ES', 'VA', 'RA', 'LM', 'MC', 'SR'),\n",
       " ('VA', 'MC', 'RA', 'EN', 'LM', 'ES', 'GA', 'JP', 'SR', 'SDLR', 'RC', 'VA'),\n",
       " ('VA', 'LM', 'JP', 'SR', 'ES', 'MC', 'SDLR', 'RC', 'RA', 'GA', 'EN', 'VA'),\n",
       " ('GA', 'ES', 'VA', 'SDLR', 'MC', 'LM', 'SR', 'JP', 'RC', 'EN', 'RA', 'GA'),\n",
       " ('GA', 'JP', 'LM', 'RC', 'MC', 'VA', 'SR', 'EN', 'ES', 'SDLR', 'RA', 'GA')]"
      ]
     },
     "execution_count": 3,
     "metadata": {},
     "output_type": "execute_result"
    }
   ],
   "source": [
    "total_combinations = []\n",
    "random_combinations = []\n",
    "for combination in itertools.permutations(all_cities):\n",
    "# Apendar primer ciudad al final de cada combinación para cumplir con el incio = final\n",
    "    comb_list = list(combination)\n",
    "    comb_list.append(combination[0])\n",
    "    combination = tuple(comb_list)\n",
    "    total_combinations.append(combination)\n",
    "\n",
    "# Aumentar range para mas muestras en la población\n",
    "for x in range(10):\n",
    "    choice = random.choice(total_combinations)\n",
    "    random_combinations.append(choice)\n",
    "    total_combinations.remove(choice)\n",
    "    \n",
    "    \n",
    "random_combinations"
   ]
  },
  {
   "cell_type": "markdown",
   "metadata": {},
   "source": [
    "### Calcular distancia por combinacion"
   ]
  },
  {
   "cell_type": "code",
   "execution_count": 4,
   "metadata": {},
   "outputs": [],
   "source": [
    "def calculate_distance(combination: list) -> int:\n",
    "    \"\"\"Busco la distancia de la combinacion en el json\"\"\"\n",
    "    distance = 0\n",
    "    start = combination[0]\n",
    "    combination_list = list(combination)\n",
    "    combination_list.pop(0)\n",
    "    combination = tuple(combination_list)\n",
    "    \n",
    "    for city in combination:\n",
    "        distance += distances[start][city]\n",
    "        start = city\n",
    "        \n",
    "    return distance"
   ]
  },
  {
   "cell_type": "code",
   "execution_count": 5,
   "metadata": {},
   "outputs": [
    {
     "data": {
      "text/plain": [
       "[779.9,\n",
       " 774.0999999999998,\n",
       " 938.8000000000001,\n",
       " 960.7,\n",
       " 923.5,\n",
       " 904.1,\n",
       " 857.5999999999999,\n",
       " 940.7,\n",
       " 925.5,\n",
       " 720.7]"
      ]
     },
     "execution_count": 5,
     "metadata": {},
     "output_type": "execute_result"
    }
   ],
   "source": [
    "# Agrego las distancias de cada combinación random a una lista\n",
    "metrics = []\n",
    "for c in random_combinations:\n",
    "    distance = metrics.append(calculate_distance(c))\n",
    "metrics"
   ]
  },
  {
   "cell_type": "markdown",
   "metadata": {},
   "source": [
    "## Función de Adaptación"
   ]
  },
  {
   "cell_type": "code",
   "execution_count": 6,
   "metadata": {},
   "outputs": [
    {
     "data": {
      "text/plain": [
       "[-779.9,\n",
       " -774.0999999999998,\n",
       " -938.8000000000001,\n",
       " -960.7,\n",
       " -923.5,\n",
       " -904.1,\n",
       " -857.5999999999999,\n",
       " -940.7,\n",
       " -925.5,\n",
       " -720.7]"
      ]
     },
     "execution_count": 6,
     "metadata": {},
     "output_type": "execute_result"
    }
   ],
   "source": [
    "def adaptation_function(population: list) -> list:\n",
    "    fitness = []\n",
    "    for individual in population:\n",
    "        fitness.append(-individual)\n",
    "    return fitness\n",
    "\n",
    "adapted_population = adaptation_function(metrics)\n",
    "adapted_population"
   ]
  },
  {
   "cell_type": "markdown",
   "metadata": {},
   "source": [
    "## Selección"
   ]
  },
  {
   "cell_type": "markdown",
   "metadata": {},
   "source": [
    "### Selección por torneo"
   ]
  },
  {
   "cell_type": "code",
   "execution_count": 7,
   "metadata": {
    "scrolled": true
   },
   "outputs": [
    {
     "name": "stdout",
     "output_type": "stream",
     "text": [
      "[('VA', 'MC', 'RA', 'EN', 'LM', 'ES', 'GA', 'JP', 'SR', 'SDLR', 'RC', 'VA'), ('SR', 'ES', 'GA', 'RA', 'LM', 'VA', 'MC', 'JP', 'EN', 'SDLR', 'RC', 'SR'), ('SDLR', 'RC', 'RA', 'LM', 'MC', 'VA', 'SR', 'JP', 'GA', 'ES', 'EN', 'SDLR'), ('RA', 'VA', 'SR', 'RC', 'ES', 'EN', 'GA', 'MC', 'LM', 'JP', 'SDLR', 'RA'), ('RA', 'VA', 'SR', 'RC', 'ES', 'EN', 'GA', 'MC', 'LM', 'JP', 'SDLR', 'RA')]\n"
     ]
    }
   ],
   "source": [
    "def tournament_selection(adapted_population: list, random_combinations: list) -> list:\n",
    "    \"\"\"Esta funcion tiene que hacer el torneo entre 2 valores\"\"\"\n",
    "    parents = []\n",
    "    fitness = adapted_population\n",
    "    adapted_c = adapted_population\n",
    "    while len(adapted_population) > 0:\n",
    "        selection1 = random.choice(adapted_c)\n",
    "        selection2 = random.choice(adapted_c)\n",
    "        \n",
    "        \n",
    "        if selection1 == selection2:\n",
    "            continue\n",
    "            \n",
    "        if selection1 > selection2:\n",
    "            # Obtiene el indice de la tupla de valores negativos(adaptación) para encontrar individuos \"ganadores\" de la población random\n",
    "            parents.append(random_combinations[fitness.index(selection1)])\n",
    "        else:\n",
    "            parents.append(random_combinations[fitness.index(selection2)])\n",
    "            \n",
    "        adapted_c.remove(selection1)\n",
    "        adapted_c.remove(selection2)\n",
    "\n",
    "    return parents\n",
    "\n",
    "parents = tournament_selection(adapted_population, random_combinations)\n",
    "print(parents)"
   ]
  },
  {
   "cell_type": "markdown",
   "metadata": {},
   "source": [
    "## Cruza"
   ]
  },
  {
   "cell_type": "code",
   "execution_count": 8,
   "metadata": {},
   "outputs": [
    {
     "name": "stdout",
     "output_type": "stream",
     "text": [
      "Hijo1 ['SR', 'MC', 'GA', 'EN', 'LM', 'ES', 'JP', 'SDLR', 'RA', 'RC', 'SR'] \n",
      "\n",
      "Hijo2 ['VA', 'ES', 'RA', 'LM', 'MC', 'JP', 'EN', 'SDLR', 'GA', 'RC', 'GA']\n",
      "\n",
      "Padre1('SR', 'ES', 'GA', 'RA', 'LM', 'VA', 'MC', 'JP', 'EN', 'SDLR', 'RC', 'SR')\n",
      "\n",
      "Padre2('VA', 'MC', 'RA', 'EN', 'LM', 'ES', 'GA', 'JP', 'SR', 'SDLR', 'RC', 'VA')\n",
      "\n",
      "\n",
      "Hijo1 ['RA', 'VA', 'SR', 'RC', 'ES', 'EN', 'GA', 'MC', 'LM', 'JP', 'RA'] \n",
      "\n",
      "Hijo2 ['RA', 'VA', 'SR', 'RC', 'ES', 'EN', 'GA', 'MC', 'LM', 'JP', 'SR']\n",
      "\n",
      "Padre1('RA', 'VA', 'SR', 'RC', 'ES', 'EN', 'GA', 'MC', 'LM', 'JP', 'SDLR', 'RA')\n",
      "\n",
      "Padre2('RA', 'VA', 'SR', 'RC', 'ES', 'EN', 'GA', 'MC', 'LM', 'JP', 'SDLR', 'RA')\n",
      "\n",
      "\n"
     ]
    },
    {
     "data": {
      "text/plain": [
       "[['SR', 'MC', 'GA', 'EN', 'LM', 'ES', 'JP', 'SDLR', 'RA', 'RC', 'SR'],\n",
       " ['VA', 'ES', 'RA', 'LM', 'MC', 'JP', 'EN', 'SDLR', 'GA', 'RC', 'GA'],\n",
       " ['RA', 'VA', 'SR', 'RC', 'ES', 'EN', 'GA', 'MC', 'LM', 'JP', 'RA'],\n",
       " ['RA', 'VA', 'SR', 'RC', 'ES', 'EN', 'GA', 'MC', 'LM', 'JP', 'SR']]"
      ]
     },
     "execution_count": 8,
     "metadata": {},
     "output_type": "execute_result"
    }
   ],
   "source": [
    "def uniform_cross(parents: list) -> list:\n",
    "    \"\"\"La cruza uniforme selecciona bits(ciudades) aleatorios del padre 1 y padre 2 creando 2 hijos y no se tienen que repetir ciudades\"\"\"\n",
    "    silbings = []\n",
    "    parents_copy = parents\n",
    "    # Selecciono los 2 primeros padres y tiene que ser mayor a 1 para que puedan ser padres pares\n",
    "    while len(parents_copy) > 1:\n",
    "        \n",
    "        parent1 = random.choice(parents_copy)\n",
    "        parents_copy.remove(parent1)\n",
    "        parent2 = random.choice(parents_copy)\n",
    "        parents_copy.remove(parent2)\n",
    "    \n",
    "        child1 = list()\n",
    "        child2 = list()\n",
    "        \n",
    "        for city1, city2 in zip(parent1, parent2):\n",
    "            # Probabilidad 0,5 de cambiar\n",
    "            change = round(random.uniform(0, 1), 2)\n",
    "            if change <= 0.5 and city1 not in child1 and city2 not in child2:\n",
    "                child1.append(city1)\n",
    "                child2.append(city2)\n",
    "            else:\n",
    "                if city2 not in child1:\n",
    "                    child1.append(city2)\n",
    "                      \n",
    "                if city1 not in child2:\n",
    "                    child2.append(city1)\n",
    "                    \n",
    "        for city in parent1:\n",
    "            if city not in child1:\n",
    "                child1.insert(len(child1) - 2, city)\n",
    "            if city not in child2:\n",
    "                child2.insert(len(child2) - 2, city)\n",
    "                \n",
    "        # Correción para que el último valor \n",
    "        if child1[0] != child1[len(child1) -1]:\n",
    "            child1[len(child1) -1] = child1[0]\n",
    "        if child2[0] != child2[len(child2) -1]:\n",
    "            child2[len(child2) -1] = child1[2]\n",
    "            \n",
    "        print(f\"Hijo1 {child1} \\n\\nHijo2 {child2}\\n\\nPadre1{parent1}\\n\\nPadre2{parent2}\\n\\n\")\n",
    "        \n",
    "        silbings.append(child1)\n",
    "        silbings.append(child2)\n",
    "        \n",
    "    return silbings\n",
    "        \n",
    "silbings = uniform_cross(parents)\n",
    "silbings\n",
    "    "
   ]
  },
  {
   "cell_type": "markdown",
   "metadata": {},
   "source": [
    "## Mutación"
   ]
  },
  {
   "cell_type": "code",
   "execution_count": null,
   "metadata": {},
   "outputs": [],
   "source": []
  },
  {
   "cell_type": "markdown",
   "metadata": {},
   "source": [
    "# Algoritmo"
   ]
  },
  {
   "cell_type": "code",
   "execution_count": null,
   "metadata": {},
   "outputs": [],
   "source": []
  }
 ],
 "metadata": {
  "kernelspec": {
   "display_name": "Python 3",
   "language": "python",
   "name": "python3"
  },
  "language_info": {
   "codemirror_mode": {
    "name": "ipython",
    "version": 3
   },
   "file_extension": ".py",
   "mimetype": "text/x-python",
   "name": "python",
   "nbconvert_exporter": "python",
   "pygments_lexer": "ipython3",
   "version": "3.8.8"
  }
 },
 "nbformat": 4,
 "nbformat_minor": 4
}
