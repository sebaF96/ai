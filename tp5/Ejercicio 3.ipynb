{
 "cells": [
  {
   "cell_type": "markdown",
   "metadata": {},
   "source": [
    "# El problema de la mochila\n",
    "\n",
    "Se tiene una mochila y un conjunto de artículos con diferente peso y valor. Se intenta determinar que artículos se pueden colocar adentro de la mochila de manera que no se sobrepase el límite de peso de la mochila maximizando el valor total. \n",
    "\n",
    "Resolver el problema agregando heurística para los siguientes artículos y un límite de 30kg:\n",
    "\n",
    "<table style=\"font-size:16px\">\n",
    "    <tr>\n",
    "        <th>Item</th><td>Valor</td><td>Peso</td>\n",
    "    </tr>\n",
    "    <tr>\n",
    "        <th>A</th><td>4</td><td>12</td>\n",
    "    </tr>\n",
    "    <tr>\n",
    "        <th>B</th><td>2</td><td>2</td>\n",
    "    </tr>\n",
    "    <tr>\n",
    "        <th>C</th><td>10</td><td>4</td>\n",
    "    </tr>\n",
    "    <tr>\n",
    "        <th>D</th><td>1</td><td>1</td>\n",
    "    </tr>\n",
    "    <tr>\n",
    "        <th>E</th><td>5</td><td>15</td>\n",
    "    </tr>\n",
    "    <tr>\n",
    "        <th>F</th><td>3</td><td>2</td>\n",
    "    </tr>\n",
    "    <tr>\n",
    "        <th>G</th><td>14</td><td>7</td>\n",
    "    </tr>\n",
    "    <tr>\n",
    "        <th>H</th><td>4</td><td>10</td>\n",
    "    </tr>\n",
    "</table>"
   ]
  },
  {
   "cell_type": "markdown",
   "metadata": {},
   "source": [
    "## Codificación\n",
    "\n",
    "- Definir como se codificará el problema"
   ]
  },
  {
   "cell_type": "markdown",
   "metadata": {},
   "source": [
    " ### Carga de datos"
   ]
  },
  {
   "cell_type": "code",
   "execution_count": 1,
   "metadata": {},
   "outputs": [
    {
     "data": {
      "text/plain": [
       "['A', 'B', 'C', 'D', 'E', 'F', 'G', 'H']"
      ]
     },
     "execution_count": 1,
     "metadata": {},
     "output_type": "execute_result"
    }
   ],
   "source": [
    "import numpy\n",
    "import matplotlib\n",
    "import matplotlib.pyplot as plt\n",
    "import itertools\n",
    "import json\n",
    "import random\n",
    "\n",
    "with open(\"backpack.json\", \"r\") as fd:\n",
    "    items = json.loads(fd.read())\n",
    "backpack_items = list(items.keys())\n",
    "backpack_items"
   ]
  },
  {
   "cell_type": "markdown",
   "metadata": {},
   "source": [
    "### Crear combinaciones de items"
   ]
  },
  {
   "cell_type": "code",
   "execution_count": 2,
   "metadata": {},
   "outputs": [],
   "source": [
    "def calculate_weight(combination: list) -> int:\n",
    "    weight = 0\n",
    "    for item in combination:\n",
    "        weight += items[item][\"weight\"]\n",
    "    return weight\n",
    "\n",
    "def calculate_value(combinations: list) -> list:\n",
    "    values = []\n",
    "    for combination in combinations:\n",
    "        bag_val = 0\n",
    "        for item in combination:\n",
    "            bag_val += items[item][\"value\"]\n",
    "        values.append(bag_val)\n",
    "    return values\n",
    "        \n",
    "\n",
    "def random_size(size: int):\n",
    "    total_combinations = []\n",
    "    for x in range(size):\n",
    "        for combination in itertools.combinations(backpack_items, random.choice(list(range(1, 8)))):\n",
    "            if calculate_weight(combination) <= 30:\n",
    "                total_combinations.append(combination)\n",
    "    return total_combinations\n",
    "    \n",
    "        \n",
    "def create_population(size: int, total_combinations) -> list:\n",
    "    \"\"\"Recibe la cantidad de combinaciones aleatorias\"\"\"\n",
    "    random_combinations = []\n",
    "    for x in range(size):\n",
    "        choice = random.choice(total_combinations)\n",
    "        random_combinations.append(choice)\n",
    "        total_combinations.remove(choice)\n",
    "    return random_combinations\n"
   ]
  },
  {
   "cell_type": "code",
   "execution_count": 3,
   "metadata": {},
   "outputs": [
    {
     "data": {
      "text/plain": [
       "[23, 18, 17, 30, 22, 33, 32, 29, 15, 24, 10, 13, 6, 16, 11, 10, 9, 33, 32, 21]"
      ]
     },
     "execution_count": 3,
     "metadata": {},
     "output_type": "execute_result"
    }
   ],
   "source": [
    "total_combinations = random_size(100)\n",
    "pop = create_population(20, total_combinations)\n",
    "values = calculate_value(pop)\n",
    "values"
   ]
  },
  {
   "cell_type": "markdown",
   "metadata": {},
   "source": [
    "## Adaptación\n",
    "\n",
    "- Definir como se calculará la adaptación de un individuo\n",
    "    La adaptación será aceptando las combinaciones cuyo valor sea mayor a 20\n",
    "- ¿Existen estados que deben ser penalizados?\n",
    "    Algunos estados deben de ser penalizados porque el valor que aporta la combinación de la mochila no se maximiza"
   ]
  },
  {
   "cell_type": "code",
   "execution_count": 4,
   "metadata": {},
   "outputs": [
    {
     "data": {
      "text/plain": [
       "[23, 30, 22, 33, 32, 29, 24, 33, 32, 21]"
      ]
     },
     "execution_count": 4,
     "metadata": {},
     "output_type": "execute_result"
    }
   ],
   "source": [
    "def adaptation_function(bag_values: list, population: list) -> list:\n",
    "    \"\"\"Esta funcion retorna una lista con las combinaciones que pasan la función de adaptación\"\"\"\n",
    "    adapted_population = []\n",
    "    for value in bag_values:\n",
    "        if value >= 20:\n",
    "            adapted_population.append(population[bag_values.index(value)])\n",
    "    return adapted_population\n",
    "        \n",
    "adapted_pop = adaptation_function(values, pop)\n",
    "new_vals = calculate_value(adapted_pop)\n",
    "new_vals"
   ]
  },
  {
   "cell_type": "markdown",
   "metadata": {},
   "source": [
    "## Selección"
   ]
  },
  {
   "cell_type": "markdown",
   "metadata": {},
   "source": [
    "### Justificación elección de seleccion por ranking:\n",
    "\n",
    "**Respuesta:**"
   ]
  },
  {
   "cell_type": "code",
   "execution_count": 5,
   "metadata": {},
   "outputs": [
    {
     "data": {
      "text/plain": [
       "[('C', 'D', 'E', 'F', 'G'),\n",
       " ('C', 'D', 'E', 'F', 'G'),\n",
       " ('C', 'D', 'F', 'G', 'H'),\n",
       " ('C', 'D', 'F', 'G', 'H'),\n",
       " ('B', 'C', 'G', 'H'),\n",
       " ('C', 'E', 'G'),\n",
       " ('B', 'E', 'F', 'G'),\n",
       " ('B', 'F', 'G', 'H'),\n",
       " ('E', 'F', 'G'),\n",
       " ('A', 'F', 'G')]"
      ]
     },
     "execution_count": 5,
     "metadata": {},
     "output_type": "execute_result"
    }
   ],
   "source": [
    "def ranking_selection(adapted_pop: list, fitness: list) -> list:\n",
    "    \"\"\"Recibe los valores de la poblacion adaptada junto con la combinación y ordena la combinacion con el rank\"\"\"\n",
    "    indexes = []\n",
    "    fitness_copy = fitness.copy()\n",
    "    ranked_pop = []\n",
    "    fitness_copy.sort(reverse=True)\n",
    "    for value in fitness_copy:\n",
    "        indexes.append(fitness.index(value))\n",
    "    for index in indexes:\n",
    "        ranked_pop.append(adapted_pop[index])\n",
    "    \n",
    "    return ranked_pop\n",
    "\n",
    "ranked_pop = ranking_selection(adapted_pop, new_vals)\n",
    "ranked_pop        "
   ]
  },
  {
   "cell_type": "markdown",
   "metadata": {},
   "source": [
    "## Cruza"
   ]
  },
  {
   "cell_type": "code",
   "execution_count": null,
   "metadata": {},
   "outputs": [],
   "source": []
  },
  {
   "cell_type": "markdown",
   "metadata": {},
   "source": [
    "## Mutación"
   ]
  },
  {
   "cell_type": "code",
   "execution_count": null,
   "metadata": {},
   "outputs": [],
   "source": []
  },
  {
   "cell_type": "markdown",
   "metadata": {},
   "source": [
    "# Algoritmo"
   ]
  },
  {
   "cell_type": "code",
   "execution_count": null,
   "metadata": {},
   "outputs": [],
   "source": []
  }
 ],
 "metadata": {
  "kernelspec": {
   "display_name": "Python 3",
   "language": "python",
   "name": "python3"
  },
  "language_info": {
   "codemirror_mode": {
    "name": "ipython",
    "version": 3
   },
   "file_extension": ".py",
   "mimetype": "text/x-python",
   "name": "python",
   "nbconvert_exporter": "python",
   "pygments_lexer": "ipython3",
   "version": "3.8.8"
  }
 },
 "nbformat": 4,
 "nbformat_minor": 4
}
