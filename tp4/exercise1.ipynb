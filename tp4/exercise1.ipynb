{
 "cells": [
  {
   "cell_type": "markdown",
   "metadata": {},
   "source": [
    "# El problema del viajante\n",
    "\n",
    "Dada una lista de ciudades y las distancias entre cada par de ciudades determinar la ruta más pequeña posible que visite cada ciudad y regrese a la ciudad de origen.\n",
    "\n",
    "El problema en esta situación consiste en ser un problema de combinatoria donde el costo computacional de evaluar todas las combinaciones posibles aumenta mientras se incrementa la cantidad de ciudades.\n",
    "\n",
    "Para obtener lo datos para la resolución y la heurística puede utilizarse la herramienta Google Maps."
   ]
  },
  {
   "cell_type": "markdown",
   "metadata": {},
   "source": [
    "# Primera parte\n",
    "\n",
    "Resolver el problema utilizando un método de fuerza bruta para los siguientes destinos:\n",
    "\n",
    "- San Rafael\n",
    "- El sosneado\n",
    "- Jaime Prats\n",
    "- Gral. Alvear\n",
    "\n",
    "\n",
    "- **SR - ES:** 137 km\n",
    "- **SR - JP:** 70,1 km\n",
    "- **SR - GA:** 84,8 km\n",
    "- **ES - JP:** 199 km\n",
    "- **ES - GA:** 214 km\n",
    "- **JP - GA:** 15 km\n",
    "\n",
    "Mostrar el costo de todas las rutas"
   ]
  },
  {
   "cell_type": "code",
   "execution_count": 18,
   "metadata": {},
   "outputs": [
    {
     "name": "stdout",
     "output_type": "stream",
     "text": [
      "Ruta: SR -> ES -> JP -> GA -> SR\n",
      "Distancia: 435.4 km\n",
      "\n",
      "Ruta: SR -> ES -> GA -> JP -> SR\n",
      "Distancia: 436.1 km\n",
      "\n",
      "Ruta: SR -> JP -> ES -> GA -> SR\n",
      "Distancia: 567.5 km\n",
      "\n",
      "Ruta: SR -> JP -> GA -> ES -> SR\n",
      "Distancia: 436.1 km\n",
      "\n",
      "Ruta: SR -> GA -> ES -> JP -> SR\n",
      "Distancia: 567.9 km\n",
      "\n",
      "Ruta: SR -> GA -> JP -> ES -> SR\n",
      "Distancia: 435.8 km\n",
      "\n",
      "Ruta mas efectiva: SR -> ES -> JP -> GA -> SR\n",
      "Distancia estimada: 435.4 km\n"
     ]
    }
   ],
   "source": [
    "sr_distances = {\"ES\": 137, \"JP\": 70.1, \"GA\": 84.8}\n",
    "es_distances = {\"SR\": 137, \"JP\": 199, \"GA\": 214}\n",
    "jp_distances = {\"SR\": 70.1, \"ES\": 199, \"GA\": 15}\n",
    "ga_distances = {\"SR\": 84.4, \"ES\": 214, \"JP\": 15}\n",
    "\n",
    "\n",
    "def get_distances_for_city(city: str) -> dict:\n",
    "    if city == \"SR\":\n",
    "        distances = sr_distances\n",
    "    elif city == \"ES\":\n",
    "        distances = es_distances\n",
    "    elif city == \"JP\":\n",
    "        distances = jp_distances\n",
    "    elif city == \"GA\":\n",
    "        distances = ga_distances\n",
    "    return distances\n",
    "\n",
    "\n",
    "def calculate_distance_of_route(route):\n",
    "    # San rafael a la primera ciudad\n",
    "    distance = sr_distances[route[0]]\n",
    "\n",
    "    # Primer ciudad a segunda\n",
    "    distances_for_first_city = get_distances_for_city(route[0])\n",
    "    distance += distances_for_first_city[route[1]]\n",
    "\n",
    "    # Segunda ciudad a tercera\n",
    "    distances_for_second_city = get_distances_for_city(route[1])\n",
    "    distance += distances_for_second_city[route[2]]\n",
    "\n",
    "    # Tercer ciudad a Sanra\n",
    "    distances_for_third_city = get_distances_for_city(route[2])\n",
    "    distance += distances_for_third_city[\"SR\"]\n",
    "    return distance\n",
    "\n",
    "\n",
    "min_distance = float('inf')\n",
    "shortest_route = None\n",
    "\n",
    "for route in itertools.permutations([\"ES\", \"JP\", \"GA\"]):\n",
    "    distance_of_current_route = calculate_distance_of_route(route)\n",
    "    route = list(route)\n",
    "    route.insert(0, 'SR')\n",
    "    route.append('SR')\n",
    "    print('Ruta: ' + ' -> '.join(route))\n",
    "    print(f'Distancia: {distance_of_current_route} km\\n')\n",
    "    if distance_of_current_route < min_distance:\n",
    "        min_distance = distance_of_current_route\n",
    "        shortest_route = route\n",
    "\n",
    "print('Ruta mas efectiva: ' + ' -> '.join(shortest_route))\n",
    "print(f'Distancia estimada: {min_distance} km')"
   ]
  },
  {
   "cell_type": "markdown",
   "metadata": {},
   "source": [
    "# Segunda parte\n",
    "\n",
    "Resolver el problema agregando heurística para los siguientes destinos:\n",
    "\n",
    "- San Rafael\n",
    "- El Nihuil\n",
    "- El sosneado\n",
    "- Villa Atuel\n",
    "- Jaime Prats\n",
    "- Las Malvinas\n",
    "- Salto de las Rosas\n",
    "- Rama caída\n",
    "- Monte Coman\n",
    "- Gral. Alvear\n",
    "- Rincón del Atuel\n",
    "\n",
    "Responder:\n",
    "\n",
    "- ¿Qué heurística se utilizó? \n"
   ]
  },
  {
   "cell_type": "code",
   "execution_count": null,
   "metadata": {},
   "outputs": [],
   "source": []
  }
 ],
 "metadata": {
  "kernelspec": {
   "display_name": "Python 3",
   "language": "python",
   "name": "python3"
  },
  "language_info": {
   "codemirror_mode": {
    "name": "ipython",
    "version": 3
   },
   "file_extension": ".py",
   "mimetype": "text/x-python",
   "name": "python",
   "nbconvert_exporter": "python",
   "pygments_lexer": "ipython3",
   "version": "3.8.3"
  }
 },
 "nbformat": 4,
 "nbformat_minor": 4
}
