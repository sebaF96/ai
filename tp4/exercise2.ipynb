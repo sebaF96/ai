{
 "cells": [
  {
   "cell_type": "markdown",
   "metadata": {},
   "source": [
    "# El problema de la mochila\n",
    "\n",
    "Se tiene una mochila y un conjunto de artículos con diferente peso y valor. Se intenta determinar que artículos se pueden colocar adentro de la mochila de manera que no se sobrepase el límite de peso de la mochila maximizando el valor total. \n",
    "\n",
    "## Primera parte\n",
    "\n",
    "Resolver el problema utilizando un método de fuerza bruta para los siguientes artículos y un límite de 15kg:\n",
    "\n",
    "<table style=\"font-size:16px\">\n",
    "    <tr>\n",
    "        <th>Item</th><td>Valor</td><td>Peso</td>\n",
    "    </tr>\n",
    "    <tr>\n",
    "        <th>A</th><td>4</td><td>12</td>\n",
    "    </tr>\n",
    "    <tr>\n",
    "        <th>B</th><td>2</td><td>2</td>\n",
    "    </tr>\n",
    "    <tr>\n",
    "        <th>C</th><td>10</td><td>4</td>\n",
    "    </tr>\n",
    "    <tr>\n",
    "        <th>D</th><td>1</td><td>1</td>\n",
    "    </tr>\n",
    "</table>\n",
    "\n",
    "Mostrar el resultado para todos los casos"
   ]
  },
  {
   "cell_type": "code",
   "execution_count": null,
   "metadata": {},
   "outputs": [],
   "source": []
  },
  {
   "cell_type": "markdown",
   "metadata": {},
   "source": [
    "# Segunda parte\n",
    "\n",
    "Resolver el problema agregando heurística para los siguientes artículos y un límite de 30kg:\n",
    "\n",
    "<table style=\"font-size:16px\">\n",
    "    <tr>\n",
    "        <th>Item</th><td>Valor</td><td>Peso</td>\n",
    "    </tr>\n",
    "    <tr>\n",
    "        <th>A</th><td>4</td><td>12</td>\n",
    "    </tr>\n",
    "    <tr>\n",
    "        <th>B</th><td>2</td><td>2</td>\n",
    "    </tr>\n",
    "    <tr>\n",
    "        <th>C</th><td>10</td><td>4</td>\n",
    "    </tr>\n",
    "    <tr>\n",
    "        <th>D</th><td>1</td><td>1</td>\n",
    "    </tr>\n",
    "    <tr>\n",
    "        <th>E</th><td>5</td><td>15</td>\n",
    "    </tr>\n",
    "    <tr>\n",
    "        <th>F</th><td>3</td><td>2</td>\n",
    "    </tr>\n",
    "    <tr>\n",
    "        <th>G</th><td>14</td><td>7</td>\n",
    "    </tr>\n",
    "    <tr>\n",
    "        <th>H</th><td>4</td><td>10</td>\n",
    "    </tr>\n",
    "</table>\n",
    "\n",
    "Responder:\n",
    "\n",
    "- ¿Qué heurística se utilizó? \n"
   ]
  },
  {
   "cell_type": "code",
   "execution_count": null,
   "metadata": {},
   "outputs": [],
   "source": []
  }
 ],
 "metadata": {
  "kernelspec": {
   "display_name": "Python 3",
   "language": "python",
   "name": "python3"
  },
  "language_info": {
   "codemirror_mode": {
    "name": "ipython",
    "version": 3
   },
   "file_extension": ".py",
   "mimetype": "text/x-python",
   "name": "python",
   "nbconvert_exporter": "python",
   "pygments_lexer": "ipython3",
   "version": "3.7.6"
  }
 },
 "nbformat": 4,
 "nbformat_minor": 4
}
