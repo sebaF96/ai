{
 "cells": [
  {
   "cell_type": "markdown",
   "metadata": {},
   "source": [
    "# El problema de la mochila\n",
    "\n",
    "Se tiene una mochila y un conjunto de artículos con diferente peso y valor. Se intenta determinar que artículos se pueden colocar adentro de la mochila de manera que no se sobrepase el límite de peso de la mochila maximizando el valor total. \n",
    "\n",
    "## Primera parte\n",
    "\n",
    "Resolver el problema utilizando un método de fuerza bruta para los siguientes artículos y un límite de 15kg:\n",
    "\n",
    "<table style=\"font-size:16px\">\n",
    "    <tr>\n",
    "        <th>Item</th><td>Valor</td><td>Peso</td>\n",
    "    </tr>\n",
    "    <tr>\n",
    "        <th>A</th><td>4</td><td>12</td>\n",
    "    </tr>\n",
    "    <tr>\n",
    "        <th>B</th><td>2</td><td>2</td>\n",
    "    </tr>\n",
    "    <tr>\n",
    "        <th>C</th><td>10</td><td>4</td>\n",
    "    </tr>\n",
    "    <tr>\n",
    "        <th>D</th><td>1</td><td>1</td>\n",
    "    </tr>\n",
    "</table>\n",
    "\n",
    "Mostrar el resultado para todos los casos"
   ]
  },
  {
   "cell_type": "code",
   "execution_count": 1,
   "metadata": {},
   "outputs": [
    {
     "name": "stdout",
     "output_type": "stream",
     "text": [
      "('A', 'B', 'C', 'D')\n",
      "('A', 'B', 'D', 'C')\n",
      "('A', 'C', 'B', 'D')\n",
      "('A', 'C', 'D', 'B')\n",
      "('A', 'D', 'B', 'C')\n",
      "('A', 'D', 'C', 'B')\n",
      "('B', 'A', 'C', 'D')\n",
      "('B', 'A', 'D', 'C')\n",
      "('B', 'C', 'A', 'D')\n",
      "('B', 'C', 'D', 'A')\n",
      "('B', 'D', 'A', 'C')\n",
      "('B', 'D', 'C', 'A')\n",
      "('C', 'A', 'B', 'D')\n",
      "('C', 'A', 'D', 'B')\n",
      "('C', 'B', 'A', 'D')\n",
      "('C', 'B', 'D', 'A')\n",
      "('C', 'D', 'A', 'B')\n",
      "('C', 'D', 'B', 'A')\n",
      "('D', 'A', 'B', 'C')\n",
      "('D', 'A', 'C', 'B')\n",
      "('D', 'B', 'A', 'C')\n",
      "('D', 'B', 'C', 'A')\n",
      "('D', 'C', 'A', 'B')\n",
      "('D', 'C', 'B', 'A')\n",
      "('A', 'B', 'C')\n",
      "('A', 'B', 'D')\n",
      "('A', 'C', 'D')\n",
      "('B', 'C', 'D')\n",
      "('A', 'B')\n",
      "('A', 'C')\n",
      "('A', 'D')\n",
      "('B', 'C')\n",
      "('B', 'D')\n",
      "('C', 'D')\n",
      "('A',)\n",
      "('B',)\n",
      "('C',)\n",
      "('D',)\n"
     ]
    }
   ],
   "source": [
    "import itertools\n",
    "items = {\n",
    "    \"A\": {\n",
    "        \"value\": 4,\n",
    "        \"weight\": 12\n",
    "    },\n",
    "    \"B\": {\n",
    "        \"value\": 2,\n",
    "        \"weight\": 2\n",
    "    },\n",
    "    \"C\": {\n",
    "        \"value\": 10,\n",
    "        \"weight\": 4\n",
    "    },\n",
    "    \"D\": {\n",
    "        \"value\": 1,\n",
    "        \"weight\": 1\n",
    "    }\n",
    "}\n",
    "combinations = []\n",
    "for combination in itertools.permutations([\"A\", \"B\", \"C\", \"D\"]):\n",
    "    combinations.append(combination)\n",
    "for combination in itertools.combinations([\"A\", \"B\", \"C\", \"D\"], 3):\n",
    "    combinations.append(combination)\n",
    "for combination in itertools.combinations([\"A\", \"B\", \"C\", \"D\"], 2):\n",
    "    combinations.append(combination)\n",
    "for combination in itertools.combinations([\"A\", \"B\", \"C\", \"D\"], 1):\n",
    "    combinations.append(combination)\n",
    "for c in combinations:\n",
    "    print(c)"
   ]
  },
  {
   "cell_type": "code",
   "execution_count": 2,
   "metadata": {},
   "outputs": [
    {
     "name": "stdout",
     "output_type": "stream",
     "text": [
      "El mejor valor es 13 con los items ('B', 'C', 'D') y un peso de: 7\n"
     ]
    }
   ],
   "source": [
    "def calculate_stats(combination: tuple):\n",
    "    weight = 0\n",
    "    value = 0\n",
    "    for item in combination:\n",
    "        weight += items[item][\"weight\"]\n",
    "        value += items[item][\"value\"]\n",
    "    return value, weight\n",
    "\n",
    "\n",
    "max_weight = 15\n",
    "max_value = -1\n",
    "best_combination = None\n",
    "\n",
    "for combination in combinations:\n",
    "    val, w = calculate_stats(combination)\n",
    "    if w > max_weight:\n",
    "        continue\n",
    "\n",
    "    if val > max_value:\n",
    "        max_value = val\n",
    "        best_combination = combination\n",
    "        best_w = w\n",
    "\n",
    "print(f\"El mejor valor es {max_value} con los items {best_combination} y un peso de: {best_w}\")"
   ]
  },
  {
   "cell_type": "markdown",
   "metadata": {},
   "source": [
    "# Segunda parte\n",
    "\n",
    "Resolver el problema agregando heurística para los siguientes artículos y un límite de 30kg:\n",
    "\n",
    "<table style=\"font-size:16px\">\n",
    "    <tr>\n",
    "        <th>Item</th><td>Valor</td><td>Peso</td>\n",
    "    </tr>\n",
    "    <tr>\n",
    "        <th>A</th><td>4</td><td>12</td>\n",
    "    </tr>\n",
    "    <tr>\n",
    "        <th>B</th><td>2</td><td>2</td>\n",
    "    </tr>\n",
    "    <tr>\n",
    "        <th>C</th><td>10</td><td>4</td>\n",
    "    </tr>\n",
    "    <tr>\n",
    "        <th>D</th><td>1</td><td>1</td>\n",
    "    </tr>\n",
    "    <tr>\n",
    "        <th>E</th><td>5</td><td>15</td>\n",
    "    </tr>\n",
    "    <tr>\n",
    "        <th>F</th><td>3</td><td>2</td>\n",
    "    </tr>\n",
    "    <tr>\n",
    "        <th>G</th><td>14</td><td>7</td>\n",
    "    </tr>\n",
    "    <tr>\n",
    "        <th>H</th><td>4</td><td>10</td>\n",
    "    </tr>\n",
    "</table>\n",
    "\n",
    "Responder:\n",
    "\n",
    "- ¿Qué heurística se utilizó? \n"
   ]
  },
  {
   "cell_type": "code",
   "execution_count": 3,
   "metadata": {},
   "outputs": [
    {
     "name": "stdout",
     "output_type": "stream",
     "text": [
      "La mochila contiene los siguientes items ['G', 'C', 'E', 'F', 'B'] pesando 30 kg\n"
     ]
    }
   ],
   "source": [
    "import json\n",
    "\n",
    "with open(\"backpack.json\", \"r\") as fd:\n",
    "    items = json.loads(fd.read())\n",
    "\n",
    "backpack_weight = 0\n",
    "backpack_items = []\n",
    "while len(items):\n",
    "    max_v = -1\n",
    "    best_item = None\n",
    "    for item in items:\n",
    "        value = items[item][\"value\"]\n",
    "        if (value > max_v):\n",
    "            best_item = item\n",
    "            max_v = value\n",
    "        elif value == max_v and items[item][\"weight\"] < items[best_item][\"weight\"]:\n",
    "            best_item = item\n",
    "            max_v = value\n",
    "    if(items[best_item][\"weight\"] + backpack_weight <= 30):\n",
    "        backpack_items.append(best_item)\n",
    "        backpack_weight += items[best_item][\"weight\"]\n",
    "    items.pop(best_item)\n",
    "    if backpack_weight == 30:\n",
    "        break\n",
    "\n",
    "print(f\"La mochila contiene los siguientes items {backpack_items} pesando {backpack_weight} kg\")"
   ]
  },
  {
   "cell_type": "markdown",
   "metadata": {},
   "source": [
    "La heurística utilizada consistió en ir llenando la mochila con el item de mas valor, siempre y cuando su peso lo permitiera.\n",
    "\n",
    "Si se encontraban dos items con el mismo valor y ese valor era el mas alto, se elegía el de menos peso.\n",
    "\n",
    "Si el item de mas valor no entraba en la mochila, se procedía a probar con el siguiente. Y así sucesivamente hasta llegar a los 30kg o meter todos los items"
   ]
  }
 ],
 "metadata": {
  "kernelspec": {
   "display_name": "Python 3",
   "language": "python",
   "name": "python3"
  },
  "language_info": {
   "codemirror_mode": {
    "name": "ipython",
    "version": 3
   },
   "file_extension": ".py",
   "mimetype": "text/x-python",
   "name": "python",
   "nbconvert_exporter": "python",
   "pygments_lexer": "ipython3",
   "version": "3.8.3"
  }
 },
 "nbformat": 4,
 "nbformat_minor": 4
}
