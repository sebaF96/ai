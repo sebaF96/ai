{
 "cells": [
  {
   "cell_type": "markdown",
   "metadata": {},
   "source": [
    "# Grilla de colores\n",
    "\n",
    "Se tiene una grilla de cuadrados de 9×9, cada uno comienza pintado aleatoriamente de rojo o azul. \n",
    "\n",
    "<img src=\"grilla.jpg\" width=\"200\">\n",
    "Se quiere pintar algunos cuadrados de manera que si se divide la grilla total en sub-grillas de 3x3 cada una de estas sub-grillas contenga cuadrados del mismo color pero el color de cada sub-grilla sea diferente que el de las subgrillas adyacentes.\n",
    "<img src=\"grilla-solucion-1.jpg\" width=\"200\"><img src=\"grilla-solucion-2.jpg\" width=\"200\" >\n",
    "Resolver el problema de manera que no sea necesario pintar un cuadrado más de una vez y se pinte la cantidad mínima de cuadrados\n",
    "\n",
    "\n"
   ]
  },
  {
   "cell_type": "code",
   "execution_count": null,
   "metadata": {},
   "outputs": [],
   "source": []
  }
 ],
 "metadata": {
  "kernelspec": {
   "display_name": "Python 3",
   "language": "python",
   "name": "python3"
  },
  "language_info": {
   "codemirror_mode": {
    "name": "ipython",
    "version": 3
   },
   "file_extension": ".py",
   "mimetype": "text/x-python",
   "name": "python",
   "nbconvert_exporter": "python",
   "pygments_lexer": "ipython3",
   "version": "3.7.6"
  }
 },
 "nbformat": 4,
 "nbformat_minor": 4
}
