{
 "cells": [
  {
   "cell_type": "markdown",
   "metadata": {},
   "source": [
    "# Grilla de colores\n",
    "\n",
    "Se tiene una grilla de cuadrados de 9×9, cada uno comienza pintado aleatoriamente de rojo o azul. \n",
    "\n",
    "<img src=\"grilla.jpg\" width=\"200\">\n",
    "Se quiere pintar algunos cuadrados de manera que si se divide la grilla total en sub-grillas de 3x3 cada una de estas sub-grillas contenga cuadrados del mismo color pero el color de cada sub-grilla sea diferente que el de las subgrillas adyacentes.\n",
    "<img src=\"grilla-solucion-1.jpg\" width=\"200\"><img src=\"grilla-solucion-2.jpg\" width=\"200\" >\n",
    "Resolver el problema de manera que no sea necesario pintar un cuadrado más de una vez y se pinte la cantidad mínima de cuadrados\n",
    "\n",
    "\n"
   ]
  },
  {
   "cell_type": "code",
   "execution_count": 1,
   "metadata": {},
   "outputs": [
    {
     "name": "stdout",
     "output_type": "stream",
     "text": [
      "Solución 1:\n"
     ]
    },
    {
     "data": {
      "text/plain": [
       "[[0, 0, 0, 1, 1, 1, 0, 0, 0],\n",
       " [0, 0, 0, 1, 1, 1, 0, 0, 0],\n",
       " [0, 0, 0, 1, 1, 1, 0, 0, 0],\n",
       " [1, 1, 1, 0, 0, 0, 1, 1, 1],\n",
       " [1, 1, 1, 0, 0, 0, 1, 1, 1],\n",
       " [1, 1, 1, 0, 0, 0, 1, 1, 1],\n",
       " [0, 0, 0, 1, 1, 1, 0, 0, 0],\n",
       " [0, 0, 0, 1, 1, 1, 0, 0, 0],\n",
       " [0, 0, 0, 1, 1, 1, 0, 0, 0]]"
      ]
     },
     "metadata": {},
     "output_type": "display_data"
    },
    {
     "name": "stdout",
     "output_type": "stream",
     "text": [
      "Solución 2\n"
     ]
    },
    {
     "data": {
      "text/plain": [
       "[[1, 1, 1, 0, 0, 0, 1, 1, 1],\n",
       " [1, 1, 1, 0, 0, 0, 1, 1, 1],\n",
       " [1, 1, 1, 0, 0, 0, 1, 1, 1],\n",
       " [0, 0, 0, 1, 1, 1, 0, 0, 0],\n",
       " [0, 0, 0, 1, 1, 1, 0, 0, 0],\n",
       " [0, 0, 0, 1, 1, 1, 0, 0, 0],\n",
       " [1, 1, 1, 0, 0, 0, 1, 1, 1],\n",
       " [1, 1, 1, 0, 0, 0, 1, 1, 1],\n",
       " [1, 1, 1, 0, 0, 0, 1, 1, 1]]"
      ]
     },
     "metadata": {},
     "output_type": "display_data"
    }
   ],
   "source": [
    "row_reds = [0, 0, 0, 1, 1, 1, 0, 0, 0]\n",
    "row_blues = [1, 1, 1, 0, 0, 0, 1, 1, 1]\n",
    "\n",
    "solucion1 = [row_blues if i in (3, 4, 5) else row_reds for i in range(9)]\n",
    "solucion2 = [row_reds if i in (3, 4, 5) else row_blues for i in range(9)]\n",
    "print(\"Solución 1:\")\n",
    "display(solucion1)\n",
    "print(\"Solución 2\")\n",
    "display(solucion2)"
   ]
  },
  {
   "cell_type": "code",
   "execution_count": 2,
   "metadata": {},
   "outputs": [
    {
     "data": {
      "text/plain": [
       "[[0, 0, 1, 1, 1, 0, 1, 0, 1],\n",
       " [1, 0, 0, 0, 1, 1, 1, 1, 0],\n",
       " [1, 0, 0, 1, 1, 0, 1, 0, 0],\n",
       " [1, 0, 0, 1, 0, 1, 0, 1, 0],\n",
       " [0, 0, 1, 0, 1, 0, 0, 0, 0],\n",
       " [1, 0, 0, 1, 0, 1, 0, 1, 0],\n",
       " [1, 1, 0, 1, 1, 0, 1, 0, 1],\n",
       " [1, 1, 1, 0, 1, 1, 0, 1, 0],\n",
       " [0, 1, 1, 1, 0, 1, 1, 1, 0]]"
      ]
     },
     "execution_count": 2,
     "metadata": {},
     "output_type": "execute_result"
    }
   ],
   "source": [
    "import random\n",
    "\n",
    "grilla = [[random.choice((0, 1)) for n in range(9)] for n in range(9)]\n",
    "grilla"
   ]
  },
  {
   "cell_type": "code",
   "execution_count": 3,
   "metadata": {},
   "outputs": [
    {
     "name": "stdout",
     "output_type": "stream",
     "text": [
      "Celdas a pintar para llegar a solución 1: 44\n",
      "Celdas a pintar para llegar a solución 2: 37\n"
     ]
    }
   ],
   "source": [
    "cells_to_paint_1 = 0\n",
    "cells_to_paint_2 = 0\n",
    "\n",
    "for x in range(len(grilla)):\n",
    "    for y in range(len(grilla[x])):\n",
    "        cell_color = grilla[x][y]\n",
    "        if cell_color != solucion1[x][y]:\n",
    "            cells_to_paint_1 += 1\n",
    "        if cell_color != solucion2[x][y]:\n",
    "            cells_to_paint_2 += 1\n",
    "\n",
    "print(f'Celdas a pintar para llegar a solución 1: {cells_to_paint_1}')\n",
    "print(f'Celdas a pintar para llegar a solución 2: {cells_to_paint_2}')"
   ]
  },
  {
   "cell_type": "code",
   "execution_count": 4,
   "metadata": {},
   "outputs": [
    {
     "data": {
      "text/plain": [
       "[[1, 1, 1, 0, 0, 0, 1, 1, 1],\n",
       " [1, 1, 1, 0, 0, 0, 1, 1, 1],\n",
       " [1, 1, 1, 0, 0, 0, 1, 1, 1],\n",
       " [0, 0, 0, 1, 1, 1, 0, 0, 0],\n",
       " [0, 0, 0, 1, 1, 1, 0, 0, 0],\n",
       " [0, 0, 0, 1, 1, 1, 0, 0, 0],\n",
       " [1, 1, 1, 0, 0, 0, 1, 1, 1],\n",
       " [1, 1, 1, 0, 0, 0, 1, 1, 1],\n",
       " [1, 1, 1, 0, 0, 0, 1, 1, 1]]"
      ]
     },
     "execution_count": 4,
     "metadata": {},
     "output_type": "execute_result"
    }
   ],
   "source": [
    "target_matrix = solucion1 if cells_to_paint_1 < cells_to_paint_2 else solucion2\n",
    "target_matrix"
   ]
  },
  {
   "cell_type": "code",
   "execution_count": 5,
   "metadata": {},
   "outputs": [
    {
     "name": "stdout",
     "output_type": "stream",
     "text": [
      "Cantidad de pintadas: 37\n"
     ]
    },
    {
     "data": {
      "text/plain": [
       "[[1, 1, 1, 0, 0, 0, 1, 1, 1],\n",
       " [1, 1, 1, 0, 0, 0, 1, 1, 1],\n",
       " [1, 1, 1, 0, 0, 0, 1, 1, 1],\n",
       " [0, 0, 0, 1, 1, 1, 0, 0, 0],\n",
       " [0, 0, 0, 1, 1, 1, 0, 0, 0],\n",
       " [0, 0, 0, 1, 1, 1, 0, 0, 0],\n",
       " [1, 1, 1, 0, 0, 0, 1, 1, 1],\n",
       " [1, 1, 1, 0, 0, 0, 1, 1, 1],\n",
       " [1, 1, 1, 0, 0, 0, 1, 1, 1]]"
      ]
     },
     "execution_count": 5,
     "metadata": {},
     "output_type": "execute_result"
    }
   ],
   "source": [
    "paints = 0\n",
    "for x in range(len(grilla)):\n",
    "    for y in range(len(grilla[x])):\n",
    "        if grilla[x][y] != target_matrix[x][y]:\n",
    "            paints += 1\n",
    "            grilla[x][y] = target_matrix[x][y]\n",
    "\n",
    "print(f'Cantidad de pintadas: {paints}')\n",
    "grilla"
   ]
  }
 ],
 "metadata": {
  "kernelspec": {
   "display_name": "Python 3",
   "language": "python",
   "name": "python3"
  },
  "language_info": {
   "codemirror_mode": {
    "name": "ipython",
    "version": 3
   },
   "file_extension": ".py",
   "mimetype": "text/x-python",
   "name": "python",
   "nbconvert_exporter": "python",
   "pygments_lexer": "ipython3",
   "version": "3.8.3"
  }
 },
 "nbformat": 4,
 "nbformat_minor": 4
}
