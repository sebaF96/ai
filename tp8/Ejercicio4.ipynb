{
 "cells": [
  {
   "cell_type": "markdown",
   "metadata": {},
   "source": [
    "Este conjunto de datos obtiene el precio de casas expresado por unidad de area. Los datos contienen la fecha de la última transacción sobre la propiedad, la edad de la casa, la distancia a la estación de metro más cercana, la cantidad de tiendas cercanas, latitud y longitud."
   ]
  },
  {
   "cell_type": "code",
   "execution_count": 1,
   "metadata": {},
   "outputs": [],
   "source": [
    "import pandas as pd\n",
    "from sklearn.model_selection import train_test_split \n",
    "from sklearn.neural_network import MLPRegressor\n",
    "from sklearn.tree import DecisionTreeRegressor\n",
    "from sklearn import metrics\n",
    "import numpy as np\n",
    "import matplotlib.pyplot as plt\n",
    "%matplotlib inline"
   ]
  },
  {
   "cell_type": "code",
   "execution_count": 2,
   "metadata": {},
   "outputs": [
    {
     "data": {
      "text/html": [
       "<div>\n",
       "<style scoped>\n",
       "    .dataframe tbody tr th:only-of-type {\n",
       "        vertical-align: middle;\n",
       "    }\n",
       "\n",
       "    .dataframe tbody tr th {\n",
       "        vertical-align: top;\n",
       "    }\n",
       "\n",
       "    .dataframe thead th {\n",
       "        text-align: right;\n",
       "    }\n",
       "</style>\n",
       "<table border=\"1\" class=\"dataframe\">\n",
       "  <thead>\n",
       "    <tr style=\"text-align: right;\">\n",
       "      <th></th>\n",
       "      <th>No</th>\n",
       "      <th>X1 transaction date</th>\n",
       "      <th>X2 house age</th>\n",
       "      <th>X3 distance to the nearest MRT station</th>\n",
       "      <th>X4 number of convenience stores</th>\n",
       "      <th>X5 latitude</th>\n",
       "      <th>X6 longitude</th>\n",
       "      <th>Y house price of unit area</th>\n",
       "    </tr>\n",
       "  </thead>\n",
       "  <tbody>\n",
       "    <tr>\n",
       "      <th>0</th>\n",
       "      <td>1</td>\n",
       "      <td>2012.9166667</td>\n",
       "      <td>32.0</td>\n",
       "      <td>84.87882</td>\n",
       "      <td>10</td>\n",
       "      <td>24.98298</td>\n",
       "      <td>121.54024</td>\n",
       "      <td>37.9</td>\n",
       "    </tr>\n",
       "    <tr>\n",
       "      <th>1</th>\n",
       "      <td>2</td>\n",
       "      <td>2012.9166667</td>\n",
       "      <td>19.5</td>\n",
       "      <td>306.59470</td>\n",
       "      <td>9</td>\n",
       "      <td>24.98034</td>\n",
       "      <td>121.53951</td>\n",
       "      <td>42.2</td>\n",
       "    </tr>\n",
       "    <tr>\n",
       "      <th>2</th>\n",
       "      <td>3</td>\n",
       "      <td>2013.5833333</td>\n",
       "      <td>13.3</td>\n",
       "      <td>561.98450</td>\n",
       "      <td>5</td>\n",
       "      <td>24.98746</td>\n",
       "      <td>121.54391</td>\n",
       "      <td>47.3</td>\n",
       "    </tr>\n",
       "    <tr>\n",
       "      <th>3</th>\n",
       "      <td>4</td>\n",
       "      <td>2013.5</td>\n",
       "      <td>13.3</td>\n",
       "      <td>561.98450</td>\n",
       "      <td>5</td>\n",
       "      <td>24.98746</td>\n",
       "      <td>121.54391</td>\n",
       "      <td>54.8</td>\n",
       "    </tr>\n",
       "    <tr>\n",
       "      <th>4</th>\n",
       "      <td>5</td>\n",
       "      <td>2012.8333333</td>\n",
       "      <td>5.0</td>\n",
       "      <td>390.56840</td>\n",
       "      <td>5</td>\n",
       "      <td>24.97937</td>\n",
       "      <td>121.54245</td>\n",
       "      <td>43.1</td>\n",
       "    </tr>\n",
       "  </tbody>\n",
       "</table>\n",
       "</div>"
      ],
      "text/plain": [
       "   No X1 transaction date  X2 house age  \\\n",
       "0   1        2012.9166667          32.0   \n",
       "1   2        2012.9166667          19.5   \n",
       "2   3        2013.5833333          13.3   \n",
       "3   4              2013.5          13.3   \n",
       "4   5        2012.8333333           5.0   \n",
       "\n",
       "   X3 distance to the nearest MRT station  X4 number of convenience stores  \\\n",
       "0                                84.87882                               10   \n",
       "1                               306.59470                                9   \n",
       "2                               561.98450                                5   \n",
       "3                               561.98450                                5   \n",
       "4                               390.56840                                5   \n",
       "\n",
       "   X5 latitude  X6 longitude  Y house price of unit area  \n",
       "0     24.98298     121.54024                        37.9  \n",
       "1     24.98034     121.53951                        42.2  \n",
       "2     24.98746     121.54391                        47.3  \n",
       "3     24.98746     121.54391                        54.8  \n",
       "4     24.97937     121.54245                        43.1  "
      ]
     },
     "execution_count": 2,
     "metadata": {},
     "output_type": "execute_result"
    }
   ],
   "source": [
    "df = pd.read_csv(\"real_state.csv\")\n",
    "df.head()"
   ]
  },
  {
   "cell_type": "code",
   "execution_count": 3,
   "metadata": {},
   "outputs": [
    {
     "data": {
      "text/plain": [
       "array([[ 32.     ,  84.87882,  10.     ],\n",
       "       [ 19.5    , 306.5947 ,   9.     ],\n",
       "       [ 13.3    , 561.9845 ,   5.     ],\n",
       "       ...,\n",
       "       [ 18.8    , 390.9696 ,   7.     ],\n",
       "       [  8.1    , 104.8101 ,   5.     ],\n",
       "       [  6.5    ,  90.45606,   9.     ]])"
      ]
     },
     "execution_count": 3,
     "metadata": {},
     "output_type": "execute_result"
    }
   ],
   "source": [
    "df.drop(columns=[\"No\",\"X1 transaction date\",\"X5 latitude\",\"X6 longitude\"], inplace=True)\n",
    "\n",
    "data = df.values[:,:3]\n",
    "data_columns = list(df.columns.values[:3])\n",
    "target=df.values[:,3]\n",
    "data"
   ]
  },
  {
   "cell_type": "markdown",
   "metadata": {},
   "source": [
    "### Definir y entrenar regresor"
   ]
  },
  {
   "cell_type": "code",
   "execution_count": 4,
   "metadata": {},
   "outputs": [],
   "source": [
    "X_train, X_test, y_train, y_test = train_test_split(data, target, test_size=0.3, random_state=1)"
   ]
  },
  {
   "cell_type": "code",
   "execution_count": 5,
   "metadata": {},
   "outputs": [
    {
     "name": "stdout",
     "output_type": "stream",
     "text": [
      "Cantidad de iteraciones: 346\n"
     ]
    }
   ],
   "source": [
    "mlp = MLPRegressor(max_iter=7000,\n",
    "                   hidden_layer_sizes=(6),\n",
    "                   activation='logistic',\n",
    "                   learning_rate_init=0.03,  \n",
    "                   verbose = False\n",
    "                   )\n",
    "mlp.fit(X_train, y_train)\n",
    "print(\"Cantidad de iteraciones: \" +str(mlp.n_iter_))"
   ]
  },
  {
   "cell_type": "markdown",
   "metadata": {},
   "source": [
    "### Evaluar error obtenido"
   ]
  },
  {
   "cell_type": "code",
   "execution_count": 6,
   "metadata": {},
   "outputs": [
    {
     "name": "stdout",
     "output_type": "stream",
     "text": [
      "230.4860058207339\n"
     ]
    }
   ],
   "source": [
    "y_pred = mlp.predict(X_test)\n",
    "error = metrics.mean_squared_error(y_test,y_pred)\n",
    "print(error)"
   ]
  },
  {
   "cell_type": "markdown",
   "metadata": {},
   "source": [
    "### Prueba\n",
    "\n",
    "Predecir y comparar el resultado para 10 valores cualquiera del conjunto de prueba\n",
    "- ¿Qué diferencia existe entre el valor obtenido del real?\n",
    "- Predecir los mismos valores utilizando un árbol de desición. ¿Cuál método se adapta mejor a los datos?"
   ]
  },
  {
   "cell_type": "markdown",
   "metadata": {},
   "source": [
    "# Normalizar datos (min - max)"
   ]
  },
  {
   "cell_type": "code",
   "execution_count": 7,
   "metadata": {},
   "outputs": [
    {
     "name": "stdout",
     "output_type": "stream",
     "text": [
      "     X2 house age  X3 distance to the nearest MRT station  \\\n",
      "0        0.730594                                0.000009   \n",
      "1        0.445205                                0.000044   \n",
      "2        0.303653                                0.000083   \n",
      "3        0.303653                                0.000083   \n",
      "4        0.114155                                0.000057   \n",
      "..            ...                                     ...   \n",
      "409      0.312785                                0.629160   \n",
      "410      0.127854                                0.000010   \n",
      "411      0.429224                                0.000057   \n",
      "412      0.184932                                0.000013   \n",
      "413      0.148402                                0.000010   \n",
      "\n",
      "     X4 number of convenience stores  Y house price of unit area  \n",
      "0                                1.0                    0.275705  \n",
      "1                                0.9                    0.314832  \n",
      "2                                0.5                    0.361237  \n",
      "3                                0.5                    0.429481  \n",
      "4                                0.5                    0.323021  \n",
      "..                               ...                         ...  \n",
      "409                              0.0                    0.070974  \n",
      "410                              0.9                    0.385805  \n",
      "411                              0.7                    0.300273  \n",
      "412                              0.5                    0.408553  \n",
      "413                              0.9                    0.512284  \n",
      "\n",
      "[414 rows x 4 columns]\n"
     ]
    }
   ],
   "source": [
    "def minmax_norm(df_input):\n",
    "    return (df - df.min()) / ( df.max() - df.min())\n",
    "\n",
    "data = minmax_norm(data)\n",
    "\n",
    "print(data)"
   ]
  },
  {
   "cell_type": "code",
   "execution_count": 8,
   "metadata": {},
   "outputs": [],
   "source": [
    "X_train, X_test, y_train, y_test = train_test_split(data, target, test_size=0.3, random_state=1)"
   ]
  },
  {
   "cell_type": "code",
   "execution_count": 9,
   "metadata": {},
   "outputs": [
    {
     "name": "stdout",
     "output_type": "stream",
     "text": [
      "Cantidad de iteraciones: 3057\n"
     ]
    }
   ],
   "source": [
    "mlp = MLPRegressor(max_iter=7000,\n",
    "                   hidden_layer_sizes=(100),\n",
    "                   activation='logistic',\n",
    "                   learning_rate_init=0.01,  \n",
    "                   verbose = False\n",
    "                   )\n",
    "mlp.fit(X_train, y_train)\n",
    "print(\"Cantidad de iteraciones: \" +str(mlp.n_iter_))"
   ]
  },
  {
   "cell_type": "code",
   "execution_count": 10,
   "metadata": {},
   "outputs": [
    {
     "name": "stdout",
     "output_type": "stream",
     "text": [
      "3.3444172712726368\n"
     ]
    }
   ],
   "source": [
    "y_pred = mlp.predict(X_test)\n",
    "error = metrics.mean_squared_error(y_test, y_pred)\n",
    "print(error)"
   ]
  },
  {
   "cell_type": "markdown",
   "metadata": {},
   "source": [
    "Predecir y comparar el resultado para 10 valores cualquiera del conjunto de prueba"
   ]
  },
  {
   "cell_type": "code",
   "execution_count": 11,
   "metadata": {},
   "outputs": [
    {
     "name": "stdout",
     "output_type": "stream",
     "text": [
      "[17.7, 36.6, 48.2, 42.0, 53.0, 39.1, 37.4, 34.4, 42.8, 57.4]\n"
     ]
    }
   ],
   "source": [
    "X_train, X_test, y_train, y_test = train_test_split(data, target, test_size=0.3, random_state=1)\n",
    "value = X_train.values[5]\n",
    "random_train = []\n",
    "random_output = []\n",
    "\n",
    "size = len(X_train)\n",
    "index = np.random.choice(range(size-1),size=10,replace=False)\n",
    "\n",
    "for x in index:\n",
    "    random_train.append(X_train.iloc[x].tolist())\n",
    "    random_output.append(y_train[x])\n",
    "\n",
    "print(random_output)"
   ]
  },
  {
   "cell_type": "code",
   "execution_count": 12,
   "metadata": {
    "scrolled": true
   },
   "outputs": [
    {
     "name": "stdout",
     "output_type": "stream",
     "text": [
      "El valor de y fue:17.59418279408569, valor real 17.7\n",
      "El valor de y fue:36.60621515764367, valor real 36.6\n",
      "El valor de y fue:48.22013130529752, valor real 48.2\n",
      "El valor de y fue:42.038733974869665, valor real 42.0\n",
      "El valor de y fue:53.04118123871677, valor real 53.0\n",
      "El valor de y fue:39.12477090537892, valor real 39.1\n",
      "El valor de y fue:37.409779913830164, valor real 37.4\n",
      "El valor de y fue:34.406590340999294, valor real 34.4\n",
      "El valor de y fue:42.76726801289963, valor real 42.8\n",
      "El valor de y fue:57.503328835079074, valor real 57.4\n"
     ]
    }
   ],
   "source": [
    "prediction = mlp.predict(random_train)\n",
    "neural_network_predict = list()\n",
    "for x, y in zip(random_train, random_output):\n",
    "    neural_network_predict_temp = mlp.predict(np.array(x).reshape(1, -1))\n",
    "    print(f\"El valor de y fue:{neural_network_predict_temp[0]}, valor real {y}\")\n",
    "    neural_network_predict.append(neural_network_predict_temp[0])\n",
    "        "
   ]
  },
  {
   "cell_type": "code",
   "execution_count": 13,
   "metadata": {
    "scrolled": false
   },
   "outputs": [
    {
     "name": "stdout",
     "output_type": "stream",
     "text": [
      "[17.7 37.7 48.2 42.  53.  37.7 37.7 34.4 42.8 57.4]\n"
     ]
    }
   ],
   "source": [
    "reg = DecisionTreeRegressor(max_depth=4)\n",
    "reg = reg.fit(random_train, random_output)\n",
    "tree_prediction = reg.predict(random_train)\n",
    "print(tree_prediction)"
   ]
  },
  {
   "cell_type": "code",
   "execution_count": 14,
   "metadata": {
    "scrolled": true
   },
   "outputs": [
    {
     "data": {
      "image/png": "[encoded data removed]",
      "text/plain": [
       "<Figure size 432x288 with 1 Axes>"
      ]
     },
     "metadata": {
      "needs_background": "light"
     },
     "output_type": "display_data"
    }
   ],
   "source": [
    "ax = random_output\n",
    "ay = neural_network_predict\n",
    "bx = random_output\n",
    "by = tree_prediction.tolist()\n",
    "#plt.figure(figsize=(15,15))\n",
    "plt.scatter(ax,ay,color='red',label='Valores red neuronal', s=150) \n",
    "plt.scatter(bx,by,color='blue',label='Valores arboles de decision') \n",
    "plt.xlabel(\"X\")\n",
    "plt.ylabel(\"Y\")\n",
    "plt.title(\"Grafico\")\n",
    "plt.legend(loc='best')\n",
    "plt.plot([75, 0], [75, 0], 'g-')\n",
    "\n",
    "plt.show()"
   ]
  },
  {
   "cell_type": "markdown",
   "metadata": {},
   "source": [
    "Predecir los mismos valores utilizando un árbol de desición. ¿Cuál método se adapta mejor a los datos?\n",
    "\n",
    "Para este caso la diferencia entre la red neuronal y el arbol de decision es minima. Pero teniendo en cuenta las ventajas de visualizacion del arbol de decision concluimos que es mejor."
   ]
  }
 ],
 "metadata": {
  "kernelspec": {
   "display_name": "Python 3",
   "language": "python",
   "name": "python3"
  },
  "language_info": {
   "codemirror_mode": {
    "name": "ipython",
    "version": 3
   },
   "file_extension": ".py",
   "mimetype": "text/x-python",
   "name": "python",
   "nbconvert_exporter": "python",
   "pygments_lexer": "ipython3",
   "version": "3.8.8"
  }
 },
 "nbformat": 4,
 "nbformat_minor": 4
}
